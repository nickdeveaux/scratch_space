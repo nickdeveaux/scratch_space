{
 "cells": [
  {
   "cell_type": "markdown",
   "metadata": {},
   "source": [
    "This notebook is an implementatoin of the healthcare data analysis "
   ]
  },
  {
   "cell_type": "code",
   "execution_count": 3,
   "metadata": {
    "collapsed": false
   },
   "outputs": [],
   "source": [
    "import os\n",
    "import sys\n",
    "from collections import namedtuple\n",
    "import numpy as np\n"
   ]
  },
  {
   "cell_type": "code",
   "execution_count": 5,
   "metadata": {
    "collapsed": false
   },
   "outputs": [],
   "source": [
    "path = 'files/national_county.txt'\n",
    "stateCodes = {}\n",
    "with open(path) as f:\n",
    "    for record in f:\n",
    "        stateCode = int(record[3:5])\n",
    "        stateCodes[stateCode] = record[0:2]"
   ]
  },
  {
   "cell_type": "code",
   "execution_count": 6,
   "metadata": {
    "collapsed": false
   },
   "outputs": [
    {
     "data": {
      "text/plain": [
       "{1: 'AL',\n",
       " 2: 'AK',\n",
       " 4: 'AZ',\n",
       " 5: 'AR',\n",
       " 6: 'CA',\n",
       " 8: 'CO',\n",
       " 9: 'CT',\n",
       " 10: 'DE',\n",
       " 11: 'DC',\n",
       " 12: 'FL',\n",
       " 13: 'GA',\n",
       " 15: 'HI',\n",
       " 16: 'ID',\n",
       " 17: 'IL',\n",
       " 18: 'IN',\n",
       " 19: 'IA',\n",
       " 20: 'KS',\n",
       " 21: 'KY',\n",
       " 22: 'LA',\n",
       " 23: 'ME',\n",
       " 24: 'MD',\n",
       " 25: 'MA',\n",
       " 26: 'MI',\n",
       " 27: 'MN',\n",
       " 28: 'MS',\n",
       " 29: 'MO',\n",
       " 30: 'MT',\n",
       " 31: 'NE',\n",
       " 32: 'NV',\n",
       " 33: 'NH',\n",
       " 34: 'NJ',\n",
       " 35: 'NM',\n",
       " 36: 'NY',\n",
       " 37: 'NC',\n",
       " 38: 'ND',\n",
       " 39: 'OH',\n",
       " 40: 'OK',\n",
       " 41: 'OR',\n",
       " 42: 'PA',\n",
       " 44: 'RI',\n",
       " 45: 'SC',\n",
       " 46: 'SD',\n",
       " 47: 'TN',\n",
       " 48: 'TX',\n",
       " 49: 'UT',\n",
       " 50: 'VT',\n",
       " 51: 'VA',\n",
       " 53: 'WA',\n",
       " 54: 'WV',\n",
       " 55: 'WI',\n",
       " 56: 'WY',\n",
       " 60: 'AS',\n",
       " 66: 'GU',\n",
       " 69: 'MP',\n",
       " 72: 'PR',\n",
       " 74: 'UM',\n",
       " 78: 'VI'}"
      ]
     },
     "execution_count": 6,
     "metadata": {},
     "output_type": "execute_result"
    }
   ],
   "source": [
    "stateCodes"
   ]
  },
  {
   "cell_type": "code",
   "execution_count": null,
   "metadata": {
    "collapsed": true
   },
   "outputs": [],
   "source": [
    "\n",
    "n=0\n",
    "dataDict = {}\n",
    "path = '../Data/'\n",
    "fileList = os.listdir(path) for filename in fileList:\n",
    "        print(filename)\n",
    "        try:\n",
    "            shortYear = int(filename[6:8])\n",
    "            year = 2000 + shortYear\n",
    "            print(year, filename, 'Success')\n",
    "        except ValueError:\n",
    "            print(year, filename, 'Failure')"
   ]
  },
  {
   "cell_type": "code",
   "execution_count": null,
   "metadata": {
    "collapsed": true
   },
   "outputs": [],
   "source": [
    " fields = fieldDict[shortYear]\n",
    "    sWt, eWt = fields['weight']\n",
    "    sBMI, eBMI = fields['bmi']\n",
    "    fDia = fields[’diabetes’]"
   ]
  }
 ],
 "metadata": {
  "kernelspec": {
   "display_name": "Python 2",
   "language": "python",
   "name": "python2"
  },
  "language_info": {
   "codemirror_mode": {
    "name": "ipython",
    "version": 2
   },
   "file_extension": ".py",
   "mimetype": "text/x-python",
   "name": "python",
   "nbconvert_exporter": "python",
   "pygments_lexer": "ipython2",
   "version": "2.7.12"
  }
 },
 "nbformat": 4,
 "nbformat_minor": 0
}
