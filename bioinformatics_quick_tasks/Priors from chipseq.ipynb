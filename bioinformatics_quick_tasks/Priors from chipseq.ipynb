{
 "cells": [
  {
   "cell_type": "code",
   "execution_count": 103,
   "metadata": {
    "collapsed": false
   },
   "outputs": [],
   "source": [
    "import inferelator_ng.prior as priors\n",
    "import os\n",
    "import pandas as pd"
   ]
  },
  {
   "cell_type": "code",
   "execution_count": 104,
   "metadata": {
    "collapsed": true
   },
   "outputs": [],
   "source": [
    "base_dir='/Users/ndeveaux/Dropbox (Simons Foundation)/atac_parameter_search/ChipSeq/chipseq_priors/chipseq_mm10_th17_prior_gen_2017_01/references'"
   ]
  },
  {
   "cell_type": "code",
   "execution_count": 105,
   "metadata": {
    "collapsed": true
   },
   "outputs": [],
   "source": [
    "macs_folders = ['2016_11_28_MACS_out', '2016_11_15_MACS_out']"
   ]
  },
  {
   "cell_type": "code",
   "execution_count": 106,
   "metadata": {
    "collapsed": false
   },
   "outputs": [],
   "source": [
    "metadata_file = os.path.join(base_dir, 'metadata_ChIP.txt')\n",
    "metadata = pd.read_csv(metadata_file, sep = '\\t')"
   ]
  },
  {
   "cell_type": "code",
   "execution_count": 107,
   "metadata": {
    "collapsed": false
   },
   "outputs": [],
   "source": [
    "gene_bed = os.path.join(base_dir, 'tss_mm10.bed')\n",
    "dist=10000"
   ]
  },
  {
   "cell_type": "code",
   "execution_count": 108,
   "metadata": {
    "collapsed": true
   },
   "outputs": [],
   "source": [
    "gene_df = pd.read_csv(gene_bed, sep = '\\t', header=None)"
   ]
  },
  {
   "cell_type": "code",
   "execution_count": 109,
   "metadata": {
    "collapsed": true
   },
   "outputs": [],
   "source": [
    "priors = {}"
   ]
  },
  {
   "cell_type": "code",
   "execution_count": null,
   "metadata": {
    "collapsed": true
   },
   "outputs": [],
   "source": [
    "combined_prior = pd.dataframe"
   ]
  },
  {
   "cell_type": "code",
   "execution_count": null,
   "metadata": {
    "collapsed": false
   },
   "outputs": [],
   "source": [
    "for row in metadata.iterrows():\n",
    "    row_content = row[1]\n",
    "    sample = ('_').join([row_content['sampleName'], row_content['compare2']])\n",
    "    for mac in macs_folders:  \n",
    "        motif_bed = os.path.join(os.path.join(os.path.join(base_dir, mac), sample), '_'.join([sample, 'peaks.bed']))\n",
    "        p = Prior(motif_bed, gene_bed, regulators = [row_content['gene']], targets = list(gene_df[3]), max_distance=dist, single_tf=True)\n",
    "        priors['_'.join([mac, sample])] = p.make_prior()"
   ]
  },
  {
   "cell_type": "code",
   "execution_count": 101,
   "metadata": {
    "collapsed": false
   },
   "outputs": [
    {
     "data": {
      "text/plain": [
       "7"
      ]
     },
     "execution_count": 101,
     "metadata": {},
     "output_type": "execute_result"
    }
   ],
   "source": [
    "# Sanity check: see if prior is what's expected, 7. \n",
    "max(priors['2016_11_15_MACS_out_SL1040_SL972']['Stat3'])"
   ]
  },
  {
   "cell_type": "code",
   "execution_count": 84,
   "metadata": {
    "collapsed": false
   },
   "outputs": [
    {
     "data": {
      "text/html": [
       "<div>\n",
       "<table border=\"1\" class=\"dataframe\">\n",
       "  <thead>\n",
       "    <tr style=\"text-align: right;\">\n",
       "      <th></th>\n",
       "      <th>0</th>\n",
       "      <th>1</th>\n",
       "      <th>2</th>\n",
       "      <th>3</th>\n",
       "      <th>4</th>\n",
       "      <th>5</th>\n",
       "    </tr>\n",
       "  </thead>\n",
       "  <tbody>\n",
       "    <tr>\n",
       "      <th>18</th>\n",
       "      <td>chr1</td>\n",
       "      <td>4858326</td>\n",
       "      <td>4858327</td>\n",
       "      <td>uc011whu.1_up_1_chr1_4858327_f</td>\n",
       "      <td>0</td>\n",
       "      <td>+</td>\n",
       "    </tr>\n",
       "  </tbody>\n",
       "</table>\n",
       "</div>"
      ],
      "text/plain": [
       "       0        1        2                               3  4  5\n",
       "18  chr1  4858326  4858327  uc011whu.1_up_1_chr1_4858327_f  0  +"
      ]
     },
     "execution_count": 84,
     "metadata": {},
     "output_type": "execute_result"
    }
   ],
   "source": [
    "gene_df[gene_df[3] == 'uc011whu.1_up_1_chr1_4858327_f']"
   ]
  },
  {
   "cell_type": "code",
   "execution_count": 110,
   "metadata": {
    "collapsed": false
   },
   "outputs": [
    {
     "data": {
      "text/html": [
       "<div>\n",
       "<table border=\"1\" class=\"dataframe\">\n",
       "  <thead>\n",
       "    <tr style=\"text-align: right;\">\n",
       "      <th></th>\n",
       "      <th>TF</th>\n",
       "    </tr>\n",
       "  </thead>\n",
       "  <tbody>\n",
       "    <tr>\n",
       "      <th>uc057alc.1_up_1_chr8_35620774_f</th>\n",
       "      <td>7</td>\n",
       "    </tr>\n",
       "    <tr>\n",
       "      <th>uc009mmr.2_up_1_chr8_84662853_r</th>\n",
       "      <td>7</td>\n",
       "    </tr>\n",
       "    <tr>\n",
       "      <th>uc009nyw.2_up_1_chr8_126593437_r</th>\n",
       "      <td>7</td>\n",
       "    </tr>\n",
       "    <tr>\n",
       "      <th>uc011ybs.1_up_1_chr11_86584159_r</th>\n",
       "      <td>7</td>\n",
       "    </tr>\n",
       "  </tbody>\n",
       "</table>\n",
       "</div>"
      ],
      "text/plain": [
       "                                  TF\n",
       "uc057alc.1_up_1_chr8_35620774_f    7\n",
       "uc009mmr.2_up_1_chr8_84662853_r    7\n",
       "uc009nyw.2_up_1_chr8_126593437_r   7\n",
       "uc011ybs.1_up_1_chr11_86584159_r   7"
      ]
     },
     "execution_count": 110,
     "metadata": {},
     "output_type": "execute_result"
    }
   ],
   "source": [
    "new_prior = priors['2016_11_15_MACS_out_SL1040_SL972']\n",
    "new_prior[new_prior['Stat3'] > 6]"
   ]
  },
  {
   "cell_type": "code",
   "execution_count": 102,
   "metadata": {
    "collapsed": false
   },
   "outputs": [
    {
     "data": {
      "text/html": [
       "<div>\n",
       "<table border=\"1\" class=\"dataframe\">\n",
       "  <thead>\n",
       "    <tr style=\"text-align: right;\">\n",
       "      <th></th>\n",
       "      <th>gene</th>\n",
       "      <th>sampleName</th>\n",
       "      <th>compare2</th>\n",
       "    </tr>\n",
       "  </thead>\n",
       "  <tbody>\n",
       "    <tr>\n",
       "      <th>0</th>\n",
       "      <td>Batf</td>\n",
       "      <td>SL3033</td>\n",
       "      <td>SL3036</td>\n",
       "    </tr>\n",
       "    <tr>\n",
       "      <th>1</th>\n",
       "      <td>Batf</td>\n",
       "      <td>SL3037</td>\n",
       "      <td>SL3036</td>\n",
       "    </tr>\n",
       "    <tr>\n",
       "      <th>2</th>\n",
       "      <td>Batf</td>\n",
       "      <td>SL10570</td>\n",
       "      <td>SL10564</td>\n",
       "    </tr>\n",
       "    <tr>\n",
       "      <th>3</th>\n",
       "      <td>Maf</td>\n",
       "      <td>SL3031</td>\n",
       "      <td>SL2871</td>\n",
       "    </tr>\n",
       "    <tr>\n",
       "      <th>4</th>\n",
       "      <td>Maf</td>\n",
       "      <td>SL3032</td>\n",
       "      <td>SL2871</td>\n",
       "    </tr>\n",
       "    <tr>\n",
       "      <th>5</th>\n",
       "      <td>Ctcf</td>\n",
       "      <td>SL3034</td>\n",
       "      <td>SL3035</td>\n",
       "    </tr>\n",
       "    <tr>\n",
       "      <th>6</th>\n",
       "      <td>Ctcf</td>\n",
       "      <td>SL3783</td>\n",
       "      <td>SL3782</td>\n",
       "    </tr>\n",
       "    <tr>\n",
       "      <th>7</th>\n",
       "      <td>Etv6</td>\n",
       "      <td>SL13368</td>\n",
       "      <td>SL13364</td>\n",
       "    </tr>\n",
       "    <tr>\n",
       "      <th>8</th>\n",
       "      <td>Etv6</td>\n",
       "      <td>SL10573</td>\n",
       "      <td>SL10567</td>\n",
       "    </tr>\n",
       "    <tr>\n",
       "      <th>9</th>\n",
       "      <td>Fosl2</td>\n",
       "      <td>SL6498</td>\n",
       "      <td>SL6497</td>\n",
       "    </tr>\n",
       "    <tr>\n",
       "      <th>10</th>\n",
       "      <td>Fosl2</td>\n",
       "      <td>SL6625</td>\n",
       "      <td>SL6627</td>\n",
       "    </tr>\n",
       "    <tr>\n",
       "      <th>11</th>\n",
       "      <td>Nrf2</td>\n",
       "      <td>SL11909</td>\n",
       "      <td>SL11906</td>\n",
       "    </tr>\n",
       "    <tr>\n",
       "      <th>12</th>\n",
       "      <td>Nrf2</td>\n",
       "      <td>SL11908</td>\n",
       "      <td>SL11905</td>\n",
       "    </tr>\n",
       "    <tr>\n",
       "      <th>13</th>\n",
       "      <td>Nrf2</td>\n",
       "      <td>SL11910</td>\n",
       "      <td>SL11907</td>\n",
       "    </tr>\n",
       "    <tr>\n",
       "      <th>14</th>\n",
       "      <td>RORg</td>\n",
       "      <td>SL3779</td>\n",
       "      <td>SL3778</td>\n",
       "    </tr>\n",
       "    <tr>\n",
       "      <th>15</th>\n",
       "      <td>RORg</td>\n",
       "      <td>SL1944</td>\n",
       "      <td>SL1943</td>\n",
       "    </tr>\n",
       "    <tr>\n",
       "      <th>16</th>\n",
       "      <td>RORg</td>\n",
       "      <td>SL2870</td>\n",
       "      <td>SL2871</td>\n",
       "    </tr>\n",
       "    <tr>\n",
       "      <th>17</th>\n",
       "      <td>Stat3</td>\n",
       "      <td>SL1040</td>\n",
       "      <td>SL972</td>\n",
       "    </tr>\n",
       "    <tr>\n",
       "      <th>18</th>\n",
       "      <td>Stat3</td>\n",
       "      <td>SL9624</td>\n",
       "      <td>SL9623</td>\n",
       "    </tr>\n",
       "    <tr>\n",
       "      <th>19</th>\n",
       "      <td>Stat3</td>\n",
       "      <td>SL9626</td>\n",
       "      <td>SL9625</td>\n",
       "    </tr>\n",
       "    <tr>\n",
       "      <th>20</th>\n",
       "      <td>Stat3</td>\n",
       "      <td>SL973</td>\n",
       "      <td>SL972</td>\n",
       "    </tr>\n",
       "    <tr>\n",
       "      <th>21</th>\n",
       "      <td>Irf4</td>\n",
       "      <td>SL971</td>\n",
       "      <td>SL970</td>\n",
       "    </tr>\n",
       "    <tr>\n",
       "      <th>22</th>\n",
       "      <td>Irf4</td>\n",
       "      <td>SL9854</td>\n",
       "      <td>SL9858</td>\n",
       "    </tr>\n",
       "    <tr>\n",
       "      <th>23</th>\n",
       "      <td>Irf4</td>\n",
       "      <td>SL9855</td>\n",
       "      <td>SL9859</td>\n",
       "    </tr>\n",
       "    <tr>\n",
       "      <th>24</th>\n",
       "      <td>Hif1a</td>\n",
       "      <td>SL10572</td>\n",
       "      <td>SL10566</td>\n",
       "    </tr>\n",
       "    <tr>\n",
       "      <th>25</th>\n",
       "      <td>Hif1a</td>\n",
       "      <td>SL10575</td>\n",
       "      <td>SL10569</td>\n",
       "    </tr>\n",
       "  </tbody>\n",
       "</table>\n",
       "</div>"
      ],
      "text/plain": [
       "     gene sampleName compare2\n",
       "0    Batf     SL3033   SL3036\n",
       "1    Batf     SL3037   SL3036\n",
       "2    Batf    SL10570  SL10564\n",
       "3     Maf     SL3031   SL2871\n",
       "4     Maf     SL3032   SL2871\n",
       "5    Ctcf     SL3034   SL3035\n",
       "6    Ctcf     SL3783   SL3782\n",
       "7    Etv6    SL13368  SL13364\n",
       "8    Etv6    SL10573  SL10567\n",
       "9   Fosl2     SL6498   SL6497\n",
       "10  Fosl2     SL6625   SL6627\n",
       "11   Nrf2    SL11909  SL11906\n",
       "12   Nrf2    SL11908  SL11905\n",
       "13   Nrf2    SL11910  SL11907\n",
       "14   RORg     SL3779   SL3778\n",
       "15   RORg     SL1944   SL1943\n",
       "16   RORg     SL2870   SL2871\n",
       "17  Stat3     SL1040    SL972\n",
       "18  Stat3     SL9624   SL9623\n",
       "19  Stat3     SL9626   SL9625\n",
       "20  Stat3      SL973    SL972\n",
       "21   Irf4      SL971    SL970\n",
       "22   Irf4     SL9854   SL9858\n",
       "23   Irf4     SL9855   SL9859\n",
       "24  Hif1a    SL10572  SL10566\n",
       "25  Hif1a    SL10575  SL10569"
      ]
     },
     "execution_count": 102,
     "metadata": {},
     "output_type": "execute_result"
    }
   ],
   "source": [
    "metadata"
   ]
  },
  {
   "cell_type": "code",
   "execution_count": 97,
   "metadata": {
    "collapsed": true
   },
   "outputs": [],
   "source": [
    "motif_bed='/Users/ndeveaux/Dropbox (Simons Foundation)/atac_parameter_search/ChipSeq/2016_11_22_performance_test_output/SL1040_SL972_peaks.bed'"
   ]
  },
  {
   "cell_type": "code",
   "execution_count": null,
   "metadata": {
    "collapsed": true
   },
   "outputs": [],
   "source": []
  }
 ],
 "metadata": {
  "kernelspec": {
   "display_name": "Python 2",
   "language": "python",
   "name": "python2"
  },
  "language_info": {
   "codemirror_mode": {
    "name": "ipython",
    "version": 2
   },
   "file_extension": ".py",
   "mimetype": "text/x-python",
   "name": "python",
   "nbconvert_exporter": "python",
   "pygments_lexer": "ipython2",
   "version": "2.7.11"
  }
 },
 "nbformat": 4,
 "nbformat_minor": 0
}
