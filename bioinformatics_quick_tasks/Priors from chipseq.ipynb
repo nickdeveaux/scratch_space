{
 "cells": [
  {
   "cell_type": "code",
   "execution_count": 3,
   "metadata": {
    "collapsed": false
   },
   "outputs": [],
   "source": [
    "import inferelator_ng.prior as priors\n",
    "import os\n",
    "import pandas as pd\n",
    "import seaborn as sns\n",
    "import matplotlib.pyplot as plt\n",
    "%matplotlib inline"
   ]
  },
  {
   "cell_type": "markdown",
   "metadata": {},
   "source": [
    "## Generate ChipSeq priors from metadata and mm10 references\n",
    "This notebook loops over different references (genebody and tss), different distances to references, samples, and genes per sample, to create priors. Priors are also combined across samples. "
   ]
  },
  {
   "cell_type": "code",
   "execution_count": 4,
   "metadata": {
    "collapsed": false
   },
   "outputs": [],
   "source": [
    "base_dir='/Users/ndeveaux/Dropbox (Simons Foundation)/atac_parameter_search/ChipSeq/chipseq_priors/chipseq_mm10_th17_prior_gen_2017_01'"
   ]
  },
  {
   "cell_type": "code",
   "execution_count": 5,
   "metadata": {
    "collapsed": true
   },
   "outputs": [],
   "source": [
    "input_base_dir = os.path.join(base_dir, 'references')\n",
    "output_base_dir = os.path.join(base_dir, 'output')"
   ]
  },
  {
   "cell_type": "code",
   "execution_count": 6,
   "metadata": {
    "collapsed": true
   },
   "outputs": [],
   "source": [
    "if not os.path.exists(output_base_dir):\n",
    "    os.makedirs(output_base_dir)"
   ]
  },
  {
   "cell_type": "code",
   "execution_count": 7,
   "metadata": {
    "collapsed": true
   },
   "outputs": [],
   "source": [
    "macs_folders = ['2016_11_28_MACS_out', '2016_11_15_MACS_out']\n",
    "references = ['tss_mm10.bed', 'genebodies_mm10.bed']\n",
    "macs_dict = {'2016_11_28_MACS_out': 'macs_pval_1e-10', '2016_11_15_MACS_out': 'macs_pval_1e-5'}"
   ]
  },
  {
   "cell_type": "code",
   "execution_count": 8,
   "metadata": {
    "collapsed": false
   },
   "outputs": [],
   "source": [
    "metadata_file = os.path.join(input_base_dir, 'metadata_ChIP.txt')\n",
    "metadata = pd.read_csv(metadata_file, sep = '\\t')"
   ]
  },
  {
   "cell_type": "code",
   "execution_count": 9,
   "metadata": {
    "collapsed": false
   },
   "outputs": [],
   "source": [
    "dists=[5000, 10000]"
   ]
  },
  {
   "cell_type": "code",
   "execution_count": 9,
   "metadata": {
    "collapsed": true
   },
   "outputs": [],
   "source": [
    "computed_priors = {}"
   ]
  },
  {
   "cell_type": "code",
   "execution_count": 54,
   "metadata": {
    "collapsed": false
   },
   "outputs": [
    {
     "name": "stdout",
     "output_type": "stream",
     "text": [
      "tss_mm10_macs_pval_1e-10_5000_Batf: SL3033_SL3036\n",
      "tss_mm10_macs_pval_1e-10_10000_Batf: SL3033_SL3036\n",
      "tss_mm10_macs_pval_1e-5_5000_Batf: SL3033_SL3036\n",
      "tss_mm10_macs_pval_1e-5_10000_Batf: SL3033_SL3036\n",
      "genebodies_mm10_macs_pval_1e-10_5000_Batf: SL3033_SL3036\n",
      "genebodies_mm10_macs_pval_1e-10_10000_Batf: SL3033_SL3036\n",
      "genebodies_mm10_macs_pval_1e-5_5000_Batf: SL3033_SL3036\n",
      "genebodies_mm10_macs_pval_1e-5_10000_Batf: SL3033_SL3036\n",
      "tss_mm10_macs_pval_1e-10_5000_Batf: SL3037_SL3036\n",
      "tss_mm10_macs_pval_1e-10_10000_Batf: SL3037_SL3036\n",
      "tss_mm10_macs_pval_1e-5_5000_Batf: SL3037_SL3036\n",
      "tss_mm10_macs_pval_1e-5_10000_Batf: SL3037_SL3036\n",
      "genebodies_mm10_macs_pval_1e-10_5000_Batf: SL3037_SL3036\n",
      "genebodies_mm10_macs_pval_1e-10_10000_Batf: SL3037_SL3036\n",
      "genebodies_mm10_macs_pval_1e-5_5000_Batf: SL3037_SL3036\n",
      "genebodies_mm10_macs_pval_1e-5_10000_Batf: SL3037_SL3036\n",
      "tss_mm10_macs_pval_1e-10_5000_Batf: SL10570_SL10564\n",
      "tss_mm10_macs_pval_1e-10_10000_Batf: SL10570_SL10564\n",
      "tss_mm10_macs_pval_1e-5_5000_Batf: SL10570_SL10564\n",
      "tss_mm10_macs_pval_1e-5_10000_Batf: SL10570_SL10564\n",
      "genebodies_mm10_macs_pval_1e-10_5000_Batf: SL10570_SL10564\n",
      "genebodies_mm10_macs_pval_1e-10_10000_Batf: SL10570_SL10564\n",
      "genebodies_mm10_macs_pval_1e-5_5000_Batf: SL10570_SL10564\n",
      "genebodies_mm10_macs_pval_1e-5_10000_Batf: SL10570_SL10564\n",
      "tss_mm10_macs_pval_1e-10_5000_Maf: SL3031_SL2871\n",
      "tss_mm10_macs_pval_1e-10_10000_Maf: SL3031_SL2871\n",
      "tss_mm10_macs_pval_1e-5_5000_Maf: SL3031_SL2871\n",
      "tss_mm10_macs_pval_1e-5_10000_Maf: SL3031_SL2871\n",
      "genebodies_mm10_macs_pval_1e-10_5000_Maf: SL3031_SL2871\n",
      "genebodies_mm10_macs_pval_1e-10_10000_Maf: SL3031_SL2871\n",
      "genebodies_mm10_macs_pval_1e-5_5000_Maf: SL3031_SL2871\n",
      "genebodies_mm10_macs_pval_1e-5_10000_Maf: SL3031_SL2871\n",
      "tss_mm10_macs_pval_1e-10_5000_Maf: SL3032_SL2871\n",
      "tss_mm10_macs_pval_1e-10_10000_Maf: SL3032_SL2871\n",
      "tss_mm10_macs_pval_1e-5_5000_Maf: SL3032_SL2871\n",
      "tss_mm10_macs_pval_1e-5_10000_Maf: SL3032_SL2871\n",
      "genebodies_mm10_macs_pval_1e-10_5000_Maf: SL3032_SL2871\n",
      "genebodies_mm10_macs_pval_1e-10_10000_Maf: SL3032_SL2871\n",
      "genebodies_mm10_macs_pval_1e-5_5000_Maf: SL3032_SL2871\n",
      "genebodies_mm10_macs_pval_1e-5_10000_Maf: SL3032_SL2871\n",
      "tss_mm10_macs_pval_1e-10_5000_Ctcf: SL3034_SL3035\n",
      "tss_mm10_macs_pval_1e-10_10000_Ctcf: SL3034_SL3035\n",
      "tss_mm10_macs_pval_1e-5_5000_Ctcf: SL3034_SL3035\n",
      "tss_mm10_macs_pval_1e-5_10000_Ctcf: SL3034_SL3035\n",
      "genebodies_mm10_macs_pval_1e-10_5000_Ctcf: SL3034_SL3035\n",
      "genebodies_mm10_macs_pval_1e-10_10000_Ctcf: SL3034_SL3035\n",
      "genebodies_mm10_macs_pval_1e-5_5000_Ctcf: SL3034_SL3035\n",
      "genebodies_mm10_macs_pval_1e-5_10000_Ctcf: SL3034_SL3035\n",
      "tss_mm10_macs_pval_1e-10_5000_Ctcf: SL3783_SL3782\n",
      "tss_mm10_macs_pval_1e-10_10000_Ctcf: SL3783_SL3782\n",
      "tss_mm10_macs_pval_1e-5_5000_Ctcf: SL3783_SL3782\n",
      "tss_mm10_macs_pval_1e-5_10000_Ctcf: SL3783_SL3782\n",
      "genebodies_mm10_macs_pval_1e-10_5000_Ctcf: SL3783_SL3782\n",
      "genebodies_mm10_macs_pval_1e-10_10000_Ctcf: SL3783_SL3782\n",
      "genebodies_mm10_macs_pval_1e-5_5000_Ctcf: SL3783_SL3782\n",
      "genebodies_mm10_macs_pval_1e-5_10000_Ctcf: SL3783_SL3782\n",
      "tss_mm10_macs_pval_1e-10_5000_Etv6: SL13368_SL13364\n",
      "tss_mm10_macs_pval_1e-10_10000_Etv6: SL13368_SL13364\n",
      "tss_mm10_macs_pval_1e-5_5000_Etv6: SL13368_SL13364\n",
      "tss_mm10_macs_pval_1e-5_10000_Etv6: SL13368_SL13364\n",
      "genebodies_mm10_macs_pval_1e-10_5000_Etv6: SL13368_SL13364\n",
      "genebodies_mm10_macs_pval_1e-10_10000_Etv6: SL13368_SL13364\n",
      "genebodies_mm10_macs_pval_1e-5_5000_Etv6: SL13368_SL13364\n",
      "genebodies_mm10_macs_pval_1e-5_10000_Etv6: SL13368_SL13364\n",
      "tss_mm10_macs_pval_1e-10_5000_Etv6: SL10573_SL10567\n",
      "tss_mm10_macs_pval_1e-10_10000_Etv6: SL10573_SL10567\n",
      "tss_mm10_macs_pval_1e-5_5000_Etv6: SL10573_SL10567\n",
      "tss_mm10_macs_pval_1e-5_10000_Etv6: SL10573_SL10567\n",
      "genebodies_mm10_macs_pval_1e-10_5000_Etv6: SL10573_SL10567\n",
      "genebodies_mm10_macs_pval_1e-10_10000_Etv6: SL10573_SL10567\n",
      "genebodies_mm10_macs_pval_1e-5_5000_Etv6: SL10573_SL10567\n",
      "genebodies_mm10_macs_pval_1e-5_10000_Etv6: SL10573_SL10567\n",
      "tss_mm10_macs_pval_1e-10_5000_Fosl2: SL6498_SL6497\n",
      "tss_mm10_macs_pval_1e-10_10000_Fosl2: SL6498_SL6497\n",
      "tss_mm10_macs_pval_1e-5_5000_Fosl2: SL6498_SL6497\n",
      "tss_mm10_macs_pval_1e-5_10000_Fosl2: SL6498_SL6497\n",
      "genebodies_mm10_macs_pval_1e-10_5000_Fosl2: SL6498_SL6497\n",
      "genebodies_mm10_macs_pval_1e-10_10000_Fosl2: SL6498_SL6497\n",
      "genebodies_mm10_macs_pval_1e-5_5000_Fosl2: SL6498_SL6497\n",
      "genebodies_mm10_macs_pval_1e-5_10000_Fosl2: SL6498_SL6497\n",
      "tss_mm10_macs_pval_1e-10_5000_Fosl2: SL6625_SL6627\n",
      "tss_mm10_macs_pval_1e-10_10000_Fosl2: SL6625_SL6627\n",
      "tss_mm10_macs_pval_1e-5_5000_Fosl2: SL6625_SL6627\n",
      "tss_mm10_macs_pval_1e-5_10000_Fosl2: SL6625_SL6627\n",
      "genebodies_mm10_macs_pval_1e-10_5000_Fosl2: SL6625_SL6627\n",
      "genebodies_mm10_macs_pval_1e-10_10000_Fosl2: SL6625_SL6627\n",
      "genebodies_mm10_macs_pval_1e-5_5000_Fosl2: SL6625_SL6627\n",
      "genebodies_mm10_macs_pval_1e-5_10000_Fosl2: SL6625_SL6627\n",
      "tss_mm10_macs_pval_1e-10_5000_Nrf2: SL11909_SL11906\n",
      "tss_mm10_macs_pval_1e-10_10000_Nrf2: SL11909_SL11906\n",
      "tss_mm10_macs_pval_1e-5_5000_Nrf2: SL11909_SL11906\n",
      "tss_mm10_macs_pval_1e-5_10000_Nrf2: SL11909_SL11906\n",
      "genebodies_mm10_macs_pval_1e-10_5000_Nrf2: SL11909_SL11906\n",
      "genebodies_mm10_macs_pval_1e-10_10000_Nrf2: SL11909_SL11906\n",
      "genebodies_mm10_macs_pval_1e-5_5000_Nrf2: SL11909_SL11906\n",
      "genebodies_mm10_macs_pval_1e-5_10000_Nrf2: SL11909_SL11906\n",
      "tss_mm10_macs_pval_1e-10_5000_Nrf2: SL11908_SL11905\n",
      "tss_mm10_macs_pval_1e-10_10000_Nrf2: SL11908_SL11905\n",
      "tss_mm10_macs_pval_1e-5_5000_Nrf2: SL11908_SL11905\n",
      "tss_mm10_macs_pval_1e-5_10000_Nrf2: SL11908_SL11905\n",
      "genebodies_mm10_macs_pval_1e-10_5000_Nrf2: SL11908_SL11905\n",
      "genebodies_mm10_macs_pval_1e-10_10000_Nrf2: SL11908_SL11905\n",
      "genebodies_mm10_macs_pval_1e-5_5000_Nrf2: SL11908_SL11905\n",
      "genebodies_mm10_macs_pval_1e-5_10000_Nrf2: SL11908_SL11905\n",
      "tss_mm10_macs_pval_1e-10_5000_Nrf2: SL11910_SL11907\n",
      "tss_mm10_macs_pval_1e-10_10000_Nrf2: SL11910_SL11907\n",
      "tss_mm10_macs_pval_1e-5_5000_Nrf2: SL11910_SL11907\n",
      "tss_mm10_macs_pval_1e-5_10000_Nrf2: SL11910_SL11907\n",
      "genebodies_mm10_macs_pval_1e-10_5000_Nrf2: SL11910_SL11907\n",
      "genebodies_mm10_macs_pval_1e-10_10000_Nrf2: SL11910_SL11907\n",
      "genebodies_mm10_macs_pval_1e-5_5000_Nrf2: SL11910_SL11907\n",
      "genebodies_mm10_macs_pval_1e-5_10000_Nrf2: SL11910_SL11907\n",
      "tss_mm10_macs_pval_1e-10_5000_RORg: SL3779_SL3778\n",
      "tss_mm10_macs_pval_1e-10_10000_RORg: SL3779_SL3778\n",
      "tss_mm10_macs_pval_1e-5_5000_RORg: SL3779_SL3778\n",
      "tss_mm10_macs_pval_1e-5_10000_RORg: SL3779_SL3778\n",
      "genebodies_mm10_macs_pval_1e-10_5000_RORg: SL3779_SL3778\n",
      "genebodies_mm10_macs_pval_1e-10_10000_RORg: SL3779_SL3778\n",
      "genebodies_mm10_macs_pval_1e-5_5000_RORg: SL3779_SL3778\n",
      "genebodies_mm10_macs_pval_1e-5_10000_RORg: SL3779_SL3778\n",
      "tss_mm10_macs_pval_1e-10_5000_RORg: SL1944_SL1943\n",
      "tss_mm10_macs_pval_1e-10_10000_RORg: SL1944_SL1943\n",
      "tss_mm10_macs_pval_1e-5_5000_RORg: SL1944_SL1943\n",
      "tss_mm10_macs_pval_1e-5_10000_RORg: SL1944_SL1943\n",
      "genebodies_mm10_macs_pval_1e-10_5000_RORg: SL1944_SL1943\n",
      "genebodies_mm10_macs_pval_1e-10_10000_RORg: SL1944_SL1943\n",
      "genebodies_mm10_macs_pval_1e-5_5000_RORg: SL1944_SL1943\n",
      "genebodies_mm10_macs_pval_1e-5_10000_RORg: SL1944_SL1943\n",
      "tss_mm10_macs_pval_1e-10_5000_RORg: SL2870_SL2871\n",
      "tss_mm10_macs_pval_1e-10_10000_RORg: SL2870_SL2871\n",
      "tss_mm10_macs_pval_1e-5_5000_RORg: SL2870_SL2871\n",
      "tss_mm10_macs_pval_1e-5_10000_RORg: SL2870_SL2871\n",
      "genebodies_mm10_macs_pval_1e-10_5000_RORg: SL2870_SL2871\n",
      "genebodies_mm10_macs_pval_1e-10_10000_RORg: SL2870_SL2871\n",
      "genebodies_mm10_macs_pval_1e-5_5000_RORg: SL2870_SL2871\n",
      "genebodies_mm10_macs_pval_1e-5_10000_RORg: SL2870_SL2871\n",
      "tss_mm10_macs_pval_1e-10_5000_Stat3: SL1040_SL972\n",
      "tss_mm10_macs_pval_1e-10_10000_Stat3: SL1040_SL972\n",
      "tss_mm10_macs_pval_1e-5_5000_Stat3: SL1040_SL972\n",
      "tss_mm10_macs_pval_1e-5_10000_Stat3: SL1040_SL972\n",
      "genebodies_mm10_macs_pval_1e-10_5000_Stat3: SL1040_SL972\n",
      "genebodies_mm10_macs_pval_1e-10_10000_Stat3: SL1040_SL972\n",
      "genebodies_mm10_macs_pval_1e-5_5000_Stat3: SL1040_SL972\n",
      "genebodies_mm10_macs_pval_1e-5_10000_Stat3: SL1040_SL972\n",
      "tss_mm10_macs_pval_1e-10_5000_Stat3: SL9624_SL9623\n",
      "tss_mm10_macs_pval_1e-10_10000_Stat3: SL9624_SL9623\n",
      "tss_mm10_macs_pval_1e-5_5000_Stat3: SL9624_SL9623\n",
      "tss_mm10_macs_pval_1e-5_10000_Stat3: SL9624_SL9623\n",
      "genebodies_mm10_macs_pval_1e-10_5000_Stat3: SL9624_SL9623\n",
      "genebodies_mm10_macs_pval_1e-10_10000_Stat3: SL9624_SL9623\n",
      "genebodies_mm10_macs_pval_1e-5_5000_Stat3: SL9624_SL9623\n",
      "genebodies_mm10_macs_pval_1e-5_10000_Stat3: SL9624_SL9623\n",
      "tss_mm10_macs_pval_1e-10_5000_Stat3: SL9626_SL9625\n",
      "tss_mm10_macs_pval_1e-10_10000_Stat3: SL9626_SL9625\n",
      "tss_mm10_macs_pval_1e-5_5000_Stat3: SL9626_SL9625\n",
      "tss_mm10_macs_pval_1e-5_10000_Stat3: SL9626_SL9625\n",
      "genebodies_mm10_macs_pval_1e-10_5000_Stat3: SL9626_SL9625\n",
      "genebodies_mm10_macs_pval_1e-10_10000_Stat3: SL9626_SL9625\n",
      "genebodies_mm10_macs_pval_1e-5_5000_Stat3: SL9626_SL9625\n",
      "genebodies_mm10_macs_pval_1e-5_10000_Stat3: SL9626_SL9625\n",
      "tss_mm10_macs_pval_1e-10_5000_Stat3: SL973_SL972\n",
      "tss_mm10_macs_pval_1e-10_10000_Stat3: SL973_SL972\n",
      "tss_mm10_macs_pval_1e-5_5000_Stat3: SL973_SL972\n",
      "tss_mm10_macs_pval_1e-5_10000_Stat3: SL973_SL972\n",
      "genebodies_mm10_macs_pval_1e-10_5000_Stat3: SL973_SL972\n",
      "genebodies_mm10_macs_pval_1e-10_10000_Stat3: SL973_SL972\n",
      "genebodies_mm10_macs_pval_1e-5_5000_Stat3: SL973_SL972\n",
      "genebodies_mm10_macs_pval_1e-5_10000_Stat3: SL973_SL972\n",
      "tss_mm10_macs_pval_1e-10_5000_Irf4: SL971_SL970\n",
      "tss_mm10_macs_pval_1e-10_10000_Irf4: SL971_SL970\n",
      "tss_mm10_macs_pval_1e-5_5000_Irf4: SL971_SL970\n",
      "tss_mm10_macs_pval_1e-5_10000_Irf4: SL971_SL970\n",
      "genebodies_mm10_macs_pval_1e-10_5000_Irf4: SL971_SL970\n",
      "genebodies_mm10_macs_pval_1e-10_10000_Irf4: SL971_SL970\n",
      "genebodies_mm10_macs_pval_1e-5_5000_Irf4: SL971_SL970\n",
      "genebodies_mm10_macs_pval_1e-5_10000_Irf4: SL971_SL970\n",
      "tss_mm10_macs_pval_1e-10_5000_Irf4: SL9854_SL9858\n",
      "tss_mm10_macs_pval_1e-10_10000_Irf4: SL9854_SL9858\n",
      "tss_mm10_macs_pval_1e-5_5000_Irf4: SL9854_SL9858\n",
      "tss_mm10_macs_pval_1e-5_10000_Irf4: SL9854_SL9858\n",
      "genebodies_mm10_macs_pval_1e-10_5000_Irf4: SL9854_SL9858\n",
      "genebodies_mm10_macs_pval_1e-10_10000_Irf4: SL9854_SL9858\n",
      "genebodies_mm10_macs_pval_1e-5_5000_Irf4: SL9854_SL9858\n",
      "genebodies_mm10_macs_pval_1e-5_10000_Irf4: SL9854_SL9858\n",
      "tss_mm10_macs_pval_1e-10_5000_Irf4: SL9855_SL9859\n",
      "tss_mm10_macs_pval_1e-10_10000_Irf4: SL9855_SL9859\n",
      "tss_mm10_macs_pval_1e-5_5000_Irf4: SL9855_SL9859\n",
      "tss_mm10_macs_pval_1e-5_10000_Irf4: SL9855_SL9859\n",
      "genebodies_mm10_macs_pval_1e-10_5000_Irf4: SL9855_SL9859\n",
      "genebodies_mm10_macs_pval_1e-10_10000_Irf4: SL9855_SL9859\n",
      "genebodies_mm10_macs_pval_1e-5_5000_Irf4: SL9855_SL9859\n",
      "genebodies_mm10_macs_pval_1e-5_10000_Irf4: SL9855_SL9859\n",
      "tss_mm10_macs_pval_1e-10_5000_Hif1a: SL10572_SL10566\n",
      "tss_mm10_macs_pval_1e-10_10000_Hif1a: SL10572_SL10566\n",
      "tss_mm10_macs_pval_1e-5_5000_Hif1a: SL10572_SL10566\n",
      "tss_mm10_macs_pval_1e-5_10000_Hif1a: SL10572_SL10566\n",
      "genebodies_mm10_macs_pval_1e-10_5000_Hif1a: SL10572_SL10566\n",
      "genebodies_mm10_macs_pval_1e-10_10000_Hif1a: SL10572_SL10566\n",
      "genebodies_mm10_macs_pval_1e-5_5000_Hif1a: SL10572_SL10566\n",
      "genebodies_mm10_macs_pval_1e-5_10000_Hif1a: SL10572_SL10566\n",
      "tss_mm10_macs_pval_1e-10_5000_Hif1a: SL10575_SL10569\n",
      "tss_mm10_macs_pval_1e-10_10000_Hif1a: SL10575_SL10569\n",
      "tss_mm10_macs_pval_1e-5_5000_Hif1a: SL10575_SL10569\n",
      "tss_mm10_macs_pval_1e-5_10000_Hif1a: SL10575_SL10569\n",
      "genebodies_mm10_macs_pval_1e-10_5000_Hif1a: SL10575_SL10569\n",
      "genebodies_mm10_macs_pval_1e-10_10000_Hif1a: SL10575_SL10569\n",
      "genebodies_mm10_macs_pval_1e-5_5000_Hif1a: SL10575_SL10569\n",
      "genebodies_mm10_macs_pval_1e-5_10000_Hif1a: SL10575_SL10569\n"
     ]
    }
   ],
   "source": [
    "# compute priors\n",
    "for row in metadata.iterrows():\n",
    "    row_content = row[1]\n",
    "    sample = ('_').join([row_content['sampleName'], row_content['compare2']])\n",
    "    gene = row_content['gene']\n",
    "    for ref in references:\n",
    "        ref_bed = os.path.join(input_base_dir, ref)\n",
    "        # get human readable name\n",
    "        ref_name = ref.split('.')[0]\n",
    "        ref_df = pd.read_csv(ref_bed, sep = '\\t', header=None)\n",
    "        for mac in macs_folders:\n",
    "            mac_name = macs_dict[mac]\n",
    "            for dist in dists:\n",
    "                motif_bed = os.path.join(os.path.join(os.path.join(input_base_dir, mac), sample), '_'.join([sample, 'peaks.bed']))\n",
    "                p = priors.Prior(motif_bed, ref_bed, regulators = [gene], targets = list(ref_df[3]), max_distance=dist, single_tf=True, mode='window')\n",
    "                key = '_'.join([ref_name, mac_name, str(dist), gene])\n",
    "                print key + ': ' + sample\n",
    "                if key not in computed_priors.keys():\n",
    "                    computed_priors[key] = {}\n",
    "                if sample not in computed_priors[key].keys():\n",
    "                    computed_priors[key][sample] = p.make_prior()"
   ]
  },
  {
   "cell_type": "code",
   "execution_count": 55,
   "metadata": {
    "collapsed": false
   },
   "outputs": [],
   "source": [
    "# combine priors into dataframe, sum and save\n",
    "dataframes = {}\n",
    "for k in computed_priors:\n",
    "    gene = k.split('_')[-1]\n",
    "    result = pd.DataFrame([computed_priors[k][sample][gene].rename(sample) for sample in computed_priors[k]]).transpose()\n",
    "    result['combined_' + gene] = result.sum(axis=1)\n",
    "    output_filename = '.'.join([k, 'csv'])\n",
    "    result.to_csv(os.path.join(output_base_dir, output_filename))\n",
    "    dataframes[k] = result"
   ]
  },
  {
   "cell_type": "code",
   "execution_count": 73,
   "metadata": {
    "collapsed": false
   },
   "outputs": [],
   "source": [
    "dataframes = {}\n",
    "for f in os.listdir(output_base_dir):\n",
    "    if 'Nick' not in f:\n",
    "        dataframes[f.rstrip('.csv')] = pd.read_csv(os.path.join(output_base_dir, f), index_col = 0)\n"
   ]
  },
  {
   "cell_type": "code",
   "execution_count": 74,
   "metadata": {
    "collapsed": false
   },
   "outputs": [],
   "source": [
    "kgXref = pd.read_csv(os.path.join(base_dir, 'kgXref.txt'), sep='\\t', header=None, index_col=0)"
   ]
  },
  {
   "cell_type": "code",
   "execution_count": 75,
   "metadata": {
    "collapsed": false
   },
   "outputs": [
    {
     "name": "stdout",
     "output_type": "stream",
     "text": [
      "tss_mm10_macs_pval_1e-10_5000\n",
      "tss_mm10_macs_pval_1e-10_10000\n",
      "tss_mm10_macs_pval_1e-5_5000\n",
      "tss_mm10_macs_pval_1e-5_10000\n",
      "genebodies_mm10_macs_pval_1e-10_5000\n",
      "genebodies_mm10_macs_pval_1e-10_10000\n",
      "genebodies_mm10_macs_pval_1e-5_5000\n",
      "genebodies_mm10_macs_pval_1e-5_10000\n"
     ]
    }
   ],
   "source": [
    "# take the dataframes per sample and combined them to a per gene df\n",
    "collapsed_on_genes_tfs = {}\n",
    "for ref in references:\n",
    "    ref_name = ref.split('.')[0]\n",
    "    for mac in macs_folders:\n",
    "        mac_name = macs_dict[mac]\n",
    "        for dist in dists:\n",
    "            new_key = '_'.join([ref_name, mac_name, str(dist)])\n",
    "            print new_key\n",
    "            columns = []\n",
    "            for gene in set(metadata['gene']):\n",
    "                key = '_'.join([ref_name, mac_name, str(dist), gene])\n",
    "                columns.append(dataframes[key]['combined_' + gene].rename(gene))\n",
    "            collapsed_on_genes_tfs[new_key] = pd.DataFrame(columns).transpose()\n"
   ]
  },
  {
   "cell_type": "code",
   "execution_count": 77,
   "metadata": {
    "collapsed": false
   },
   "outputs": [
    {
     "data": {
      "text/html": [
       "<div>\n",
       "<table border=\"1\" class=\"dataframe\">\n",
       "  <thead>\n",
       "    <tr style=\"text-align: right;\">\n",
       "      <th></th>\n",
       "      <th>Batf</th>\n",
       "      <th>Stat3</th>\n",
       "      <th>Etv6</th>\n",
       "      <th>RORg</th>\n",
       "      <th>Irf4</th>\n",
       "      <th>Maf</th>\n",
       "      <th>Hif1a</th>\n",
       "      <th>Fosl2</th>\n",
       "      <th>Nrf2</th>\n",
       "      <th>Ctcf</th>\n",
       "    </tr>\n",
       "  </thead>\n",
       "  <tbody>\n",
       "    <tr>\n",
       "      <th>uc007aet.1</th>\n",
       "      <td>0</td>\n",
       "      <td>0</td>\n",
       "      <td>0</td>\n",
       "      <td>0</td>\n",
       "      <td>0</td>\n",
       "      <td>0</td>\n",
       "      <td>0</td>\n",
       "      <td>0</td>\n",
       "      <td>0</td>\n",
       "      <td>0</td>\n",
       "    </tr>\n",
       "    <tr>\n",
       "      <th>uc007aeu.1</th>\n",
       "      <td>1</td>\n",
       "      <td>0</td>\n",
       "      <td>0</td>\n",
       "      <td>0</td>\n",
       "      <td>0</td>\n",
       "      <td>0</td>\n",
       "      <td>0</td>\n",
       "      <td>0</td>\n",
       "      <td>0</td>\n",
       "      <td>0</td>\n",
       "    </tr>\n",
       "    <tr>\n",
       "      <th>uc007aev.1</th>\n",
       "      <td>0</td>\n",
       "      <td>0</td>\n",
       "      <td>0</td>\n",
       "      <td>0</td>\n",
       "      <td>0</td>\n",
       "      <td>0</td>\n",
       "      <td>0</td>\n",
       "      <td>0</td>\n",
       "      <td>0</td>\n",
       "      <td>0</td>\n",
       "    </tr>\n",
       "    <tr>\n",
       "      <th>uc007aew.1</th>\n",
       "      <td>0</td>\n",
       "      <td>0</td>\n",
       "      <td>0</td>\n",
       "      <td>1</td>\n",
       "      <td>0</td>\n",
       "      <td>0</td>\n",
       "      <td>0</td>\n",
       "      <td>0</td>\n",
       "      <td>0</td>\n",
       "      <td>3</td>\n",
       "    </tr>\n",
       "    <tr>\n",
       "      <th>uc007aex.2</th>\n",
       "      <td>0</td>\n",
       "      <td>0</td>\n",
       "      <td>0</td>\n",
       "      <td>0</td>\n",
       "      <td>0</td>\n",
       "      <td>0</td>\n",
       "      <td>0</td>\n",
       "      <td>0</td>\n",
       "      <td>0</td>\n",
       "      <td>1</td>\n",
       "    </tr>\n",
       "  </tbody>\n",
       "</table>\n",
       "</div>"
      ],
      "text/plain": [
       "            Batf  Stat3  Etv6  RORg  Irf4  Maf  Hif1a  Fosl2  Nrf2  Ctcf\n",
       "uc007aet.1     0      0     0     0     0    0      0      0     0     0\n",
       "uc007aeu.1     1      0     0     0     0    0      0      0     0     0\n",
       "uc007aev.1     0      0     0     0     0    0      0      0     0     0\n",
       "uc007aew.1     0      0     0     1     0    0      0      0     0     3\n",
       "uc007aex.2     0      0     0     0     0    0      0      0     0     1"
      ]
     },
     "execution_count": 77,
     "metadata": {},
     "output_type": "execute_result"
    }
   ],
   "source": [
    "collapsed_on_genes_tfs['genebodies_mm10_macs_pval_1e-10_5000'].head()"
   ]
  },
  {
   "cell_type": "code",
   "execution_count": 89,
   "metadata": {
    "collapsed": false
   },
   "outputs": [
    {
     "data": {
      "text/plain": [
       "{'genebodies_mm10_macs_pval_1e-10_10000': Empty DataFrame\n",
       " Columns: [Batf, Stat3, Etv6, RORg, Irf4, Maf, Hif1a, Fosl2, Nrf2, Ctcf]\n",
       " Index: [], 'genebodies_mm10_macs_pval_1e-10_5000': Empty DataFrame\n",
       " Columns: [Batf, Stat3, Etv6, RORg, Irf4, Maf, Hif1a, Fosl2, Nrf2, Ctcf]\n",
       " Index: [], 'genebodies_mm10_macs_pval_1e-5_10000': Empty DataFrame\n",
       " Columns: [Batf, Stat3, Etv6, RORg, Irf4, Maf, Hif1a, Fosl2, Nrf2, Ctcf]\n",
       " Index: [], 'genebodies_mm10_macs_pval_1e-5_5000': Empty DataFrame\n",
       " Columns: [Batf, Stat3, Etv6, RORg, Irf4, Maf, Hif1a, Fosl2, Nrf2, Ctcf]\n",
       " Index: [], 'tss_mm10_macs_pval_1e-10_10000': Empty DataFrame\n",
       " Columns: [Batf, Stat3, Etv6, RORg, Irf4, Maf, Hif1a, Fosl2, Nrf2, Ctcf]\n",
       " Index: [], 'tss_mm10_macs_pval_1e-10_5000': Empty DataFrame\n",
       " Columns: [Batf, Stat3, Etv6, RORg, Irf4, Maf, Hif1a, Fosl2, Nrf2, Ctcf]\n",
       " Index: [], 'tss_mm10_macs_pval_1e-5_10000': Empty DataFrame\n",
       " Columns: [Batf, Stat3, Etv6, RORg, Irf4, Maf, Hif1a, Fosl2, Nrf2, Ctcf]\n",
       " Index: [], 'tss_mm10_macs_pval_1e-5_5000': Empty DataFrame\n",
       " Columns: [Batf, Stat3, Etv6, RORg, Irf4, Maf, Hif1a, Fosl2, Nrf2, Ctcf]\n",
       " Index: []}"
      ]
     },
     "execution_count": 89,
     "metadata": {},
     "output_type": "execute_result"
    }
   ],
   "source": [
    "renamed_dfs"
   ]
  },
  {
   "cell_type": "code",
   "execution_count": 86,
   "metadata": {
    "collapsed": false
   },
   "outputs": [],
   "source": [
    "# Visualization\n",
    "df = renamed_dfs['genebodies_mm10_macs_pval_1e-10_5000']"
   ]
  },
  {
   "cell_type": "code",
   "execution_count": 87,
   "metadata": {
    "collapsed": false
   },
   "outputs": [],
   "source": [
    "def plot(df, title):\n",
    "    -\n",
    "    sns.heatmap(df.head(2000), annot=False, fmt=\"h\", yticklabels=False)\n",
    "    plt.title(title)"
   ]
  },
  {
   "cell_type": "code",
   "execution_count": 88,
   "metadata": {
    "collapsed": false
   },
   "outputs": [
    {
     "ename": "ValueError",
     "evalue": "zero-size array to reduction operation minimum which has no identity",
     "output_type": "error",
     "traceback": [
      "\u001b[0;31m---------------------------------------------------------------------------\u001b[0m",
      "\u001b[0;31mValueError\u001b[0m                                Traceback (most recent call last)",
      "\u001b[0;32m<ipython-input-88-529fee53ad1d>\u001b[0m in \u001b[0;36m<module>\u001b[0;34m()\u001b[0m\n\u001b[0;32m----> 1\u001b[0;31m \u001b[0mplot\u001b[0m\u001b[0;34m(\u001b[0m\u001b[0mdf\u001b[0m\u001b[0;34m,\u001b[0m \u001b[0;34m'genebodies_mm10_macs_pval_1e-10_5000'\u001b[0m\u001b[0;34m)\u001b[0m\u001b[0;34m\u001b[0m\u001b[0m\n\u001b[0m",
      "\u001b[0;32m<ipython-input-87-a8088e26454a>\u001b[0m in \u001b[0;36mplot\u001b[0;34m(df, title)\u001b[0m\n\u001b[1;32m      1\u001b[0m \u001b[0;32mdef\u001b[0m \u001b[0mplot\u001b[0m\u001b[0;34m(\u001b[0m\u001b[0mdf\u001b[0m\u001b[0;34m,\u001b[0m \u001b[0mtitle\u001b[0m\u001b[0;34m)\u001b[0m\u001b[0;34m:\u001b[0m\u001b[0;34m\u001b[0m\u001b[0m\n\u001b[1;32m      2\u001b[0m     \u001b[0mplt\u001b[0m\u001b[0;34m.\u001b[0m\u001b[0mfigure\u001b[0m\u001b[0;34m(\u001b[0m\u001b[0mfigsize\u001b[0m\u001b[0;34m=\u001b[0m\u001b[0;34m(\u001b[0m\u001b[0;36m10\u001b[0m\u001b[0;34m,\u001b[0m\u001b[0;36m50\u001b[0m\u001b[0;34m)\u001b[0m\u001b[0;34m)\u001b[0m\u001b[0;34m\u001b[0m\u001b[0m\n\u001b[0;32m----> 3\u001b[0;31m     \u001b[0msns\u001b[0m\u001b[0;34m.\u001b[0m\u001b[0mheatmap\u001b[0m\u001b[0;34m(\u001b[0m\u001b[0mdf\u001b[0m\u001b[0;34m.\u001b[0m\u001b[0mhead\u001b[0m\u001b[0;34m(\u001b[0m\u001b[0;36m2000\u001b[0m\u001b[0;34m)\u001b[0m\u001b[0;34m,\u001b[0m \u001b[0mannot\u001b[0m\u001b[0;34m=\u001b[0m\u001b[0mFalse\u001b[0m\u001b[0;34m,\u001b[0m \u001b[0mfmt\u001b[0m\u001b[0;34m=\u001b[0m\u001b[0;34m\"h\"\u001b[0m\u001b[0;34m,\u001b[0m \u001b[0myticklabels\u001b[0m\u001b[0;34m=\u001b[0m\u001b[0mFalse\u001b[0m\u001b[0;34m)\u001b[0m\u001b[0;34m\u001b[0m\u001b[0m\n\u001b[0m\u001b[1;32m      4\u001b[0m     \u001b[0mplt\u001b[0m\u001b[0;34m.\u001b[0m\u001b[0mtitle\u001b[0m\u001b[0;34m(\u001b[0m\u001b[0mtitle\u001b[0m\u001b[0;34m)\u001b[0m\u001b[0;34m\u001b[0m\u001b[0m\n",
      "\u001b[0;32m//anaconda/lib/python2.7/site-packages/seaborn/matrix.pyc\u001b[0m in \u001b[0;36mheatmap\u001b[0;34m(data, vmin, vmax, cmap, center, robust, annot, fmt, annot_kws, linewidths, linecolor, cbar, cbar_kws, cbar_ax, square, ax, xticklabels, yticklabels, mask, **kwargs)\u001b[0m\n\u001b[1;32m    483\u001b[0m     plotter = _HeatMapper(data, vmin, vmax, cmap, center, robust, annot, fmt,\n\u001b[1;32m    484\u001b[0m                           \u001b[0mannot_kws\u001b[0m\u001b[0;34m,\u001b[0m \u001b[0mcbar\u001b[0m\u001b[0;34m,\u001b[0m \u001b[0mcbar_kws\u001b[0m\u001b[0;34m,\u001b[0m \u001b[0mxticklabels\u001b[0m\u001b[0;34m,\u001b[0m\u001b[0;34m\u001b[0m\u001b[0m\n\u001b[0;32m--> 485\u001b[0;31m                           yticklabels, mask)\n\u001b[0m\u001b[1;32m    486\u001b[0m \u001b[0;34m\u001b[0m\u001b[0m\n\u001b[1;32m    487\u001b[0m     \u001b[0;31m# Add the pcolormesh kwargs here\u001b[0m\u001b[0;34m\u001b[0m\u001b[0;34m\u001b[0m\u001b[0m\n",
      "\u001b[0;32m//anaconda/lib/python2.7/site-packages/seaborn/matrix.pyc\u001b[0m in \u001b[0;36m__init__\u001b[0;34m(self, data, vmin, vmax, cmap, center, robust, annot, fmt, annot_kws, cbar, cbar_kws, xticklabels, yticklabels, mask)\u001b[0m\n\u001b[1;32m    165\u001b[0m         \u001b[0;31m# Determine good default values for the colormapping\u001b[0m\u001b[0;34m\u001b[0m\u001b[0;34m\u001b[0m\u001b[0m\n\u001b[1;32m    166\u001b[0m         self._determine_cmap_params(plot_data, vmin, vmax,\n\u001b[0;32m--> 167\u001b[0;31m                                     cmap, center, robust)\n\u001b[0m\u001b[1;32m    168\u001b[0m \u001b[0;34m\u001b[0m\u001b[0m\n\u001b[1;32m    169\u001b[0m         \u001b[0;31m# Sort out the annotations\u001b[0m\u001b[0;34m\u001b[0m\u001b[0;34m\u001b[0m\u001b[0m\n",
      "\u001b[0;32m//anaconda/lib/python2.7/site-packages/seaborn/matrix.pyc\u001b[0m in \u001b[0;36m_determine_cmap_params\u001b[0;34m(self, plot_data, vmin, vmax, cmap, center, robust)\u001b[0m\n\u001b[1;32m    204\u001b[0m         \u001b[0mcalc_data\u001b[0m \u001b[0;34m=\u001b[0m \u001b[0mplot_data\u001b[0m\u001b[0;34m.\u001b[0m\u001b[0mdata\u001b[0m\u001b[0;34m[\u001b[0m\u001b[0;34m~\u001b[0m\u001b[0mnp\u001b[0m\u001b[0;34m.\u001b[0m\u001b[0misnan\u001b[0m\u001b[0;34m(\u001b[0m\u001b[0mplot_data\u001b[0m\u001b[0;34m.\u001b[0m\u001b[0mdata\u001b[0m\u001b[0;34m)\u001b[0m\u001b[0;34m]\u001b[0m\u001b[0;34m\u001b[0m\u001b[0m\n\u001b[1;32m    205\u001b[0m         \u001b[0;32mif\u001b[0m \u001b[0mvmin\u001b[0m \u001b[0;32mis\u001b[0m \u001b[0mNone\u001b[0m\u001b[0;34m:\u001b[0m\u001b[0;34m\u001b[0m\u001b[0m\n\u001b[0;32m--> 206\u001b[0;31m             \u001b[0mvmin\u001b[0m \u001b[0;34m=\u001b[0m \u001b[0mnp\u001b[0m\u001b[0;34m.\u001b[0m\u001b[0mpercentile\u001b[0m\u001b[0;34m(\u001b[0m\u001b[0mcalc_data\u001b[0m\u001b[0;34m,\u001b[0m \u001b[0;36m2\u001b[0m\u001b[0;34m)\u001b[0m \u001b[0;32mif\u001b[0m \u001b[0mrobust\u001b[0m \u001b[0;32melse\u001b[0m \u001b[0mcalc_data\u001b[0m\u001b[0;34m.\u001b[0m\u001b[0mmin\u001b[0m\u001b[0;34m(\u001b[0m\u001b[0;34m)\u001b[0m\u001b[0;34m\u001b[0m\u001b[0m\n\u001b[0m\u001b[1;32m    207\u001b[0m         \u001b[0;32mif\u001b[0m \u001b[0mvmax\u001b[0m \u001b[0;32mis\u001b[0m \u001b[0mNone\u001b[0m\u001b[0;34m:\u001b[0m\u001b[0;34m\u001b[0m\u001b[0m\n\u001b[1;32m    208\u001b[0m             \u001b[0mvmax\u001b[0m \u001b[0;34m=\u001b[0m \u001b[0mnp\u001b[0m\u001b[0;34m.\u001b[0m\u001b[0mpercentile\u001b[0m\u001b[0;34m(\u001b[0m\u001b[0mcalc_data\u001b[0m\u001b[0;34m,\u001b[0m \u001b[0;36m98\u001b[0m\u001b[0;34m)\u001b[0m \u001b[0;32mif\u001b[0m \u001b[0mrobust\u001b[0m \u001b[0;32melse\u001b[0m \u001b[0mcalc_data\u001b[0m\u001b[0;34m.\u001b[0m\u001b[0mmax\u001b[0m\u001b[0;34m(\u001b[0m\u001b[0;34m)\u001b[0m\u001b[0;34m\u001b[0m\u001b[0m\n",
      "\u001b[0;32m//anaconda/lib/python2.7/site-packages/numpy/core/_methods.pyc\u001b[0m in \u001b[0;36m_amin\u001b[0;34m(a, axis, out, keepdims)\u001b[0m\n\u001b[1;32m     27\u001b[0m \u001b[0;34m\u001b[0m\u001b[0m\n\u001b[1;32m     28\u001b[0m \u001b[0;32mdef\u001b[0m \u001b[0m_amin\u001b[0m\u001b[0;34m(\u001b[0m\u001b[0ma\u001b[0m\u001b[0;34m,\u001b[0m \u001b[0maxis\u001b[0m\u001b[0;34m=\u001b[0m\u001b[0mNone\u001b[0m\u001b[0;34m,\u001b[0m \u001b[0mout\u001b[0m\u001b[0;34m=\u001b[0m\u001b[0mNone\u001b[0m\u001b[0;34m,\u001b[0m \u001b[0mkeepdims\u001b[0m\u001b[0;34m=\u001b[0m\u001b[0mFalse\u001b[0m\u001b[0;34m)\u001b[0m\u001b[0;34m:\u001b[0m\u001b[0;34m\u001b[0m\u001b[0m\n\u001b[0;32m---> 29\u001b[0;31m     \u001b[0;32mreturn\u001b[0m \u001b[0mumr_minimum\u001b[0m\u001b[0;34m(\u001b[0m\u001b[0ma\u001b[0m\u001b[0;34m,\u001b[0m \u001b[0maxis\u001b[0m\u001b[0;34m,\u001b[0m \u001b[0mNone\u001b[0m\u001b[0;34m,\u001b[0m \u001b[0mout\u001b[0m\u001b[0;34m,\u001b[0m \u001b[0mkeepdims\u001b[0m\u001b[0;34m)\u001b[0m\u001b[0;34m\u001b[0m\u001b[0m\n\u001b[0m\u001b[1;32m     30\u001b[0m \u001b[0;34m\u001b[0m\u001b[0m\n\u001b[1;32m     31\u001b[0m \u001b[0;32mdef\u001b[0m \u001b[0m_sum\u001b[0m\u001b[0;34m(\u001b[0m\u001b[0ma\u001b[0m\u001b[0;34m,\u001b[0m \u001b[0maxis\u001b[0m\u001b[0;34m=\u001b[0m\u001b[0mNone\u001b[0m\u001b[0;34m,\u001b[0m \u001b[0mdtype\u001b[0m\u001b[0;34m=\u001b[0m\u001b[0mNone\u001b[0m\u001b[0;34m,\u001b[0m \u001b[0mout\u001b[0m\u001b[0;34m=\u001b[0m\u001b[0mNone\u001b[0m\u001b[0;34m,\u001b[0m \u001b[0mkeepdims\u001b[0m\u001b[0;34m=\u001b[0m\u001b[0mFalse\u001b[0m\u001b[0;34m)\u001b[0m\u001b[0;34m:\u001b[0m\u001b[0;34m\u001b[0m\u001b[0m\n",
      "\u001b[0;31mValueError\u001b[0m: zero-size array to reduction operation minimum which has no identity"
     ]
    },
    {
     "data": {
      "text/plain": [
       "<matplotlib.figure.Figure at 0x129a7d810>"
      ]
     },
     "metadata": {},
     "output_type": "display_data"
    }
   ],
   "source": [
    "plot(df, 'genebodies_mm10_macs_pval_1e-10_5000')"
   ]
  },
  {
   "cell_type": "code",
   "execution_count": 99,
   "metadata": {
    "collapsed": false
   },
   "outputs": [
    {
     "name": "stdout",
     "output_type": "stream",
     "text": [
      "genebodies_mm10_macs_pval_1e-5_10000\n",
      "tss_mm10_macs_pval_1e-10_10000\n",
      "tss_mm10_macs_pval_1e-5_5000\n",
      "tss_mm10_macs_pval_1e-5_10000\n",
      "tss_mm10_macs_pval_1e-10_5000\n",
      "genebodies_mm10_macs_pval_1e-10_5000\n",
      "genebodies_mm10_macs_pval_1e-10_10000\n",
      "genebodies_mm10_macs_pval_1e-5_5000\n"
     ]
    }
   ],
   "source": [
    "# Add kgXref names\n",
    "renamed_dfs = {}\n",
    "for key in collapsed_on_genes_tfs:\n",
    "    df = collapsed_on_genes_tfs[key]\n",
    "    new_names = {}\n",
    "    print key\n",
    "    for row in df.index:\n",
    "        gene_name = str(kgXref.loc[row.split('_')[0], 4])\n",
    "        # If there's a conflict, i.e. ucsc ids with the same gene symbol, only take the maximum value\n",
    "        add_new_key = True\n",
    "        # copying the dictionary to loop because of dynamic changes\n",
    "        if gene_name in new_names.values():\n",
    "            for k in dict(new_names):\n",
    "                if new_names[k] == gene_name:\n",
    "                    if sum(df.loc[k, :]) > sum(df.loc[row, :]):\n",
    "                        new_names.pop(k, None)\n",
    "                    else:\n",
    "                        add_new_key = False\n",
    "        if add_new_key:\n",
    "            new_names[row] = gene_name\n",
    "    renamed_dfs[key] = df.loc[new_names.keys(), :].rename(index=new_names, columns=str)\n",
    "    output_filename = '.'.join([key, 'csv'])\n",
    "    renamed_dfs[key].to_csv(os.path.join(output_base_dir, output_filename))"
   ]
  },
  {
   "cell_type": "code",
   "execution_count": 98,
   "metadata": {
    "collapsed": false
   },
   "outputs": [
    {
     "data": {
      "text/plain": [
       "<bound method DataFrame.head of                Batf  Stat3  Etv6  RORg  Irf4  Maf  Hif1a  Fosl2  Nrf2  Ctcf\n",
       "Olfr1532-ps1      0      0     0     0     0    0      0      0     0     1\n",
       "Sis               0      0     0     0     0    0      0      0     0     0\n",
       "Olfr1140          0      0     0     0     0    0      0      0     1     0\n",
       "Gm3219            0      0     0     0     0    2      0      2     3     2\n",
       "Sfta2             1      0     0     1     0    0      0      2     1     0\n",
       "Vezt             22      0     0     3    12    7      2     13     1     7\n",
       "Rnu6              2      0     0     0     0    0      0      2     0     0\n",
       "Ict1             13      6     6    11    11    6      4      4     4     6\n",
       "Afg3l2            7      0     1     0     3    0      4      5     1     3\n",
       "DQ704580          0      0     0     0     0    0      0      0     0     0\n",
       "5730409E04Rik     2      0     0     0     0    2      0      0     2     0\n",
       "Tnfrsf13b         4      2     3     3     4    3      0      6     0     9\n",
       "DQ719983          0      0     0     0     0    0      0      0     0     0\n",
       "DQ718046          0      0     0     0     0    0      0      0     0     2\n",
       "Pitpnm3           2      0     0     0     0    0      0      5     1     6\n",
       "Ctss             13      3     1     2    11    4      0      6     0     5\n",
       "AK030357          7      4     0     2     5    3      0      3     2     0\n",
       "C1ql3             0      0     0     0     1    1      0      1     0     3\n",
       "B930041F14Rik    11      1     2     3     7    4      4      5     3     5\n",
       "Olfr214           0      0     0     0     0    0      0      0     0     0\n",
       "1700024B18Rik     0      0     0     0     0    0      0      0     0     0\n",
       "Olfr823           0      0     0     0     0    0      0      0     0     0\n",
       "Gimap7           17      8     1     2    13    9      2     10     0     0\n",
       "1700003C15Rik     0      0     0     0     0    0      0      0     0     0\n",
       "Npr3              1      0     0     0     0    0      0      3     0     2\n",
       "DQ718296          4      0     0     0     0    0      0      1     0     0\n",
       "Mir6953           6      4     0     1     5    4      0      4     1     4\n",
       "Zfp334            2      0     0     1     3    1      0      4     1     2\n",
       "Agxt2             4      0     0     0     0    0      0      2     1     1\n",
       "AK020767          6      0     2     2     3    3      2      1     1     0\n",
       "...             ...    ...   ...   ...   ...  ...    ...    ...   ...   ...\n",
       "Tbc1d10b         16      6     5     5    13    6      8      9    14    11\n",
       "Lhfpl5            3      0     0     0     1    4      0      2     4     2\n",
       "Comp              0      0     0     0     0    1      0      1     0     5\n",
       "AK037434          5      0     0     2     2    3      2      2     0     1\n",
       "Rnf111            2      0     0     0     0    0      0      1     0     0\n",
       "DQ720313          3      0     0     0     0    1      0      0     0     2\n",
       "Il3ra             7      4     5     1     3    3      1      6     0     2\n",
       "Olfr382           0      0     0     0     0    0      0      0     0     0\n",
       "DQ549194          0      0     0     0     0    0      0      0     0     0\n",
       "Slc44a2          16     12     1     4    12   10      1     10     5     6\n",
       "Adam7             2      0     0     0     0    0      0      3     0     2\n",
       "Phf19             7      0     3     2     5    2      3      8     3     6\n",
       "Cnot6l            3      0     0     0     0    0      0      0     2     0\n",
       "Mfn1              0      0     0     0     0    0      0      0     1     4\n",
       "Agl               0      1     0     0     0    0      0      0     0     2\n",
       "Ednra             4      0     0     0     2    0      0      2     1     0\n",
       "Mir142            9     16     7    21    14    7      8      9     4     4\n",
       "Rtp3              3      0     2     1     4    0      0      0     0     4\n",
       "Prkcg             0      0     0     0     0    0      0      0     0     8\n",
       "Zfp57             2      0     0     0     0    0      0      0     0     2\n",
       "Skint8            0      0     0     0     0    0      0      0     0     0\n",
       "Mogs             10      1     6     5    13    7      5      5     6     7\n",
       "Pet2              0      0     0     0     0    0      0      0     0     0\n",
       "E130112N10Rik    19      9     2     9    20   12      4      6     0     4\n",
       "DQ544652          2      0     0     0     1    0      0      0     0     0\n",
       "DQ705597          0      0     0     0     0    0      0      0     0     0\n",
       "Crybb1           20     13     0    12    20   13      2     16     0     2\n",
       "Gm1965            0      0     0     0     0    0      0      1     0     2\n",
       "Lao1              0      0     1     0     0    0      0      0     0     0\n",
       "Plpp7             1      0     0     0     0    0      0      0     0     0\n",
       "\n",
       "[32765 rows x 10 columns]>"
      ]
     },
     "execution_count": 98,
     "metadata": {},
     "output_type": "execute_result"
    }
   ],
   "source": [
    "renamed_dfs['genebodies_mm10_macs_pval_1e-5_10000'].head"
   ]
  },
  {
   "cell_type": "markdown",
   "metadata": {},
   "source": [
    "Below is some draft space from commands I ran when working on this:"
   ]
  },
  {
   "cell_type": "code",
   "execution_count": 101,
   "metadata": {
    "collapsed": false
   },
   "outputs": [
    {
     "data": {
      "text/plain": [
       "7"
      ]
     },
     "execution_count": 101,
     "metadata": {},
     "output_type": "execute_result"
    }
   ],
   "source": [
    "# Sanity check: see if prior is what's expected, 7. \n",
    "max(priors['2016_11_15_MACS_out_SL1040_SL972']['Stat3'])"
   ]
  },
  {
   "cell_type": "code",
   "execution_count": 72,
   "metadata": {
    "collapsed": true
   },
   "outputs": [],
   "source": [
    "# save\n",
    "for k in renamed_dfs:\n",
    "    result = renamed_dfs[k]\n",
    "    output_filename = '.'.join([k, 'csv'])\n",
    "    result.to_csv(os.path.join(output_base_dir, output_filename))"
   ]
  },
  {
   "cell_type": "code",
   "execution_count": 84,
   "metadata": {
    "collapsed": false
   },
   "outputs": [
    {
     "data": {
      "text/html": [
       "<div>\n",
       "<table border=\"1\" class=\"dataframe\">\n",
       "  <thead>\n",
       "    <tr style=\"text-align: right;\">\n",
       "      <th></th>\n",
       "      <th>0</th>\n",
       "      <th>1</th>\n",
       "      <th>2</th>\n",
       "      <th>3</th>\n",
       "      <th>4</th>\n",
       "      <th>5</th>\n",
       "    </tr>\n",
       "  </thead>\n",
       "  <tbody>\n",
       "    <tr>\n",
       "      <th>18</th>\n",
       "      <td>chr1</td>\n",
       "      <td>4858326</td>\n",
       "      <td>4858327</td>\n",
       "      <td>uc011whu.1_up_1_chr1_4858327_f</td>\n",
       "      <td>0</td>\n",
       "      <td>+</td>\n",
       "    </tr>\n",
       "  </tbody>\n",
       "</table>\n",
       "</div>"
      ],
      "text/plain": [
       "       0        1        2                               3  4  5\n",
       "18  chr1  4858326  4858327  uc011whu.1_up_1_chr1_4858327_f  0  +"
      ]
     },
     "execution_count": 84,
     "metadata": {},
     "output_type": "execute_result"
    }
   ],
   "source": [
    "gene_df[gene_df[3] == 'uc011whu.1_up_1_chr1_4858327_f']"
   ]
  },
  {
   "cell_type": "code",
   "execution_count": 110,
   "metadata": {
    "collapsed": false
   },
   "outputs": [
    {
     "data": {
      "text/html": [
       "<div>\n",
       "<table border=\"1\" class=\"dataframe\">\n",
       "  <thead>\n",
       "    <tr style=\"text-align: right;\">\n",
       "      <th></th>\n",
       "      <th>TF</th>\n",
       "    </tr>\n",
       "  </thead>\n",
       "  <tbody>\n",
       "    <tr>\n",
       "      <th>uc057alc.1_up_1_chr8_35620774_f</th>\n",
       "      <td>7</td>\n",
       "    </tr>\n",
       "    <tr>\n",
       "      <th>uc009mmr.2_up_1_chr8_84662853_r</th>\n",
       "      <td>7</td>\n",
       "    </tr>\n",
       "    <tr>\n",
       "      <th>uc009nyw.2_up_1_chr8_126593437_r</th>\n",
       "      <td>7</td>\n",
       "    </tr>\n",
       "    <tr>\n",
       "      <th>uc011ybs.1_up_1_chr11_86584159_r</th>\n",
       "      <td>7</td>\n",
       "    </tr>\n",
       "  </tbody>\n",
       "</table>\n",
       "</div>"
      ],
      "text/plain": [
       "                                  TF\n",
       "uc057alc.1_up_1_chr8_35620774_f    7\n",
       "uc009mmr.2_up_1_chr8_84662853_r    7\n",
       "uc009nyw.2_up_1_chr8_126593437_r   7\n",
       "uc011ybs.1_up_1_chr11_86584159_r   7"
      ]
     },
     "execution_count": 110,
     "metadata": {},
     "output_type": "execute_result"
    }
   ],
   "source": [
    "new_prior = priors['2016_11_15_MACS_out_SL1040_SL972']\n",
    "new_prior[new_prior['Stat3'] > 6]"
   ]
  },
  {
   "cell_type": "code",
   "execution_count": 97,
   "metadata": {
    "collapsed": true
   },
   "outputs": [],
   "source": [
    "motif_bed='/Users/ndeveaux/Dropbox (Simons Foundation)/atac_parameter_search/ChipSeq/2016_11_22_performance_test_output/SL1040_SL972_peaks.bed'"
   ]
  },
  {
   "cell_type": "code",
   "execution_count": null,
   "metadata": {
    "collapsed": true
   },
   "outputs": [],
   "source": []
  }
 ],
 "metadata": {
  "kernelspec": {
   "display_name": "Python 2",
   "language": "python",
   "name": "python2"
  },
  "language_info": {
   "codemirror_mode": {
    "name": "ipython",
    "version": 2
   },
   "file_extension": ".py",
   "mimetype": "text/x-python",
   "name": "python",
   "nbconvert_exporter": "python",
   "pygments_lexer": "ipython2",
   "version": "2.7.11"
  }
 },
 "nbformat": 4,
 "nbformat_minor": 0
}
