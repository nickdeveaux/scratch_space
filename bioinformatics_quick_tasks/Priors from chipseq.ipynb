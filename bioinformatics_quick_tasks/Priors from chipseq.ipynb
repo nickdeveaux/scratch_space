{
 "cells": [
  {
   "cell_type": "code",
   "execution_count": 2,
   "metadata": {
    "collapsed": false
   },
   "outputs": [],
   "source": [
    "import inferelator_ng.prior as priors\n",
    "import os\n",
    "import pandas as pd\n",
    "import seaborn as sns\n",
    "import matplotlib.py2plot as plt\n",
    "%matplotlib inline"
   ]
  },
  {
   "cell_type": "markdown",
   "metadata": {},
   "source": [
    "## Generate ChipSeq priors from metadata and mm10 references\n",
    "This notebook loops over different references (genebody and tss), different distances to references, samples, and genes per sample, to create priors. Priors are also combined across samples. "
   ]
  },
  {
   "cell_type": "code",
   "execution_count": 3,
   "metadata": {
    "collapsed": false
   },
   "outputs": [],
   "source": [
    "base_dir='/Users/ndeveaux/Dropbox (Simons Foundation)/atac_parameter_search/ChipSeq/chipseq_priors/chipseq_mm10_th17_prior_gen_2017_01'"
   ]
  },
  {
   "cell_type": "code",
   "execution_count": 4,
   "metadata": {
    "collapsed": true
   },
   "outputs": [],
   "source": [
    "input_base_dir = os.path.join(base_dir, 'references')\n",
    "output_base_dir = os.path.join(base_dir, 'output')"
   ]
  },
  {
   "cell_type": "code",
   "execution_count": 5,
   "metadata": {
    "collapsed": true
   },
   "outputs": [],
   "source": [
    "if not os.path.exists(output_base_dir):\n",
    "    os.makedirs(output_base_dir)"
   ]
  },
  {
   "cell_type": "code",
   "execution_count": 6,
   "metadata": {
    "collapsed": true
   },
   "outputs": [],
   "source": [
    "macs_folders = ['2016_11_28_MACS_out', '2016_11_15_MACS_out']\n",
    "references = ['tss_mm10.bed', 'genebodies_mm10.bed']\n",
    "macs_dict = {'2016_11_28_MACS_out': 'macs_pval_1e-10', '2016_11_15_MACS_out': 'macs_pval_1e-5'}"
   ]
  },
  {
   "cell_type": "code",
   "execution_count": 7,
   "metadata": {
    "collapsed": false
   },
   "outputs": [],
   "source": [
    "metadata_file = os.path.join(input_base_dir, 'metadata_ChIP.txt')\n",
    "metadata = pd.read_csv(metadata_file, sep = '\\t')"
   ]
  },
  {
   "cell_type": "code",
   "execution_count": 8,
   "metadata": {
    "collapsed": false
   },
   "outputs": [],
   "source": [
    "dists=[5000, 10000]"
   ]
  },
  {
   "cell_type": "code",
   "execution_count": 9,
   "metadata": {
    "collapsed": true
   },
   "outputs": [],
   "source": [
    "computed_priors = {}"
   ]
  },
  {
   "cell_type": "code",
   "execution_count": null,
   "metadata": {
    "collapsed": false
   },
   "outputs": [
    {
     "name": "stdout",
     "output_type": "stream",
     "text": [
      "tss_mm10_macs_pval_1e-10_5000_Batf: SL3033_SL3036\n",
      "tss_mm10_macs_pval_1e-10_10000_Batf: SL3033_SL3036\n",
      "tss_mm10_macs_pval_1e-5_5000_Batf: SL3033_SL3036\n",
      "tss_mm10_macs_pval_1e-5_10000_Batf: SL3033_SL3036\n",
      "genebodies_mm10_macs_pval_1e-10_5000_Batf: SL3033_SL3036\n",
      "genebodies_mm10_macs_pval_1e-10_10000_Batf: SL3033_SL3036\n",
      "genebodies_mm10_macs_pval_1e-5_5000_Batf: SL3033_SL3036\n",
      "genebodies_mm10_macs_pval_1e-5_10000_Batf: SL3033_SL3036\n",
      "tss_mm10_macs_pval_1e-10_5000_Batf: SL3037_SL3036\n",
      "tss_mm10_macs_pval_1e-10_10000_Batf: SL3037_SL3036\n",
      "tss_mm10_macs_pval_1e-5_5000_Batf: SL3037_SL3036\n",
      "tss_mm10_macs_pval_1e-5_10000_Batf: SL3037_SL3036\n",
      "genebodies_mm10_macs_pval_1e-10_5000_Batf: SL3037_SL3036\n",
      "genebodies_mm10_macs_pval_1e-10_10000_Batf: SL3037_SL3036\n",
      "genebodies_mm10_macs_pval_1e-5_5000_Batf: SL3037_SL3036\n",
      "genebodies_mm10_macs_pval_1e-5_10000_Batf: SL3037_SL3036\n",
      "tss_mm10_macs_pval_1e-10_5000_Batf: SL10570_SL10564\n",
      "tss_mm10_macs_pval_1e-10_10000_Batf: SL10570_SL10564\n",
      "tss_mm10_macs_pval_1e-5_5000_Batf: SL10570_SL10564\n",
      "tss_mm10_macs_pval_1e-5_10000_Batf: SL10570_SL10564\n",
      "genebodies_mm10_macs_pval_1e-10_5000_Batf: SL10570_SL10564\n",
      "genebodies_mm10_macs_pval_1e-10_10000_Batf: SL10570_SL10564\n",
      "genebodies_mm10_macs_pval_1e-5_5000_Batf: SL10570_SL10564\n",
      "genebodies_mm10_macs_pval_1e-5_10000_Batf: SL10570_SL10564\n",
      "tss_mm10_macs_pval_1e-10_5000_Maf: SL3031_SL2871\n",
      "tss_mm10_macs_pval_1e-10_10000_Maf: SL3031_SL2871\n",
      "tss_mm10_macs_pval_1e-5_5000_Maf: SL3031_SL2871\n",
      "tss_mm10_macs_pval_1e-5_10000_Maf: SL3031_SL2871\n",
      "genebodies_mm10_macs_pval_1e-10_5000_Maf: SL3031_SL2871\n",
      "genebodies_mm10_macs_pval_1e-10_10000_Maf: SL3031_SL2871\n",
      "genebodies_mm10_macs_pval_1e-5_5000_Maf: SL3031_SL2871\n",
      "genebodies_mm10_macs_pval_1e-5_10000_Maf: SL3031_SL2871\n",
      "tss_mm10_macs_pval_1e-10_5000_Maf: SL3032_SL2871\n",
      "tss_mm10_macs_pval_1e-10_10000_Maf: SL3032_SL2871\n",
      "tss_mm10_macs_pval_1e-5_5000_Maf: SL3032_SL2871\n",
      "tss_mm10_macs_pval_1e-5_10000_Maf: SL3032_SL2871\n",
      "genebodies_mm10_macs_pval_1e-10_5000_Maf: SL3032_SL2871\n",
      "genebodies_mm10_macs_pval_1e-10_10000_Maf: SL3032_SL2871\n",
      "genebodies_mm10_macs_pval_1e-5_5000_Maf: SL3032_SL2871\n",
      "genebodies_mm10_macs_pval_1e-5_10000_Maf: SL3032_SL2871\n",
      "tss_mm10_macs_pval_1e-10_5000_Ctcf: SL3034_SL3035\n",
      "tss_mm10_macs_pval_1e-10_10000_Ctcf: SL3034_SL3035\n",
      "tss_mm10_macs_pval_1e-5_5000_Ctcf: SL3034_SL3035\n",
      "tss_mm10_macs_pval_1e-5_10000_Ctcf: SL3034_SL3035\n",
      "genebodies_mm10_macs_pval_1e-10_5000_Ctcf: SL3034_SL3035\n",
      "genebodies_mm10_macs_pval_1e-10_10000_Ctcf: SL3034_SL3035\n",
      "genebodies_mm10_macs_pval_1e-5_5000_Ctcf: SL3034_SL3035\n",
      "genebodies_mm10_macs_pval_1e-5_10000_Ctcf: SL3034_SL3035\n",
      "tss_mm10_macs_pval_1e-10_5000_Ctcf: SL3783_SL3782\n",
      "tss_mm10_macs_pval_1e-10_10000_Ctcf: SL3783_SL3782\n",
      "tss_mm10_macs_pval_1e-5_5000_Ctcf: SL3783_SL3782\n",
      "tss_mm10_macs_pval_1e-5_10000_Ctcf: SL3783_SL3782\n",
      "genebodies_mm10_macs_pval_1e-10_5000_Ctcf: SL3783_SL3782\n",
      "genebodies_mm10_macs_pval_1e-10_10000_Ctcf: SL3783_SL3782\n",
      "genebodies_mm10_macs_pval_1e-5_5000_Ctcf: SL3783_SL3782\n",
      "genebodies_mm10_macs_pval_1e-5_10000_Ctcf: SL3783_SL3782\n",
      "tss_mm10_macs_pval_1e-10_5000_Etv6: SL13368_SL13364\n",
      "tss_mm10_macs_pval_1e-10_10000_Etv6: SL13368_SL13364\n",
      "tss_mm10_macs_pval_1e-5_5000_Etv6: SL13368_SL13364\n",
      "tss_mm10_macs_pval_1e-5_10000_Etv6: SL13368_SL13364\n",
      "genebodies_mm10_macs_pval_1e-10_5000_Etv6: SL13368_SL13364\n",
      "genebodies_mm10_macs_pval_1e-10_10000_Etv6: SL13368_SL13364\n",
      "genebodies_mm10_macs_pval_1e-5_5000_Etv6: SL13368_SL13364\n",
      "genebodies_mm10_macs_pval_1e-5_10000_Etv6: SL13368_SL13364\n",
      "tss_mm10_macs_pval_1e-10_5000_Etv6: SL10573_SL10567\n",
      "tss_mm10_macs_pval_1e-10_10000_Etv6: SL10573_SL10567\n",
      "tss_mm10_macs_pval_1e-5_5000_Etv6: SL10573_SL10567\n",
      "tss_mm10_macs_pval_1e-5_10000_Etv6: SL10573_SL10567\n",
      "genebodies_mm10_macs_pval_1e-10_5000_Etv6: SL10573_SL10567\n",
      "genebodies_mm10_macs_pval_1e-10_10000_Etv6: SL10573_SL10567\n",
      "genebodies_mm10_macs_pval_1e-5_5000_Etv6: SL10573_SL10567\n",
      "genebodies_mm10_macs_pval_1e-5_10000_Etv6: SL10573_SL10567\n",
      "tss_mm10_macs_pval_1e-10_5000_Fosl2: SL6498_SL6497\n",
      "tss_mm10_macs_pval_1e-10_10000_Fosl2: SL6498_SL6497\n",
      "tss_mm10_macs_pval_1e-5_5000_Fosl2: SL6498_SL6497\n",
      "tss_mm10_macs_pval_1e-5_10000_Fosl2: SL6498_SL6497\n",
      "genebodies_mm10_macs_pval_1e-10_5000_Fosl2: SL6498_SL6497\n",
      "genebodies_mm10_macs_pval_1e-10_10000_Fosl2: SL6498_SL6497\n",
      "genebodies_mm10_macs_pval_1e-5_5000_Fosl2: SL6498_SL6497\n",
      "genebodies_mm10_macs_pval_1e-5_10000_Fosl2: SL6498_SL6497\n",
      "tss_mm10_macs_pval_1e-10_5000_Fosl2: SL6625_SL6627\n",
      "tss_mm10_macs_pval_1e-10_10000_Fosl2: SL6625_SL6627\n",
      "tss_mm10_macs_pval_1e-5_5000_Fosl2: SL6625_SL6627\n",
      "tss_mm10_macs_pval_1e-5_10000_Fosl2: SL6625_SL6627\n",
      "genebodies_mm10_macs_pval_1e-10_5000_Fosl2: SL6625_SL6627\n",
      "genebodies_mm10_macs_pval_1e-10_10000_Fosl2: SL6625_SL6627\n",
      "genebodies_mm10_macs_pval_1e-5_5000_Fosl2: SL6625_SL6627\n",
      "genebodies_mm10_macs_pval_1e-5_10000_Fosl2: SL6625_SL6627\n",
      "tss_mm10_macs_pval_1e-10_5000_Nrf2: SL11909_SL11906\n",
      "tss_mm10_macs_pval_1e-10_10000_Nrf2: SL11909_SL11906\n",
      "tss_mm10_macs_pval_1e-5_5000_Nrf2: SL11909_SL11906\n",
      "tss_mm10_macs_pval_1e-5_10000_Nrf2: SL11909_SL11906\n",
      "genebodies_mm10_macs_pval_1e-10_5000_Nrf2: SL11909_SL11906\n",
      "genebodies_mm10_macs_pval_1e-10_10000_Nrf2: SL11909_SL11906\n",
      "genebodies_mm10_macs_pval_1e-5_5000_Nrf2: SL11909_SL11906\n",
      "genebodies_mm10_macs_pval_1e-5_10000_Nrf2: SL11909_SL11906\n",
      "tss_mm10_macs_pval_1e-10_5000_Nrf2: SL11908_SL11905\n",
      "tss_mm10_macs_pval_1e-10_10000_Nrf2: SL11908_SL11905\n",
      "tss_mm10_macs_pval_1e-5_5000_Nrf2: SL11908_SL11905\n",
      "tss_mm10_macs_pval_1e-5_10000_Nrf2: SL11908_SL11905\n",
      "genebodies_mm10_macs_pval_1e-10_5000_Nrf2: SL11908_SL11905\n",
      "genebodies_mm10_macs_pval_1e-10_10000_Nrf2: SL11908_SL11905\n",
      "genebodies_mm10_macs_pval_1e-5_5000_Nrf2: SL11908_SL11905\n",
      "genebodies_mm10_macs_pval_1e-5_10000_Nrf2: SL11908_SL11905\n",
      "tss_mm10_macs_pval_1e-10_5000_Nrf2: SL11910_SL11907\n",
      "tss_mm10_macs_pval_1e-10_10000_Nrf2: SL11910_SL11907\n",
      "tss_mm10_macs_pval_1e-5_5000_Nrf2: SL11910_SL11907\n",
      "tss_mm10_macs_pval_1e-5_10000_Nrf2: SL11910_SL11907\n",
      "genebodies_mm10_macs_pval_1e-10_5000_Nrf2: SL11910_SL11907\n",
      "genebodies_mm10_macs_pval_1e-10_10000_Nrf2: SL11910_SL11907\n",
      "genebodies_mm10_macs_pval_1e-5_5000_Nrf2: SL11910_SL11907\n",
      "genebodies_mm10_macs_pval_1e-5_10000_Nrf2: SL11910_SL11907\n",
      "tss_mm10_macs_pval_1e-10_5000_RORg: SL3779_SL3778\n",
      "tss_mm10_macs_pval_1e-10_10000_RORg: SL3779_SL3778\n",
      "tss_mm10_macs_pval_1e-5_5000_RORg: SL3779_SL3778\n",
      "tss_mm10_macs_pval_1e-5_10000_RORg: SL3779_SL3778\n",
      "genebodies_mm10_macs_pval_1e-10_5000_RORg: SL3779_SL3778\n",
      "genebodies_mm10_macs_pval_1e-10_10000_RORg: SL3779_SL3778\n",
      "genebodies_mm10_macs_pval_1e-5_5000_RORg: SL3779_SL3778\n",
      "genebodies_mm10_macs_pval_1e-5_10000_RORg: SL3779_SL3778\n",
      "tss_mm10_macs_pval_1e-10_5000_RORg: SL1944_SL1943\n",
      "tss_mm10_macs_pval_1e-10_10000_RORg: SL1944_SL1943\n",
      "tss_mm10_macs_pval_1e-5_5000_RORg: SL1944_SL1943\n",
      "tss_mm10_macs_pval_1e-5_10000_RORg: SL1944_SL1943\n",
      "genebodies_mm10_macs_pval_1e-10_5000_RORg: SL1944_SL1943\n",
      "genebodies_mm10_macs_pval_1e-10_10000_RORg: SL1944_SL1943\n",
      "genebodies_mm10_macs_pval_1e-5_5000_RORg: SL1944_SL1943\n",
      "genebodies_mm10_macs_pval_1e-5_10000_RORg: SL1944_SL1943\n",
      "tss_mm10_macs_pval_1e-10_5000_RORg: SL2870_SL2871\n",
      "tss_mm10_macs_pval_1e-10_10000_RORg: SL2870_SL2871\n",
      "tss_mm10_macs_pval_1e-5_5000_RORg: SL2870_SL2871\n",
      "tss_mm10_macs_pval_1e-5_10000_RORg: SL2870_SL2871\n",
      "genebodies_mm10_macs_pval_1e-10_5000_RORg: SL2870_SL2871\n",
      "genebodies_mm10_macs_pval_1e-10_10000_RORg: SL2870_SL2871\n",
      "genebodies_mm10_macs_pval_1e-5_5000_RORg: SL2870_SL2871\n",
      "genebodies_mm10_macs_pval_1e-5_10000_RORg: SL2870_SL2871\n",
      "tss_mm10_macs_pval_1e-10_5000_Stat3: SL1040_SL972\n",
      "tss_mm10_macs_pval_1e-10_10000_Stat3: SL1040_SL972\n",
      "tss_mm10_macs_pval_1e-5_5000_Stat3: SL1040_SL972\n",
      "tss_mm10_macs_pval_1e-5_10000_Stat3: SL1040_SL972\n",
      "genebodies_mm10_macs_pval_1e-10_5000_Stat3: SL1040_SL972\n",
      "genebodies_mm10_macs_pval_1e-10_10000_Stat3: SL1040_SL972\n",
      "genebodies_mm10_macs_pval_1e-5_5000_Stat3: SL1040_SL972\n",
      "genebodies_mm10_macs_pval_1e-5_10000_Stat3: SL1040_SL972\n",
      "tss_mm10_macs_pval_1e-10_5000_Stat3: SL9624_SL9623\n",
      "tss_mm10_macs_pval_1e-10_10000_Stat3: SL9624_SL9623\n",
      "tss_mm10_macs_pval_1e-5_5000_Stat3: SL9624_SL9623\n",
      "tss_mm10_macs_pval_1e-5_10000_Stat3: SL9624_SL9623\n",
      "genebodies_mm10_macs_pval_1e-10_5000_Stat3: SL9624_SL9623\n",
      "genebodies_mm10_macs_pval_1e-10_10000_Stat3: SL9624_SL9623\n",
      "genebodies_mm10_macs_pval_1e-5_5000_Stat3: SL9624_SL9623\n",
      "genebodies_mm10_macs_pval_1e-5_10000_Stat3: SL9624_SL9623\n",
      "tss_mm10_macs_pval_1e-10_5000_Stat3: SL9626_SL9625\n",
      "tss_mm10_macs_pval_1e-10_10000_Stat3: SL9626_SL9625\n",
      "tss_mm10_macs_pval_1e-5_5000_Stat3: SL9626_SL9625\n",
      "tss_mm10_macs_pval_1e-5_10000_Stat3: SL9626_SL9625\n",
      "genebodies_mm10_macs_pval_1e-10_5000_Stat3: SL9626_SL9625\n",
      "genebodies_mm10_macs_pval_1e-10_10000_Stat3: SL9626_SL9625\n",
      "genebodies_mm10_macs_pval_1e-5_5000_Stat3: SL9626_SL9625\n",
      "genebodies_mm10_macs_pval_1e-5_10000_Stat3: SL9626_SL9625\n",
      "tss_mm10_macs_pval_1e-10_5000_Stat3: SL973_SL972\n",
      "tss_mm10_macs_pval_1e-10_10000_Stat3: SL973_SL972\n",
      "tss_mm10_macs_pval_1e-5_5000_Stat3: SL973_SL972\n",
      "tss_mm10_macs_pval_1e-5_10000_Stat3: SL973_SL972\n",
      "genebodies_mm10_macs_pval_1e-10_5000_Stat3: SL973_SL972\n",
      "genebodies_mm10_macs_pval_1e-10_10000_Stat3: SL973_SL972\n",
      "genebodies_mm10_macs_pval_1e-5_5000_Stat3: SL973_SL972\n",
      "genebodies_mm10_macs_pval_1e-5_10000_Stat3: SL973_SL972\n",
      "tss_mm10_macs_pval_1e-10_5000_Irf4: SL971_SL970\n",
      "tss_mm10_macs_pval_1e-10_10000_Irf4: SL971_SL970\n",
      "tss_mm10_macs_pval_1e-5_5000_Irf4: SL971_SL970\n",
      "tss_mm10_macs_pval_1e-5_10000_Irf4: SL971_SL970\n",
      "genebodies_mm10_macs_pval_1e-10_5000_Irf4: SL971_SL970\n",
      "genebodies_mm10_macs_pval_1e-10_10000_Irf4: SL971_SL970\n",
      "genebodies_mm10_macs_pval_1e-5_5000_Irf4: SL971_SL970\n",
      "genebodies_mm10_macs_pval_1e-5_10000_Irf4: SL971_SL970\n",
      "tss_mm10_macs_pval_1e-10_5000_Irf4: SL9854_SL9858\n",
      "tss_mm10_macs_pval_1e-10_10000_Irf4: SL9854_SL9858\n",
      "tss_mm10_macs_pval_1e-5_5000_Irf4: SL9854_SL9858\n",
      "tss_mm10_macs_pval_1e-5_10000_Irf4: SL9854_SL9858\n",
      "genebodies_mm10_macs_pval_1e-10_5000_Irf4: SL9854_SL9858\n",
      "genebodies_mm10_macs_pval_1e-10_10000_Irf4: SL9854_SL9858\n"
     ]
    }
   ],
   "source": [
    "# compute priors\n",
    "for row in metadata.iterrows():\n",
    "    row_content = row[1]\n",
    "    sample = ('_').join([row_content['sampleName'], row_content['compare2']])\n",
    "    gene = row_content['gene']\n",
    "    for ref in references:\n",
    "        ref_bed = os.path.join(input_base_dir, ref)\n",
    "        # get human readable name\n",
    "        ref_name = ref.split('.')[0]\n",
    "        ref_df = pd.read_csv(ref_bed, sep = '\\t', header=None)\n",
    "        for mac in macs_folders:\n",
    "            mac_name = macs_dict[mac]\n",
    "            for dist in dists:\n",
    "                motif_bed = os.path.join(os.path.join(os.path.join(input_base_dir, mac), sample), '_'.join([sample, 'peaks.bed']))\n",
    "                p = priors.Prior(motif_bed, ref_bed, regulators = [gene], targets = list(ref_df[3]), max_distance=dist, single_tf=True, mode='window')\n",
    "                key = '_'.join([ref_name, mac_name, str(dist), gene])\n",
    "                print key + ': ' + sample\n",
    "                if key not in computed_priors.keys():\n",
    "                    computed_priors[key] = {}\n",
    "                if sample not in computed_priors[key].keys():\n",
    "                    computed_priors[key][sample] = p.make_prior()"
   ]
  },
  {
   "cell_type": "code",
   "execution_count": 53,
   "metadata": {
    "collapsed": false
   },
   "outputs": [],
   "source": [
    "# combine priors into dataframe, sum and save\n",
    "dataframes = {}\n",
    "for k in computed_priors:\n",
    "    gene = k.split('_')[-1]\n",
    "    result = pd.DataFrame([computed_priors[k][sample][gene].rename(sample) for sample in computed_priors[k]]).transpose()\n",
    "    result['combined_' + gene] = result.sum(axis=1)\n",
    "    output_filename = '.'.join([k, 'csv'])\n",
    "    result.to_csv(os.path.join(output_base_dir, output_filename))\n",
    "    dataframes[k] = result"
   ]
  },
  {
   "cell_type": "code",
   "execution_count": 42,
   "metadata": {
    "collapsed": false
   },
   "outputs": [],
   "source": [
    "k = 'tss_mm10_macs_pval_1e-5_5000_Batf'\n",
    "gene = 'Batf'\n",
    "df = pd.DataFrame([computed_priors[k][sample][gene].rename(sample) for sample in computed_priors[k]])"
   ]
  },
  {
   "cell_type": "code",
   "execution_count": 48,
   "metadata": {
    "collapsed": false
   },
   "outputs": [
    {
     "data": {
      "text/plain": [
       "SL10570_SL10564    2\n",
       "SL3033_SL3036      2\n",
       "SL3037_SL3036      2\n",
       "Name: uc007afe.3_up_1_chr1_4785727_r, dtype: int64"
      ]
     },
     "execution_count": 48,
     "metadata": {},
     "output_type": "execute_result"
    }
   ],
   "source": [
    "df = df.transpose()\n",
    "df.loc['uc007afe.3_up_1_chr1_4785727_r',:]"
   ]
  },
  {
   "cell_type": "code",
   "execution_count": 50,
   "metadata": {
    "collapsed": false
   },
   "outputs": [],
   "source": [
    "df['combined_' + gene] = df.sum(axis=1)"
   ]
  },
  {
   "cell_type": "code",
   "execution_count": 51,
   "metadata": {
    "collapsed": false
   },
   "outputs": [
    {
     "data": {
      "text/plain": [
       "SL10570_SL10564    2\n",
       "SL3033_SL3036      2\n",
       "SL3037_SL3036      2\n",
       "combined_Batf      6\n",
       "Name: uc007afe.3_up_1_chr1_4785727_r, dtype: int64"
      ]
     },
     "execution_count": 51,
     "metadata": {},
     "output_type": "execute_result"
    }
   ],
   "source": [
    "df.loc['uc007afe.3_up_1_chr1_4785727_r',:]"
   ]
  },
  {
   "cell_type": "code",
   "execution_count": 164,
   "metadata": {
    "collapsed": false
   },
   "outputs": [],
   "source": [
    "combined_df = pd.DataFrame(priors['2016_11_15_MACS_out_SL3033_SL3036_5000_Batf']['Batf'], columns = )"
   ]
  },
  {
   "cell_type": "code",
   "execution_count": 165,
   "metadata": {
    "collapsed": true
   },
   "outputs": [],
   "source": [
    "combined_df['1000'] = priors['2016_11_15_MACS_out_SL3033_SL3036_10000_Batf']['Batf']"
   ]
  },
  {
   "cell_type": "code",
   "execution_count": 168,
   "metadata": {
    "collapsed": false
   },
   "outputs": [],
   "source": [
    "combined_df['10000-pval-10'] = priors['2016_11_28_MACS_out_SL3033_SL3036_10000_Batf']['Batf']"
   ]
  },
  {
   "cell_type": "code",
   "execution_count": 169,
   "metadata": {
    "collapsed": true
   },
   "outputs": [],
   "source": [
    "combined_df['5000-pval-10'] = priors['2016_11_28_MACS_out_SL3033_SL3036_5000_Batf']['Batf']"
   ]
  },
  {
   "cell_type": "code",
   "execution_count": 170,
   "metadata": {
    "collapsed": true
   },
   "outputs": [],
   "source": [
    "combined_df['5000-pval-5-sample-SL3037'] = priors['2016_11_15_MACS_out_SL3037_SL3036_5000_Batf']['Batf']"
   ]
  },
  {
   "cell_type": "code",
   "execution_count": 208,
   "metadata": {
    "collapsed": true
   },
   "outputs": [],
   "source": [
    "combined_df['5000-pval-5-combined'] = combined_df['5000-pval-5-sample-SL3037'] + combined_df['Batf']"
   ]
  },
  {
   "cell_type": "code",
   "execution_count": 210,
   "metadata": {
    "collapsed": false
   },
   "outputs": [
    {
     "data": {
      "text/plain": [
       "15"
      ]
     },
     "execution_count": 210,
     "metadata": {},
     "output_type": "execute_result"
    }
   ],
   "source": [
    "max(combined_df['5000-pval-5-combined'] )"
   ]
  },
  {
   "cell_type": "code",
   "execution_count": null,
   "metadata": {
    "collapsed": false
   },
   "outputs": [],
   "source": [
    "def plot(df, title):\n",
    "    plt.figure(figsize=(10,50))\n",
    "    sns.heatmap(df.head(2000), annot=False, fmt=\"h\", yticklabels=False)\n",
    "    plt.title(title)"
   ]
  },
  {
   "cell_type": "code",
   "execution_count": null,
   "metadata": {
    "collapsed": true
   },
   "outputs": [],
   "source": [
    "focus = 'tss_mm10_macs_pval_1e-5_5000'\n",
    "plot(pd.concat([dataframes[x] for x in dataframes.keys() if x.startswith(focus)]), focus)"
   ]
  },
  {
   "cell_type": "code",
   "execution_count": 101,
   "metadata": {
    "collapsed": false
   },
   "outputs": [
    {
     "data": {
      "text/plain": [
       "7"
      ]
     },
     "execution_count": 101,
     "metadata": {},
     "output_type": "execute_result"
    }
   ],
   "source": [
    "# Sanity check: see if prior is what's expected, 7. \n",
    "max(priors['2016_11_15_MACS_out_SL1040_SL972']['Stat3'])"
   ]
  },
  {
   "cell_type": "code",
   "execution_count": 84,
   "metadata": {
    "collapsed": false
   },
   "outputs": [
    {
     "data": {
      "text/html": [
       "<div>\n",
       "<table border=\"1\" class=\"dataframe\">\n",
       "  <thead>\n",
       "    <tr style=\"text-align: right;\">\n",
       "      <th></th>\n",
       "      <th>0</th>\n",
       "      <th>1</th>\n",
       "      <th>2</th>\n",
       "      <th>3</th>\n",
       "      <th>4</th>\n",
       "      <th>5</th>\n",
       "    </tr>\n",
       "  </thead>\n",
       "  <tbody>\n",
       "    <tr>\n",
       "      <th>18</th>\n",
       "      <td>chr1</td>\n",
       "      <td>4858326</td>\n",
       "      <td>4858327</td>\n",
       "      <td>uc011whu.1_up_1_chr1_4858327_f</td>\n",
       "      <td>0</td>\n",
       "      <td>+</td>\n",
       "    </tr>\n",
       "  </tbody>\n",
       "</table>\n",
       "</div>"
      ],
      "text/plain": [
       "       0        1        2                               3  4  5\n",
       "18  chr1  4858326  4858327  uc011whu.1_up_1_chr1_4858327_f  0  +"
      ]
     },
     "execution_count": 84,
     "metadata": {},
     "output_type": "execute_result"
    }
   ],
   "source": [
    "gene_df[gene_df[3] == 'uc011whu.1_up_1_chr1_4858327_f']"
   ]
  },
  {
   "cell_type": "code",
   "execution_count": 110,
   "metadata": {
    "collapsed": false
   },
   "outputs": [
    {
     "data": {
      "text/html": [
       "<div>\n",
       "<table border=\"1\" class=\"dataframe\">\n",
       "  <thead>\n",
       "    <tr style=\"text-align: right;\">\n",
       "      <th></th>\n",
       "      <th>TF</th>\n",
       "    </tr>\n",
       "  </thead>\n",
       "  <tbody>\n",
       "    <tr>\n",
       "      <th>uc057alc.1_up_1_chr8_35620774_f</th>\n",
       "      <td>7</td>\n",
       "    </tr>\n",
       "    <tr>\n",
       "      <th>uc009mmr.2_up_1_chr8_84662853_r</th>\n",
       "      <td>7</td>\n",
       "    </tr>\n",
       "    <tr>\n",
       "      <th>uc009nyw.2_up_1_chr8_126593437_r</th>\n",
       "      <td>7</td>\n",
       "    </tr>\n",
       "    <tr>\n",
       "      <th>uc011ybs.1_up_1_chr11_86584159_r</th>\n",
       "      <td>7</td>\n",
       "    </tr>\n",
       "  </tbody>\n",
       "</table>\n",
       "</div>"
      ],
      "text/plain": [
       "                                  TF\n",
       "uc057alc.1_up_1_chr8_35620774_f    7\n",
       "uc009mmr.2_up_1_chr8_84662853_r    7\n",
       "uc009nyw.2_up_1_chr8_126593437_r   7\n",
       "uc011ybs.1_up_1_chr11_86584159_r   7"
      ]
     },
     "execution_count": 110,
     "metadata": {},
     "output_type": "execute_result"
    }
   ],
   "source": [
    "new_prior = priors['2016_11_15_MACS_out_SL1040_SL972']\n",
    "new_prior[new_prior['Stat3'] > 6]"
   ]
  },
  {
   "cell_type": "code",
   "execution_count": 97,
   "metadata": {
    "collapsed": true
   },
   "outputs": [],
   "source": [
    "motif_bed='/Users/ndeveaux/Dropbox (Simons Foundation)/atac_parameter_search/ChipSeq/2016_11_22_performance_test_output/SL1040_SL972_peaks.bed'"
   ]
  },
  {
   "cell_type": "code",
   "execution_count": 12,
   "metadata": {
    "collapsed": false
   },
   "outputs": [
    {
     "data": {
      "text/plain": [
       "['tss_mm10_macs_pval_1e-10_5000_Irf4',\n",
       " 'tss_mm10_macs_pval_1e-5_5000_Batf',\n",
       " 'genebodies_mm10_macs_pval_1e-5_5000_Etv6',\n",
       " 'genebodies_mm10_macs_pval_1e-10_5000_Irf4',\n",
       " 'tss_mm10_macs_pval_1e-10_5000_Maf',\n",
       " 'genebodies_mm10_macs_pval_1e-5_10000_Irf4',\n",
       " 'tss_mm10_macs_pval_1e-10_5000_Etv6',\n",
       " 'tss_mm10_macs_pval_1e-5_5000_Ctcf',\n",
       " 'genebodies_mm10_macs_pval_1e-10_10000_Stat3',\n",
       " 'tss_mm10_macs_pval_1e-10_10000_Irf4',\n",
       " 'genebodies_mm10_macs_pval_1e-5_10000_RORg',\n",
       " 'genebodies_mm10_macs_pval_1e-10_5000_Maf',\n",
       " 'genebodies_mm10_macs_pval_1e-5_5000_Stat3',\n",
       " 'genebodies_mm10_macs_pval_1e-5_5000_Maf',\n",
       " 'tss_mm10_macs_pval_1e-10_5000_Fosl2',\n",
       " 'genebodies_mm10_macs_pval_1e-5_10000_Etv6',\n",
       " 'genebodies_mm10_macs_pval_1e-5_10000_Stat3',\n",
       " 'tss_mm10_macs_pval_1e-10_5000_Batf',\n",
       " 'genebodies_mm10_macs_pval_1e-5_5000_Fosl2',\n",
       " 'genebodies_mm10_macs_pval_1e-10_5000_Etv6',\n",
       " 'genebodies_mm10_macs_pval_1e-5_5000_Batf',\n",
       " 'genebodies_mm10_macs_pval_1e-10_5000_RORg',\n",
       " 'genebodies_mm10_macs_pval_1e-10_10000_Nrf2',\n",
       " 'tss_mm10_macs_pval_1e-10_5000_Ctcf',\n",
       " 'genebodies_mm10_macs_pval_1e-10_10000_Batf',\n",
       " 'genebodies_mm10_macs_pval_1e-5_5000_RORg',\n",
       " 'tss_mm10_macs_pval_1e-5_10000_Etv6',\n",
       " 'genebodies_mm10_macs_pval_1e-10_5000_Fosl2',\n",
       " 'genebodies_mm10_macs_pval_1e-5_5000_Irf4',\n",
       " 'tss_mm10_macs_pval_1e-5_10000_Nrf2',\n",
       " 'tss_mm10_macs_pval_1e-5_10000_Fosl2',\n",
       " 'tss_mm10_macs_pval_1e-10_10000_Stat3',\n",
       " 'tss_mm10_macs_pval_1e-5_5000_Maf',\n",
       " 'tss_mm10_macs_pval_1e-10_10000_Etv6',\n",
       " 'tss_mm10_macs_pval_1e-10_10000_Fosl2',\n",
       " 'tss_mm10_macs_pval_1e-10_5000_Nrf2',\n",
       " 'tss_mm10_macs_pval_1e-10_10000_Nrf2',\n",
       " 'genebodies_mm10_macs_pval_1e-10_10000_Irf4',\n",
       " 'genebodies_mm10_macs_pval_1e-10_10000_Maf',\n",
       " 'tss_mm10_macs_pval_1e-5_10000_RORg',\n",
       " 'tss_mm10_macs_pval_1e-10_10000_Batf',\n",
       " 'tss_mm10_macs_pval_1e-5_5000_Nrf2',\n",
       " 'genebodies_mm10_macs_pval_1e-10_10000_Etv6',\n",
       " 'tss_mm10_macs_pval_1e-10_5000_RORg',\n",
       " 'tss_mm10_macs_pval_1e-10_10000_Ctcf',\n",
       " 'genebodies_mm10_macs_pval_1e-5_10000_Batf',\n",
       " 'genebodies_mm10_macs_pval_1e-5_10000_Nrf2',\n",
       " 'tss_mm10_macs_pval_1e-5_10000_Batf',\n",
       " 'genebodies_mm10_macs_pval_1e-10_5000_Stat3',\n",
       " 'tss_mm10_macs_pval_1e-5_10000_Maf',\n",
       " 'tss_mm10_macs_pval_1e-5_10000_Stat3',\n",
       " 'tss_mm10_macs_pval_1e-5_5000_Stat3',\n",
       " 'tss_mm10_macs_pval_1e-5_5000_RORg',\n",
       " 'tss_mm10_macs_pval_1e-5_10000_Irf4',\n",
       " 'genebodies_mm10_macs_pval_1e-5_10000_Ctcf',\n",
       " 'genebodies_mm10_macs_pval_1e-10_5000_Batf',\n",
       " 'genebodies_mm10_macs_pval_1e-10_10000_Fosl2',\n",
       " 'genebodies_mm10_macs_pval_1e-10_5000_Ctcf',\n",
       " 'tss_mm10_macs_pval_1e-5_5000_Irf4',\n",
       " 'tss_mm10_macs_pval_1e-10_10000_RORg',\n",
       " 'genebodies_mm10_macs_pval_1e-5_10000_Maf',\n",
       " 'tss_mm10_macs_pval_1e-5_5000_Etv6',\n",
       " 'genebodies_mm10_macs_pval_1e-10_10000_Ctcf',\n",
       " 'genebodies_mm10_macs_pval_1e-10_5000_Nrf2',\n",
       " 'genebodies_mm10_macs_pval_1e-10_10000_RORg',\n",
       " 'tss_mm10_macs_pval_1e-10_10000_Maf',\n",
       " 'tss_mm10_macs_pval_1e-5_10000_Ctcf',\n",
       " 'genebodies_mm10_macs_pval_1e-5_5000_Nrf2',\n",
       " 'tss_mm10_macs_pval_1e-10_5000_Stat3',\n",
       " 'genebodies_mm10_macs_pval_1e-5_5000_Ctcf',\n",
       " 'genebodies_mm10_macs_pval_1e-5_10000_Fosl2',\n",
       " 'tss_mm10_macs_pval_1e-5_5000_Fosl2']"
      ]
     },
     "execution_count": 12,
     "metadata": {},
     "output_type": "execute_result"
    }
   ],
   "source": [
    "computed_priors.keys()"
   ]
  },
  {
   "cell_type": "code",
   "execution_count": null,
   "metadata": {
    "collapsed": true
   },
   "outputs": [],
   "source": []
  }
 ],
 "metadata": {
  "kernelspec": {
   "display_name": "Python 2",
   "language": "python",
   "name": "python2"
  },
  "language_info": {
   "codemirror_mode": {
    "name": "ipython",
    "version": 2
   },
   "file_extension": ".py",
   "mimetype": "text/x-python",
   "name": "python",
   "nbconvert_exporter": "python",
   "pygments_lexer": "ipython2",
   "version": "2.7.11"
  }
 },
 "nbformat": 4,
 "nbformat_minor": 0
}
