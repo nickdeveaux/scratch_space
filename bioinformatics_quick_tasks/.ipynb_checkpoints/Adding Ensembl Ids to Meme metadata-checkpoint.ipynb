{
 "cells": [
  {
   "cell_type": "code",
   "execution_count": 1,
   "metadata": {
    "collapsed": false
   },
   "outputs": [],
   "source": [
    "import pandas as pd"
   ]
  },
  {
   "cell_type": "code",
   "execution_count": 2,
   "metadata": {
    "collapsed": true
   },
   "outputs": [],
   "source": [
    "gencode24_gtf_file='/Users/ndeveaux/Data/human_reference/gencode.v24.annotation.gtf'"
   ]
  },
  {
   "cell_type": "code",
   "execution_count": 4,
   "metadata": {
    "collapsed": true
   },
   "outputs": [],
   "source": [
    "def parse_line(line):\n",
    "    line = line.rstrip('\\n')\n",
    "    line = line.split('\\t')\n",
    "    if len(line) > 8:\n",
    "        return parse_gtf_dict(line[8])\n",
    "\n",
    "def parse_gtf_dict(line):\n",
    "    line = line.split('; ')\n",
    "    d = {}\n",
    "    for pair in line:\n",
    "        key, val = pair.split(\" \")\n",
    "        if val[0] == '\"' and val[-1] == '\"':\n",
    "            val = val[1:-1]\n",
    "        d[key] = val\n",
    "    return d"
   ]
  },
  {
   "cell_type": "code",
   "execution_count": 6,
   "metadata": {
    "collapsed": false
   },
   "outputs": [],
   "source": [
    "ensembl_dict = {}\n",
    "gene_symbols_dict = {}\n",
    "gene_symbol_dict = {}\n",
    "with open(gencode24_gtf_file) as f:\n",
    "    lines = f.readlines()\n",
    "    for line in lines:\n",
    "        if not line.startswith('##'):\n",
    "            new_dict = parse_line(line)\n",
    "            if 'gene_name' and 'gene_id' in new_dict.keys():\n",
    "                ensembl_dict[new_dict['gene_id']] = new_dict['gene_name'] \n",
    "                gene_symbols_dict[new_dict['gene_name']] = new_dict['gene_id'] "
   ]
  },
  {
   "cell_type": "code",
   "execution_count": 7,
   "metadata": {
    "collapsed": false
   },
   "outputs": [
    {
     "data": {
      "text/plain": [
       "'ENSG00000186350.9'"
      ]
     },
     "execution_count": 7,
     "metadata": {},
     "output_type": "execute_result"
    }
   ],
   "source": [
    "gene_symbols_dict['RXRA']"
   ]
  },
  {
   "cell_type": "code",
   "execution_count": 8,
   "metadata": {
    "collapsed": false
   },
   "outputs": [],
   "source": [
    "motif_information_txt = '/Users/ndeveaux/Dev/ThirdParty/gscripts/gscripts/pwm/hg19_2016_TF_information.txt'"
   ]
  },
  {
   "cell_type": "code",
   "execution_count": 10,
   "metadata": {
    "collapsed": false
   },
   "outputs": [],
   "source": [
    "motif_metadata= pd.read_csv(motif_information_txt, sep = '\\t')"
   ]
  },
  {
   "cell_type": "code",
   "execution_count": 11,
   "metadata": {
    "collapsed": false
   },
   "outputs": [],
   "source": [
    "# save ensemble ids into motif_metadata\n",
    "idx = 0\n",
    "for row in motif_metadata.iterrows():\n",
    "    row = row[1]\n",
    "    if str(row['DBID']) == 'nan':\n",
    "        gene_symbol = row['TF_Name']\n",
    "        if gene_symbol in gene_symbols_dict.keys():\n",
    "            motif_metadata.loc[idx, 'DBID'] = gene_symbols_dict[gene_symbol].split('.')[0]\n",
    "    idx = idx + 1"
   ]
  },
  {
   "cell_type": "code",
   "execution_count": 13,
   "metadata": {
    "collapsed": false
   },
   "outputs": [],
   "source": [
    "filename='/Users/ndeveaux/Dev/ThirdParty/gscripts/gscripts/pwm/hg19_2016_TF_information_with_ensemblids.txt'\n",
    "motif_metadata.to_csv(filename, index = False, sep='\\t')"
   ]
  },
  {
   "cell_type": "code",
   "execution_count": null,
   "metadata": {
    "collapsed": true
   },
   "outputs": [],
   "source": []
  }
 ],
 "metadata": {
  "kernelspec": {
   "display_name": "Python 2",
   "language": "python",
   "name": "python2"
  },
  "language_info": {
   "codemirror_mode": {
    "name": "ipython",
    "version": 2
   },
   "file_extension": ".py",
   "mimetype": "text/x-python",
   "name": "python",
   "nbconvert_exporter": "python",
   "pygments_lexer": "ipython2",
   "version": "2.7.11"
  }
 },
 "nbformat": 4,
 "nbformat_minor": 0
}
