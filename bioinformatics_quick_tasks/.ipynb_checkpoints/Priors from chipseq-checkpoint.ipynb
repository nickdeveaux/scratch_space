{
 "cells": [
  {
   "cell_type": "code",
   "execution_count": 3,
   "metadata": {
    "collapsed": false
   },
   "outputs": [],
   "source": [
    "import inferelator_ng.prior as priors\n",
    "import os\n",
    "import pandas as pd\n",
    "import seaborn as sns\n",
    "import matplotlib.pyplot as plt\n",
    "%matplotlib inline"
   ]
  },
  {
   "cell_type": "markdown",
   "metadata": {},
   "source": [
    "## Generate ChipSeq priors from metadata and mm10 references\n",
    "This notebook loops over different references (genebody and tss), different distances to references, samples, and genes per sample, to create priors. Priors are also combined across samples. "
   ]
  },
  {
   "cell_type": "code",
   "execution_count": 4,
   "metadata": {
    "collapsed": false
   },
   "outputs": [],
   "source": [
    "base_dir='/Users/ndeveaux/Dropbox (Simons Foundation)/atac_parameter_search/ChipSeq/chipseq_priors/chipseq_mm10_th17_prior_gen_2017_01'"
   ]
  },
  {
   "cell_type": "code",
   "execution_count": 5,
   "metadata": {
    "collapsed": true
   },
   "outputs": [],
   "source": [
    "input_base_dir = os.path.join(base_dir, 'references')\n",
    "output_base_dir = os.path.join(base_dir, 'output')"
   ]
  },
  {
   "cell_type": "code",
   "execution_count": 6,
   "metadata": {
    "collapsed": true
   },
   "outputs": [],
   "source": [
    "if not os.path.exists(output_base_dir):\n",
    "    os.makedirs(output_base_dir)"
   ]
  },
  {
   "cell_type": "code",
   "execution_count": 7,
   "metadata": {
    "collapsed": true
   },
   "outputs": [],
   "source": [
    "macs_folders = ['2016_11_28_MACS_out', '2016_11_15_MACS_out']\n",
    "references = ['tss_mm10.bed', 'genebodies_mm10.bed']\n",
    "macs_dict = {'2016_11_28_MACS_out': 'macs_pval_1e-10', '2016_11_15_MACS_out': 'macs_pval_1e-5'}"
   ]
  },
  {
   "cell_type": "code",
   "execution_count": 8,
   "metadata": {
    "collapsed": false
   },
   "outputs": [],
   "source": [
    "metadata_file = os.path.join(input_base_dir, 'metadata_ChIP.txt')\n",
    "metadata = pd.read_csv(metadata_file, sep = '\\t')"
   ]
  },
  {
   "cell_type": "code",
   "execution_count": 9,
   "metadata": {
    "collapsed": false
   },
   "outputs": [],
   "source": [
    "dists=[5000, 10000]"
   ]
  },
  {
   "cell_type": "code",
   "execution_count": 9,
   "metadata": {
    "collapsed": true
   },
   "outputs": [],
   "source": [
    "computed_priors = {}"
   ]
  },
  {
   "cell_type": "code",
   "execution_count": 54,
   "metadata": {
    "collapsed": false
   },
   "outputs": [
    {
     "name": "stdout",
     "output_type": "stream",
     "text": [
      "tss_mm10_macs_pval_1e-10_5000_Batf: SL3033_SL3036\n",
      "tss_mm10_macs_pval_1e-10_10000_Batf: SL3033_SL3036\n",
      "tss_mm10_macs_pval_1e-5_5000_Batf: SL3033_SL3036\n",
      "tss_mm10_macs_pval_1e-5_10000_Batf: SL3033_SL3036\n",
      "genebodies_mm10_macs_pval_1e-10_5000_Batf: SL3033_SL3036\n",
      "genebodies_mm10_macs_pval_1e-10_10000_Batf: SL3033_SL3036\n",
      "genebodies_mm10_macs_pval_1e-5_5000_Batf: SL3033_SL3036\n",
      "genebodies_mm10_macs_pval_1e-5_10000_Batf: SL3033_SL3036\n",
      "tss_mm10_macs_pval_1e-10_5000_Batf: SL3037_SL3036\n",
      "tss_mm10_macs_pval_1e-10_10000_Batf: SL3037_SL3036\n",
      "tss_mm10_macs_pval_1e-5_5000_Batf: SL3037_SL3036\n",
      "tss_mm10_macs_pval_1e-5_10000_Batf: SL3037_SL3036\n",
      "genebodies_mm10_macs_pval_1e-10_5000_Batf: SL3037_SL3036\n",
      "genebodies_mm10_macs_pval_1e-10_10000_Batf: SL3037_SL3036\n",
      "genebodies_mm10_macs_pval_1e-5_5000_Batf: SL3037_SL3036\n",
      "genebodies_mm10_macs_pval_1e-5_10000_Batf: SL3037_SL3036\n",
      "tss_mm10_macs_pval_1e-10_5000_Batf: SL10570_SL10564\n",
      "tss_mm10_macs_pval_1e-10_10000_Batf: SL10570_SL10564\n",
      "tss_mm10_macs_pval_1e-5_5000_Batf: SL10570_SL10564\n",
      "tss_mm10_macs_pval_1e-5_10000_Batf: SL10570_SL10564\n",
      "genebodies_mm10_macs_pval_1e-10_5000_Batf: SL10570_SL10564\n",
      "genebodies_mm10_macs_pval_1e-10_10000_Batf: SL10570_SL10564\n",
      "genebodies_mm10_macs_pval_1e-5_5000_Batf: SL10570_SL10564\n",
      "genebodies_mm10_macs_pval_1e-5_10000_Batf: SL10570_SL10564\n",
      "tss_mm10_macs_pval_1e-10_5000_Maf: SL3031_SL2871\n",
      "tss_mm10_macs_pval_1e-10_10000_Maf: SL3031_SL2871\n",
      "tss_mm10_macs_pval_1e-5_5000_Maf: SL3031_SL2871\n",
      "tss_mm10_macs_pval_1e-5_10000_Maf: SL3031_SL2871\n",
      "genebodies_mm10_macs_pval_1e-10_5000_Maf: SL3031_SL2871\n",
      "genebodies_mm10_macs_pval_1e-10_10000_Maf: SL3031_SL2871\n",
      "genebodies_mm10_macs_pval_1e-5_5000_Maf: SL3031_SL2871\n",
      "genebodies_mm10_macs_pval_1e-5_10000_Maf: SL3031_SL2871\n",
      "tss_mm10_macs_pval_1e-10_5000_Maf: SL3032_SL2871\n",
      "tss_mm10_macs_pval_1e-10_10000_Maf: SL3032_SL2871\n",
      "tss_mm10_macs_pval_1e-5_5000_Maf: SL3032_SL2871\n",
      "tss_mm10_macs_pval_1e-5_10000_Maf: SL3032_SL2871\n",
      "genebodies_mm10_macs_pval_1e-10_5000_Maf: SL3032_SL2871\n",
      "genebodies_mm10_macs_pval_1e-10_10000_Maf: SL3032_SL2871\n",
      "genebodies_mm10_macs_pval_1e-5_5000_Maf: SL3032_SL2871\n",
      "genebodies_mm10_macs_pval_1e-5_10000_Maf: SL3032_SL2871\n",
      "tss_mm10_macs_pval_1e-10_5000_Ctcf: SL3034_SL3035\n",
      "tss_mm10_macs_pval_1e-10_10000_Ctcf: SL3034_SL3035\n",
      "tss_mm10_macs_pval_1e-5_5000_Ctcf: SL3034_SL3035\n",
      "tss_mm10_macs_pval_1e-5_10000_Ctcf: SL3034_SL3035\n",
      "genebodies_mm10_macs_pval_1e-10_5000_Ctcf: SL3034_SL3035\n",
      "genebodies_mm10_macs_pval_1e-10_10000_Ctcf: SL3034_SL3035\n",
      "genebodies_mm10_macs_pval_1e-5_5000_Ctcf: SL3034_SL3035\n",
      "genebodies_mm10_macs_pval_1e-5_10000_Ctcf: SL3034_SL3035\n",
      "tss_mm10_macs_pval_1e-10_5000_Ctcf: SL3783_SL3782\n",
      "tss_mm10_macs_pval_1e-10_10000_Ctcf: SL3783_SL3782\n",
      "tss_mm10_macs_pval_1e-5_5000_Ctcf: SL3783_SL3782\n",
      "tss_mm10_macs_pval_1e-5_10000_Ctcf: SL3783_SL3782\n",
      "genebodies_mm10_macs_pval_1e-10_5000_Ctcf: SL3783_SL3782\n",
      "genebodies_mm10_macs_pval_1e-10_10000_Ctcf: SL3783_SL3782\n",
      "genebodies_mm10_macs_pval_1e-5_5000_Ctcf: SL3783_SL3782\n",
      "genebodies_mm10_macs_pval_1e-5_10000_Ctcf: SL3783_SL3782\n",
      "tss_mm10_macs_pval_1e-10_5000_Etv6: SL13368_SL13364\n",
      "tss_mm10_macs_pval_1e-10_10000_Etv6: SL13368_SL13364\n",
      "tss_mm10_macs_pval_1e-5_5000_Etv6: SL13368_SL13364\n",
      "tss_mm10_macs_pval_1e-5_10000_Etv6: SL13368_SL13364\n",
      "genebodies_mm10_macs_pval_1e-10_5000_Etv6: SL13368_SL13364\n",
      "genebodies_mm10_macs_pval_1e-10_10000_Etv6: SL13368_SL13364\n",
      "genebodies_mm10_macs_pval_1e-5_5000_Etv6: SL13368_SL13364\n",
      "genebodies_mm10_macs_pval_1e-5_10000_Etv6: SL13368_SL13364\n",
      "tss_mm10_macs_pval_1e-10_5000_Etv6: SL10573_SL10567\n",
      "tss_mm10_macs_pval_1e-10_10000_Etv6: SL10573_SL10567\n",
      "tss_mm10_macs_pval_1e-5_5000_Etv6: SL10573_SL10567\n",
      "tss_mm10_macs_pval_1e-5_10000_Etv6: SL10573_SL10567\n",
      "genebodies_mm10_macs_pval_1e-10_5000_Etv6: SL10573_SL10567\n",
      "genebodies_mm10_macs_pval_1e-10_10000_Etv6: SL10573_SL10567\n",
      "genebodies_mm10_macs_pval_1e-5_5000_Etv6: SL10573_SL10567\n",
      "genebodies_mm10_macs_pval_1e-5_10000_Etv6: SL10573_SL10567\n",
      "tss_mm10_macs_pval_1e-10_5000_Fosl2: SL6498_SL6497\n",
      "tss_mm10_macs_pval_1e-10_10000_Fosl2: SL6498_SL6497\n",
      "tss_mm10_macs_pval_1e-5_5000_Fosl2: SL6498_SL6497\n",
      "tss_mm10_macs_pval_1e-5_10000_Fosl2: SL6498_SL6497\n",
      "genebodies_mm10_macs_pval_1e-10_5000_Fosl2: SL6498_SL6497\n",
      "genebodies_mm10_macs_pval_1e-10_10000_Fosl2: SL6498_SL6497\n",
      "genebodies_mm10_macs_pval_1e-5_5000_Fosl2: SL6498_SL6497\n",
      "genebodies_mm10_macs_pval_1e-5_10000_Fosl2: SL6498_SL6497\n",
      "tss_mm10_macs_pval_1e-10_5000_Fosl2: SL6625_SL6627\n",
      "tss_mm10_macs_pval_1e-10_10000_Fosl2: SL6625_SL6627\n",
      "tss_mm10_macs_pval_1e-5_5000_Fosl2: SL6625_SL6627\n",
      "tss_mm10_macs_pval_1e-5_10000_Fosl2: SL6625_SL6627\n",
      "genebodies_mm10_macs_pval_1e-10_5000_Fosl2: SL6625_SL6627\n",
      "genebodies_mm10_macs_pval_1e-10_10000_Fosl2: SL6625_SL6627\n",
      "genebodies_mm10_macs_pval_1e-5_5000_Fosl2: SL6625_SL6627\n",
      "genebodies_mm10_macs_pval_1e-5_10000_Fosl2: SL6625_SL6627\n",
      "tss_mm10_macs_pval_1e-10_5000_Nrf2: SL11909_SL11906\n",
      "tss_mm10_macs_pval_1e-10_10000_Nrf2: SL11909_SL11906\n",
      "tss_mm10_macs_pval_1e-5_5000_Nrf2: SL11909_SL11906\n",
      "tss_mm10_macs_pval_1e-5_10000_Nrf2: SL11909_SL11906\n",
      "genebodies_mm10_macs_pval_1e-10_5000_Nrf2: SL11909_SL11906\n",
      "genebodies_mm10_macs_pval_1e-10_10000_Nrf2: SL11909_SL11906\n",
      "genebodies_mm10_macs_pval_1e-5_5000_Nrf2: SL11909_SL11906\n",
      "genebodies_mm10_macs_pval_1e-5_10000_Nrf2: SL11909_SL11906\n",
      "tss_mm10_macs_pval_1e-10_5000_Nrf2: SL11908_SL11905\n",
      "tss_mm10_macs_pval_1e-10_10000_Nrf2: SL11908_SL11905\n",
      "tss_mm10_macs_pval_1e-5_5000_Nrf2: SL11908_SL11905\n",
      "tss_mm10_macs_pval_1e-5_10000_Nrf2: SL11908_SL11905\n",
      "genebodies_mm10_macs_pval_1e-10_5000_Nrf2: SL11908_SL11905\n",
      "genebodies_mm10_macs_pval_1e-10_10000_Nrf2: SL11908_SL11905\n",
      "genebodies_mm10_macs_pval_1e-5_5000_Nrf2: SL11908_SL11905\n",
      "genebodies_mm10_macs_pval_1e-5_10000_Nrf2: SL11908_SL11905\n",
      "tss_mm10_macs_pval_1e-10_5000_Nrf2: SL11910_SL11907\n",
      "tss_mm10_macs_pval_1e-10_10000_Nrf2: SL11910_SL11907\n",
      "tss_mm10_macs_pval_1e-5_5000_Nrf2: SL11910_SL11907\n",
      "tss_mm10_macs_pval_1e-5_10000_Nrf2: SL11910_SL11907\n",
      "genebodies_mm10_macs_pval_1e-10_5000_Nrf2: SL11910_SL11907\n",
      "genebodies_mm10_macs_pval_1e-10_10000_Nrf2: SL11910_SL11907\n",
      "genebodies_mm10_macs_pval_1e-5_5000_Nrf2: SL11910_SL11907\n",
      "genebodies_mm10_macs_pval_1e-5_10000_Nrf2: SL11910_SL11907\n",
      "tss_mm10_macs_pval_1e-10_5000_RORg: SL3779_SL3778\n",
      "tss_mm10_macs_pval_1e-10_10000_RORg: SL3779_SL3778\n",
      "tss_mm10_macs_pval_1e-5_5000_RORg: SL3779_SL3778\n",
      "tss_mm10_macs_pval_1e-5_10000_RORg: SL3779_SL3778\n",
      "genebodies_mm10_macs_pval_1e-10_5000_RORg: SL3779_SL3778\n",
      "genebodies_mm10_macs_pval_1e-10_10000_RORg: SL3779_SL3778\n",
      "genebodies_mm10_macs_pval_1e-5_5000_RORg: SL3779_SL3778\n",
      "genebodies_mm10_macs_pval_1e-5_10000_RORg: SL3779_SL3778\n",
      "tss_mm10_macs_pval_1e-10_5000_RORg: SL1944_SL1943\n",
      "tss_mm10_macs_pval_1e-10_10000_RORg: SL1944_SL1943\n",
      "tss_mm10_macs_pval_1e-5_5000_RORg: SL1944_SL1943\n",
      "tss_mm10_macs_pval_1e-5_10000_RORg: SL1944_SL1943\n",
      "genebodies_mm10_macs_pval_1e-10_5000_RORg: SL1944_SL1943\n",
      "genebodies_mm10_macs_pval_1e-10_10000_RORg: SL1944_SL1943\n",
      "genebodies_mm10_macs_pval_1e-5_5000_RORg: SL1944_SL1943\n",
      "genebodies_mm10_macs_pval_1e-5_10000_RORg: SL1944_SL1943\n",
      "tss_mm10_macs_pval_1e-10_5000_RORg: SL2870_SL2871\n",
      "tss_mm10_macs_pval_1e-10_10000_RORg: SL2870_SL2871\n",
      "tss_mm10_macs_pval_1e-5_5000_RORg: SL2870_SL2871\n",
      "tss_mm10_macs_pval_1e-5_10000_RORg: SL2870_SL2871\n",
      "genebodies_mm10_macs_pval_1e-10_5000_RORg: SL2870_SL2871\n",
      "genebodies_mm10_macs_pval_1e-10_10000_RORg: SL2870_SL2871\n",
      "genebodies_mm10_macs_pval_1e-5_5000_RORg: SL2870_SL2871\n",
      "genebodies_mm10_macs_pval_1e-5_10000_RORg: SL2870_SL2871\n",
      "tss_mm10_macs_pval_1e-10_5000_Stat3: SL1040_SL972\n",
      "tss_mm10_macs_pval_1e-10_10000_Stat3: SL1040_SL972\n",
      "tss_mm10_macs_pval_1e-5_5000_Stat3: SL1040_SL972\n",
      "tss_mm10_macs_pval_1e-5_10000_Stat3: SL1040_SL972\n",
      "genebodies_mm10_macs_pval_1e-10_5000_Stat3: SL1040_SL972\n",
      "genebodies_mm10_macs_pval_1e-10_10000_Stat3: SL1040_SL972\n",
      "genebodies_mm10_macs_pval_1e-5_5000_Stat3: SL1040_SL972\n",
      "genebodies_mm10_macs_pval_1e-5_10000_Stat3: SL1040_SL972\n",
      "tss_mm10_macs_pval_1e-10_5000_Stat3: SL9624_SL9623\n",
      "tss_mm10_macs_pval_1e-10_10000_Stat3: SL9624_SL9623\n",
      "tss_mm10_macs_pval_1e-5_5000_Stat3: SL9624_SL9623\n",
      "tss_mm10_macs_pval_1e-5_10000_Stat3: SL9624_SL9623\n",
      "genebodies_mm10_macs_pval_1e-10_5000_Stat3: SL9624_SL9623\n",
      "genebodies_mm10_macs_pval_1e-10_10000_Stat3: SL9624_SL9623\n",
      "genebodies_mm10_macs_pval_1e-5_5000_Stat3: SL9624_SL9623\n",
      "genebodies_mm10_macs_pval_1e-5_10000_Stat3: SL9624_SL9623\n",
      "tss_mm10_macs_pval_1e-10_5000_Stat3: SL9626_SL9625\n",
      "tss_mm10_macs_pval_1e-10_10000_Stat3: SL9626_SL9625\n",
      "tss_mm10_macs_pval_1e-5_5000_Stat3: SL9626_SL9625\n",
      "tss_mm10_macs_pval_1e-5_10000_Stat3: SL9626_SL9625\n",
      "genebodies_mm10_macs_pval_1e-10_5000_Stat3: SL9626_SL9625\n",
      "genebodies_mm10_macs_pval_1e-10_10000_Stat3: SL9626_SL9625\n",
      "genebodies_mm10_macs_pval_1e-5_5000_Stat3: SL9626_SL9625\n",
      "genebodies_mm10_macs_pval_1e-5_10000_Stat3: SL9626_SL9625\n",
      "tss_mm10_macs_pval_1e-10_5000_Stat3: SL973_SL972\n",
      "tss_mm10_macs_pval_1e-10_10000_Stat3: SL973_SL972\n",
      "tss_mm10_macs_pval_1e-5_5000_Stat3: SL973_SL972\n",
      "tss_mm10_macs_pval_1e-5_10000_Stat3: SL973_SL972\n",
      "genebodies_mm10_macs_pval_1e-10_5000_Stat3: SL973_SL972\n",
      "genebodies_mm10_macs_pval_1e-10_10000_Stat3: SL973_SL972\n",
      "genebodies_mm10_macs_pval_1e-5_5000_Stat3: SL973_SL972\n",
      "genebodies_mm10_macs_pval_1e-5_10000_Stat3: SL973_SL972\n",
      "tss_mm10_macs_pval_1e-10_5000_Irf4: SL971_SL970\n",
      "tss_mm10_macs_pval_1e-10_10000_Irf4: SL971_SL970\n",
      "tss_mm10_macs_pval_1e-5_5000_Irf4: SL971_SL970\n",
      "tss_mm10_macs_pval_1e-5_10000_Irf4: SL971_SL970\n",
      "genebodies_mm10_macs_pval_1e-10_5000_Irf4: SL971_SL970\n",
      "genebodies_mm10_macs_pval_1e-10_10000_Irf4: SL971_SL970\n",
      "genebodies_mm10_macs_pval_1e-5_5000_Irf4: SL971_SL970\n",
      "genebodies_mm10_macs_pval_1e-5_10000_Irf4: SL971_SL970\n",
      "tss_mm10_macs_pval_1e-10_5000_Irf4: SL9854_SL9858\n",
      "tss_mm10_macs_pval_1e-10_10000_Irf4: SL9854_SL9858\n",
      "tss_mm10_macs_pval_1e-5_5000_Irf4: SL9854_SL9858\n",
      "tss_mm10_macs_pval_1e-5_10000_Irf4: SL9854_SL9858\n",
      "genebodies_mm10_macs_pval_1e-10_5000_Irf4: SL9854_SL9858\n",
      "genebodies_mm10_macs_pval_1e-10_10000_Irf4: SL9854_SL9858\n",
      "genebodies_mm10_macs_pval_1e-5_5000_Irf4: SL9854_SL9858\n",
      "genebodies_mm10_macs_pval_1e-5_10000_Irf4: SL9854_SL9858\n",
      "tss_mm10_macs_pval_1e-10_5000_Irf4: SL9855_SL9859\n",
      "tss_mm10_macs_pval_1e-10_10000_Irf4: SL9855_SL9859\n",
      "tss_mm10_macs_pval_1e-5_5000_Irf4: SL9855_SL9859\n",
      "tss_mm10_macs_pval_1e-5_10000_Irf4: SL9855_SL9859\n",
      "genebodies_mm10_macs_pval_1e-10_5000_Irf4: SL9855_SL9859\n",
      "genebodies_mm10_macs_pval_1e-10_10000_Irf4: SL9855_SL9859\n",
      "genebodies_mm10_macs_pval_1e-5_5000_Irf4: SL9855_SL9859\n",
      "genebodies_mm10_macs_pval_1e-5_10000_Irf4: SL9855_SL9859\n",
      "tss_mm10_macs_pval_1e-10_5000_Hif1a: SL10572_SL10566\n",
      "tss_mm10_macs_pval_1e-10_10000_Hif1a: SL10572_SL10566\n",
      "tss_mm10_macs_pval_1e-5_5000_Hif1a: SL10572_SL10566\n",
      "tss_mm10_macs_pval_1e-5_10000_Hif1a: SL10572_SL10566\n",
      "genebodies_mm10_macs_pval_1e-10_5000_Hif1a: SL10572_SL10566\n",
      "genebodies_mm10_macs_pval_1e-10_10000_Hif1a: SL10572_SL10566\n",
      "genebodies_mm10_macs_pval_1e-5_5000_Hif1a: SL10572_SL10566\n",
      "genebodies_mm10_macs_pval_1e-5_10000_Hif1a: SL10572_SL10566\n",
      "tss_mm10_macs_pval_1e-10_5000_Hif1a: SL10575_SL10569\n",
      "tss_mm10_macs_pval_1e-10_10000_Hif1a: SL10575_SL10569\n",
      "tss_mm10_macs_pval_1e-5_5000_Hif1a: SL10575_SL10569\n",
      "tss_mm10_macs_pval_1e-5_10000_Hif1a: SL10575_SL10569\n",
      "genebodies_mm10_macs_pval_1e-10_5000_Hif1a: SL10575_SL10569\n",
      "genebodies_mm10_macs_pval_1e-10_10000_Hif1a: SL10575_SL10569\n",
      "genebodies_mm10_macs_pval_1e-5_5000_Hif1a: SL10575_SL10569\n",
      "genebodies_mm10_macs_pval_1e-5_10000_Hif1a: SL10575_SL10569\n"
     ]
    }
   ],
   "source": [
    "# compute priors\n",
    "for row in metadata.iterrows():\n",
    "    row_content = row[1]\n",
    "    sample = ('_').join([row_content['sampleName'], row_content['compare2']])\n",
    "    gene = row_content['gene']\n",
    "    for ref in references:\n",
    "        ref_bed = os.path.join(input_base_dir, ref)\n",
    "        # get human readable name\n",
    "        ref_name = ref.split('.')[0]\n",
    "        ref_df = pd.read_csv(ref_bed, sep = '\\t', header=None)\n",
    "        for mac in macs_folders:\n",
    "            mac_name = macs_dict[mac]\n",
    "            for dist in dists:\n",
    "                motif_bed = os.path.join(os.path.join(os.path.join(input_base_dir, mac), sample), '_'.join([sample, 'peaks.bed']))\n",
    "                p = priors.Prior(motif_bed, ref_bed, regulators = [gene], targets = list(ref_df[3]), max_distance=dist, single_tf=True, mode='window')\n",
    "                key = '_'.join([ref_name, mac_name, str(dist), gene])\n",
    "                print key + ': ' + sample\n",
    "                if key not in computed_priors.keys():\n",
    "                    computed_priors[key] = {}\n",
    "                if sample not in computed_priors[key].keys():\n",
    "                    computed_priors[key][sample] = p.make_prior()"
   ]
  },
  {
   "cell_type": "code",
   "execution_count": 55,
   "metadata": {
    "collapsed": false
   },
   "outputs": [],
   "source": [
    "# combine priors into dataframe, sum and save\n",
    "dataframes = {}\n",
    "for k in computed_priors:\n",
    "    gene = k.split('_')[-1]\n",
    "    result = pd.DataFrame([computed_priors[k][sample][gene].rename(sample) for sample in computed_priors[k]]).transpose()\n",
    "    result['combined_' + gene] = result.sum(axis=1)\n",
    "    output_filename = '.'.join([k, 'csv'])\n",
    "    result.to_csv(os.path.join(output_base_dir, output_filename))\n",
    "    dataframes[k] = result"
   ]
  },
  {
   "cell_type": "code",
   "execution_count": 40,
   "metadata": {
    "collapsed": false
   },
   "outputs": [],
   "source": [
    "dataframes = {}\n",
    "for f in os.listdir(output_base_dir):\n",
    "    if 'Nick' not in f:\n",
    "        dataframes[f.rstrip('.csv')] = pd.read_csv(os.path.join(output_base_dir, f), index_col = 0)\n"
   ]
  },
  {
   "cell_type": "code",
   "execution_count": 50,
   "metadata": {
    "collapsed": false
   },
   "outputs": [],
   "source": [
    "kgXref = pd.read_csv(os.path.join(base_dir, 'kgXref.txt'), sep='\\t', header=None, index_col=0)"
   ]
  },
  {
   "cell_type": "code",
   "execution_count": 43,
   "metadata": {
    "collapsed": false
   },
   "outputs": [
    {
     "name": "stdout",
     "output_type": "stream",
     "text": [
      "tss_mm10_macs_pval_1e-10_5000\n",
      "tss_mm10_macs_pval_1e-10_10000\n",
      "tss_mm10_macs_pval_1e-5_5000\n",
      "tss_mm10_macs_pval_1e-5_10000\n",
      "genebodies_mm10_macs_pval_1e-10_5000\n",
      "genebodies_mm10_macs_pval_1e-10_10000\n",
      "genebodies_mm10_macs_pval_1e-5_5000\n",
      "genebodies_mm10_macs_pval_1e-5_10000\n"
     ]
    }
   ],
   "source": [
    "collapsed_on_genes_tfs = {}\n",
    "for ref in references:\n",
    "    ref_name = ref.split('.')[0]\n",
    "    for mac in macs_folders:\n",
    "        mac_name = macs_dict[mac]\n",
    "        for dist in dists:\n",
    "            new_key = '_'.join([ref_name, mac_name, str(dist)])\n",
    "            print new_key\n",
    "            columns = []\n",
    "            for gene in set(metadata['gene']):\n",
    "                key = '_'.join([ref_name, mac_name, str(dist), gene])\n",
    "                columns.append(dataframes[key]['combined_' + gene].rename(gene))\n",
    "            collapsed_on_genes_tfs[new_key] = pd.DataFrame(columns)\n"
   ]
  },
  {
   "cell_type": "code",
   "execution_count": 68,
   "metadata": {
    "collapsed": false
   },
   "outputs": [
    {
     "data": {
      "text/html": [
       "<div>\n",
       "<table border=\"1\" class=\"dataframe\">\n",
       "  <thead>\n",
       "    <tr style=\"text-align: right;\">\n",
       "      <th></th>\n",
       "      <th>AK135172</th>\n",
       "      <th>Xkr4</th>\n",
       "      <th>AK149000</th>\n",
       "      <th>Rp1</th>\n",
       "      <th>Rp1</th>\n",
       "      <th>Sox17</th>\n",
       "      <th>Sox17</th>\n",
       "      <th>Sox17</th>\n",
       "      <th>Sox17</th>\n",
       "      <th>Sox17</th>\n",
       "      <th>...</th>\n",
       "      <th>Gm16367</th>\n",
       "      <th>Gm16513</th>\n",
       "      <th>Vmn1r62</th>\n",
       "      <th>Vmn1r187</th>\n",
       "      <th>Vmn1r63</th>\n",
       "      <th>Vamp7</th>\n",
       "      <th>Vamp7</th>\n",
       "      <th>Spry3</th>\n",
       "      <th>Tmlhe</th>\n",
       "      <th>Zf12</th>\n",
       "    </tr>\n",
       "  </thead>\n",
       "  <tbody>\n",
       "    <tr>\n",
       "      <th>Batf</th>\n",
       "      <td>0</td>\n",
       "      <td>1</td>\n",
       "      <td>0</td>\n",
       "      <td>0</td>\n",
       "      <td>0</td>\n",
       "      <td>0</td>\n",
       "      <td>0</td>\n",
       "      <td>0</td>\n",
       "      <td>0</td>\n",
       "      <td>0</td>\n",
       "      <td>...</td>\n",
       "      <td>0</td>\n",
       "      <td>0</td>\n",
       "      <td>0</td>\n",
       "      <td>0</td>\n",
       "      <td>0</td>\n",
       "      <td>0</td>\n",
       "      <td>0</td>\n",
       "      <td>0</td>\n",
       "      <td>0</td>\n",
       "      <td>0</td>\n",
       "    </tr>\n",
       "    <tr>\n",
       "      <th>Stat3</th>\n",
       "      <td>0</td>\n",
       "      <td>0</td>\n",
       "      <td>0</td>\n",
       "      <td>0</td>\n",
       "      <td>0</td>\n",
       "      <td>0</td>\n",
       "      <td>0</td>\n",
       "      <td>0</td>\n",
       "      <td>0</td>\n",
       "      <td>0</td>\n",
       "      <td>...</td>\n",
       "      <td>0</td>\n",
       "      <td>0</td>\n",
       "      <td>0</td>\n",
       "      <td>0</td>\n",
       "      <td>0</td>\n",
       "      <td>0</td>\n",
       "      <td>0</td>\n",
       "      <td>0</td>\n",
       "      <td>0</td>\n",
       "      <td>0</td>\n",
       "    </tr>\n",
       "    <tr>\n",
       "      <th>Etv6</th>\n",
       "      <td>0</td>\n",
       "      <td>0</td>\n",
       "      <td>0</td>\n",
       "      <td>0</td>\n",
       "      <td>0</td>\n",
       "      <td>0</td>\n",
       "      <td>0</td>\n",
       "      <td>0</td>\n",
       "      <td>0</td>\n",
       "      <td>0</td>\n",
       "      <td>...</td>\n",
       "      <td>0</td>\n",
       "      <td>0</td>\n",
       "      <td>0</td>\n",
       "      <td>0</td>\n",
       "      <td>0</td>\n",
       "      <td>0</td>\n",
       "      <td>0</td>\n",
       "      <td>0</td>\n",
       "      <td>0</td>\n",
       "      <td>0</td>\n",
       "    </tr>\n",
       "    <tr>\n",
       "      <th>RORg</th>\n",
       "      <td>0</td>\n",
       "      <td>0</td>\n",
       "      <td>0</td>\n",
       "      <td>1</td>\n",
       "      <td>0</td>\n",
       "      <td>0</td>\n",
       "      <td>0</td>\n",
       "      <td>0</td>\n",
       "      <td>0</td>\n",
       "      <td>0</td>\n",
       "      <td>...</td>\n",
       "      <td>0</td>\n",
       "      <td>0</td>\n",
       "      <td>0</td>\n",
       "      <td>0</td>\n",
       "      <td>0</td>\n",
       "      <td>0</td>\n",
       "      <td>0</td>\n",
       "      <td>0</td>\n",
       "      <td>0</td>\n",
       "      <td>0</td>\n",
       "    </tr>\n",
       "    <tr>\n",
       "      <th>Irf4</th>\n",
       "      <td>0</td>\n",
       "      <td>0</td>\n",
       "      <td>0</td>\n",
       "      <td>0</td>\n",
       "      <td>0</td>\n",
       "      <td>0</td>\n",
       "      <td>0</td>\n",
       "      <td>0</td>\n",
       "      <td>0</td>\n",
       "      <td>0</td>\n",
       "      <td>...</td>\n",
       "      <td>0</td>\n",
       "      <td>0</td>\n",
       "      <td>0</td>\n",
       "      <td>0</td>\n",
       "      <td>0</td>\n",
       "      <td>0</td>\n",
       "      <td>0</td>\n",
       "      <td>0</td>\n",
       "      <td>0</td>\n",
       "      <td>0</td>\n",
       "    </tr>\n",
       "  </tbody>\n",
       "</table>\n",
       "<p>5 rows × 63759 columns</p>\n",
       "</div>"
      ],
      "text/plain": [
       "       AK135172  Xkr4  AK149000  Rp1  Rp1  Sox17  Sox17  Sox17  Sox17  Sox17  \\\n",
       "Batf          0     1         0    0    0      0      0      0      0      0   \n",
       "Stat3         0     0         0    0    0      0      0      0      0      0   \n",
       "Etv6          0     0         0    0    0      0      0      0      0      0   \n",
       "RORg          0     0         0    1    0      0      0      0      0      0   \n",
       "Irf4          0     0         0    0    0      0      0      0      0      0   \n",
       "\n",
       "       ...   Gm16367  Gm16513  Vmn1r62  Vmn1r187  Vmn1r63  Vamp7  Vamp7  \\\n",
       "Batf   ...         0        0        0         0        0      0      0   \n",
       "Stat3  ...         0        0        0         0        0      0      0   \n",
       "Etv6   ...         0        0        0         0        0      0      0   \n",
       "RORg   ...         0        0        0         0        0      0      0   \n",
       "Irf4   ...         0        0        0         0        0      0      0   \n",
       "\n",
       "       Spry3  Tmlhe  Zf12  \n",
       "Batf       0      0     0  \n",
       "Stat3      0      0     0  \n",
       "Etv6       0      0     0  \n",
       "RORg       0      0     0  \n",
       "Irf4       0      0     0  \n",
       "\n",
       "[5 rows x 63759 columns]"
      ]
     },
     "execution_count": 68,
     "metadata": {},
     "output_type": "execute_result"
    }
   ],
   "source": [
    "renamed_dfs['genebodies_mm10_macs_pval_1e-10_5000'].head()"
   ]
  },
  {
   "cell_type": "code",
   "execution_count": 69,
   "metadata": {
    "collapsed": false
   },
   "outputs": [],
   "source": [
    "# Visualization\n",
    "df = renamed_dfs['genebodies_mm10_macs_pval_1e-10_5000'].transpose()"
   ]
  },
  {
   "cell_type": "code",
   "execution_count": 70,
   "metadata": {
    "collapsed": false
   },
   "outputs": [],
   "source": [
    "def plot(df, title):\n",
    "    plt.figure(figsize=(10,50))\n",
    "    sns.heatmap(df.head(2000), annot=False, fmt=\"h\", yticklabels=False)\n",
    "    plt.title(title)"
   ]
  },
  {
   "cell_type": "code",
   "execution_count": 71,
   "metadata": {
    "collapsed": false
   },
   "outputs": [
    {
     "data": {
      "image/png": "[encoded data removed]",
      "text/plain": [
       "<matplotlib.figure.Figure at 0x16e4f4cd0>"
      ]
     },
     "metadata": {},
     "output_type": "display_data"
    }
   ],
   "source": [
    "plot(df, 'genebodies_mm10_macs_pval_1e-10_5000')"
   ]
  },
  {
   "cell_type": "code",
   "execution_count": 67,
   "metadata": {
    "collapsed": false
   },
   "outputs": [],
   "source": [
    "# Add kgXref names\n",
    "renamed_dfs = {}\n",
    "for key in collapsed_on_genes_tfs:\n",
    "    df = collapsed_on_genes_tfs[key]\n",
    "    for column in df.columns:\n",
    "        column = column.split('_')[0]\n",
    "        gene_name = str(kgXref.loc[column,4])\n",
    "        new_cols[column] = gene_name\n",
    "    renamed_dfs[key] = df.rename(index=str, columns=new_cols)"
   ]
  },
  {
   "cell_type": "markdown",
   "metadata": {},
   "source": [
    "Below is some draft space from commands I ran when working on this:"
   ]
  },
  {
   "cell_type": "code",
   "execution_count": 101,
   "metadata": {
    "collapsed": false
   },
   "outputs": [
    {
     "data": {
      "text/plain": [
       "7"
      ]
     },
     "execution_count": 101,
     "metadata": {},
     "output_type": "execute_result"
    }
   ],
   "source": [
    "# Sanity check: see if prior is what's expected, 7. \n",
    "max(priors['2016_11_15_MACS_out_SL1040_SL972']['Stat3'])"
   ]
  },
  {
   "cell_type": "code",
   "execution_count": 72,
   "metadata": {
    "collapsed": true
   },
   "outputs": [],
   "source": [
    "# save\n",
    "for k in renamed_dfs:\n",
    "    result = renamed_dfs[k]\n",
    "    output_filename = '.'.join([k, 'csv'])\n",
    "    result.to_csv(os.path.join(output_base_dir, output_filename))"
   ]
  },
  {
   "cell_type": "code",
   "execution_count": 84,
   "metadata": {
    "collapsed": false
   },
   "outputs": [
    {
     "data": {
      "text/html": [
       "<div>\n",
       "<table border=\"1\" class=\"dataframe\">\n",
       "  <thead>\n",
       "    <tr style=\"text-align: right;\">\n",
       "      <th></th>\n",
       "      <th>0</th>\n",
       "      <th>1</th>\n",
       "      <th>2</th>\n",
       "      <th>3</th>\n",
       "      <th>4</th>\n",
       "      <th>5</th>\n",
       "    </tr>\n",
       "  </thead>\n",
       "  <tbody>\n",
       "    <tr>\n",
       "      <th>18</th>\n",
       "      <td>chr1</td>\n",
       "      <td>4858326</td>\n",
       "      <td>4858327</td>\n",
       "      <td>uc011whu.1_up_1_chr1_4858327_f</td>\n",
       "      <td>0</td>\n",
       "      <td>+</td>\n",
       "    </tr>\n",
       "  </tbody>\n",
       "</table>\n",
       "</div>"
      ],
      "text/plain": [
       "       0        1        2                               3  4  5\n",
       "18  chr1  4858326  4858327  uc011whu.1_up_1_chr1_4858327_f  0  +"
      ]
     },
     "execution_count": 84,
     "metadata": {},
     "output_type": "execute_result"
    }
   ],
   "source": [
    "gene_df[gene_df[3] == 'uc011whu.1_up_1_chr1_4858327_f']"
   ]
  },
  {
   "cell_type": "code",
   "execution_count": 110,
   "metadata": {
    "collapsed": false
   },
   "outputs": [
    {
     "data": {
      "text/html": [
       "<div>\n",
       "<table border=\"1\" class=\"dataframe\">\n",
       "  <thead>\n",
       "    <tr style=\"text-align: right;\">\n",
       "      <th></th>\n",
       "      <th>TF</th>\n",
       "    </tr>\n",
       "  </thead>\n",
       "  <tbody>\n",
       "    <tr>\n",
       "      <th>uc057alc.1_up_1_chr8_35620774_f</th>\n",
       "      <td>7</td>\n",
       "    </tr>\n",
       "    <tr>\n",
       "      <th>uc009mmr.2_up_1_chr8_84662853_r</th>\n",
       "      <td>7</td>\n",
       "    </tr>\n",
       "    <tr>\n",
       "      <th>uc009nyw.2_up_1_chr8_126593437_r</th>\n",
       "      <td>7</td>\n",
       "    </tr>\n",
       "    <tr>\n",
       "      <th>uc011ybs.1_up_1_chr11_86584159_r</th>\n",
       "      <td>7</td>\n",
       "    </tr>\n",
       "  </tbody>\n",
       "</table>\n",
       "</div>"
      ],
      "text/plain": [
       "                                  TF\n",
       "uc057alc.1_up_1_chr8_35620774_f    7\n",
       "uc009mmr.2_up_1_chr8_84662853_r    7\n",
       "uc009nyw.2_up_1_chr8_126593437_r   7\n",
       "uc011ybs.1_up_1_chr11_86584159_r   7"
      ]
     },
     "execution_count": 110,
     "metadata": {},
     "output_type": "execute_result"
    }
   ],
   "source": [
    "new_prior = priors['2016_11_15_MACS_out_SL1040_SL972']\n",
    "new_prior[new_prior['Stat3'] > 6]"
   ]
  },
  {
   "cell_type": "code",
   "execution_count": 97,
   "metadata": {
    "collapsed": true
   },
   "outputs": [],
   "source": [
    "motif_bed='/Users/ndeveaux/Dropbox (Simons Foundation)/atac_parameter_search/ChipSeq/2016_11_22_performance_test_output/SL1040_SL972_peaks.bed'"
   ]
  },
  {
   "cell_type": "code",
   "execution_count": null,
   "metadata": {
    "collapsed": true
   },
   "outputs": [],
   "source": []
  }
 ],
 "metadata": {
  "kernelspec": {
   "display_name": "Python 2",
   "language": "python",
   "name": "python2"
  },
  "language_info": {
   "codemirror_mode": {
    "name": "ipython",
    "version": 2
   },
   "file_extension": ".py",
   "mimetype": "text/x-python",
   "name": "python",
   "nbconvert_exporter": "python",
   "pygments_lexer": "ipython2",
   "version": "2.7.11"
  }
 },
 "nbformat": 4,
 "nbformat_minor": 0
}
