{
 "cells": [
  {
   "cell_type": "code",
   "execution_count": 3,
   "metadata": {
    "collapsed": true
   },
   "outputs": [],
   "source": [
    "import numpy as np\n",
    "import pandas as pd\n",
    "import matplotlib.pyplot as plt\n",
    "import scipy.stats  as stats\n",
    "%matplotlib inline\n"
   ]
  },
  {
   "cell_type": "code",
   "execution_count": 4,
   "metadata": {
    "collapsed": true
   },
   "outputs": [],
   "source": [
    "\n",
    "uniform_data = stats.uniform.rvs(size=100000,  # Generate 100000 numbers\n",
    "                                 loc = 0,      # From 0 \n",
    "                                 scale=1)     # To 1"
   ]
  },
  {
   "cell_type": "code",
   "execution_count": 5,
   "metadata": {
    "collapsed": false
   },
   "outputs": [
    {
     "data": {
      "text/plain": [
       "<matplotlib.axes._subplots.AxesSubplot at 0x115096790>"
      ]
     },
     "execution_count": 5,
     "metadata": {},
     "output_type": "execute_result"
    },
    {
     "data": {
      "image/png": "[encoded data removed]",
      "text/plain": [
       "<matplotlib.figure.Figure at 0x114e20b90>"
      ]
     },
     "metadata": {},
     "output_type": "display_data"
    }
   ],
   "source": [
    "pd.DataFrame(uniform_data).plot(kind=\"density\",  # Plot the distribution\n",
    "                               figsize=(9,9),\n",
    "                               xlim=(-1,2))"
   ]
  },
  {
   "cell_type": "code",
   "execution_count": 104,
   "metadata": {
    "collapsed": false
   },
   "outputs": [
    {
     "name": "stdout",
     "output_type": "stream",
     "text": [
      "col_0   65  66  67  68  69  70  71   72   73   74 ...   83   84   85   86  \\\n",
      "row_0                                             ...                       \n",
      "counts   3   2   8  25  27  54  96  139  201  312 ...  747  631  484  307   \n",
      "\n",
      "col_0    87   88  89  90  91  92  \n",
      "row_0                             \n",
      "counts  242  139  54  37  14   2  \n",
      "\n",
      "[1 rows x 28 columns]\n",
      "0 flips with probability 1.57772181044e-30\n",
      "0 flips with probability 1.59349902855e-28\n",
      "0 flips with probability 7.96907286454e-27\n",
      "0 flips with probability 2.63086689613e-25\n",
      "0 flips with probability 6.44968889576e-24\n",
      "0 flips with probability 1.25232451254e-22\n",
      "0 flips with probability 2.00595952192e-21\n",
      "0 flips with probability 2.72614373281e-20\n",
      "0 flips with probability 3.20856366824e-19\n",
      "0 flips with probability 3.32204897945e-18\n",
      "0 flips with probability 3.06329017544e-17\n",
      "0 flips with probability 2.54085333549e-16\n",
      "0 flips with probability 1.91135753603e-15\n",
      "0 flips with probability 1.3129815522e-14\n",
      "0 flips with probability 8.28445187208e-14\n",
      "0 flips with probability 4.82542150394e-13\n",
      "0 flips with probability 2.60593581866e-12\n",
      "0 flips with probability 1.30979986501e-11\n",
      "0 flips with probability 6.14780661505e-11\n",
      "0 flips with probability 2.70276252205e-10\n",
      "0 flips with probability 1.11590890573e-09\n",
      "0 flips with probability 4.33736663342e-09\n",
      "0 flips with probability 1.59053284738e-08\n",
      "0 flips with probability 5.51358077585e-08\n",
      "0 flips with probability 1.8100026213e-07\n",
      "0 flips with probability 5.63628203421e-07\n",
      "0 flips with probability 1.66736264945e-06\n",
      "0 flips with probability 4.69241261264e-06\n",
      "0 flips with probability 1.25791500167e-05\n",
      "0 flips with probability 3.21600152957e-05\n",
      "0 flips with probability 7.85013964559e-05\n",
      "0 flips with probability 0.000183143224882\n",
      "0 flips with probability 0.000408777167427\n",
      "0 flips with probability 0.000873719836912\n",
      "0 flips with probability 0.00178993039149\n",
      "0 flips with probability 0.00351764172297\n",
      "0 flips with probability 0.00663712051593\n",
      "0 flips with probability 0.0120329757254\n",
      "0 flips with probability 0.0209787356779\n",
      "0 flips with probability 0.0352002002177\n",
      "0 flips with probability 0.056887933641\n",
      "0 flips with probability 0.0886260801141\n",
      "0 flips with probability 0.133210619207\n",
      "0 flips with probability 0.193347904496\n",
      "0 flips with probability 0.271253024074\n",
      "0 flips with probability 0.368201617327\n",
      "0 flips with probability 0.484118413607\n",
      "0 flips with probability 0.617299413589\n",
      "0 flips with probability 0.764353434403\n",
      "0 flips with probability 0.920410762613\n",
      "0 flips with probability 1.0\n",
      "0 flips with probability 0.920410762613\n",
      "0 flips with probability 0.764353434403\n",
      "0 flips with probability 0.617299413589\n",
      "0 flips with probability 0.484118413607\n",
      "0 flips with probability 0.368201617327\n",
      "0 flips with probability 0.271253024074\n",
      "0 flips with probability 0.193347904496\n",
      "0 flips with probability 0.133210619207\n",
      "0 flips with probability 0.0886260801141\n",
      "0 flips with probability 0.056887933641\n",
      "0 flips with probability 0.0352002002177\n",
      "0 flips with probability 0.0209787356779\n",
      "0 flips with probability 0.0120329757254\n",
      "0 flips with probability 0.00663712051593\n",
      "3 flips with probability 0.00351764172297\n",
      "2 flips with probability 0.00178993039149\n",
      "8 flips with probability 0.000873719836912\n",
      "25 flips with probability 0.000408777167427\n",
      "27 flips with probability 0.000183143224882\n",
      "54 flips with probability 7.85013964559e-05\n",
      "96 flips with probability 3.21600152957e-05\n",
      "139 flips with probability 1.25791500167e-05\n",
      "201 flips with probability 4.69241261264e-06\n",
      "312 flips with probability 1.66736264945e-06\n",
      "432 flips with probability 5.63628203421e-07\n",
      "582 flips with probability 1.8100026213e-07\n",
      "730 flips with probability 5.51358077585e-08\n",
      "902 flips with probability 1.59053284738e-08\n",
      "973 flips with probability 4.33736663342e-09\n",
      "1001 flips with probability 1.11590890573e-09\n",
      "928 flips with probability 2.70276252205e-10\n",
      "928 flips with probability 6.14780661505e-11\n",
      "747 flips with probability 1.30979986501e-11\n",
      "631 flips with probability 2.60593581866e-12\n",
      "484 flips with probability 4.82542150394e-13\n",
      "307 flips with probability 8.28445187208e-14\n",
      "242 flips with probability 1.3129815522e-14\n",
      "139 flips with probability 1.91135753603e-15\n",
      "54 flips with probability 2.54085333549e-16\n",
      "37 flips with probability 3.06329017544e-17\n",
      "14 flips with probability 3.32204897945e-18\n",
      "2 flips with probability 3.20856366824e-19\n"
     ]
    },
    {
     "data": {
      "text/plain": [
       "<matplotlib.figure.Figure at 0x115a9b250>"
      ]
     },
     "metadata": {},
     "output_type": "display_data"
    },
    {
     "data": {
      "image/png": "[encoded data removed]",
      "text/plain": [
       "<matplotlib.figure.Figure at 0x118c29510>"
      ]
     },
     "metadata": {},
     "output_type": "display_data"
    }
   ],
   "source": [
    "n = 100\n",
    "fair_coin_flips = stats.binom.rvs(n=n,        # Number of flips per trial\n",
    "                                  p=0.8,       # Success probability\n",
    "                                  size=10000)  # Number of trials\n",
    "\n",
    "print( pd.crosstab(index=\"counts\", columns= fair_coin_flips))\n",
    "\n",
    "count_rejected = 0\n",
    "count_borderline = 0\n",
    "line1 = 0\n",
    "pvals =[]\n",
    "plt.figure(figsize=(15,12))\n",
    "pd.DataFrame(fair_coin_flips).hist(range=(-0.5,n +.5), bins=n, color='red')\n",
    "plt.title('Results of {} flips of 10,000 unfair coins (p=.8)'.format(n))\n",
    "plt.xlabel('Number of heads')\n",
    "for i in range(n):\n",
    "    count = 0\n",
    "    pval = stats.binom.cdf(k=i,        # Probability of k = 5 successes\n",
    "                n=n,       # With 10 flips\n",
    "                p=0.5)   \n",
    "    pval = stats.binom_test(i,        # Probability of k = 5 successes\n",
    "                n,       # With 10 flips\n",
    "                p=0.5)\n",
    "    pvals.append(pval)\n",
    "    if len(np.bincount(fair_coin_flips)) > i:\n",
    "        count = np.bincount(fair_coin_flips)[i]\n",
    "        print '{} flips with probability {}'.format(count, pval)\n",
    "    if pval < 0.05 / 10000:\n",
    "        count_rejected = count_rejected + count\n",
    "    elif pval < 0.065 / 10000:\n",
    "        count_borderline = count_borderline + count\n",
    "        line1 = i\n",
    "        plt.plot((line1, line1), (0, max(np.bincount(fair_coin_flips)) * 2.15), 'k-', color='red')"
   ]
  },
  {
   "cell_type": "code",
   "execution_count": 103,
   "metadata": {
    "collapsed": false
   },
   "outputs": [
    {
     "name": "stdout",
     "output_type": "stream",
     "text": [
      "col_0   31  33  34  35  36  37  38  39   40   41 ...   58   59   60  61  62  \\\n",
      "row_0                                            ...                          \n",
      "counts   1   2   7  10  21  31  58  70  108  168 ...  244  179  112  57  38   \n",
      "\n",
      "col_0   63  64  65  66  67  \n",
      "row_0                       \n",
      "counts  23  14  11   5   1  \n",
      "\n",
      "[1 rows x 36 columns]\n",
      "0 flips with probability 1.57772181044e-30\n",
      "0 flips with probability 1.59349902855e-28\n",
      "0 flips with probability 7.96907286454e-27\n",
      "0 flips with probability 2.63086689613e-25\n",
      "0 flips with probability 6.44968889576e-24\n",
      "0 flips with probability 1.25232451254e-22\n",
      "0 flips with probability 2.00595952192e-21\n",
      "0 flips with probability 2.72614373281e-20\n",
      "0 flips with probability 3.20856366824e-19\n",
      "0 flips with probability 3.32204897945e-18\n",
      "0 flips with probability 3.06329017544e-17\n",
      "0 flips with probability 2.54085333549e-16\n",
      "0 flips with probability 1.91135753603e-15\n",
      "0 flips with probability 1.3129815522e-14\n",
      "0 flips with probability 8.28445187208e-14\n",
      "0 flips with probability 4.82542150394e-13\n",
      "0 flips with probability 2.60593581866e-12\n",
      "0 flips with probability 1.30979986501e-11\n",
      "0 flips with probability 6.14780661505e-11\n",
      "0 flips with probability 2.70276252205e-10\n",
      "0 flips with probability 1.11590890573e-09\n",
      "0 flips with probability 4.33736663342e-09\n",
      "0 flips with probability 1.59053284738e-08\n",
      "0 flips with probability 5.51358077585e-08\n",
      "0 flips with probability 1.8100026213e-07\n",
      "0 flips with probability 5.63628203421e-07\n",
      "0 flips with probability 1.66736264945e-06\n",
      "0 flips with probability 4.69241261264e-06\n",
      "0 flips with probability 1.25791500167e-05\n",
      "72\n",
      "0 flips with probability 3.21600152957e-05\n",
      "0 flips with probability 7.85013964559e-05\n",
      "1 flips with probability 0.000183143224882\n",
      "0 flips with probability 0.000408777167427\n",
      "2 flips with probability 0.000873719836912\n",
      "7 flips with probability 0.00178993039149\n",
      "10 flips with probability 0.00351764172297\n",
      "21 flips with probability 0.00663712051593\n",
      "31 flips with probability 0.0120329757254\n",
      "58 flips with probability 0.0209787356779\n",
      "70 flips with probability 0.0352002002177\n",
      "108 flips with probability 0.056887933641\n",
      "168 flips with probability 0.0886260801141\n",
      "215 flips with probability 0.133210619207\n",
      "315 flips with probability 0.193347904496\n",
      "391 flips with probability 0.271253024074\n",
      "444 flips with probability 0.368201617327\n",
      "623 flips with probability 0.484118413607\n",
      "652 flips with probability 0.617299413589\n",
      "703 flips with probability 0.764353434403\n",
      "769 flips with probability 0.920410762613\n",
      "778 flips with probability 1.0\n",
      "796 flips with probability 0.920410762613\n",
      "751 flips with probability 0.764353434403\n",
      "643 flips with probability 0.617299413589\n",
      "550 flips with probability 0.484118413607\n",
      "496 flips with probability 0.368201617327\n",
      "416 flips with probability 0.271253024074\n",
      "298 flips with probability 0.193347904496\n",
      "244 flips with probability 0.133210619207\n",
      "179 flips with probability 0.0886260801141\n",
      "112 flips with probability 0.056887933641\n",
      "57 flips with probability 0.0352002002177\n",
      "38 flips with probability 0.0209787356779\n",
      "23 flips with probability 0.0120329757254\n",
      "14 flips with probability 0.00663712051593\n",
      "11 flips with probability 0.00351764172297\n",
      "5 flips with probability 0.00178993039149\n",
      "1 flips with probability 0.000873719836912\n"
     ]
    },
    {
     "data": {
      "text/plain": [
       "<matplotlib.figure.Figure at 0x115f6b450>"
      ]
     },
     "metadata": {},
     "output_type": "display_data"
    },
    {
     "data": {
      "image/png": "[encoded data removed]",
      "text/plain": [
       "<matplotlib.figure.Figure at 0x118bf5050>"
      ]
     },
     "metadata": {},
     "output_type": "display_data"
    }
   ],
   "source": [
    "#FDR!\n",
    "n = 100\n",
    "fair_coin_flips = stats.binom.rvs(n=n,        # Number of flips per trial\n",
    "                                  p=0.5,       # Success probability\n",
    "                                  size=10000)  # Number of trials\n",
    "\n",
    "print( pd.crosstab(index=\"counts\", columns= fair_coin_flips))\n",
    "\n",
    "count_rejected = 0\n",
    "count_borderline = 0\n",
    "line1 = 0\n",
    "pvals = []\n",
    "pvals_individual = []\n",
    "plt.figure(figsize=(15,12))\n",
    "pd.DataFrame(fair_coin_flips).hist(range=(-0.5,n +.5), bins=n)\n",
    "plt.title('Results of {} flips of 10,000 fair coins (p=.5)'.format(n))\n",
    "plt.xlabel('Number of heads')\n",
    "ranking = 1\n",
    "for i in range(n):\n",
    "    count = 0\n",
    "    pval = stats.binom.cdf(k=i,        # Probability of k = 5 successes\n",
    "                n=n,       # With 10 flips\n",
    "                p=0.5)   \n",
    "    pval = stats.binom_test(i,        # Probability of k = 5 successes\n",
    "                n,       # With 10 flips\n",
    "                p=0.5)\n",
    "    pvals.append(pval)\n",
    "    if len(np.bincount(fair_coin_flips)) > i:\n",
    "        count = np.bincount(fair_coin_flips)[i]\n",
    "        print '{} flips with probability {}'.format(count, pval)\n",
    "    if pval < ((0.05 * ranking )/ 10000):\n",
    "        count_rejected = count_rejected + count\n",
    "    elif pval < ((0.205 * ranking )/ 10000):\n",
    "        count_borderline = count_borderline + count\n",
    "        if line1 == 0:\n",
    "            line1 = i\n",
    "            plt.plot((line1, line1), (0, max(np.bincount(fair_coin_flips)) * 2.15), 'k-', color='red')\n",
    "            print n - line1\n",
    "            plt.plot((n - line1, n - line1), (0, max(np.bincount(fair_coin_flips)) * 2.15), 'k-', color='red')\n",
    "    ranking = ranking + count"
   ]
  },
  {
   "cell_type": "code",
   "execution_count": 108,
   "metadata": {
    "collapsed": false
   },
   "outputs": [
    {
     "name": "stdout",
     "output_type": "stream",
     "text": [
      "col_0   64  65  66  67  68  69  70  71   72   73 ...   84   85   86   87   88  \\\n",
      "row_0                                            ...                            \n",
      "counts   3   3   3   7  19  33  49  81  139  202 ...  671  459  336  234  139   \n",
      "\n",
      "col_0   89  90  91  92  93  \n",
      "row_0                       \n",
      "counts  56  27  16   7   1  \n",
      "\n",
      "[1 rows x 30 columns]\n",
      "0 flips with probability 1.57772181044e-30\n",
      "0 flips with probability 1.59349902855e-28\n",
      "0 flips with probability 7.96907286454e-27\n",
      "0 flips with probability 2.63086689613e-25\n",
      "0 flips with probability 6.44968889576e-24\n",
      "0 flips with probability 1.25232451254e-22\n",
      "0 flips with probability 2.00595952192e-21\n",
      "0 flips with probability 2.72614373281e-20\n",
      "0 flips with probability 3.20856366824e-19\n",
      "0 flips with probability 3.32204897945e-18\n",
      "0 flips with probability 3.06329017544e-17\n",
      "0 flips with probability 2.54085333549e-16\n",
      "0 flips with probability 1.91135753603e-15\n",
      "0 flips with probability 1.3129815522e-14\n",
      "0 flips with probability 8.28445187208e-14\n",
      "0 flips with probability 4.82542150394e-13\n",
      "0 flips with probability 2.60593581866e-12\n",
      "0 flips with probability 1.30979986501e-11\n",
      "0 flips with probability 6.14780661505e-11\n",
      "0 flips with probability 2.70276252205e-10\n",
      "0 flips with probability 1.11590890573e-09\n",
      "0 flips with probability 4.33736663342e-09\n",
      "0 flips with probability 1.59053284738e-08\n",
      "0 flips with probability 5.51358077585e-08\n",
      "0 flips with probability 1.8100026213e-07\n",
      "0 flips with probability 5.63628203421e-07\n",
      "0 flips with probability 1.66736264945e-06\n",
      "0 flips with probability 4.69241261264e-06\n",
      "0 flips with probability 1.25791500167e-05\n",
      "72\n",
      "0 flips with probability 3.21600152957e-05\n",
      "0 flips with probability 7.85013964559e-05\n",
      "0 flips with probability 0.000183143224882\n",
      "0 flips with probability 0.000408777167427\n",
      "0 flips with probability 0.000873719836912\n",
      "0 flips with probability 0.00178993039149\n",
      "0 flips with probability 0.00351764172297\n",
      "0 flips with probability 0.00663712051593\n",
      "0 flips with probability 0.0120329757254\n",
      "0 flips with probability 0.0209787356779\n",
      "0 flips with probability 0.0352002002177\n",
      "0 flips with probability 0.056887933641\n",
      "0 flips with probability 0.0886260801141\n",
      "0 flips with probability 0.133210619207\n",
      "0 flips with probability 0.193347904496\n",
      "0 flips with probability 0.271253024074\n",
      "0 flips with probability 0.368201617327\n",
      "0 flips with probability 0.484118413607\n",
      "0 flips with probability 0.617299413589\n",
      "0 flips with probability 0.764353434403\n",
      "0 flips with probability 0.920410762613\n",
      "0 flips with probability 1.0\n",
      "0 flips with probability 0.920410762613\n",
      "0 flips with probability 0.764353434403\n",
      "0 flips with probability 0.617299413589\n",
      "0 flips with probability 0.484118413607\n",
      "0 flips with probability 0.368201617327\n",
      "0 flips with probability 0.271253024074\n",
      "0 flips with probability 0.193347904496\n",
      "0 flips with probability 0.133210619207\n",
      "0 flips with probability 0.0886260801141\n",
      "0 flips with probability 0.056887933641\n",
      "0 flips with probability 0.0352002002177\n",
      "0 flips with probability 0.0209787356779\n",
      "0 flips with probability 0.0120329757254\n",
      "3 flips with probability 0.00663712051593\n",
      "3 flips with probability 0.00351764172297\n",
      "3 flips with probability 0.00178993039149\n",
      "7 flips with probability 0.000873719836912\n",
      "19 flips with probability 0.000408777167427\n",
      "33 flips with probability 0.000183143224882\n",
      "49 flips with probability 7.85013964559e-05\n",
      "81 flips with probability 3.21600152957e-05\n",
      "139 flips with probability 1.25791500167e-05\n",
      "202 flips with probability 4.69241261264e-06\n",
      "300 flips with probability 1.66736264945e-06\n",
      "430 flips with probability 5.63628203421e-07\n",
      "585 flips with probability 1.8100026213e-07\n",
      "692 flips with probability 5.51358077585e-08\n",
      "869 flips with probability 1.59053284738e-08\n",
      "988 flips with probability 4.33736663342e-09\n",
      "1026 flips with probability 1.11590890573e-09\n",
      "937 flips with probability 2.70276252205e-10\n",
      "926 flips with probability 6.14780661505e-11\n",
      "762 flips with probability 1.30979986501e-11\n",
      "671 flips with probability 2.60593581866e-12\n",
      "459 flips with probability 4.82542150394e-13\n",
      "336 flips with probability 8.28445187208e-14\n",
      "234 flips with probability 1.3129815522e-14\n",
      "139 flips with probability 1.91135753603e-15\n",
      "56 flips with probability 2.54085333549e-16\n",
      "27 flips with probability 3.06329017544e-17\n",
      "16 flips with probability 3.32204897945e-18\n",
      "7 flips with probability 3.20856366824e-19\n",
      "1 flips with probability 2.72614373281e-20\n"
     ]
    },
    {
     "data": {
      "text/plain": [
       "<matplotlib.figure.Figure at 0x115a9b210>"
      ]
     },
     "metadata": {},
     "output_type": "display_data"
    },
    {
     "data": {
      "image/png": "[encoded data removed]",
      "text/plain": [
       "<matplotlib.figure.Figure at 0x118fc2b50>"
      ]
     },
     "metadata": {},
     "output_type": "display_data"
    }
   ],
   "source": [
    "#FDR!\n",
    "n = 100\n",
    "fair_coin_flips = stats.binom.rvs(n=n,        # Number of flips per trial\n",
    "                                  p=0.8,       # Success probability\n",
    "                                  size=10000)  # Number of trials\n",
    "\n",
    "print( pd.crosstab(index=\"counts\", columns= fair_coin_flips))\n",
    "\n",
    "count_rejected = 0\n",
    "count_borderline = 0\n",
    "line1 = 0\n",
    "pvals = []\n",
    "pvals_individual = []\n",
    "plt.figure(figsize=(15,12))\n",
    "pd.DataFrame(fair_coin_flips).hist(range=(-0.5,n +.5), bins=n, color='red')\n",
    "plt.title('Results of {} flips of 10,000 unfair coins (p=.8)'.format(n))\n",
    "plt.xlabel('Number of heads')\n",
    "ranking = 1\n",
    "for i in range(n):\n",
    "    count = 0\n",
    "    pval = stats.binom.cdf(k=i,        # Probability of k = 5 successes\n",
    "                n=n,       # With 10 flips\n",
    "                p=0.5)   \n",
    "    pval = stats.binom_test(i,        # Probability of k = 5 successes\n",
    "                n,       # With 10 flips\n",
    "                p=0.5)\n",
    "    pvals.append(pval)\n",
    "    if len(np.bincount(fair_coin_flips)) > i:\n",
    "        count = np.bincount(fair_coin_flips)[i]\n",
    "        print '{} flips with probability {}'.format(count, pval)\n",
    "    if pval < ((0.05 * ranking )/ 10000):\n",
    "        count_rejected = count_rejected + count\n",
    "    elif pval < ((0.205 * ranking )/ 10000):\n",
    "        count_borderline = count_borderline + count\n",
    "        if line1 == 0:\n",
    "            line1 = i\n",
    "            plt.plot((line1, line1), (0, max(np.bincount(fair_coin_flips)) * 2.15), 'k-', color='red')\n",
    "            print n - line1\n",
    "            plt.plot((n - line1, n - line1), (0, max(np.bincount(fair_coin_flips)) * 2.15), 'k-', color='red')\n",
    "    ranking = ranking + count"
   ]
  },
  {
   "cell_type": "code",
   "execution_count": 107,
   "metadata": {
    "collapsed": false
   },
   "outputs": [
    {
     "data": {
      "text/plain": [
       "9959"
      ]
     },
     "execution_count": 107,
     "metadata": {},
     "output_type": "execute_result"
    }
   ],
   "source": [
    "count_rejected"
   ]
  },
  {
   "cell_type": "code",
   "execution_count": 51,
   "metadata": {
    "collapsed": false
   },
   "outputs": [
    {
     "data": {
      "text/plain": [
       "array([   0,    0,    0,    0,    0,    0,    0,    0,    0,    0,    0,\n",
       "          2,    2,    1,    4,   21,   45,   75,  178,  271,  448,  605,\n",
       "        807,  926, 1058, 1155, 1027,  965,  765,  588,  404,  292,  187,\n",
       "         98,   46,   18,    6,    5,    0,    1])"
      ]
     },
     "execution_count": 51,
     "metadata": {},
     "output_type": "execute_result"
    }
   ],
   "source": [
    " np.bincount(fair_coin_flips)"
   ]
  },
  {
   "cell_type": "code",
   "execution_count": 13,
   "metadata": {
    "collapsed": false
   },
   "outputs": [
    {
     "data": {
      "text/plain": [
       "0.0"
      ]
     },
     "execution_count": 13,
     "metadata": {},
     "output_type": "execute_result"
    }
   ],
   "source": [
    "stats.binom.cdf(0.5, 10, 0.5, 10000)"
   ]
  },
  {
   "cell_type": "code",
   "execution_count": 8,
   "metadata": {
    "collapsed": false
   },
   "outputs": [
    {
     "name": "stdout",
     "output_type": "stream",
     "text": [
      "col_0   2   3   4    5    6     7     8     9     10\n",
      "row_0                                               \n",
      "counts   1   9  63  252  888  2043  3017  2648  1079\n"
     ]
    },
    {
     "data": {
      "text/plain": [
       "array([[<matplotlib.axes._subplots.AxesSubplot object at 0x1157c57d0>]], dtype=object)"
      ]
     },
     "execution_count": 8,
     "metadata": {},
     "output_type": "execute_result"
    },
    {
     "data": {
      "image/png": "[encoded data removed]",
      "text/plain": [
       "<matplotlib.figure.Figure at 0x1157cff90>"
      ]
     },
     "metadata": {},
     "output_type": "display_data"
    }
   ],
   "source": [
    "biased_coin_flips = stats.binom.rvs(n=10,      # Number of flips per trial\n",
    "                                  p=0.8,       # Success probability\n",
    "                                  size=10000)  # Number of trials\n",
    "\n",
    "# Print table of counts\n",
    "print( pd.crosstab(index=\"counts\", columns= biased_coin_flips))\n",
    "\n",
    "# Plot histogram\n",
    "pd.DataFrame(biased_coin_flips).hist(range=(-0.5,10.5), bins=11, color='red')"
   ]
  },
  {
   "cell_type": "code",
   "execution_count": 39,
   "metadata": {
    "collapsed": false
   },
   "outputs": [
    {
     "ename": "SyntaxError",
     "evalue": "invalid syntax (<ipython-input-39-33a789bff707>, line 1)",
     "output_type": "error",
     "traceback": [
      "\u001b[0;36m  File \u001b[0;32m\"<ipython-input-39-33a789bff707>\"\u001b[0;36m, line \u001b[0;32m1\u001b[0m\n\u001b[0;31m    [40:50]\u001b[0m\n\u001b[0m       ^\u001b[0m\n\u001b[0;31mSyntaxError\u001b[0m\u001b[0;31m:\u001b[0m invalid syntax\n"
     ]
    }
   ],
   "source": [
    "[40:50]"
   ]
  },
  {
   "cell_type": "code",
   "execution_count": null,
   "metadata": {
    "collapsed": true
   },
   "outputs": [],
   "source": []
  }
 ],
 "metadata": {
  "kernelspec": {
   "display_name": "Python 2",
   "language": "python",
   "name": "python2"
  },
  "language_info": {
   "codemirror_mode": {
    "name": "ipython",
    "version": 2
   },
   "file_extension": ".py",
   "mimetype": "text/x-python",
   "name": "python",
   "nbconvert_exporter": "python",
   "pygments_lexer": "ipython2",
   "version": "2.7.12"
  }
 },
 "nbformat": 4,
 "nbformat_minor": 0
}
