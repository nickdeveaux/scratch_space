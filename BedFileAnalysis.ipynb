{
 "cells": [
  {
   "cell_type": "code",
   "execution_count": 12,
   "metadata": {
    "collapsed": true
   },
   "outputs": [],
   "source": [
    "import pandas as pd\n",
    "import numpy as np\n",
    "import matplotlib.pyplot as plt\n",
    "%matplotlib inline"
   ]
  },
  {
   "cell_type": "code",
   "execution_count": 49,
   "metadata": {
    "collapsed": false
   },
   "outputs": [],
   "source": [
    "bed = pd.read_csv(\"/Users/ndeveaux/Dropbox (Simons Foundation)/Jason-June-Nick-Emily/ChipSeq/macs/distances_after_merge.bed\", sep='\\t', header=None)"
   ]
  },
  {
   "cell_type": "code",
   "execution_count": 52,
   "metadata": {
    "collapsed": false
   },
   "outputs": [],
   "source": [
    "distance = bed[6]"
   ]
  },
  {
   "cell_type": "code",
   "execution_count": 54,
   "metadata": {
    "collapsed": false
   },
   "outputs": [
    {
     "data": {
      "image/png": "[encoded data removed]",
      "text/plain": [
       "<matplotlib.figure.Figure at 0x11d8a9250>"
      ]
     },
     "metadata": {},
     "output_type": "display_data"
    }
   ],
   "source": [
    "plt.figure(figsize=(8, 6))\n",
    "plt.hist(distance, bins=np.logspace(0, 7.0, 50))\n",
    "plt.title('Distribution of peak distances: After merging all Wt, AKO & DKO IP summits with X = 100')\n",
    "plt.ylabel('Number of peaks')\n",
    "plt.gca().set_xscale(\"log\")\n",
    "plt.xlabel('Log distance in base pairs')\n",
    "plt.show()"
   ]
  },
  {
   "cell_type": "code",
   "execution_count": 33,
   "metadata": {
    "collapsed": false
   },
   "outputs": [
    {
     "data": {
      "text/plain": [
       "array([ 2.30258509,  3.91202301,  4.60517019,  5.29831737,  5.70378247,\n",
       "        5.99146455])"
      ]
     },
     "execution_count": 33,
     "metadata": {},
     "output_type": "execute_result"
    }
   ],
   "source": [
    "np.log([10, 50, 100, 200, 300, 400])"
   ]
  },
  {
   "cell_type": "code",
   "execution_count": 43,
   "metadata": {
    "collapsed": false
   },
   "outputs": [
    {
     "data": {
      "text/plain": [
       "array([  1.00000000e+00,   1.38949549e+00,   1.93069773e+00,\n",
       "         2.68269580e+00,   3.72759372e+00,   5.17947468e+00,\n",
       "         7.19685673e+00,   1.00000000e+01,   1.38949549e+01,\n",
       "         1.93069773e+01,   2.68269580e+01,   3.72759372e+01,\n",
       "         5.17947468e+01,   7.19685673e+01,   1.00000000e+02,\n",
       "         1.38949549e+02,   1.93069773e+02,   2.68269580e+02,\n",
       "         3.72759372e+02,   5.17947468e+02,   7.19685673e+02,\n",
       "         1.00000000e+03,   1.38949549e+03,   1.93069773e+03,\n",
       "         2.68269580e+03,   3.72759372e+03,   5.17947468e+03,\n",
       "         7.19685673e+03,   1.00000000e+04,   1.38949549e+04,\n",
       "         1.93069773e+04,   2.68269580e+04,   3.72759372e+04,\n",
       "         5.17947468e+04,   7.19685673e+04,   1.00000000e+05,\n",
       "         1.38949549e+05,   1.93069773e+05,   2.68269580e+05,\n",
       "         3.72759372e+05,   5.17947468e+05,   7.19685673e+05,\n",
       "         1.00000000e+06,   1.38949549e+06,   1.93069773e+06,\n",
       "         2.68269580e+06,   3.72759372e+06,   5.17947468e+06,\n",
       "         7.19685673e+06,   1.00000000e+07])"
      ]
     },
     "execution_count": 43,
     "metadata": {},
     "output_type": "execute_result"
    }
   ],
   "source": [
    "np.logspace(0, 7, 50)"
   ]
  },
  {
   "cell_type": "code",
   "execution_count": null,
   "metadata": {
    "collapsed": true
   },
   "outputs": [],
   "source": []
  }
 ],
 "metadata": {
  "kernelspec": {
   "display_name": "Python 2",
   "language": "python",
   "name": "python2"
  },
  "language_info": {
   "codemirror_mode": {
    "name": "ipython",
    "version": 2
   },
   "file_extension": ".py",
   "mimetype": "text/x-python",
   "name": "python",
   "nbconvert_exporter": "python",
   "pygments_lexer": "ipython2",
   "version": "2.7.11"
  }
 },
 "nbformat": 4,
 "nbformat_minor": 0
}
