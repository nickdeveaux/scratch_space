{
 "cells": [
  {
   "cell_type": "markdown",
   "metadata": {},
   "source": [
    "Following the tutorial from http://twistedmatrix.com/documents/9.0.0/core/howto/tutorial/intro.html"
   ]
  },
  {
   "cell_type": "code",
   "execution_count": null,
   "metadata": {},
   "outputs": [
    {
     "name": "stderr",
     "output_type": "stream",
     "text": [
      "Unhandled Error\n",
      "(unable to obtain traceback): 'unicode' does not have the buffer interface\n"
     ]
    }
   ],
   "source": [
    "from twisted.internet import protocol, reactor\n",
    "from twisted.protocols import basic\n",
    "\n",
    "class FingerProtocol(basic.LineReceiver):\n",
    "    def lineReceived(self, user):\n",
    "        self.transport.write(\"No such user\\r\\n\")\n",
    "        self.transport.write(self.factory.getUser(user)+\"\\r\\n\")\n",
    "        self.transport.loseConnection()\n",
    "        \n",
    "\n",
    "class FingerFactory(protocol.ServerFactory):\n",
    "    protocol = FingerProtocol\n",
    "    \n",
    "    def getUser(user):\n",
    "        return 'No such ...' + str(user) + ' ?'\n",
    "\n",
    "reactor.listenTCP(1079, FingerFactory())\n",
    "reactor.run()"
   ]
  },
  {
   "cell_type": "code",
   "execution_count": null,
   "metadata": {},
   "outputs": [],
   "source": []
  }
 ],
 "metadata": {
  "kernelspec": {
   "display_name": "Python 2",
   "language": "python",
   "name": "python2"
  },
  "language_info": {
   "codemirror_mode": {
    "name": "ipython",
    "version": 2
   },
   "file_extension": ".py",
   "mimetype": "text/x-python",
   "name": "python",
   "nbconvert_exporter": "python",
   "pygments_lexer": "ipython2",
   "version": "2.7.14"
  }
 },
 "nbformat": 4,
 "nbformat_minor": 2
}
