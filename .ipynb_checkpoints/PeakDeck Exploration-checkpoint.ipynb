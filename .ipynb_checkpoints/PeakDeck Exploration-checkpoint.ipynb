{
 "cells": [
  {
   "cell_type": "markdown",
   "metadata": {},
   "source": [
    "## Peakdeck: Choosing the Best Parameters\n",
    "As part of the HIVDC collaboration with Alex Rives, we are interepreting ATACSeq data from the Littman Lab at NYU Med. In order to transform ATACSeq High Throughput Sequencing data into Transcription Factor Activity priors, we need to infer chromatin accessibility from peaks of sequencing reads. We do this by first aligning the Fastq data with Bowtie, then calling peaks with Kernel-Density-Estimator-based <a> Peakdeck </a href=http://www.ncbi.nlm.nih.gov/pubmed/24407222> "
   ]
  },
  {
   "cell_type": "markdown",
   "metadata": {},
   "source": [
    "### Pipeline overview\n",
    "Fastq -> Sam -> Bam -> filtered Bam (removing Mitochondrial DNA) -> Sam -> Peakdeck output -> Bed -> Wig.\n",
    "\n",
    "We also generate a tdf from the filtered bam file"
   ]
  },
  {
   "cell_type": "markdown",
   "metadata": {},
   "source": [
    "We've pulled DNAseI hypersensitivity sites from Encode using the following protocol: Downloaded from http://hgdownload-test.cse.ucsc.edu/goldenPath/hg19/encodeDCC/wgEncodeAwgDnaseMasterSites/releaseLatest/wgEncodeAwgDnaseMasterSites.bed.gz, then lifted over to hg38 using the chain file from http://hgdownload.cse.ucsc.edu/gbdb/hg19/liftOver/hg19ToHg38.over.chain.gz"
   ]
  },
  {
   "cell_type": "markdown",
   "metadata": {},
   "source": [
    "The bed master file was sorted and filtered to only have chromosomes whose names exist in the HG38 assembly and sorted"
   ]
  },
  {
   "cell_type": "raw",
   "metadata": {},
   "source": [
    "DNASEBED=/mnt/ceph/users/arives/dc_project/encode_master_sites/wgEncodeAwgDnaseMasterSites.hg38.bed\n",
    "CHROMSIZES=/mnt/scratch/arives/workspace/genome-versions/gencode24/GRCh38.primary_assembly.chrom.sizes\n",
    "BEDTOOLS=/mnt/xfs1/bioinfoCentos7/software/installs/bedtools/bedtools-2.17.0/bedtools\n",
    "\n",
    "cut -f 1 $DNASEBED > chrs_Dnase\n",
    "cut -f 1 $CHROMSIZES  > chrs_hg38\n",
    "comm -1 <(sort -u chrs_hg38) <(sort -u chrs_Dnase) > chrs_only_in_chrs_Dnase\n",
    "grep -v -f chrs_only_in_chrs_Dnase $DNASEBED > filtered_wgEncodeAwgDnaseMasterSites.hg38.bed\n",
    "$BEDTOOLS sort -i filtered_wgEncodeAwgDnaseMasterSites.hg38.bed > sorted_filtered_wgEncodeAwgDnaseMasterSites.hg38.bed\n",
    "$BEDTOOLS genomecov -i sorted_filtered_wgEncodeAwgDnaseMasterSites.hg38.bed  -g $CHROMSIZES"
   ]
  },
  {
   "cell_type": "markdown",
   "metadata": {},
   "source": [
    "Running this on our cluster gives the following genome-wide output:"
   ]
  },
  {
   "cell_type": "markdown",
   "metadata": {},
   "source": [
    "| depth | length | total | fraction  | \n",
    "|------|--------|-------|----|\n",
    "| 0 | 2663458615 | 3099750718 | 0.859 |\n",
    "| 1 | 436088249 | 3099750718 | 0.141 |\n",
    "| 2 | 203511 | 3099750718 | 6.57e-05 |\n",
    "| 3 | 343 | 3099750718 | 1.11e-07 |"
   ]
  },
  {
   "cell_type": "markdown",
   "metadata": {},
   "source": [
    "This shows that the Encode hypersensitivy regions cover slightly under 15% of the genome, with a very small number of self-overlaps. "
   ]
  },
  {
   "cell_type": "markdown",
   "metadata": {},
   "source": [
    "### Sanity Check\n",
    "Let's run this on the orignal (pre-lift over) hg19 bed file and verify that this depth signature is approximately the same. "
   ]
  },
  {
   "cell_type": "raw",
   "metadata": {},
   "source": [
    "DNASEBED=/mnt/ceph/users/arives/dc_project/encode_master_sites/wgEncodeAwgDnaseMasterSites.bed\n",
    "CHROMSIZES=~/igv/genomes/hg19.chrome.sizes # pulled from https://genome.ucsc.edu/goldenpath/help/hg19.chrom.sizes\n",
    "\n",
    "cut -f 1 $DNASEBED > chrs_Dnase\n",
    "cut -f 1 $CHROMSIZES  > chrs_hg19\n",
    "comm -1 <(sort -u chrs_hg19) <(sort -u chrs_Dnase) > chrs_only_in_chrs_Dnase\n",
    "grep -v -f chrs_only_in_chrs_Dnase $DNASEBED > filtered_wgEncodeAwgDnaseMasterSites.hg19.bed\n",
    "$BEDTOOLS sort -i filtered_wgEncodeAwgDnaseMasterSites.hg19.bed > sorted_filtered_wgEncodeAwgDnaseMasterSites.hg19.bed\n",
    "$BEDTOOLS genomecov -i sorted_filtered_wgEncodeAwgDnaseMasterSites.hg19.bed  -g $CHROMSIZES"
   ]
  },
  {
   "cell_type": "markdown",
   "metadata": {},
   "source": [
    "Genome-wide Output:"
   ]
  },
  {
   "cell_type": "markdown",
   "metadata": {},
   "source": [
    "| depth | length | total | fraction  | \n",
    "|------|--------|-------|----|\n",
    "| 0 | 2703081244 | 3137161264 | 0.862 |\n",
    "| 1 | 434080020 | 3137161264 | 0.138 |"
   ]
  },
  {
   "cell_type": "markdown",
   "metadata": {},
   "source": [
    "Therefore this ~200kb overlap of hypersensitivity sites is the result of conversion from hg19 to hg38"
   ]
  },
  {
   "cell_type": "markdown",
   "metadata": {},
   "source": [
    "The quick fix I'll use for now is to use bedtools merge with a -d 10 (this will merge intervals within 10 bps). http://bedtools.readthedocs.io/en/latest/content/tools/merge.html"
   ]
  },
  {
   "cell_type": "raw",
   "metadata": {},
   "source": [
    "$BEDTOOLS merge -d 10 -i sorted_filtered_wgEncodeAwgDnaseMasterSites.hg38.bed > merged_sorted_filtered_wgEncodeAwgDnaseMasterSites.hg38.bed"
   ]
  },
  {
   "cell_type": "markdown",
   "metadata": {},
   "source": [
    "| depth | length | total | fraction  | \n",
    "|------|--------|-------|----|\n",
    "| 0 | 2661936787 | 3099750718 | 0.859 |\n",
    "| 1 | 437813931 | 3099750718 | 0.141 |"
   ]
  },
  {
   "cell_type": "markdown",
   "metadata": {},
   "source": [
    "### Problem Setup\n",
    "We will set the Encode hypersensitivy regions as the gold standard. Predicted peaks from peakdeck that overlap with these regions will be considered TPs, predicted peaks that don't overlap will be considered FPs, and hypersensitivy regions that don't overlap with any predicted peaks will be FNs. "
   ]
  },
  {
   "cell_type": "markdown",
   "metadata": {},
   "source": [
    "### TBD\n",
    "We have data from 22 samples. Should their peaks be combined? Let's first do a quick sanity check to make sure there aren't outliers. We can look at the peakdeck output bed files for fraction of intersections out of all intervals, and do a heatmap of distance across all samples. "
   ]
  },
  {
   "cell_type": "code",
   "execution_count": null,
   "metadata": {
    "collapsed": true
   },
   "outputs": [],
   "source": [
    "$BEDTOOLS merge -i accessible.sorted.bed > allpeaks.bed\n",
    "$BEDTOOLS coverage -i -f 1E-8 -counts -a allpeaks.bed -b merged_sorted_filtered_wgEncodeAwgDnaseMasterSites.hg38.bed\n",
    " # -f\tMinimum overlap required as a fraction of A. Default is 1E-9 (i.e. 1bp).\n"
   ]
  },
  {
   "cell_type": "markdown",
   "metadata": {},
   "source": [
    "### Sample peakdeck output"
   ]
  },
  {
   "cell_type": "raw",
   "metadata": {},
   "source": [
    "genome\t0\t3068581393\t3099750718\t0.989945\n",
    "genome\t1\t29754825\t3099750718\t0.0095991\n",
    "genome\t2\t1311650\t3099750718\t0.000423147\n",
    "genome\t3\t96875\t3099750718\t3.12525e-05\n",
    "genome\t4\t5400\t3099750718\t1.74208e-06\n",
    "genome\t5\t550\t3099750718\t1.77434e-07\n",
    "genome\t6\t25\t3099750718\t8.06516e-09"
   ]
  },
  {
   "cell_type": "markdown",
   "metadata": {},
   "source": [
    "Tricky bit: I want to merge this bed file, but I want to keep the lowest p-value for merged regions. Let's see what happens if I do a naive merge: "
   ]
  },
  {
   "cell_type": "code",
   "execution_count": null,
   "metadata": {
    "collapsed": true
   },
   "outputs": [],
   "source": [
    "SAMPLEBED=out/out/24h_mock_D185_20150601_S10/24h_mock_D185_20150601_S10.peakdeck.300bps.3000b.out.bed\n",
    "$BEDTOOLS merge -i $SAMPLEBED > new_sample.bed\n"
   ]
  },
  {
   "cell_type": "raw",
   "metadata": {},
   "source": [
    "New coverage output\n",
    "genome\t0\t3068581393\t3099750718\t0.989945\n",
    "genome\t1\t31169325\t3099750718\t0.0100554\n",
    "Problem: merge got rid of the extra columns (p value!)\n",
    "Solution: use the -c and -o options from bedtools merg:\n",
    "$BEDTOOLS merge -c 4,5,6 -o min,min,min -i  $SAMPLEBED > new_sample.bed\n",
    "Problem: this is only available in bedtools 2.25, and we're running bedtools 2.17. \n",
    "Solution:\n",
    "BEDTOOLS=/mnt/xfs1/bioinfoCentos7/software/installs/bedtools/bedtools-2.25.0/bedtools\n",
    "$BEDTOOLS genomecov -i new_sample.bed  -g $CHROMSIZES\n"
   ]
  },
  {
   "cell_type": "code",
   "execution_count": null,
   "metadata": {
    "collapsed": true
   },
   "outputs": [],
   "source": []
  }
 ],
 "metadata": {
  "kernelspec": {
   "display_name": "Python 2",
   "language": "python",
   "name": "python2"
  },
  "language_info": {
   "codemirror_mode": {
    "name": "ipython",
    "version": 2
   },
   "file_extension": ".py",
   "mimetype": "text/x-python",
   "name": "python",
   "nbconvert_exporter": "python",
   "pygments_lexer": "ipython2",
   "version": "2.7.11"
  }
 },
 "nbformat": 4,
 "nbformat_minor": 0
}
