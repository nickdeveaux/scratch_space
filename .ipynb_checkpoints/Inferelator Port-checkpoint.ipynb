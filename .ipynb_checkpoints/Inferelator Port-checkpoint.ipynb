{
 "cells": [
  {
   "cell_type": "markdown",
   "metadata": {},
   "source": [
    "## Inferelator.R ported to python"
   ]
  },
  {
   "cell_type": "code",
   "execution_count": 78,
   "metadata": {
    "collapsed": true
   },
   "outputs": [],
   "source": [
    "import csv\n",
    "import numpy as np\n",
    "import matplotlib\n",
    "import matplotlib.pyplot as plt\n",
    "%matplotlib inline\n",
    "import pandas\n",
    "from scipy.stats import nbinom\n",
    "import seaborn\n",
    "import datetime\n",
    "import os\n",
    "import random"
   ]
  },
  {
   "cell_type": "code",
   "execution_count": 79,
   "metadata": {
    "collapsed": false
   },
   "outputs": [],
   "source": [
    "proc_time = datetime.datetime.now()"
   ]
  },
  {
   "cell_type": "code",
   "execution_count": 80,
   "metadata": {
    "collapsed": false
   },
   "outputs": [
    {
     "name": "stdout",
     "output_type": "stream",
     "text": [
      "2016-06-13\n"
     ]
    }
   ],
   "source": [
    "print proc_time.date()"
   ]
  },
  {
   "cell_type": "code",
   "execution_count": 81,
   "metadata": {
    "collapsed": false
   },
   "outputs": [],
   "source": [
    "def intersect(a, b):\n",
    "    return list(set(a) & set(b))"
   ]
  },
  {
   "cell_type": "code",
   "execution_count": 82,
   "metadata": {
    "collapsed": true
   },
   "outputs": [],
   "source": [
    "PARS = {}"
   ]
  },
  {
   "cell_type": "code",
   "execution_count": 83,
   "metadata": {
    "collapsed": false
   },
   "outputs": [],
   "source": [
    "PARS['input.dir'] = 'input/bsubtilis'\n",
    "PARS['exp.mat.file'] = 'expression.tsv'\n",
    "PARS['tf.names.file'] = 'tf_names.tsv'\n",
    "PARS['meta.data.file'] = 'meta_data.tsv'\n",
    "PARS['priors.file'] = None # 'gold_standard.tsv'\n",
    "PARS['gold.standard.file'] = None\n",
    "PARS['leave.out.file'] = None\n",
    "PARS['randomize.expression'] = False\n",
    "PARS['job.seed'] = 42  # set to None if a random seed should be used\n",
    "PARS['save.to.dir'] = None\n",
    "PARS['num.boots'] = 20\n",
    "PARS['max.preds'] = 10\n",
    "PARS['mi.bins'] = 10\n",
    "PARS['cores'] = 8\n",
    "PARS['delT.max'] = 110\n",
    "PARS['delT.min'] = 0\n",
    "PARS['tau'] = 45\n",
    "\n",
    "# I've modified these parameters to make them lists\n",
    "PARS['perc.tp'] = [0]\n",
    "PARS['perm.tp'] = [1]\n",
    "PARS['perc.fp'] = [0]\n",
    "PARS['perm.fp'] = [1]\n",
    "PARS['pr.sel.mode'] = 'random'  # prior selection mode: 'random' or 'tf'\n",
    "PARS['eval.on.subset'] = False\n",
    "PARS['method'] = 'BBSR'  # 'BBSR' or 'MEN'\n",
    "PARS['prior.weight'] = 1\n",
    "PARS['use.tfa'] = False\n",
    "PARS['prior.ss'] = False\n",
    "PARS['output.summary'] = False\n",
    "PARS['output.report'] = False\n",
    "PARS['output.tf.plots'] = False\n",
    "# so['e of the elastic net parameters that are essentially constants;\n",
    "# on['y override in config script if you know what you are doing\n",
    "PARS['enet.sparseModels'] = True    # sparser models\n",
    "PARS['enet.nCv'] = 10               # number of cross-validations\n",
    "PARS['enet.lambda'] = [0, 1, 100]  # l2 weights\n",
    "PARS['enet.verbose'] = False        # print progress to screen\n",
    "PARS['enet.plot.it'] = False        # generate cross-validation plots\n",
    "PARS['enet.plot.file.name'] = None  # file name for plots\n",
    "PARS['method'] = 'BBSR'  # which method to use; either 'MEN' or 'BBSR'\n",
    "PARS['prior.weight'] = 1  # the weight for the priors; has to be larger than 1\n",
    "# fo[' priors to have an effect\n",
    "PARS['output.summary'] = True  # write a summary tsv and RData file of network\n",
    "PARS['output.report'] = True  # create html network report\n",
    "PARS['output.tf.plots'] = True  # create png files with plots of TFs and targets"
   ]
  },
  {
   "cell_type": "code",
   "execution_count": 84,
   "metadata": {
    "collapsed": false
   },
   "outputs": [],
   "source": [
    "# Adding variable to point to top level\n",
    "PARS['top.level.dir'] = '/Users/ndeveaux/Dev/Inferelator/'"
   ]
  },
  {
   "cell_type": "code",
   "execution_count": 85,
   "metadata": {
    "collapsed": true
   },
   "outputs": [],
   "source": [
    "def trivial_meta_data(column_names):\n",
    "    meta_data = pandas.DataFrame({'condName': column_names})\n",
    "    meta_data['isTs'] = False\n",
    "    meta_data['is1stLast'] = 'e'\n",
    "    meta_data['prevCol'] = None\n",
    "    meta_data['del.t'] = None\n",
    "    return meta_data"
   ]
  },
  {
   "cell_type": "code",
   "execution_count": 86,
   "metadata": {
    "collapsed": false
   },
   "outputs": [],
   "source": [
    "# I removed the read RData capability from read_input\n",
    "def read_input(input_dir, exp_mat_file, tf_names_file, meta_data_file, \n",
    "                       priors_file, gold_standard_file, leave_out_file, randomize_expression):\n",
    "  IN = {}\n",
    "  \n",
    "  print('Reading input: expression matrix')\n",
    "  IN['exp.mat'] = pandas.read_csv(os.path.join(input_dir, exp_mat_file), header=0, sep='\\t')\n",
    "  \n",
    "  print('Reading TF names')\n",
    "  IN['tf.names'] = list(set(pandas.read_csv(os.path.join(input_dir, tf_names_file), header=None, squeeze=True)))\n",
    "  \n",
    "  IN['tf.with.expr'] = intersect(IN['tf.names'], IN['exp.mat'].index)\n",
    "\n",
    "  print('reading metadata')\n",
    "  if meta_data_file: \n",
    "      IN['meta.data'] = pandas.read_csv(os.path.join(input_dir, meta_data_file), \n",
    "                                 header=0, sep='\\t')    \n",
    "  # no meta data given - assume all steady state measurements\n",
    "  else: \n",
    "      IN['meta.data'] = trivial_meta_data(IN['exp.mat'].columns)\n",
    "\n",
    "  \n",
    "  print('reading leave-out file')\n",
    "  # if there is a leave-out file, ignore some conditions\n",
    "  if leave_out_file:\n",
    "    leave_out = pandas.read_csv(os.path.join(input_dir, leave_out_file), header=None, squeeze=True)\n",
    "    print('Leaving out the following conditions: ' + leave_out)\n",
    "    print '{} of {} are present in the expression data'.format(\n",
    "        len(intersect(leave_out, list(IN['exp.mat'].columns))), len(leave_out))\n",
    "    # TODO implement leaveout\n",
    "  \n",
    "  \n",
    "  print('reading priors matrix')\n",
    "  IN['priors.mat'] = None\n",
    "  if priors_file:\n",
    "    IN['priors.mat'] = pandas.read_csv(os.path.join(input_dir, priors_file), header=0)\n",
    "    \n",
    "    # TODO write the reshape prior function (currently implement in R_scripts/utils.R)\n",
    "    # IN$priors.mat <- reshape.prior(IN$priors.mat, rownames(IN$exp.mat), IN$tf.names)\n",
    "  \n",
    "\n",
    "  print('reading gold standard matrix')\n",
    "  IN['gs.mat'] = None\n",
    "  if gold_standard_file:\n",
    "    IN['gs.mat'] = pandas.read_csv(os.path.join(input_dir, gold_standard_file),\n",
    "                                   header=0, sep='\\t')\n",
    "    # TODO write the reshape prior function (currently implement in R_scripts/utils.R)      \n",
    "    #IN$gs.mat <- reshape.prior(IN$gs.mat, rownames(IN$exp.mat), IN$tf.names)\n",
    "  \n",
    "  print(' ... done.')\n",
    "  \n",
    "  if randomize_expression:\n",
    "    print('randomize_expression is set to TRUE; randomizing expression matrix ...')\n",
    "    old_df = IN['exp.mat']\n",
    "    new_rows = np.random.permutation(IN['exp.mat'].shape[0])\n",
    "    new_cols = np.random.permutation(IN['exp.mat'].shape[1])\n",
    "    for row in range(IN['exp.mat'].shape[0]):\n",
    "        for col in range(IN['exp.mat'].shape[1]):\n",
    "            IN['exp.mat'].ix[row, col] = old_df.ix[new_rows[row], new_cols[col]]\n",
    "    print(' done.\\n')\n",
    "  \n",
    "  return IN"
   ]
  },
  {
   "cell_type": "code",
   "execution_count": 87,
   "metadata": {
    "collapsed": false
   },
   "outputs": [],
   "source": [
    " # TODO: figure out if this is needed, if not, remove it\n",
    "    # create dummy clusterStack - a real clusterStack is only needed when inferring \n",
    "    # on bi-clusters\n",
    "   # clusterStack <- trivial.cluster.stack(IN$exp.mat)"
   ]
  },
  {
   "cell_type": "code",
   "execution_count": 88,
   "metadata": {
    "collapsed": false
   },
   "outputs": [
    {
     "name": "stdout",
     "output_type": "stream",
     "text": [
      "Reading input: expression matrix\n",
      "Reading TF names\n",
      "reading metadata\n",
      "reading leave-out file\n",
      "reading priors matrix\n",
      "reading gold standard matrix\n",
      " ... done.\n"
     ]
    }
   ],
   "source": [
    "IN = read_input(os.path.join(PARS['top.level.dir'], PARS['input.dir']),PARS['exp.mat.file'], PARS['tf.names.file'], PARS['meta.data.file'], \n",
    "                       PARS['priors.file'], PARS['gold.standard.file'], PARS['leave.out.file'], PARS['randomize.expression'])"
   ]
  },
  {
   "cell_type": "code",
   "execution_count": 89,
   "metadata": {
    "collapsed": false
   },
   "outputs": [
    {
     "name": "stdout",
     "output_type": "stream",
     "text": [
      "Output dir: /Users/ndeveaux/Dev/Inferelator/input/bsubtilis/2016-06-13\n"
     ]
    }
   ],
   "source": [
    "if not PARS['save.to.dir']:\n",
    "  PARS['save.to.dir'] = os.path.join(PARS['top.level.dir'], PARS['input.dir'],str(proc_time.date()))\n",
    "print \"Output dir: \" + PARS['save.to.dir']\n",
    "if not os.path.exists(PARS['save.to.dir']):\n",
    "  os.makedirs(PARS['save.to.dir'])\n",
    "elif os.path.exists(os.path.join(PARS['save.to.dir'], \"/params_and_input\")):\n",
    "  print 'The output file {} already exists. Exiting.'.format(os.path.join(PARS['save.to.dir'], \"/params_and_input\"))\n",
    "  # TODO find a way to Exit here\n"
   ]
  },
  {
   "cell_type": "markdown",
   "metadata": {},
   "source": [
    "## Creating design and response matrices"
   ]
  },
  {
   "cell_type": "code",
   "execution_count": 90,
   "metadata": {
    "collapsed": true
   },
   "outputs": [],
   "source": [
    "# design matrix is same as exp.mat leaving out last time points\n",
    "# response matrix is same as design for steady state; linear interpolation else\n",
    "def design_and_response(meta_data, exp_mat, delT_min, delT_max, tau):\n",
    "    cond = meta_data['condName']\n",
    "    prev = meta_data['prevCol']\n",
    "    delt = meta_data['del.t'] \n",
    "    \n",
    "    # the following operations (setting a value on a copy of a slice from a DataFrame) are not allowed with pandas\n",
    "    # break time series if del.t is larger than delT.max\n",
    "    # prev[delt > delT.max] <- NA\n",
    "    # delt[delt > delT.max] <- NA\n",
    "    \n",
    "    if set(meta_data['condName']) != set(exp_mat.columns):\n",
    "        print 'There are set differences between cond and exp mat'\n",
    "        \n",
    "        # Check that the condNames and the exp_mat columns are in sync:\n",
    "        mismatched_condNames = meta_data['condName'][meta_data['condName'] != exp_mat.columns]\n",
    "        \n",
    "        # This actually discovered a crucial difference between R data frames and pandas:\n",
    "        # R dataframes allow there to be two columns with the same name, but pandas won't \n",
    "        # Key example: Mt0_1 exists twice in expression data\n",
    "        if len(mismatched_condNames) > 0:\n",
    "            print \"There are rows in expression matrix that don't match metadata\"\n",
    "            print mismatched_condNames\n",
    "            correct_col_names = list(exp_mat.columns[meta_data['condName'] != exp_mat.columns])\n",
    "            print correct_col_names\n",
    "            # These can be set using the loc function:\n",
    "            meta_data['condName'][meta_data['condName'] != exp_mat.columns] = correct_col_names\n",
    "            \n",
    "        mismatched_condNames = meta_data['condName'][meta_data['condName'] != exp_mat.columns]\n",
    "        if len(mismatched_condNames) > 0:\n",
    "            print 'Rewrite Failed'\n",
    "    \n",
    "    if set(meta_data['condName']) != set(exp_mat.columns):\n",
    "        print 'There are still set differences between cond and exp mat'\n",
    "    else:\n",
    "        print 'All good'\n",
    "    \n",
    "    # Handle steady state conditions first\n",
    "    # Steady state is defined as not having a previous state, and not being any other state's previous state\n",
    "    steady = prev.isnull() & (cond.isin(prev) != True)\n",
    "    \n",
    "    # Having run the R code, the only difference I see in the des_matrix from exp_is the ordering. \n",
    "    # Let's try that for now\n",
    "    des_matrix = pandas.concat([pandas.DataFrame(exp_mat[cond[steady]]), pandas.DataFrame(exp_mat[cond[steady != True]])], axis = 1)\n",
    "    res_matrix = pandas.DataFrame(des_matrix)\n",
    "    \n",
    "    # This creates a 4218 row by  242 column matrix whose values are columns going from 1... 242\n",
    "    # resp.idx <- t(matrix(1:ncol(res.mat), ncol(res.mat), nrow(exp.mat)))\n",
    "    \n",
    "    # Having run the R code, the only difference I see in the des_matrix from exp_is the ordering. \n",
    "    return des_matrix, res_matrix\n",
    "        \n"
   ]
  },
  {
   "cell_type": "code",
   "execution_count": 91,
   "metadata": {
    "collapsed": false
   },
   "outputs": [
    {
     "name": "stdout",
     "output_type": "stream",
     "text": [
      "There are set differences between cond and exp mat\n",
      "There are rows in expression matrix that don't match metadata\n",
      "85    Mt0_1\n",
      "88    Mt0_2\n",
      "91    Mt0_3\n",
      "Name: condName, dtype: object\n",
      "['Mt0_1.1', 'Mt0_2.1', 'Mt0_3.1']\n",
      "All good\n"
     ]
    },
    {
     "name": "stderr",
     "output_type": "stream",
     "text": [
      "/anaconda/lib/python2.7/site-packages/ipykernel/__main__.py:28: SettingWithCopyWarning: \n",
      "A value is trying to be set on a copy of a slice from a DataFrame\n",
      "\n",
      "See the caveats in the documentation: http://pandas.pydata.org/pandas-docs/stable/indexing.html#indexing-view-versus-copy\n"
     ]
    }
   ],
   "source": [
    "des_matrix, res_matrix = design_and_response(IN['meta.data'], IN['exp.mat'], PARS['delT.min'], \n",
    "                               PARS['delT.max'], PARS['tau'])\n"
   ]
  },
  {
   "cell_type": "markdown",
   "metadata": {},
   "source": [
    "## Parse Priors"
   ]
  },
  {
   "cell_type": "code",
   "execution_count": 92,
   "metadata": {
    "collapsed": false
   },
   "outputs": [],
   "source": [
    "# this function used to be important when we would iterate over the priors matrix and take samples/permutations\n",
    "# But all it does now is return the prior matrix\n",
    "def get_priors(exp_mat, tf_names, priors_mat, gs_mat, eval_on_subset, \n",
    "                      job_seed, perc_tp, perm_tp, perc_fp, perm_fp, sel_mode):\n",
    "    if priors_mat is None:\n",
    "        # Create a zero'd out DataFrame\n",
    "        priors_mat = pandas.DataFrame([[0 for x in range(len(tf_names))] for y in range(len(exp_mat.index))])\n",
    "        priors_mat.columns = tf_names\n",
    "        priors_mat.index = exp_mat.index\n",
    "        \n",
    "        \n",
    "    # priors.pars is list of prior parameters; every entry is a vector of four\n",
    "    # elements: perc.tp, tp permutation number, perc.fp, fp permutation number\n",
    "    priors_parameters = []\n",
    "    \n",
    "    # I tried to implement the length check but it seems silly in python since these aren't even vectors, they're scalars.\n",
    "    \n",
    "    lengths = [len(x) for x in [perc_tp, perm_tp, perc_fp, perm_fp]]\n",
    "    print lengths\n",
    "    if len(set(lengths)) != 1:\n",
    "        print \"\"\"Error parsing prior parameters: perc.tp, perm.tp, perc.fp, perm.fp \\\n",
    "        don't have the same length.\"\"\"\n",
    "        \n",
    "    for i in range(next(iter(set(lengths)))):\n",
    "        # Get the modulo remainder\n",
    "        rmndr = max(perm_tp[i], perm_fp[i]) % min(perm_tp[i], perm_fp[i])\n",
    "        if (rmndr != 0):\n",
    "            print\"\"\"Error parsing prior parameters: Larger number of permutations is \\\n",
    "            not multiple of smaller number.\"\"\"\n",
    "        priors_parameters.append([perc_tp, perm_tp, perc_fp, perm_fp])\n",
    "        \n",
    "    for pp in priors_parameters:\n",
    "        # priors[[i]] <- Matrix(0, nrow(priors.mat), ncol(priors.mat), dimnames=dimnames(priors.mat))\n",
    "        prior_names = 'frac_tp_{}_perm_{}--frac_fp_{}_perm_{}'.format(pp[0], pp[1], pp[2], pp[3])\n",
    "        \n",
    "    # Ignore the hundreds of lines of R code in priors.R\n",
    "    \n",
    "    return priors_mat, prior_names\n",
    "        "
   ]
  },
  {
   "cell_type": "code",
   "execution_count": 93,
   "metadata": {
    "collapsed": false
   },
   "outputs": [
    {
     "name": "stdout",
     "output_type": "stream",
     "text": [
      "[1, 1, 1, 1]\n"
     ]
    }
   ],
   "source": [
    "priors_mat, prior_name = get_priors(IN['exp.mat'], IN['tf.names'], IN['priors.mat'], IN['gs.mat'], \n",
    "                       PARS['eval.on.subset'], PARS['job.seed'], PARS['perc.tp'],\n",
    "                       PARS['perm.tp'], PARS['perc.fp'], PARS['perm.fp'], \n",
    "                       PARS['pr.sel.mode'])"
   ]
  },
  {
   "cell_type": "markdown",
   "metadata": {},
   "source": [
    "## Bootstrap"
   ]
  },
  {
   "cell_type": "code",
   "execution_count": 94,
   "metadata": {
    "collapsed": false
   },
   "outputs": [],
   "source": [
    "# set up the bootstrap permutations\n",
    "# By sampling with replacement from the num cols of the result matrix\n",
    "col_range = range(len(res_matrix.columns))\n",
    "IN['bs.pi'] = pandas.DataFrame([[random.choice(col_range) for x in col_range] for y in range(PARS['num.boots'])])"
   ]
  },
  {
   "cell_type": "code",
   "execution_count": 95,
   "metadata": {
    "collapsed": false
   },
   "outputs": [
    {
     "data": {
      "text/html": [
       "<div>\n",
       "<table border=\"1\" class=\"dataframe\">\n",
       "  <thead>\n",
       "    <tr style=\"text-align: right;\">\n",
       "      <th></th>\n",
       "      <th>0</th>\n",
       "      <th>1</th>\n",
       "      <th>2</th>\n",
       "      <th>3</th>\n",
       "      <th>4</th>\n",
       "      <th>5</th>\n",
       "      <th>6</th>\n",
       "      <th>7</th>\n",
       "      <th>8</th>\n",
       "      <th>9</th>\n",
       "      <th>...</th>\n",
       "      <th>259</th>\n",
       "      <th>260</th>\n",
       "      <th>261</th>\n",
       "      <th>262</th>\n",
       "      <th>263</th>\n",
       "      <th>264</th>\n",
       "      <th>265</th>\n",
       "      <th>266</th>\n",
       "      <th>267</th>\n",
       "      <th>268</th>\n",
       "    </tr>\n",
       "  </thead>\n",
       "  <tbody>\n",
       "    <tr>\n",
       "      <th>0</th>\n",
       "      <td>68</td>\n",
       "      <td>151</td>\n",
       "      <td>180</td>\n",
       "      <td>28</td>\n",
       "      <td>5</td>\n",
       "      <td>184</td>\n",
       "      <td>48</td>\n",
       "      <td>22</td>\n",
       "      <td>68</td>\n",
       "      <td>27</td>\n",
       "      <td>...</td>\n",
       "      <td>107</td>\n",
       "      <td>60</td>\n",
       "      <td>211</td>\n",
       "      <td>113</td>\n",
       "      <td>122</td>\n",
       "      <td>169</td>\n",
       "      <td>208</td>\n",
       "      <td>184</td>\n",
       "      <td>84</td>\n",
       "      <td>261</td>\n",
       "    </tr>\n",
       "    <tr>\n",
       "      <th>1</th>\n",
       "      <td>84</td>\n",
       "      <td>252</td>\n",
       "      <td>20</td>\n",
       "      <td>21</td>\n",
       "      <td>15</td>\n",
       "      <td>254</td>\n",
       "      <td>100</td>\n",
       "      <td>0</td>\n",
       "      <td>48</td>\n",
       "      <td>261</td>\n",
       "      <td>...</td>\n",
       "      <td>201</td>\n",
       "      <td>187</td>\n",
       "      <td>127</td>\n",
       "      <td>241</td>\n",
       "      <td>194</td>\n",
       "      <td>25</td>\n",
       "      <td>119</td>\n",
       "      <td>71</td>\n",
       "      <td>1</td>\n",
       "      <td>50</td>\n",
       "    </tr>\n",
       "    <tr>\n",
       "      <th>2</th>\n",
       "      <td>159</td>\n",
       "      <td>82</td>\n",
       "      <td>203</td>\n",
       "      <td>155</td>\n",
       "      <td>5</td>\n",
       "      <td>246</td>\n",
       "      <td>130</td>\n",
       "      <td>49</td>\n",
       "      <td>232</td>\n",
       "      <td>111</td>\n",
       "      <td>...</td>\n",
       "      <td>65</td>\n",
       "      <td>68</td>\n",
       "      <td>42</td>\n",
       "      <td>241</td>\n",
       "      <td>142</td>\n",
       "      <td>105</td>\n",
       "      <td>1</td>\n",
       "      <td>246</td>\n",
       "      <td>162</td>\n",
       "      <td>136</td>\n",
       "    </tr>\n",
       "    <tr>\n",
       "      <th>3</th>\n",
       "      <td>240</td>\n",
       "      <td>106</td>\n",
       "      <td>9</td>\n",
       "      <td>265</td>\n",
       "      <td>210</td>\n",
       "      <td>55</td>\n",
       "      <td>40</td>\n",
       "      <td>187</td>\n",
       "      <td>146</td>\n",
       "      <td>170</td>\n",
       "      <td>...</td>\n",
       "      <td>34</td>\n",
       "      <td>104</td>\n",
       "      <td>82</td>\n",
       "      <td>208</td>\n",
       "      <td>224</td>\n",
       "      <td>112</td>\n",
       "      <td>25</td>\n",
       "      <td>153</td>\n",
       "      <td>46</td>\n",
       "      <td>128</td>\n",
       "    </tr>\n",
       "    <tr>\n",
       "      <th>4</th>\n",
       "      <td>79</td>\n",
       "      <td>55</td>\n",
       "      <td>188</td>\n",
       "      <td>131</td>\n",
       "      <td>48</td>\n",
       "      <td>41</td>\n",
       "      <td>167</td>\n",
       "      <td>18</td>\n",
       "      <td>84</td>\n",
       "      <td>1</td>\n",
       "      <td>...</td>\n",
       "      <td>182</td>\n",
       "      <td>142</td>\n",
       "      <td>41</td>\n",
       "      <td>183</td>\n",
       "      <td>121</td>\n",
       "      <td>82</td>\n",
       "      <td>254</td>\n",
       "      <td>242</td>\n",
       "      <td>94</td>\n",
       "      <td>250</td>\n",
       "    </tr>\n",
       "    <tr>\n",
       "      <th>5</th>\n",
       "      <td>58</td>\n",
       "      <td>256</td>\n",
       "      <td>197</td>\n",
       "      <td>151</td>\n",
       "      <td>157</td>\n",
       "      <td>248</td>\n",
       "      <td>157</td>\n",
       "      <td>159</td>\n",
       "      <td>128</td>\n",
       "      <td>0</td>\n",
       "      <td>...</td>\n",
       "      <td>25</td>\n",
       "      <td>23</td>\n",
       "      <td>260</td>\n",
       "      <td>54</td>\n",
       "      <td>148</td>\n",
       "      <td>94</td>\n",
       "      <td>19</td>\n",
       "      <td>133</td>\n",
       "      <td>52</td>\n",
       "      <td>58</td>\n",
       "    </tr>\n",
       "    <tr>\n",
       "      <th>6</th>\n",
       "      <td>177</td>\n",
       "      <td>39</td>\n",
       "      <td>125</td>\n",
       "      <td>172</td>\n",
       "      <td>105</td>\n",
       "      <td>113</td>\n",
       "      <td>190</td>\n",
       "      <td>107</td>\n",
       "      <td>191</td>\n",
       "      <td>247</td>\n",
       "      <td>...</td>\n",
       "      <td>210</td>\n",
       "      <td>216</td>\n",
       "      <td>247</td>\n",
       "      <td>0</td>\n",
       "      <td>251</td>\n",
       "      <td>163</td>\n",
       "      <td>122</td>\n",
       "      <td>105</td>\n",
       "      <td>71</td>\n",
       "      <td>139</td>\n",
       "    </tr>\n",
       "    <tr>\n",
       "      <th>7</th>\n",
       "      <td>23</td>\n",
       "      <td>153</td>\n",
       "      <td>233</td>\n",
       "      <td>200</td>\n",
       "      <td>135</td>\n",
       "      <td>81</td>\n",
       "      <td>114</td>\n",
       "      <td>256</td>\n",
       "      <td>134</td>\n",
       "      <td>157</td>\n",
       "      <td>...</td>\n",
       "      <td>99</td>\n",
       "      <td>58</td>\n",
       "      <td>32</td>\n",
       "      <td>92</td>\n",
       "      <td>67</td>\n",
       "      <td>119</td>\n",
       "      <td>165</td>\n",
       "      <td>173</td>\n",
       "      <td>213</td>\n",
       "      <td>105</td>\n",
       "    </tr>\n",
       "    <tr>\n",
       "      <th>8</th>\n",
       "      <td>208</td>\n",
       "      <td>102</td>\n",
       "      <td>54</td>\n",
       "      <td>94</td>\n",
       "      <td>180</td>\n",
       "      <td>66</td>\n",
       "      <td>200</td>\n",
       "      <td>180</td>\n",
       "      <td>211</td>\n",
       "      <td>28</td>\n",
       "      <td>...</td>\n",
       "      <td>68</td>\n",
       "      <td>231</td>\n",
       "      <td>114</td>\n",
       "      <td>115</td>\n",
       "      <td>162</td>\n",
       "      <td>85</td>\n",
       "      <td>80</td>\n",
       "      <td>246</td>\n",
       "      <td>102</td>\n",
       "      <td>231</td>\n",
       "    </tr>\n",
       "    <tr>\n",
       "      <th>9</th>\n",
       "      <td>266</td>\n",
       "      <td>77</td>\n",
       "      <td>68</td>\n",
       "      <td>125</td>\n",
       "      <td>194</td>\n",
       "      <td>56</td>\n",
       "      <td>189</td>\n",
       "      <td>97</td>\n",
       "      <td>225</td>\n",
       "      <td>68</td>\n",
       "      <td>...</td>\n",
       "      <td>44</td>\n",
       "      <td>111</td>\n",
       "      <td>138</td>\n",
       "      <td>172</td>\n",
       "      <td>200</td>\n",
       "      <td>11</td>\n",
       "      <td>140</td>\n",
       "      <td>217</td>\n",
       "      <td>181</td>\n",
       "      <td>178</td>\n",
       "    </tr>\n",
       "    <tr>\n",
       "      <th>10</th>\n",
       "      <td>216</td>\n",
       "      <td>243</td>\n",
       "      <td>228</td>\n",
       "      <td>238</td>\n",
       "      <td>223</td>\n",
       "      <td>96</td>\n",
       "      <td>143</td>\n",
       "      <td>82</td>\n",
       "      <td>30</td>\n",
       "      <td>74</td>\n",
       "      <td>...</td>\n",
       "      <td>135</td>\n",
       "      <td>232</td>\n",
       "      <td>46</td>\n",
       "      <td>130</td>\n",
       "      <td>97</td>\n",
       "      <td>180</td>\n",
       "      <td>176</td>\n",
       "      <td>203</td>\n",
       "      <td>95</td>\n",
       "      <td>22</td>\n",
       "    </tr>\n",
       "    <tr>\n",
       "      <th>11</th>\n",
       "      <td>124</td>\n",
       "      <td>163</td>\n",
       "      <td>17</td>\n",
       "      <td>252</td>\n",
       "      <td>193</td>\n",
       "      <td>250</td>\n",
       "      <td>17</td>\n",
       "      <td>183</td>\n",
       "      <td>261</td>\n",
       "      <td>69</td>\n",
       "      <td>...</td>\n",
       "      <td>260</td>\n",
       "      <td>20</td>\n",
       "      <td>174</td>\n",
       "      <td>1</td>\n",
       "      <td>7</td>\n",
       "      <td>250</td>\n",
       "      <td>218</td>\n",
       "      <td>204</td>\n",
       "      <td>84</td>\n",
       "      <td>78</td>\n",
       "    </tr>\n",
       "    <tr>\n",
       "      <th>12</th>\n",
       "      <td>13</td>\n",
       "      <td>210</td>\n",
       "      <td>113</td>\n",
       "      <td>199</td>\n",
       "      <td>11</td>\n",
       "      <td>125</td>\n",
       "      <td>224</td>\n",
       "      <td>49</td>\n",
       "      <td>266</td>\n",
       "      <td>110</td>\n",
       "      <td>...</td>\n",
       "      <td>230</td>\n",
       "      <td>92</td>\n",
       "      <td>112</td>\n",
       "      <td>37</td>\n",
       "      <td>201</td>\n",
       "      <td>230</td>\n",
       "      <td>234</td>\n",
       "      <td>260</td>\n",
       "      <td>122</td>\n",
       "      <td>208</td>\n",
       "    </tr>\n",
       "    <tr>\n",
       "      <th>13</th>\n",
       "      <td>141</td>\n",
       "      <td>194</td>\n",
       "      <td>19</td>\n",
       "      <td>30</td>\n",
       "      <td>9</td>\n",
       "      <td>241</td>\n",
       "      <td>253</td>\n",
       "      <td>217</td>\n",
       "      <td>206</td>\n",
       "      <td>205</td>\n",
       "      <td>...</td>\n",
       "      <td>217</td>\n",
       "      <td>34</td>\n",
       "      <td>193</td>\n",
       "      <td>233</td>\n",
       "      <td>59</td>\n",
       "      <td>206</td>\n",
       "      <td>110</td>\n",
       "      <td>250</td>\n",
       "      <td>175</td>\n",
       "      <td>74</td>\n",
       "    </tr>\n",
       "    <tr>\n",
       "      <th>14</th>\n",
       "      <td>231</td>\n",
       "      <td>167</td>\n",
       "      <td>121</td>\n",
       "      <td>102</td>\n",
       "      <td>31</td>\n",
       "      <td>116</td>\n",
       "      <td>91</td>\n",
       "      <td>36</td>\n",
       "      <td>206</td>\n",
       "      <td>200</td>\n",
       "      <td>...</td>\n",
       "      <td>72</td>\n",
       "      <td>61</td>\n",
       "      <td>118</td>\n",
       "      <td>124</td>\n",
       "      <td>189</td>\n",
       "      <td>251</td>\n",
       "      <td>210</td>\n",
       "      <td>250</td>\n",
       "      <td>73</td>\n",
       "      <td>21</td>\n",
       "    </tr>\n",
       "    <tr>\n",
       "      <th>15</th>\n",
       "      <td>119</td>\n",
       "      <td>121</td>\n",
       "      <td>105</td>\n",
       "      <td>129</td>\n",
       "      <td>200</td>\n",
       "      <td>130</td>\n",
       "      <td>165</td>\n",
       "      <td>16</td>\n",
       "      <td>165</td>\n",
       "      <td>207</td>\n",
       "      <td>...</td>\n",
       "      <td>109</td>\n",
       "      <td>155</td>\n",
       "      <td>24</td>\n",
       "      <td>122</td>\n",
       "      <td>69</td>\n",
       "      <td>61</td>\n",
       "      <td>59</td>\n",
       "      <td>253</td>\n",
       "      <td>22</td>\n",
       "      <td>107</td>\n",
       "    </tr>\n",
       "    <tr>\n",
       "      <th>16</th>\n",
       "      <td>157</td>\n",
       "      <td>2</td>\n",
       "      <td>69</td>\n",
       "      <td>238</td>\n",
       "      <td>110</td>\n",
       "      <td>265</td>\n",
       "      <td>148</td>\n",
       "      <td>226</td>\n",
       "      <td>237</td>\n",
       "      <td>88</td>\n",
       "      <td>...</td>\n",
       "      <td>129</td>\n",
       "      <td>71</td>\n",
       "      <td>57</td>\n",
       "      <td>225</td>\n",
       "      <td>183</td>\n",
       "      <td>253</td>\n",
       "      <td>36</td>\n",
       "      <td>164</td>\n",
       "      <td>51</td>\n",
       "      <td>183</td>\n",
       "    </tr>\n",
       "    <tr>\n",
       "      <th>17</th>\n",
       "      <td>254</td>\n",
       "      <td>48</td>\n",
       "      <td>41</td>\n",
       "      <td>239</td>\n",
       "      <td>155</td>\n",
       "      <td>259</td>\n",
       "      <td>207</td>\n",
       "      <td>50</td>\n",
       "      <td>218</td>\n",
       "      <td>19</td>\n",
       "      <td>...</td>\n",
       "      <td>195</td>\n",
       "      <td>224</td>\n",
       "      <td>1</td>\n",
       "      <td>124</td>\n",
       "      <td>263</td>\n",
       "      <td>102</td>\n",
       "      <td>267</td>\n",
       "      <td>82</td>\n",
       "      <td>263</td>\n",
       "      <td>0</td>\n",
       "    </tr>\n",
       "    <tr>\n",
       "      <th>18</th>\n",
       "      <td>51</td>\n",
       "      <td>21</td>\n",
       "      <td>104</td>\n",
       "      <td>57</td>\n",
       "      <td>34</td>\n",
       "      <td>92</td>\n",
       "      <td>24</td>\n",
       "      <td>20</td>\n",
       "      <td>186</td>\n",
       "      <td>167</td>\n",
       "      <td>...</td>\n",
       "      <td>12</td>\n",
       "      <td>266</td>\n",
       "      <td>165</td>\n",
       "      <td>18</td>\n",
       "      <td>78</td>\n",
       "      <td>47</td>\n",
       "      <td>193</td>\n",
       "      <td>26</td>\n",
       "      <td>219</td>\n",
       "      <td>146</td>\n",
       "    </tr>\n",
       "    <tr>\n",
       "      <th>19</th>\n",
       "      <td>216</td>\n",
       "      <td>192</td>\n",
       "      <td>132</td>\n",
       "      <td>9</td>\n",
       "      <td>193</td>\n",
       "      <td>12</td>\n",
       "      <td>176</td>\n",
       "      <td>246</td>\n",
       "      <td>72</td>\n",
       "      <td>103</td>\n",
       "      <td>...</td>\n",
       "      <td>101</td>\n",
       "      <td>107</td>\n",
       "      <td>255</td>\n",
       "      <td>47</td>\n",
       "      <td>67</td>\n",
       "      <td>135</td>\n",
       "      <td>114</td>\n",
       "      <td>239</td>\n",
       "      <td>190</td>\n",
       "      <td>27</td>\n",
       "    </tr>\n",
       "  </tbody>\n",
       "</table>\n",
       "<p>20 rows × 269 columns</p>\n",
       "</div>"
      ],
      "text/plain": [
       "    0    1    2    3    4    5    6    7    8    9   ...   259  260  261  262  \\\n",
       "0    68  151  180   28    5  184   48   22   68   27 ...   107   60  211  113   \n",
       "1    84  252   20   21   15  254  100    0   48  261 ...   201  187  127  241   \n",
       "2   159   82  203  155    5  246  130   49  232  111 ...    65   68   42  241   \n",
       "3   240  106    9  265  210   55   40  187  146  170 ...    34  104   82  208   \n",
       "4    79   55  188  131   48   41  167   18   84    1 ...   182  142   41  183   \n",
       "5    58  256  197  151  157  248  157  159  128    0 ...    25   23  260   54   \n",
       "6   177   39  125  172  105  113  190  107  191  247 ...   210  216  247    0   \n",
       "7    23  153  233  200  135   81  114  256  134  157 ...    99   58   32   92   \n",
       "8   208  102   54   94  180   66  200  180  211   28 ...    68  231  114  115   \n",
       "9   266   77   68  125  194   56  189   97  225   68 ...    44  111  138  172   \n",
       "10  216  243  228  238  223   96  143   82   30   74 ...   135  232   46  130   \n",
       "11  124  163   17  252  193  250   17  183  261   69 ...   260   20  174    1   \n",
       "12   13  210  113  199   11  125  224   49  266  110 ...   230   92  112   37   \n",
       "13  141  194   19   30    9  241  253  217  206  205 ...   217   34  193  233   \n",
       "14  231  167  121  102   31  116   91   36  206  200 ...    72   61  118  124   \n",
       "15  119  121  105  129  200  130  165   16  165  207 ...   109  155   24  122   \n",
       "16  157    2   69  238  110  265  148  226  237   88 ...   129   71   57  225   \n",
       "17  254   48   41  239  155  259  207   50  218   19 ...   195  224    1  124   \n",
       "18   51   21  104   57   34   92   24   20  186  167 ...    12  266  165   18   \n",
       "19  216  192  132    9  193   12  176  246   72  103 ...   101  107  255   47   \n",
       "\n",
       "    263  264  265  266  267  268  \n",
       "0   122  169  208  184   84  261  \n",
       "1   194   25  119   71    1   50  \n",
       "2   142  105    1  246  162  136  \n",
       "3   224  112   25  153   46  128  \n",
       "4   121   82  254  242   94  250  \n",
       "5   148   94   19  133   52   58  \n",
       "6   251  163  122  105   71  139  \n",
       "7    67  119  165  173  213  105  \n",
       "8   162   85   80  246  102  231  \n",
       "9   200   11  140  217  181  178  \n",
       "10   97  180  176  203   95   22  \n",
       "11    7  250  218  204   84   78  \n",
       "12  201  230  234  260  122  208  \n",
       "13   59  206  110  250  175   74  \n",
       "14  189  251  210  250   73   21  \n",
       "15   69   61   59  253   22  107  \n",
       "16  183  253   36  164   51  183  \n",
       "17  263  102  267   82  263    0  \n",
       "18   78   47  193   26  219  146  \n",
       "19   67  135  114  239  190   27  \n",
       "\n",
       "[20 rows x 269 columns]"
      ]
     },
     "execution_count": 95,
     "metadata": {},
     "output_type": "execute_result"
    }
   ],
   "source": [
    "IN['bs.pi']"
   ]
  },
  {
   "cell_type": "markdown",
   "metadata": {},
   "source": [
    "## TFA specific initialization\n",
    "Skipping for now, since use TFA set to false"
   ]
  },
  {
   "cell_type": "code",
   "execution_count": 96,
   "metadata": {
    "collapsed": false
   },
   "outputs": [],
   "source": [
    "des_matrix = des_matrix.ix[ IN['tf.with.expr'] , :]"
   ]
  },
  {
   "cell_type": "markdown",
   "metadata": {},
   "source": [
    "## Main Loop"
   ]
  },
  {
   "cell_type": "code",
   "execution_count": 97,
   "metadata": {
    "collapsed": true
   },
   "outputs": [],
   "source": [
    "betas = []\n",
    "betas_resc  = []\n",
    "bins = PARS['mi.bins']"
   ]
  },
  {
   "cell_type": "code",
   "execution_count": 98,
   "metadata": {
    "collapsed": true
   },
   "outputs": [],
   "source": [
    "i = 0 # replace this with a forloop"
   ]
  },
  {
   "cell_type": "code",
   "execution_count": 99,
   "metadata": {
    "collapsed": true
   },
   "outputs": [],
   "source": [
    "# set a random sample of the edges to zero\n",
    "# only need to do this if we have priors\n",
    "\n",
    "# group predictors just returns the design matrix, res and prior matrix if it finds no groups:\n",
    "# if no TF was excluded and no TFs were grouped, it returns the des, res, and prior."
   ]
  },
  {
   "cell_type": "code",
   "execution_count": 100,
   "metadata": {
    "collapsed": true
   },
   "outputs": [],
   "source": [
    "group_predictors = {}"
   ]
  },
  {
   "cell_type": "code",
   "execution_count": 101,
   "metadata": {
    "collapsed": false
   },
   "outputs": [],
   "source": [
    "X = des_matrix.ix[:, IN['bs.pi'].ix[i,:]]\n",
    "Y = res_matrix.ix[:, IN['bs.pi'].ix[i,:]]"
   ]
  },
  {
   "cell_type": "markdown",
   "metadata": {},
   "source": [
    "Reminder on mutual information:\n",
    "<img src=\"files/olah_mi.png\">\n"
   ]
  },
  {
   "cell_type": "code",
   "execution_count": 137,
   "metadata": {
    "collapsed": false
   },
   "outputs": [],
   "source": [
    "x = X.ix[200,:]\n",
    "y = X.ix[200,:]"
   ]
  },
  {
   "cell_type": "code",
   "execution_count": 138,
   "metadata": {
    "collapsed": false
   },
   "outputs": [
    {
     "data": {
      "image/png": "[encoded data removed]",
      "text/plain": [
       "<matplotlib.figure.Figure at 0x12181f550>"
      ]
     },
     "metadata": {},
     "output_type": "display_data"
    }
   ],
   "source": [
    "H, xedges, yedges = np.histogram2d(x,y,bins)\n",
    "plt.set_cmap('viridis')\n",
    "im = plt.imshow(H, interpolation='none', \n",
    "                extent=[xedges[0], xedges[-1], yedges[0], yedges[-1]])"
   ]
  },
  {
   "cell_type": "code",
   "execution_count": null,
   "metadata": {
    "collapsed": false
   },
   "outputs": [],
   "source": []
  },
  {
   "cell_type": "code",
   "execution_count": null,
   "metadata": {
    "collapsed": false
   },
   "outputs": [],
   "source": []
  },
  {
   "cell_type": "code",
   "execution_count": 139,
   "metadata": {
    "collapsed": false
   },
   "outputs": [],
   "source": [
    "def shannon_entropy(p):\n",
    "    # Since p represents a discrete prob dist, check for floating point approximation to 1.0\n",
    "    if not np.allclose(sum(p), 1.0): \n",
    "        raise Exception('Probabilities input to shannon entropy need to sum to 1')\n",
    "    return - sum([x * np.log2(x) for x in p if x != 0])"
   ]
  },
  {
   "cell_type": "code",
   "execution_count": 143,
   "metadata": {
    "collapsed": false
   },
   "outputs": [],
   "source": [
    "def calc_mi(x, y, bins):\n",
    "    hist, scale  = np.histogram(x, bins)\n",
    "    x_p = hist / float(sum(hist))\n",
    "    hist, scale = np.histogram(y, bins)\n",
    "    y_p = hist / float(sum(hist))\n",
    "    H, xscale, yscale = np.histogram2d(x ,y, bins)\n",
    "    joint_p = (H / float(sum(sum(H)))).flatten()\n",
    "    import pdb; pdb.set_trace()\n",
    "    return (shannon_entropy(y_p) + shannon_entropy(x_p)) - shannon_entropy(joint_p)"
   ]
  },
  {
   "cell_type": "code",
   "execution_count": 144,
   "metadata": {
    "collapsed": false
   },
   "outputs": [
    {
     "data": {
      "image/png": "[encoded data removed]",
      "text/plain": [
       "<matplotlib.figure.Figure at 0x11a284490>"
      ]
     },
     "metadata": {},
     "output_type": "display_data"
    }
   ],
   "source": [
    "hist, bins = np.histogram(X.ix[10,:],bins)\n",
    "width = 0.7 * (bins[1] - bins[0])\n",
    "center = (bins[:-1] + bins[1:]) / 2\n",
    "plt.bar(center, hist, align='center', width=width)\n",
    "plt.show()"
   ]
  },
  {
   "cell_type": "code",
   "execution_count": 145,
   "metadata": {
    "collapsed": false
   },
   "outputs": [
    {
     "name": "stdout",
     "output_type": "stream",
     "text": [
      "> <ipython-input-143-8308b29cb530>(9)calc_mi()\n",
      "-> return (shannon_entropy(y_p) + shannon_entropy(x_p)) - shannon_entropy(joint_p)\n",
      "(Pdb) shannon_entropy(y_p) + shannon_entropy(x_p)\n",
      "5.5035345525351653\n",
      "(Pdb) shannon_entropy(y_p)\n",
      "2.7517672762675827\n",
      "(Pdb) shannon_entropy(x_p)\n",
      "2.7517672762675827\n",
      "(Pdb) x_p\n",
      "array([ 0.03345725,  0.10408922,  0.10408922,  0.11524164,  0.26022305,\n",
      "        0.26394052,  0.07063197,  0.03345725,  0.00371747,  0.01115242])\n",
      "(Pdb) hist\n",
      "array([ 9, 28, 28, 31, 70, 71, 19,  9,  1,  3])\n",
      "(Pdb) c\n"
     ]
    },
    {
     "data": {
      "text/plain": [
       "2.7517672762675827"
      ]
     },
     "execution_count": 145,
     "metadata": {},
     "output_type": "execute_result"
    }
   ],
   "source": [
    "calc_mi(x, y, 10)"
   ]
  },
  {
   "cell_type": "code",
   "execution_count": 149,
   "metadata": {
    "collapsed": false
   },
   "outputs": [],
   "source": [
    "H, xscale, yscale = np.histogram2d(x ,y, 10)"
   ]
  },
  {
   "cell_type": "code",
   "execution_count": 150,
   "metadata": {
    "collapsed": false
   },
   "outputs": [
    {
     "data": {
      "text/plain": [
       "array([[  9.,   0.,   0.,   0.,   0.,   0.,   0.,   0.,   0.,   0.],\n",
       "       [  0.,  28.,   0.,   0.,   0.,   0.,   0.,   0.,   0.,   0.],\n",
       "       [  0.,   0.,  28.,   0.,   0.,   0.,   0.,   0.,   0.,   0.],\n",
       "       [  0.,   0.,   0.,  31.,   0.,   0.,   0.,   0.,   0.,   0.],\n",
       "       [  0.,   0.,   0.,   0.,  70.,   0.,   0.,   0.,   0.,   0.],\n",
       "       [  0.,   0.,   0.,   0.,   0.,  71.,   0.,   0.,   0.,   0.],\n",
       "       [  0.,   0.,   0.,   0.,   0.,   0.,  19.,   0.,   0.,   0.],\n",
       "       [  0.,   0.,   0.,   0.,   0.,   0.,   0.,   9.,   0.,   0.],\n",
       "       [  0.,   0.,   0.,   0.,   0.,   0.,   0.,   0.,   1.,   0.],\n",
       "       [  0.,   0.,   0.,   0.,   0.,   0.,   0.,   0.,   0.,   3.]])"
      ]
     },
     "execution_count": 150,
     "metadata": {},
     "output_type": "execute_result"
    }
   ],
   "source": [
    "H"
   ]
  },
  {
   "cell_type": "code",
   "execution_count": 132,
   "metadata": {
    "collapsed": false
   },
   "outputs": [],
   "source": [
    "H, xscale, yscale = np.histogram2d(x ,y, bins)\n",
    "joint_p = (H / float(sum(sum(H)))).flatten()"
   ]
  },
  {
   "cell_type": "code",
   "execution_count": 136,
   "metadata": {
    "collapsed": false
   },
   "outputs": [
    {
     "data": {
      "text/plain": [
       "1.7807115380537968"
      ]
     },
     "execution_count": 136,
     "metadata": {},
     "output_type": "execute_result"
    }
   ],
   "source": [
    "shannon_entropy(x_p)"
   ]
  },
  {
   "cell_type": "code",
   "execution_count": 226,
   "metadata": {
    "collapsed": false
   },
   "outputs": [],
   "source": [
    "if len(X.index) > 6000:\n",
    "    # speeds up MI calculation for large datasets\n",
    "    # I actually don't know what this does, since X's rows are already filtered by 'tf.with.expr', \n",
    "    # which itself if a subset of IN['tf.names']\n",
    "    X = X.ix[group_predictors['tf_names'], :] # This turn X into a TFs x Samples matrix, which is what I expected it to be"
   ]
  },
  {
   "cell_type": "code",
   "execution_count": 227,
   "metadata": {
    "collapsed": false
   },
   "outputs": [
    {
     "data": {
      "text/plain": [
       "['BSU31410',\n",
       " 'BSU29740',\n",
       " 'BSU27890',\n",
       " 'BSU40800',\n",
       " 'BSU37650',\n",
       " 'BSU05370',\n",
       " 'BSU21780',\n",
       " 'BSU05700',\n",
       " 'BSU39430',\n",
       " 'BSU02970',\n",
       " 'BSU13340',\n",
       " 'BSU26350',\n",
       " 'BSU03960',\n",
       " 'BSU40410',\n",
       " 'BSU05670',\n",
       " 'BSU04160',\n",
       " 'BSU07390',\n",
       " 'BSU05170',\n",
       " 'BSU25200',\n",
       " 'BSU12510',\n",
       " 'BSU13150',\n",
       " 'BSU07590',\n",
       " 'BSU03470',\n",
       " 'BSU40670',\n",
       " 'BSU08730',\n",
       " 'BSU40710',\n",
       " 'BSU38600',\n",
       " 'BSU03170',\n",
       " 'BSU03850',\n",
       " 'BSU38880',\n",
       " 'BSU33660',\n",
       " 'BSU35200',\n",
       " 'BSU15090',\n",
       " 'BSU30150',\n",
       " 'BSU27120',\n",
       " 'BSU39990',\n",
       " 'BSU09380',\n",
       " 'BSU05180',\n",
       " 'BSU34630',\n",
       " 'BSU24520',\n",
       " 'BSU37310',\n",
       " 'BSU24610',\n",
       " 'BSU01540',\n",
       " 'BSU37550',\n",
       " 'BSU22120',\n",
       " 'BSU37620',\n",
       " 'BSU33990',\n",
       " 'BSU01690',\n",
       " 'BSU03750',\n",
       " 'BSU40540',\n",
       " 'BSU40010',\n",
       " 'BSU36300',\n",
       " 'BSU08810',\n",
       " 'BSU26580',\n",
       " 'BSU29110',\n",
       " 'BSU18760',\n",
       " 'BSU10840',\n",
       " 'BSU40130',\n",
       " 'BSU00370',\n",
       " 'BSU22440',\n",
       " 'BSU17080',\n",
       " 'BSU32560',\n",
       " 'BSU11500',\n",
       " 'BSU05060',\n",
       " 'BSU05270',\n",
       " 'BSU05320',\n",
       " 'BSU09560',\n",
       " 'BSU38450',\n",
       " 'BSU08250',\n",
       " 'BSU34180',\n",
       " 'BSU25100',\n",
       " 'BSU26870',\n",
       " 'BSU12000',\n",
       " 'BSU36600',\n",
       " 'BSU13670',\n",
       " 'BSU03880',\n",
       " 'BSU05290',\n",
       " 'BSU26430',\n",
       " 'BSU10420',\n",
       " 'BSU04100',\n",
       " 'BSU35910',\n",
       " 'BSU00560',\n",
       " 'BSU05050',\n",
       " 'BSU28400',\n",
       " 'BSU00470',\n",
       " 'BSU34170',\n",
       " 'BSU18460',\n",
       " 'BSU30020',\n",
       " 'BSU23590',\n",
       " 'BSU14140',\n",
       " 'BSU33010',\n",
       " 'BSU10560',\n",
       " 'BSU38310',\n",
       " 'BSU23450',\n",
       " 'BSU34200',\n",
       " 'BSU18740',\n",
       " 'BSU12370',\n",
       " 'BSU33970',\n",
       " 'BSU30400',\n",
       " 'BSU05420',\n",
       " 'BSU03890',\n",
       " 'BSU31070',\n",
       " 'BSU36110',\n",
       " 'BSU27520',\n",
       " 'BSU32870',\n",
       " 'BSU34480',\n",
       " 'BSU24100',\n",
       " 'BSU03080',\n",
       " 'BSU04730',\n",
       " 'BSU09480',\n",
       " 'BSU13310',\n",
       " 'BSU13920',\n",
       " 'BSU13870',\n",
       " 'BSU26720',\n",
       " 'BSU33080',\n",
       " 'BSU39660',\n",
       " 'BSU16470',\n",
       " 'BSU05240',\n",
       " 'BSU07010',\n",
       " 'BSU05970',\n",
       " 'BSU01730',\n",
       " 'BSU23100',\n",
       " 'BSU16170',\n",
       " 'BSU15880',\n",
       " 'BSU30260',\n",
       " 'BSU08990',\n",
       " 'BSU13450',\n",
       " 'BSU19120',\n",
       " 'BSU14380',\n",
       " 'BSU28410',\n",
       " 'BSU36420',\n",
       " 'BSU08370',\n",
       " 'BSU10150',\n",
       " 'BSU05330',\n",
       " 'BSU31680',\n",
       " 'BSU16810',\n",
       " 'BSU25760',\n",
       " 'BSU35030',\n",
       " 'BSU15670',\n",
       " 'BSU05130',\n",
       " 'BSU23520',\n",
       " 'BSU05460',\n",
       " 'BSU33790',\n",
       " 'BSU32140',\n",
       " 'BSU40870',\n",
       " 'BSU10880',\n",
       " 'BSU39770',\n",
       " 'BSU06140',\n",
       " 'BSU06860',\n",
       " 'BSU34720',\n",
       " 'BSU02320',\n",
       " 'BSU07820',\n",
       " 'BSU06700',\n",
       " 'BSU24770',\n",
       " 'BSU06540',\n",
       " 'BSU02680',\n",
       " 'BSU19540',\n",
       " 'BSU18420',\n",
       " 'BSU10830',\n",
       " 'BSU04820',\n",
       " 'BSU37290',\n",
       " 'BSU25810',\n",
       " 'BSU36020',\n",
       " 'BSU00830',\n",
       " 'BSU27080',\n",
       " 'BSU38700',\n",
       " 'BSU33950',\n",
       " 'BSU30460',\n",
       " 'BSU19050',\n",
       " 'BSU31210',\n",
       " 'BSU34750',\n",
       " 'BSU40350',\n",
       " 'BSU33670',\n",
       " 'BSU21020',\n",
       " 'BSU01810',\n",
       " 'BSU40050',\n",
       " 'BSU00980',\n",
       " 'BSU03230',\n",
       " 'BSU33221',\n",
       " 'BSU23120',\n",
       " 'BSU19200',\n",
       " 'BSU03620',\n",
       " 'BSU28550',\n",
       " 'BSU02450',\n",
       " 'BSU29030',\n",
       " 'BSU21700',\n",
       " 'BSU13760',\n",
       " 'BSU02220',\n",
       " 'BSU34380',\n",
       " 'BSU14730',\n",
       " 'BSU38220',\n",
       " 'BSU13480',\n",
       " 'BSU08100',\n",
       " 'BSU32920',\n",
       " 'BSU36440',\n",
       " 'BSU26670',\n",
       " 'BSU17590',\n",
       " 'BSU24250',\n",
       " 'BSU26840',\n",
       " 'BSU02740',\n",
       " 'BSU05150',\n",
       " 'BSU02500',\n",
       " 'BSU08410',\n",
       " 'BSU33230',\n",
       " 'BSU05850',\n",
       " 'BSU14480',\n",
       " 'BSU27000',\n",
       " 'BSU01640',\n",
       " 'BSU08190',\n",
       " 'BSU15330',\n",
       " 'BSU09060',\n",
       " 'BSU32420',\n",
       " 'BSU33520',\n",
       " 'BSU09430',\n",
       " 'BSU35490',\n",
       " 'BSU26630',\n",
       " 'BSU08340',\n",
       " 'BSU33680',\n",
       " 'BSU09990',\n",
       " 'BSU18850',\n",
       " 'BSU00010',\n",
       " 'BSU25250',\n",
       " 'BSU03560',\n",
       " 'BSU31530',\n",
       " 'BSU24220',\n",
       " 'BSU14240',\n",
       " 'BSU05640',\n",
       " 'BSU36160',\n",
       " 'BSU17450',\n",
       " 'BSU02370',\n",
       " 'BSU12560',\n",
       " 'BSU24020',\n",
       " 'BSU07220',\n",
       " 'BSU15320',\n",
       " 'BSU29400',\n",
       " 'BSU27170',\n",
       " 'BSU09520',\n",
       " 'BSU25490',\n",
       " 'BSU17850']"
      ]
     },
     "execution_count": 227,
     "metadata": {},
     "output_type": "execute_result"
    }
   ],
   "source": [
    "list(X.ix[tf_names, :].index)"
   ]
  },
  {
   "cell_type": "code",
   "execution_count": 210,
   "metadata": {
    "collapsed": false
   },
   "outputs": [
    {
     "data": {
      "text/plain": [
       "['BSU31410',\n",
       " 'BSU29740',\n",
       " 'BSU27890',\n",
       " 'BSU40800',\n",
       " 'BSU37650',\n",
       " 'BSU05370',\n",
       " 'BSU21780',\n",
       " 'BSU05700',\n",
       " 'BSU39430',\n",
       " 'BSU02970',\n",
       " 'BSU13340',\n",
       " 'BSU26350',\n",
       " 'BSU03960',\n",
       " 'BSU40410',\n",
       " 'BSU05670',\n",
       " 'BSU04160',\n",
       " 'BSU07390',\n",
       " 'BSU05170',\n",
       " 'BSU25200',\n",
       " 'BSU12510',\n",
       " 'BSU13150',\n",
       " 'BSU07590',\n",
       " 'BSU03470',\n",
       " 'BSU40670',\n",
       " 'BSU08730',\n",
       " 'BSU40710',\n",
       " 'BSU38600',\n",
       " 'BSU03170',\n",
       " 'BSU03850',\n",
       " 'BSU38880',\n",
       " 'BSU33660',\n",
       " 'BSU35200',\n",
       " 'BSU15090',\n",
       " 'BSU30150',\n",
       " 'BSU27120',\n",
       " 'BSU39990',\n",
       " 'BSU09380',\n",
       " 'BSU05180',\n",
       " 'BSU34630',\n",
       " 'BSU24520',\n",
       " 'BSU37310',\n",
       " 'BSU24610',\n",
       " 'BSU01540',\n",
       " 'BSU37550',\n",
       " 'BSU22120',\n",
       " 'BSU37620',\n",
       " 'BSU33990',\n",
       " 'BSU01690',\n",
       " 'BSU03750',\n",
       " 'BSU40540',\n",
       " 'BSU40010',\n",
       " 'BSU36300',\n",
       " 'BSU08810',\n",
       " 'BSU26580',\n",
       " 'BSU29110',\n",
       " 'BSU18760',\n",
       " 'BSU10840',\n",
       " 'BSU40130',\n",
       " 'BSU00370',\n",
       " 'BSU22440',\n",
       " 'BSU17080',\n",
       " 'BSU32560',\n",
       " 'BSU11500',\n",
       " 'BSU05060',\n",
       " 'BSU05270',\n",
       " 'BSU05320',\n",
       " 'BSU09560',\n",
       " 'BSU38450',\n",
       " 'BSU08250',\n",
       " 'BSU34180',\n",
       " 'BSU25100',\n",
       " 'BSU26870',\n",
       " 'BSU12000',\n",
       " 'BSU36600',\n",
       " 'BSU13670',\n",
       " 'BSU03880',\n",
       " 'BSU05290',\n",
       " 'BSU26430',\n",
       " 'BSU10420',\n",
       " 'BSU04100',\n",
       " 'BSU35910',\n",
       " 'BSU00560',\n",
       " 'BSU05050',\n",
       " 'BSU28400',\n",
       " 'BSU00470',\n",
       " 'BSU34170',\n",
       " 'BSU18460',\n",
       " 'BSU30020',\n",
       " 'BSU23590',\n",
       " 'BSU14140',\n",
       " 'BSU33010',\n",
       " 'BSU10560',\n",
       " 'BSU38310',\n",
       " 'BSU23450',\n",
       " 'BSU34200',\n",
       " 'BSU18740',\n",
       " 'BSU12370',\n",
       " 'BSU33970',\n",
       " 'BSU30400',\n",
       " 'BSU05420',\n",
       " 'BSU03890',\n",
       " 'BSU31070',\n",
       " 'BSU36110',\n",
       " 'BSU27520',\n",
       " 'BSU32870',\n",
       " 'BSU34480',\n",
       " 'BSU24100',\n",
       " 'BSU03080',\n",
       " 'BSU04730',\n",
       " 'BSU09480',\n",
       " 'BSU13310',\n",
       " 'BSU13920',\n",
       " 'BSU13870',\n",
       " 'BSU26720',\n",
       " 'BSU33080',\n",
       " 'BSU39660',\n",
       " 'BSU16470',\n",
       " 'BSU05240',\n",
       " 'BSU07010',\n",
       " 'BSU05970',\n",
       " 'BSU01730',\n",
       " 'BSU23100',\n",
       " 'BSU16170',\n",
       " 'BSU15880',\n",
       " 'BSU30260',\n",
       " 'BSU08990',\n",
       " 'BSU13450',\n",
       " 'BSU19120',\n",
       " 'BSU14380',\n",
       " 'BSU28410',\n",
       " 'BSU36420',\n",
       " 'BSU08370',\n",
       " 'BSU10150',\n",
       " 'BSU05330',\n",
       " 'BSU31680',\n",
       " 'BSU16810',\n",
       " 'BSU25760',\n",
       " 'BSU35030',\n",
       " 'BSU15670',\n",
       " 'BSU05130',\n",
       " 'BSU23520',\n",
       " 'BSU05460',\n",
       " 'BSU33790',\n",
       " 'BSU32140',\n",
       " 'BSU40870',\n",
       " 'BSU10880',\n",
       " 'BSU39770',\n",
       " 'BSU06140',\n",
       " 'BSU06860',\n",
       " 'BSU34720',\n",
       " 'BSU02320',\n",
       " 'BSU07820',\n",
       " 'BSU06700',\n",
       " 'BSU24770',\n",
       " 'BSU06540',\n",
       " 'BSU02680',\n",
       " 'BSU19540',\n",
       " 'BSU18420',\n",
       " 'BSU10830',\n",
       " 'BSU04820',\n",
       " 'BSU37290',\n",
       " 'BSU25810',\n",
       " 'BSU36020',\n",
       " 'BSU00830',\n",
       " 'BSU27080',\n",
       " 'BSU38700',\n",
       " 'BSU33950',\n",
       " 'BSU30460',\n",
       " 'BSU19050',\n",
       " 'BSU31210',\n",
       " 'BSU34750',\n",
       " 'BSU40350',\n",
       " 'BSU33670',\n",
       " 'BSU21020',\n",
       " 'BSU01810',\n",
       " 'BSU40050',\n",
       " 'BSU00980',\n",
       " 'BSU03230',\n",
       " 'BSU33221',\n",
       " 'BSU23120',\n",
       " 'BSU19200',\n",
       " 'BSU03620',\n",
       " 'BSU28550',\n",
       " 'BSU02450',\n",
       " 'BSU29030',\n",
       " 'BSU21700',\n",
       " 'BSU13760',\n",
       " 'BSU02220',\n",
       " 'BSU34380',\n",
       " 'BSU14730',\n",
       " 'BSU38220',\n",
       " 'BSU13480',\n",
       " 'BSU08100',\n",
       " 'BSU32920',\n",
       " 'BSU36440',\n",
       " 'BSU26670',\n",
       " 'BSU17590',\n",
       " 'BSU24250',\n",
       " 'BSU26840',\n",
       " 'BSU02740',\n",
       " 'BSU05150',\n",
       " 'BSU02500',\n",
       " 'BSU08410',\n",
       " 'BSU33230',\n",
       " 'BSU05850',\n",
       " 'BSU14480',\n",
       " 'BSU27000',\n",
       " 'BSU01640',\n",
       " 'BSU08190',\n",
       " 'BSU15330',\n",
       " 'BSU09060',\n",
       " 'BSU32420',\n",
       " 'BSU33520',\n",
       " 'BSU09430',\n",
       " 'BSU35490',\n",
       " 'BSU26630',\n",
       " 'BSU08340',\n",
       " 'BSU33680',\n",
       " 'BSU09990',\n",
       " 'BSU18850',\n",
       " 'BSU00010',\n",
       " 'BSU25250',\n",
       " 'BSU03560',\n",
       " 'BSU31530',\n",
       " 'BSU24220',\n",
       " 'BSU14240',\n",
       " 'BSU05640',\n",
       " 'BSU36160',\n",
       " 'BSU17450',\n",
       " 'BSU02370',\n",
       " 'BSU12560',\n",
       " 'BSU24020',\n",
       " 'BSU07220',\n",
       " 'BSU15320',\n",
       " 'BSU29400',\n",
       " 'BSU27170',\n",
       " 'BSU09520',\n",
       " 'BSU25490',\n",
       " 'BSU17850']"
      ]
     },
     "execution_count": 210,
     "metadata": {},
     "output_type": "execute_result"
    }
   ],
   "source": [
    "tf_names"
   ]
  },
  {
   "cell_type": "code",
   "execution_count": 224,
   "metadata": {
    "collapsed": false
   },
   "outputs": [],
   "source": [
    "me = pandas.DataFrame({'condName': IN['exp.mat'].columns})"
   ]
  },
  {
   "cell_type": "code",
   "execution_count": 265,
   "metadata": {
    "collapsed": false
   },
   "outputs": [],
   "source": [
    "delt = IN['meta.data']['del.t']"
   ]
  },
  {
   "cell_type": "code",
   "execution_count": 269,
   "metadata": {
    "collapsed": true
   },
   "outputs": [],
   "source": [
    "prev = IN['meta.data']['prevCol']"
   ]
  },
  {
   "cell_type": "code",
   "execution_count": 266,
   "metadata": {
    "collapsed": false
   },
   "outputs": [],
   "source": [
    "delT_max = PARS['delT.max']"
   ]
  },
  {
   "cell_type": "code",
   "execution_count": 290,
   "metadata": {
    "collapsed": false
   },
   "outputs": [],
   "source": [
    "mismatched_condNames = IN['meta.data']['condName'][IN['meta.data']['condName'] != IN['exp.mat'].columns]"
   ]
  },
  {
   "cell_type": "code",
   "execution_count": 349,
   "metadata": {
    "collapsed": false
   },
   "outputs": [],
   "source": [
    "mismatched_condNames = meta_data['condName'][meta_data['condName'] != exp_mat.columns]"
   ]
  },
  {
   "cell_type": "code",
   "execution_count": 354,
   "metadata": {
    "collapsed": false
   },
   "outputs": [],
   "source": [
    "correct_col_names = list(exp_mat.columns[meta_data['condName'] != exp_mat.columns])"
   ]
  },
  {
   "cell_type": "code",
   "execution_count": 437,
   "metadata": {
    "collapsed": false
   },
   "outputs": [],
   "source": [
    "steady = prev.isnull() & (cond.isin(prev) != True)"
   ]
  },
  {
   "cell_type": "code",
   "execution_count": 444,
   "metadata": {
    "collapsed": false
   },
   "outputs": [],
   "source": [
    "res_matrix = pandas.DataFrame(exp_mat[cond[steady]])"
   ]
  },
  {
   "cell_type": "code",
   "execution_count": 448,
   "metadata": {
    "collapsed": false
   },
   "outputs": [],
   "source": [
    "des_matrix = pandas.DataFrame(exp_mat[cond[steady]]) + pandas.DataFrame(exp_mat[cond[steady != True]])"
   ]
  },
  {
   "cell_type": "code",
   "execution_count": 357,
   "metadata": {
    "collapsed": false
   },
   "outputs": [
    {
     "name": "stderr",
     "output_type": "stream",
     "text": [
      "/anaconda/lib/python2.7/site-packages/ipykernel/__main__.py:1: SettingWithCopyWarning: \n",
      "A value is trying to be set on a copy of a slice from a DataFrame\n",
      "\n",
      "See the caveats in the documentation: http://pandas.pydata.org/pandas-docs/stable/indexing.html#indexing-view-versus-copy\n",
      "  if __name__ == '__main__':\n"
     ]
    }
   ],
   "source": [
    "meta_data['condName'][meta_data['condName'] != exp_mat.columns] = correct_col_names"
   ]
  },
  {
   "cell_type": "code",
   "execution_count": 450,
   "metadata": {
    "collapsed": false
   },
   "outputs": [
    {
     "data": {
      "text/plain": [
       "['B36_1',\n",
       " 'B36_2',\n",
       " 'B60_1',\n",
       " 'B60_2',\n",
       " 'BC/t_1',\n",
       " 'BC/t_2',\n",
       " 'BC_1',\n",
       " 'BC_2',\n",
       " 'BI_1',\n",
       " 'BI_2',\n",
       " 'BMM_1',\n",
       " 'BMM_2',\n",
       " 'BMM_3',\n",
       " 'BT_1',\n",
       " 'BT_2',\n",
       " 'C30_1',\n",
       " 'C30_2',\n",
       " 'C90_1',\n",
       " 'C90_2',\n",
       " 'Cold_1',\n",
       " 'Cold_2',\n",
       " 'Cold_3',\n",
       " 'Diami_1',\n",
       " 'Diami_2',\n",
       " 'Diami_3',\n",
       " 'Etha_1',\n",
       " 'Etha_2',\n",
       " 'Etha_3',\n",
       " 'Fru_1',\n",
       " 'Fru_2',\n",
       " 'Fru_3',\n",
       " 'G+S_1',\n",
       " 'G+S_2',\n",
       " 'G+S_3',\n",
       " 'G135_1',\n",
       " 'G135_3',\n",
       " 'G150_1',\n",
       " 'G150_2',\n",
       " 'G150_3',\n",
       " 'G180_1',\n",
       " 'G180_2',\n",
       " 'G180_3',\n",
       " 'GM+10_2',\n",
       " 'GM+10_3',\n",
       " 'GM+120_1',\n",
       " 'GM+120_3',\n",
       " 'GM+150_1',\n",
       " 'GM+150_2',\n",
       " 'GM+150_3',\n",
       " 'GM+15_1',\n",
       " 'GM+15_2',\n",
       " 'GM+15_3',\n",
       " 'GM+25_1',\n",
       " 'GM+25_2',\n",
       " 'GM+25_3',\n",
       " 'GM+45_1',\n",
       " 'GM+45_2',\n",
       " 'GM+45_3',\n",
       " 'GM+5_1',\n",
       " 'GM+5_2',\n",
       " 'GM+5_3',\n",
       " 'GM+60_1',\n",
       " 'GM+60_2',\n",
       " 'GM+60_3',\n",
       " 'GM+90_1',\n",
       " 'GM+90_2',\n",
       " 'GM+90_3',\n",
       " 'GM-0.1_1',\n",
       " 'GM-0.1_2',\n",
       " 'GM-0.1_3',\n",
       " 'GM-0.2_1',\n",
       " 'GM-0.2_2',\n",
       " 'GM-0.2_3',\n",
       " 'Glu_1',\n",
       " 'Glu_2',\n",
       " 'Glu_3',\n",
       " 'Glucon_1',\n",
       " 'Glucon_2',\n",
       " 'Glucon_3',\n",
       " 'Gly_1',\n",
       " 'Gly_2',\n",
       " 'Gly_3',\n",
       " 'H2O2_1',\n",
       " 'H2O2_2',\n",
       " 'H2O2_3',\n",
       " 'HPh_1',\n",
       " 'HPh_2',\n",
       " 'HPh_3',\n",
       " 'Heat_1',\n",
       " 'Heat_2',\n",
       " 'Heat_3',\n",
       " 'HiOs_1',\n",
       " 'HiOs_2',\n",
       " 'HiOs_3',\n",
       " 'HiTm_1',\n",
       " 'HiTm_2',\n",
       " 'HiTm_3',\n",
       " 'LBGexp_1',\n",
       " 'LBGexp_2',\n",
       " 'LBGexp_3',\n",
       " 'LBGstat_1',\n",
       " 'LBGstat_2',\n",
       " 'LBGstat_3',\n",
       " 'LBGtran_2',\n",
       " 'LBGtran_3',\n",
       " 'LBexp_1',\n",
       " 'LBexp_2',\n",
       " 'LBexp_3',\n",
       " 'LBstat_1',\n",
       " 'LBstat_2',\n",
       " 'LBstat_3',\n",
       " 'LBtran_1',\n",
       " 'LBtran_2',\n",
       " 'LBtran_3',\n",
       " 'LPhT_1',\n",
       " 'LPhT_2',\n",
       " 'LPhT_3',\n",
       " 'LPh_1',\n",
       " 'LPh_2',\n",
       " 'LPh_3',\n",
       " 'LoTm_1',\n",
       " 'LoTm_2',\n",
       " 'LoTm_3',\n",
       " 'M+G_1',\n",
       " 'M+G_2',\n",
       " 'M+G_3',\n",
       " 'M0t45_1',\n",
       " 'M0t45_2',\n",
       " 'M0t45_3',\n",
       " 'M0t90_1',\n",
       " 'M0t90_2',\n",
       " 'M0t90_3',\n",
       " 'M40t45_1',\n",
       " 'M40t45_2',\n",
       " 'M40t45_3',\n",
       " 'M40t90_1',\n",
       " 'M40t90_2',\n",
       " 'M40t90_3',\n",
       " 'M9exp_1',\n",
       " 'M9exp_2',\n",
       " 'M9exp_3',\n",
       " 'M9stat_1',\n",
       " 'M9stat_2',\n",
       " 'M9stat_3',\n",
       " 'M9tran_1',\n",
       " 'M9tran_2',\n",
       " 'M9tran_3',\n",
       " 'MG+10_1',\n",
       " 'MG+10_2',\n",
       " 'MG+10_3',\n",
       " 'MG+120_1',\n",
       " 'MG+120_2',\n",
       " 'MG+120_3',\n",
       " 'MG+150_1',\n",
       " 'MG+150_3',\n",
       " 'MG+15_1',\n",
       " 'MG+15_2',\n",
       " 'MG+15_3',\n",
       " 'MG+25_1',\n",
       " 'MG+25_2',\n",
       " 'MG+25_3',\n",
       " 'MG+45_1',\n",
       " 'MG+45_2',\n",
       " 'MG+45_3',\n",
       " 'MG+5_1',\n",
       " 'MG+5_3',\n",
       " 'MG+60_2',\n",
       " 'MG+60_3',\n",
       " 'MG+90_2',\n",
       " 'MG+90_3',\n",
       " 'MG+t5_2',\n",
       " 'MG-0.1_1',\n",
       " 'MG-0.1_2',\n",
       " 'MG-0.1_3',\n",
       " 'MG-0.2_2',\n",
       " 'MG-0.2_3',\n",
       " 'Mal_1',\n",
       " 'Mal_2',\n",
       " 'Mal_3',\n",
       " 'Mt0_1',\n",
       " 'Mt0_1.1',\n",
       " 'Mt0_2',\n",
       " 'Mt0_2.1',\n",
       " 'Mt0_3',\n",
       " 'Mt0_3.1',\n",
       " 'Oxctl_1',\n",
       " 'Oxctl_2',\n",
       " 'Oxctl_3',\n",
       " 'Paraq_1',\n",
       " 'Paraq_2',\n",
       " 'Paraq_3',\n",
       " 'Pyr_1',\n",
       " 'Pyr_2',\n",
       " 'Pyr_3',\n",
       " 'S0_1',\n",
       " 'S0_2',\n",
       " 'S0_3',\n",
       " 'S1_1',\n",
       " 'S1_2',\n",
       " 'S1_3',\n",
       " 'S2_1',\n",
       " 'S2_2',\n",
       " 'S2_3',\n",
       " 'S3_1',\n",
       " 'S3_2',\n",
       " 'S3_3',\n",
       " 'S4_1',\n",
       " 'S4_2',\n",
       " 'S4_3',\n",
       " 'S5_1',\n",
       " 'S5_2',\n",
       " 'S5_3',\n",
       " 'S6_1',\n",
       " 'S6_2',\n",
       " 'S6_3',\n",
       " 'S6_4',\n",
       " 'S6_5',\n",
       " 'S6_6',\n",
       " 'S7_4',\n",
       " 'S7_5',\n",
       " 'S7_6',\n",
       " 'S8_4',\n",
       " 'S8_5',\n",
       " 'SMMPr_1',\n",
       " 'SMMPr_2',\n",
       " 'SMMPr_3',\n",
       " 'SMM_1',\n",
       " 'SMM_2',\n",
       " 'SMM_3',\n",
       " 'Salt_1',\n",
       " 'Salt_2',\n",
       " 'Salt_3',\n",
       " 'Sw_1',\n",
       " 'Sw_2',\n",
       " 'T-0.40H_1',\n",
       " 'T-1.10H_1',\n",
       " 'T-1.40H_1',\n",
       " 'T-2.40H_1',\n",
       " 'T-3.40H_1',\n",
       " 'T-4.40H_1',\n",
       " 'T-5.40H_1',\n",
       " 'T0.0H_1',\n",
       " 'T0.30H_1',\n",
       " 'T1.0H_1',\n",
       " 'T1.30H_1',\n",
       " 'T2.0H_1',\n",
       " 'T2.30H_1',\n",
       " 'T3.0H_1',\n",
       " 'T3.30H_1',\n",
       " 'T4.0H_1',\n",
       " 'T5.0H_1',\n",
       " 'aero_1',\n",
       " 'aero_2',\n",
       " 'aero_3',\n",
       " 'dia0_1',\n",
       " 'dia0_2',\n",
       " 'dia0_3',\n",
       " 'dia15_1',\n",
       " 'dia15_2',\n",
       " 'dia15_3',\n",
       " 'dia5_1',\n",
       " 'dia5_2',\n",
       " 'dia5_3',\n",
       " 'ferm_1',\n",
       " 'ferm_2',\n",
       " 'ferm_3',\n",
       " 'nit_1',\n",
       " 'nit_2',\n",
       " 'nit_3']"
      ]
     },
     "execution_count": 450,
     "metadata": {},
     "output_type": "execute_result"
    }
   ],
   "source": [
    "list(des_matrix.columns)"
   ]
  },
  {
   "cell_type": "code",
   "execution_count": 310,
   "metadata": {
    "collapsed": false
   },
   "outputs": [
    {
     "data": {
      "text/plain": [
       "Index([u'Mt0_1.1', u'Mt0_2.1', u'Mt0_3.1'], dtype='object')"
      ]
     },
     "execution_count": 310,
     "metadata": {},
     "output_type": "execute_result"
    }
   ],
   "source": [
    "IN['exp.mat'].columns[IN['meta.data']['condName'] != IN['exp.mat'].columns]"
   ]
  },
  {
   "cell_type": "code",
   "execution_count": 319,
   "metadata": {
    "collapsed": false
   },
   "outputs": [
    {
     "data": {
      "text/plain": [
       "74       SMM_3\n",
       "75      Salt_3\n",
       "76       Mt0_1\n",
       "77     M0t45_1\n",
       "78     M0t90_1\n",
       "79       Mt0_2\n",
       "80     M0t45_2\n",
       "81     M0t90_2\n",
       "82       Mt0_3\n",
       "83     M0t45_3\n",
       "84     M0t90_3\n",
       "85       Mt0_1\n",
       "86    M40t45_1\n",
       "87    M40t90_1\n",
       "88       Mt0_2\n",
       "89    M40t45_2\n",
       "90    M40t90_2\n",
       "Name: condName, dtype: object"
      ]
     },
     "execution_count": 319,
     "metadata": {},
     "output_type": "execute_result"
    }
   ],
   "source": [
    "IN['meta.data']['condName'][74:91]\n"
   ]
  },
  {
   "cell_type": "code",
   "execution_count": 48,
   "metadata": {
    "collapsed": false
   },
   "outputs": [],
   "source": [
    "exp_mat_file = PARS['exp.mat.file']"
   ]
  },
  {
   "cell_type": "code",
   "execution_count": 312,
   "metadata": {
    "collapsed": false
   },
   "outputs": [],
   "source": [
    "other = pandas.read_csv(os.path.join(input_dir, exp_mat_file), header=0, sep='\\t')"
   ]
  },
  {
   "cell_type": "code",
   "execution_count": 55,
   "metadata": {
    "collapsed": false
   },
   "outputs": [
    {
     "data": {
      "text/plain": [
       "['BSU31410',\n",
       " 'BSU29740',\n",
       " 'BSU27890',\n",
       " 'BSU40800',\n",
       " 'BSU37650',\n",
       " 'BSU05370',\n",
       " 'BSU21780',\n",
       " 'BSU05700',\n",
       " 'BSU39430',\n",
       " 'BSU02970',\n",
       " 'BSU13340',\n",
       " 'BSU26350',\n",
       " 'BSU03960',\n",
       " 'BSU40410',\n",
       " 'BSU05670',\n",
       " 'BSU04160',\n",
       " 'BSU07390',\n",
       " 'BSU05170',\n",
       " 'BSU25200',\n",
       " 'BSU12510',\n",
       " 'BSU13150',\n",
       " 'BSU07590',\n",
       " 'BSU03470',\n",
       " 'BSU40670',\n",
       " 'BSU08730',\n",
       " 'BSU40710',\n",
       " 'BSU38600',\n",
       " 'BSU03170',\n",
       " 'BSU03850',\n",
       " 'BSU38880',\n",
       " 'BSU33660',\n",
       " 'BSU35200',\n",
       " 'BSU15090',\n",
       " 'BSU30150',\n",
       " 'BSU27120',\n",
       " 'BSU39990',\n",
       " 'BSU09380',\n",
       " 'BSU05180',\n",
       " 'BSU34630',\n",
       " 'BSU24520',\n",
       " 'BSU37310',\n",
       " 'BSU24610',\n",
       " 'BSU01540',\n",
       " 'BSU37550',\n",
       " 'BSU22120',\n",
       " 'BSU37620',\n",
       " 'BSU33990',\n",
       " 'BSU01690',\n",
       " 'BSU03750',\n",
       " 'BSU40540',\n",
       " 'BSU40010',\n",
       " 'BSU36300',\n",
       " 'BSU08810',\n",
       " 'BSU26580',\n",
       " 'BSU29110',\n",
       " 'BSU18760',\n",
       " 'BSU10840',\n",
       " 'BSU40130',\n",
       " 'BSU00370',\n",
       " 'BSU22440',\n",
       " 'BSU17080',\n",
       " 'BSU32560',\n",
       " 'BSU11500',\n",
       " 'BSU05060',\n",
       " 'BSU05270',\n",
       " 'BSU05320',\n",
       " 'BSU09560',\n",
       " 'BSU38450',\n",
       " 'BSU08250',\n",
       " 'BSU34180',\n",
       " 'BSU25100',\n",
       " 'BSU26870',\n",
       " 'BSU12000',\n",
       " 'BSU36600',\n",
       " 'BSU13670',\n",
       " 'BSU03880',\n",
       " 'BSU05290',\n",
       " 'BSU26430',\n",
       " 'BSU10420',\n",
       " 'BSU04100',\n",
       " 'BSU35910',\n",
       " 'BSU00560',\n",
       " 'BSU05050',\n",
       " 'BSU28400',\n",
       " 'BSU00470',\n",
       " 'BSU34170',\n",
       " 'BSU18460',\n",
       " 'BSU30020',\n",
       " 'BSU23590',\n",
       " 'BSU14140',\n",
       " 'BSU33010',\n",
       " 'BSU10560',\n",
       " 'BSU38310',\n",
       " 'BSU23450',\n",
       " 'BSU34200',\n",
       " 'BSU18740',\n",
       " 'BSU12370',\n",
       " 'BSU33970',\n",
       " 'BSU30400',\n",
       " 'BSU05420',\n",
       " 'BSU03890',\n",
       " 'BSU31070',\n",
       " 'BSU36110',\n",
       " 'BSU27520',\n",
       " 'BSU32870',\n",
       " 'BSU34480',\n",
       " 'BSU24100',\n",
       " 'BSU03080',\n",
       " 'BSU04730',\n",
       " 'BSU09480',\n",
       " 'BSU13310',\n",
       " 'BSU13920',\n",
       " 'BSU13870',\n",
       " 'BSU26720',\n",
       " 'BSU33080',\n",
       " 'BSU39660',\n",
       " 'BSU16470',\n",
       " 'BSU05240',\n",
       " 'BSU07010',\n",
       " 'BSU05970',\n",
       " 'BSU01730',\n",
       " 'BSU23100',\n",
       " 'BSU16170',\n",
       " 'BSU15880',\n",
       " 'BSU30260',\n",
       " 'BSU08990',\n",
       " 'BSU13450',\n",
       " 'BSU19120',\n",
       " 'BSU14380',\n",
       " 'BSU28410',\n",
       " 'BSU36420',\n",
       " 'BSU08370',\n",
       " 'BSU10150',\n",
       " 'BSU05330',\n",
       " 'BSU31680',\n",
       " 'BSU16810',\n",
       " 'BSU25760',\n",
       " 'BSU35030',\n",
       " 'BSU15670',\n",
       " 'BSU05130',\n",
       " 'BSU23520',\n",
       " 'BSU05460',\n",
       " 'BSU33790',\n",
       " 'BSU32140',\n",
       " 'BSU40870',\n",
       " 'BSU10880',\n",
       " 'BSU39770',\n",
       " 'BSU06140',\n",
       " 'BSU06860',\n",
       " 'BSU34720',\n",
       " 'BSU02320',\n",
       " 'BSU07820',\n",
       " 'BSU06700',\n",
       " 'BSU24770',\n",
       " 'BSU06540',\n",
       " 'BSU02680',\n",
       " 'BSU19540',\n",
       " 'BSU18420',\n",
       " 'BSU10830',\n",
       " 'BSU04820',\n",
       " 'BSU37290',\n",
       " 'BSU25810',\n",
       " 'BSU36020',\n",
       " 'BSU00830',\n",
       " 'BSU27080',\n",
       " 'BSU38700',\n",
       " 'BSU33950',\n",
       " 'BSU30460',\n",
       " 'BSU19050',\n",
       " 'BSU31210',\n",
       " 'BSU34750',\n",
       " 'BSU40350',\n",
       " 'BSU33670',\n",
       " 'BSU21020',\n",
       " 'BSU01810',\n",
       " 'BSU40050',\n",
       " 'BSU00980',\n",
       " 'BSU03230',\n",
       " 'BSU33221',\n",
       " 'BSU23120',\n",
       " 'BSU19200',\n",
       " 'BSU03620',\n",
       " 'BSU28550',\n",
       " 'BSU02450',\n",
       " 'BSU29030',\n",
       " 'BSU21700',\n",
       " 'BSU13760',\n",
       " 'BSU02220',\n",
       " 'BSU34380',\n",
       " 'BSU14730',\n",
       " 'BSU38220',\n",
       " 'BSU13480',\n",
       " 'BSU08100',\n",
       " 'BSU32920',\n",
       " 'BSU36440',\n",
       " 'BSU26670',\n",
       " 'BSU17590',\n",
       " 'BSU24250',\n",
       " 'BSU26840',\n",
       " 'BSU02740',\n",
       " 'BSU05150',\n",
       " 'BSU02500',\n",
       " 'BSU08410',\n",
       " 'BSU33230',\n",
       " 'BSU05850',\n",
       " 'BSU14480',\n",
       " 'BSU27000',\n",
       " 'BSU01640',\n",
       " 'BSU08190',\n",
       " 'BSU15330',\n",
       " 'BSU09060',\n",
       " 'BSU32420',\n",
       " 'BSU33520',\n",
       " 'BSU09430',\n",
       " 'BSU35490',\n",
       " 'BSU26630',\n",
       " 'BSU08340',\n",
       " 'BSU33680',\n",
       " 'BSU09990',\n",
       " 'BSU18850',\n",
       " 'BSU00010',\n",
       " 'BSU25250',\n",
       " 'BSU03560',\n",
       " 'BSU31530',\n",
       " 'BSU24220',\n",
       " 'BSU14240',\n",
       " 'BSU05640',\n",
       " 'BSU36160',\n",
       " 'BSU17450',\n",
       " 'BSU02370',\n",
       " 'BSU12560',\n",
       " 'BSU24020',\n",
       " 'BSU07220',\n",
       " 'BSU15320',\n",
       " 'BSU29400',\n",
       " 'BSU27170',\n",
       " 'BSU09520',\n",
       " 'BSU25490',\n",
       " 'BSU17850']"
      ]
     },
     "execution_count": 55,
     "metadata": {},
     "output_type": "execute_result"
    }
   ],
   "source": [
    "list(set(pandas.read_csv(os.path.join(input_dir, tf_names_file), header=None)[0]))"
   ]
  },
  {
   "cell_type": "code",
   "execution_count": 58,
   "metadata": {
    "collapsed": true
   },
   "outputs": [],
   "source": [
    "IN['exp.mat'] = pandas.read_csv(os.path.join(input_dir, exp_mat_file), header=0, sep='\\t')"
   ]
  },
  {
   "cell_type": "code",
   "execution_count": 65,
   "metadata": {
    "collapsed": false
   },
   "outputs": [
    {
     "ename": "AttributeError",
     "evalue": "'DataFrame' object has no attribute 'rows'",
     "output_type": "error",
     "traceback": [
      "\u001b[0;31m---------------------------------------------------------------------------\u001b[0m",
      "\u001b[0;31mAttributeError\u001b[0m                            Traceback (most recent call last)",
      "\u001b[0;32m<ipython-input-65-31491acb8b12>\u001b[0m in \u001b[0;36m<module>\u001b[0;34m()\u001b[0m\n\u001b[0;32m----> 1\u001b[0;31m \u001b[0mIN\u001b[0m\u001b[0;34m[\u001b[0m\u001b[0;34m'exp.mat'\u001b[0m\u001b[0;34m]\u001b[0m\u001b[0;34m[\u001b[0m\u001b[0;34m[\u001b[0m\u001b[0;36m0\u001b[0m\u001b[0;34m]\u001b[0m\u001b[0;34m]\u001b[0m\u001b[0;34m.\u001b[0m\u001b[0mrows\u001b[0m\u001b[0;34m\u001b[0m\u001b[0m\n\u001b[0m",
      "\u001b[0;32m//anaconda/lib/python2.7/site-packages/pandas/core/generic.pyc\u001b[0m in \u001b[0;36m__getattr__\u001b[0;34m(self, name)\u001b[0m\n\u001b[1;32m   2667\u001b[0m             \u001b[0;32mif\u001b[0m \u001b[0mname\u001b[0m \u001b[0;32min\u001b[0m \u001b[0mself\u001b[0m\u001b[0;34m.\u001b[0m\u001b[0m_info_axis\u001b[0m\u001b[0;34m:\u001b[0m\u001b[0;34m\u001b[0m\u001b[0m\n\u001b[1;32m   2668\u001b[0m                 \u001b[0;32mreturn\u001b[0m \u001b[0mself\u001b[0m\u001b[0;34m[\u001b[0m\u001b[0mname\u001b[0m\u001b[0;34m]\u001b[0m\u001b[0;34m\u001b[0m\u001b[0m\n\u001b[0;32m-> 2669\u001b[0;31m             \u001b[0;32mreturn\u001b[0m \u001b[0mobject\u001b[0m\u001b[0;34m.\u001b[0m\u001b[0m__getattribute__\u001b[0m\u001b[0;34m(\u001b[0m\u001b[0mself\u001b[0m\u001b[0;34m,\u001b[0m \u001b[0mname\u001b[0m\u001b[0;34m)\u001b[0m\u001b[0;34m\u001b[0m\u001b[0m\n\u001b[0m\u001b[1;32m   2670\u001b[0m \u001b[0;34m\u001b[0m\u001b[0m\n\u001b[1;32m   2671\u001b[0m     \u001b[0;32mdef\u001b[0m \u001b[0m__setattr__\u001b[0m\u001b[0;34m(\u001b[0m\u001b[0mself\u001b[0m\u001b[0;34m,\u001b[0m \u001b[0mname\u001b[0m\u001b[0;34m,\u001b[0m \u001b[0mvalue\u001b[0m\u001b[0;34m)\u001b[0m\u001b[0;34m:\u001b[0m\u001b[0;34m\u001b[0m\u001b[0m\n",
      "\u001b[0;31mAttributeError\u001b[0m: 'DataFrame' object has no attribute 'rows'"
     ]
    }
   ],
   "source": [
    "IN['exp.mat'][[0]].rows"
   ]
  },
  {
   "cell_type": "code",
   "execution_count": 72,
   "metadata": {
    "collapsed": false
   },
   "outputs": [],
   "source": [
    "IN['tf.with.expr'] = intersect(IN['tf.names'], IN['exp.mat'].index)"
   ]
  },
  {
   "cell_type": "code",
   "execution_count": 71,
   "metadata": {
    "collapsed": true
   },
   "outputs": [],
   "source": [
    "IN['tf.names'] = list(set(pandas.read_csv(os.path.join(input_dir, tf_names_file), header=None)[0]))"
   ]
  },
  {
   "cell_type": "code",
   "execution_count": 74,
   "metadata": {
    "collapsed": false
   },
   "outputs": [
    {
     "data": {
      "text/plain": [
       "239"
      ]
     },
     "execution_count": 74,
     "metadata": {},
     "output_type": "execute_result"
    }
   ],
   "source": [
    "len(IN['tf.with.expr'])"
   ]
  },
  {
   "cell_type": "code",
   "execution_count": 382,
   "metadata": {
    "collapsed": true
   },
   "outputs": [],
   "source": [
    "prev = meta_data['prevCol']"
   ]
  },
  {
   "cell_type": "code",
   "execution_count": null,
   "metadata": {
    "collapsed": true
   },
   "outputs": [],
   "source": []
  }
 ],
 "metadata": {
  "kernelspec": {
   "display_name": "Python 2",
   "language": "python",
   "name": "python2"
  },
  "language_info": {
   "codemirror_mode": {
    "name": "ipython",
    "version": 2
   },
   "file_extension": ".py",
   "mimetype": "text/x-python",
   "name": "python",
   "nbconvert_exporter": "python",
   "pygments_lexer": "ipython2",
   "version": "2.7.11"
  }
 },
 "nbformat": 4,
 "nbformat_minor": 0
}
