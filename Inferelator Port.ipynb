{
 "cells": [
  {
   "cell_type": "markdown",
   "metadata": {},
   "source": [
    "## Inferelator.R ported to python"
   ]
  },
  {
   "cell_type": "code",
   "execution_count": 154,
   "metadata": {
    "collapsed": true
   },
   "outputs": [],
   "source": [
    "import csv\n",
    "import numpy as np\n",
    "import matplotlib\n",
    "import matplotlib.pyplot as plt\n",
    "%matplotlib inline\n",
    "import pandas\n",
    "from scipy.stats import nbinom\n",
    "import seaborn\n",
    "import datetime\n",
    "import os\n",
    "import random"
   ]
  },
  {
   "cell_type": "code",
   "execution_count": 155,
   "metadata": {
    "collapsed": false
   },
   "outputs": [],
   "source": [
    "proc_time = datetime.datetime.now()"
   ]
  },
  {
   "cell_type": "code",
   "execution_count": 156,
   "metadata": {
    "collapsed": false
   },
   "outputs": [
    {
     "name": "stdout",
     "output_type": "stream",
     "text": [
      "2016-06-13\n"
     ]
    }
   ],
   "source": [
    "print proc_time.date()"
   ]
  },
  {
   "cell_type": "code",
   "execution_count": 157,
   "metadata": {
    "collapsed": false
   },
   "outputs": [],
   "source": [
    "def intersect(a, b):\n",
    "    return list(set(a) & set(b))"
   ]
  },
  {
   "cell_type": "code",
   "execution_count": 158,
   "metadata": {
    "collapsed": true
   },
   "outputs": [],
   "source": [
    "PARS = {}"
   ]
  },
  {
   "cell_type": "code",
   "execution_count": 159,
   "metadata": {
    "collapsed": false
   },
   "outputs": [],
   "source": [
    "PARS['input.dir'] = 'input/bsubtilis'\n",
    "PARS['exp.mat.file'] = 'expression.tsv'\n",
    "PARS['tf.names.file'] = 'tf_names.tsv'\n",
    "PARS['meta.data.file'] = 'meta_data.tsv'\n",
    "PARS['priors.file'] = None # 'gold_standard.tsv'\n",
    "PARS['gold.standard.file'] = None\n",
    "PARS['leave.out.file'] = None\n",
    "PARS['randomize.expression'] = False\n",
    "PARS['job.seed'] = 42  # set to None if a random seed should be used\n",
    "PARS['save.to.dir'] = None\n",
    "PARS['num.boots'] = 20\n",
    "PARS['max.preds'] = 10\n",
    "PARS['mi.bins'] = 10\n",
    "PARS['cores'] = 8\n",
    "PARS['delT.max'] = 110\n",
    "PARS['delT.min'] = 0\n",
    "PARS['tau'] = 45\n",
    "\n",
    "# I've modified these parameters to make them lists\n",
    "PARS['perc.tp'] = [0]\n",
    "PARS['perm.tp'] = [1]\n",
    "PARS['perc.fp'] = [0]\n",
    "PARS['perm.fp'] = [1]\n",
    "PARS['pr.sel.mode'] = 'random'  # prior selection mode: 'random' or 'tf'\n",
    "PARS['eval.on.subset'] = False\n",
    "PARS['method'] = 'BBSR'  # 'BBSR' or 'MEN'\n",
    "PARS['prior.weight'] = 1\n",
    "PARS['use.tfa'] = False\n",
    "PARS['prior.ss'] = False\n",
    "PARS['output.summary'] = False\n",
    "PARS['output.report'] = False\n",
    "PARS['output.tf.plots'] = False\n",
    "# so['e of the elastic net parameters that are essentially constants;\n",
    "# on['y override in config script if you know what you are doing\n",
    "PARS['enet.sparseModels'] = True    # sparser models\n",
    "PARS['enet.nCv'] = 10               # number of cross-validations\n",
    "PARS['enet.lambda'] = [0, 1, 100]  # l2 weights\n",
    "PARS['enet.verbose'] = False        # print progress to screen\n",
    "PARS['enet.plot.it'] = False        # generate cross-validation plots\n",
    "PARS['enet.plot.file.name'] = None  # file name for plots\n",
    "PARS['method'] = 'BBSR'  # which method to use; either 'MEN' or 'BBSR'\n",
    "PARS['prior.weight'] = 1  # the weight for the priors; has to be larger than 1\n",
    "# fo[' priors to have an effect\n",
    "PARS['output.summary'] = True  # write a summary tsv and RData file of network\n",
    "PARS['output.report'] = True  # create html network report\n",
    "PARS['output.tf.plots'] = True  # create png files with plots of TFs and targets"
   ]
  },
  {
   "cell_type": "code",
   "execution_count": 160,
   "metadata": {
    "collapsed": false
   },
   "outputs": [],
   "source": [
    "# Adding variable to point to top level\n",
    "PARS['top.level.dir'] = '/Users/ndeveaux/Dev/Inferelator/'"
   ]
  },
  {
   "cell_type": "code",
   "execution_count": 161,
   "metadata": {
    "collapsed": true
   },
   "outputs": [],
   "source": [
    "def trivial_meta_data(column_names):\n",
    "    meta_data = pandas.DataFrame({'condName': column_names})\n",
    "    meta_data['isTs'] = False\n",
    "    meta_data['is1stLast'] = 'e'\n",
    "    meta_data['prevCol'] = None\n",
    "    meta_data['del.t'] = None\n",
    "    return meta_data"
   ]
  },
  {
   "cell_type": "code",
   "execution_count": 162,
   "metadata": {
    "collapsed": false
   },
   "outputs": [],
   "source": [
    "# I removed the read RData capability from read_input\n",
    "def read_input(input_dir, exp_mat_file, tf_names_file, meta_data_file, \n",
    "                       priors_file, gold_standard_file, leave_out_file, randomize_expression):\n",
    "  IN = {}\n",
    "  \n",
    "  print('Reading input: expression matrix')\n",
    "  IN['exp.mat'] = pandas.read_csv(os.path.join(input_dir, exp_mat_file), header=0, sep='\\t')\n",
    "  \n",
    "  print('Reading TF names')\n",
    "  IN['tf.names'] = list(set(pandas.read_csv(os.path.join(input_dir, tf_names_file), header=None, squeeze=True)))\n",
    "  \n",
    "  IN['tf.with.expr'] = intersect(IN['tf.names'], IN['exp.mat'].index)\n",
    "\n",
    "  print('reading metadata')\n",
    "  if meta_data_file: \n",
    "      IN['meta.data'] = pandas.read_csv(os.path.join(input_dir, meta_data_file), \n",
    "                                 header=0, sep='\\t')    \n",
    "  # no meta data given - assume all steady state measurements\n",
    "  else: \n",
    "      IN['meta.data'] = trivial_meta_data(IN['exp.mat'].columns)\n",
    "\n",
    "  \n",
    "  print('reading leave-out file')\n",
    "  # if there is a leave-out file, ignore some conditions\n",
    "  if leave_out_file:\n",
    "    leave_out = pandas.read_csv(os.path.join(input_dir, leave_out_file), header=None, squeeze=True)\n",
    "    print('Leaving out the following conditions: ' + leave_out)\n",
    "    print '{} of {} are present in the expression data'.format(\n",
    "        len(intersect(leave_out, list(IN['exp.mat'].columns))), len(leave_out))\n",
    "    # TODO implement leaveout\n",
    "  \n",
    "  \n",
    "  print('reading priors matrix')\n",
    "  IN['priors.mat'] = None\n",
    "  if priors_file:\n",
    "    IN['priors.mat'] = pandas.read_csv(os.path.join(input_dir, priors_file), header=0)\n",
    "    \n",
    "    # TODO write the reshape prior function (currently implement in R_scripts/utils.R)\n",
    "    # IN$priors.mat <- reshape.prior(IN$priors.mat, rownames(IN$exp.mat), IN$tf.names)\n",
    "  \n",
    "\n",
    "  print('reading gold standard matrix')\n",
    "  IN['gs.mat'] = None\n",
    "  if gold_standard_file:\n",
    "    IN['gs.mat'] = pandas.read_csv(os.path.join(input_dir, gold_standard_file),\n",
    "                                   header=0, sep='\\t')\n",
    "    # TODO write the reshape prior function (currently implement in R_scripts/utils.R)      \n",
    "    #IN$gs.mat <- reshape.prior(IN$gs.mat, rownames(IN$exp.mat), IN$tf.names)\n",
    "  \n",
    "  print(' ... done.')\n",
    "  \n",
    "  if randomize_expression:\n",
    "    print('randomize_expression is set to TRUE; randomizing expression matrix ...')\n",
    "    old_df = IN['exp.mat']\n",
    "    new_rows = np.random.permutation(IN['exp.mat'].shape[0])\n",
    "    new_cols = np.random.permutation(IN['exp.mat'].shape[1])\n",
    "    for row in range(IN['exp.mat'].shape[0]):\n",
    "        for col in range(IN['exp.mat'].shape[1]):\n",
    "            IN['exp.mat'].ix[row, col] = old_df.ix[new_rows[row], new_cols[col]]\n",
    "    print(' done.\\n')\n",
    "  \n",
    "  return IN"
   ]
  },
  {
   "cell_type": "code",
   "execution_count": 163,
   "metadata": {
    "collapsed": false
   },
   "outputs": [],
   "source": [
    " # TODO: figure out if this is needed, if not, remove it\n",
    "    # create dummy clusterStack - a real clusterStack is only needed when inferring \n",
    "    # on bi-clusters\n",
    "   # clusterStack <- trivial.cluster.stack(IN$exp.mat)"
   ]
  },
  {
   "cell_type": "code",
   "execution_count": 164,
   "metadata": {
    "collapsed": false
   },
   "outputs": [
    {
     "name": "stdout",
     "output_type": "stream",
     "text": [
      "Reading input: expression matrix\n",
      "Reading TF names\n",
      "reading metadata\n",
      "reading leave-out file\n",
      "reading priors matrix\n",
      "reading gold standard matrix\n",
      " ... done.\n"
     ]
    }
   ],
   "source": [
    "IN = read_input(os.path.join(PARS['top.level.dir'], PARS['input.dir']),PARS['exp.mat.file'], PARS['tf.names.file'], PARS['meta.data.file'], \n",
    "                       PARS['priors.file'], PARS['gold.standard.file'], PARS['leave.out.file'], PARS['randomize.expression'])"
   ]
  },
  {
   "cell_type": "code",
   "execution_count": 165,
   "metadata": {
    "collapsed": false
   },
   "outputs": [
    {
     "name": "stdout",
     "output_type": "stream",
     "text": [
      "Output dir: /Users/ndeveaux/Dev/Inferelator/input/bsubtilis/2016-06-13\n"
     ]
    }
   ],
   "source": [
    "if not PARS['save.to.dir']:\n",
    "  PARS['save.to.dir'] = os.path.join(PARS['top.level.dir'], PARS['input.dir'],str(proc_time.date()))\n",
    "print \"Output dir: \" + PARS['save.to.dir']\n",
    "if not os.path.exists(PARS['save.to.dir']):\n",
    "  os.makedirs(PARS['save.to.dir'])\n",
    "elif os.path.exists(os.path.join(PARS['save.to.dir'], \"/params_and_input\")):\n",
    "  print 'The output file {} already exists. Exiting.'.format(os.path.join(PARS['save.to.dir'], \"/params_and_input\"))\n",
    "  # TODO find a way to Exit here\n"
   ]
  },
  {
   "cell_type": "markdown",
   "metadata": {},
   "source": [
    "## Creating design and response matrices"
   ]
  },
  {
   "cell_type": "code",
   "execution_count": 166,
   "metadata": {
    "collapsed": true
   },
   "outputs": [],
   "source": [
    "# design matrix is same as exp.mat leaving out last time points\n",
    "# response matrix is same as design for steady state; linear interpolation else\n",
    "def design_and_response(meta_data, exp_mat, delT_min, delT_max, tau):\n",
    "    cond = meta_data['condName']\n",
    "    prev = meta_data['prevCol']\n",
    "    delt = meta_data['del.t'] \n",
    "    \n",
    "    # the following operations (setting a value on a copy of a slice from a DataFrame) are not allowed with pandas\n",
    "    # break time series if del.t is larger than delT.max\n",
    "    # prev[delt > delT.max] <- NA\n",
    "    # delt[delt > delT.max] <- NA\n",
    "    \n",
    "    if set(meta_data['condName']) != set(exp_mat.columns):\n",
    "        print 'There are set differences between cond and exp mat'\n",
    "        \n",
    "        # Check that the condNames and the exp_mat columns are in sync:\n",
    "        mismatched_condNames = meta_data['condName'][meta_data['condName'] != exp_mat.columns]\n",
    "        \n",
    "        # This actually discovered a crucial difference between R data frames and pandas:\n",
    "        # R dataframes allow there to be two columns with the same name, but pandas won't \n",
    "        # Key example: Mt0_1 exists twice in expression data\n",
    "        if len(mismatched_condNames) > 0:\n",
    "            print \"There are rows in expression matrix that don't match metadata\"\n",
    "            print mismatched_condNames\n",
    "            correct_col_names = list(exp_mat.columns[meta_data['condName'] != exp_mat.columns])\n",
    "            print correct_col_names\n",
    "            # These can be set using the loc function:\n",
    "            meta_data['condName'][meta_data['condName'] != exp_mat.columns] = correct_col_names\n",
    "            \n",
    "        mismatched_condNames = meta_data['condName'][meta_data['condName'] != exp_mat.columns]\n",
    "        if len(mismatched_condNames) > 0:\n",
    "            print 'Rewrite Failed'\n",
    "    \n",
    "    if set(meta_data['condName']) != set(exp_mat.columns):\n",
    "        print 'There are still set differences between cond and exp mat'\n",
    "    else:\n",
    "        print 'All good'\n",
    "    \n",
    "    # Handle steady state conditions first\n",
    "    # Steady state is defined as not having a previous state, and not being any other state's previous state\n",
    "    steady = prev.isnull() & (cond.isin(prev) != True)\n",
    "    \n",
    "    # Having run the R code, the only difference I see in the des_matrix from exp_is the ordering. \n",
    "    # Let's try that for now\n",
    "    des_matrix = pandas.concat([pandas.DataFrame(exp_mat[cond[steady]]), pandas.DataFrame(exp_mat[cond[steady != True]])], axis = 1)\n",
    "    res_matrix = pandas.DataFrame(des_matrix)\n",
    "    \n",
    "    # This creates a 4218 row by  242 column matrix whose values are columns going from 1... 242\n",
    "    # resp.idx <- t(matrix(1:ncol(res.mat), ncol(res.mat), nrow(exp.mat)))\n",
    "    \n",
    "    # Having run the R code, the only difference I see in the des_matrix from exp_is the ordering. \n",
    "    return des_matrix, res_matrix\n",
    "        \n"
   ]
  },
  {
   "cell_type": "code",
   "execution_count": 167,
   "metadata": {
    "collapsed": false
   },
   "outputs": [
    {
     "name": "stdout",
     "output_type": "stream",
     "text": [
      "There are set differences between cond and exp mat\n",
      "There are rows in expression matrix that don't match metadata\n",
      "85    Mt0_1\n",
      "88    Mt0_2\n",
      "91    Mt0_3\n",
      "Name: condName, dtype: object\n",
      "['Mt0_1.1', 'Mt0_2.1', 'Mt0_3.1']\n",
      "All good\n"
     ]
    },
    {
     "name": "stderr",
     "output_type": "stream",
     "text": [
      "/anaconda/lib/python2.7/site-packages/ipykernel/__main__.py:28: SettingWithCopyWarning: \n",
      "A value is trying to be set on a copy of a slice from a DataFrame\n",
      "\n",
      "See the caveats in the documentation: http://pandas.pydata.org/pandas-docs/stable/indexing.html#indexing-view-versus-copy\n"
     ]
    }
   ],
   "source": [
    "des_matrix, res_matrix = design_and_response(IN['meta.data'], IN['exp.mat'], PARS['delT.min'], \n",
    "                               PARS['delT.max'], PARS['tau'])\n"
   ]
  },
  {
   "cell_type": "markdown",
   "metadata": {},
   "source": [
    "## Parse Priors"
   ]
  },
  {
   "cell_type": "code",
   "execution_count": 168,
   "metadata": {
    "collapsed": false
   },
   "outputs": [],
   "source": [
    "# this function used to be important when we would iterate over the priors matrix and take samples/permutations\n",
    "# But all it does now is return the prior matrix\n",
    "def get_priors(exp_mat, tf_names, priors_mat, gs_mat, eval_on_subset, \n",
    "                      job_seed, perc_tp, perm_tp, perc_fp, perm_fp, sel_mode):\n",
    "    if priors_mat is None:\n",
    "        # Create a zero'd out DataFrame\n",
    "        priors_mat = pandas.DataFrame([[0 for x in range(len(tf_names))] for y in range(len(exp_mat.index))])\n",
    "        priors_mat.columns = tf_names\n",
    "        priors_mat.index = exp_mat.index\n",
    "        \n",
    "        \n",
    "    # priors.pars is list of prior parameters; every entry is a vector of four\n",
    "    # elements: perc.tp, tp permutation number, perc.fp, fp permutation number\n",
    "    priors_parameters = []\n",
    "    \n",
    "    # I tried to implement the length check but it seems silly in python since these aren't even vectors, they're scalars.\n",
    "    \n",
    "    lengths = [len(x) for x in [perc_tp, perm_tp, perc_fp, perm_fp]]\n",
    "    print lengths\n",
    "    if len(set(lengths)) != 1:\n",
    "        print \"\"\"Error parsing prior parameters: perc.tp, perm.tp, perc.fp, perm.fp \\\n",
    "        don't have the same length.\"\"\"\n",
    "        \n",
    "    for i in range(next(iter(set(lengths)))):\n",
    "        # Get the modulo remainder\n",
    "        rmndr = max(perm_tp[i], perm_fp[i]) % min(perm_tp[i], perm_fp[i])\n",
    "        if (rmndr != 0):\n",
    "            print\"\"\"Error parsing prior parameters: Larger number of permutations is \\\n",
    "            not multiple of smaller number.\"\"\"\n",
    "        priors_parameters.append([perc_tp, perm_tp, perc_fp, perm_fp])\n",
    "        \n",
    "    for pp in priors_parameters:\n",
    "        # priors[[i]] <- Matrix(0, nrow(priors.mat), ncol(priors.mat), dimnames=dimnames(priors.mat))\n",
    "        prior_names = 'frac_tp_{}_perm_{}--frac_fp_{}_perm_{}'.format(pp[0], pp[1], pp[2], pp[3])\n",
    "        \n",
    "    # Ignore the hundreds of lines of R code in priors.R\n",
    "    \n",
    "    return priors_mat, prior_names\n",
    "        "
   ]
  },
  {
   "cell_type": "code",
   "execution_count": 169,
   "metadata": {
    "collapsed": false
   },
   "outputs": [
    {
     "name": "stdout",
     "output_type": "stream",
     "text": [
      "[1, 1, 1, 1]\n"
     ]
    }
   ],
   "source": [
    "priors_mat, prior_name = get_priors(IN['exp.mat'], IN['tf.names'], IN['priors.mat'], IN['gs.mat'], \n",
    "                       PARS['eval.on.subset'], PARS['job.seed'], PARS['perc.tp'],\n",
    "                       PARS['perm.tp'], PARS['perc.fp'], PARS['perm.fp'], \n",
    "                       PARS['pr.sel.mode'])"
   ]
  },
  {
   "cell_type": "markdown",
   "metadata": {},
   "source": [
    "## Bootstrap"
   ]
  },
  {
   "cell_type": "code",
   "execution_count": 170,
   "metadata": {
    "collapsed": false
   },
   "outputs": [],
   "source": [
    "# set up the bootstrap permutations\n",
    "# By sampling with replacement from the num cols of the result matrix\n",
    "col_range = range(len(res_matrix.columns))\n",
    "IN['bs.pi'] = pandas.DataFrame([[random.choice(col_range) for x in col_range] for y in range(PARS['num.boots'])])"
   ]
  },
  {
   "cell_type": "code",
   "execution_count": 171,
   "metadata": {
    "collapsed": false
   },
   "outputs": [
    {
     "data": {
      "text/html": [
       "<div>\n",
       "<table border=\"1\" class=\"dataframe\">\n",
       "  <thead>\n",
       "    <tr style=\"text-align: right;\">\n",
       "      <th></th>\n",
       "      <th>0</th>\n",
       "      <th>1</th>\n",
       "      <th>2</th>\n",
       "      <th>3</th>\n",
       "      <th>4</th>\n",
       "      <th>5</th>\n",
       "      <th>6</th>\n",
       "      <th>7</th>\n",
       "      <th>8</th>\n",
       "      <th>9</th>\n",
       "      <th>...</th>\n",
       "      <th>259</th>\n",
       "      <th>260</th>\n",
       "      <th>261</th>\n",
       "      <th>262</th>\n",
       "      <th>263</th>\n",
       "      <th>264</th>\n",
       "      <th>265</th>\n",
       "      <th>266</th>\n",
       "      <th>267</th>\n",
       "      <th>268</th>\n",
       "    </tr>\n",
       "  </thead>\n",
       "  <tbody>\n",
       "    <tr>\n",
       "      <th>0</th>\n",
       "      <td>83</td>\n",
       "      <td>54</td>\n",
       "      <td>198</td>\n",
       "      <td>110</td>\n",
       "      <td>75</td>\n",
       "      <td>108</td>\n",
       "      <td>191</td>\n",
       "      <td>28</td>\n",
       "      <td>125</td>\n",
       "      <td>76</td>\n",
       "      <td>...</td>\n",
       "      <td>34</td>\n",
       "      <td>117</td>\n",
       "      <td>127</td>\n",
       "      <td>157</td>\n",
       "      <td>121</td>\n",
       "      <td>199</td>\n",
       "      <td>237</td>\n",
       "      <td>57</td>\n",
       "      <td>237</td>\n",
       "      <td>145</td>\n",
       "    </tr>\n",
       "    <tr>\n",
       "      <th>1</th>\n",
       "      <td>33</td>\n",
       "      <td>268</td>\n",
       "      <td>222</td>\n",
       "      <td>255</td>\n",
       "      <td>69</td>\n",
       "      <td>63</td>\n",
       "      <td>104</td>\n",
       "      <td>109</td>\n",
       "      <td>156</td>\n",
       "      <td>229</td>\n",
       "      <td>...</td>\n",
       "      <td>106</td>\n",
       "      <td>245</td>\n",
       "      <td>228</td>\n",
       "      <td>213</td>\n",
       "      <td>16</td>\n",
       "      <td>114</td>\n",
       "      <td>120</td>\n",
       "      <td>219</td>\n",
       "      <td>195</td>\n",
       "      <td>215</td>\n",
       "    </tr>\n",
       "    <tr>\n",
       "      <th>2</th>\n",
       "      <td>214</td>\n",
       "      <td>263</td>\n",
       "      <td>33</td>\n",
       "      <td>5</td>\n",
       "      <td>256</td>\n",
       "      <td>218</td>\n",
       "      <td>143</td>\n",
       "      <td>224</td>\n",
       "      <td>111</td>\n",
       "      <td>104</td>\n",
       "      <td>...</td>\n",
       "      <td>168</td>\n",
       "      <td>184</td>\n",
       "      <td>230</td>\n",
       "      <td>201</td>\n",
       "      <td>71</td>\n",
       "      <td>233</td>\n",
       "      <td>103</td>\n",
       "      <td>246</td>\n",
       "      <td>88</td>\n",
       "      <td>176</td>\n",
       "    </tr>\n",
       "    <tr>\n",
       "      <th>3</th>\n",
       "      <td>62</td>\n",
       "      <td>10</td>\n",
       "      <td>54</td>\n",
       "      <td>91</td>\n",
       "      <td>252</td>\n",
       "      <td>29</td>\n",
       "      <td>3</td>\n",
       "      <td>190</td>\n",
       "      <td>27</td>\n",
       "      <td>194</td>\n",
       "      <td>...</td>\n",
       "      <td>18</td>\n",
       "      <td>242</td>\n",
       "      <td>227</td>\n",
       "      <td>175</td>\n",
       "      <td>69</td>\n",
       "      <td>164</td>\n",
       "      <td>147</td>\n",
       "      <td>195</td>\n",
       "      <td>91</td>\n",
       "      <td>263</td>\n",
       "    </tr>\n",
       "    <tr>\n",
       "      <th>4</th>\n",
       "      <td>174</td>\n",
       "      <td>55</td>\n",
       "      <td>165</td>\n",
       "      <td>93</td>\n",
       "      <td>161</td>\n",
       "      <td>40</td>\n",
       "      <td>78</td>\n",
       "      <td>40</td>\n",
       "      <td>236</td>\n",
       "      <td>106</td>\n",
       "      <td>...</td>\n",
       "      <td>157</td>\n",
       "      <td>162</td>\n",
       "      <td>91</td>\n",
       "      <td>231</td>\n",
       "      <td>205</td>\n",
       "      <td>54</td>\n",
       "      <td>257</td>\n",
       "      <td>2</td>\n",
       "      <td>57</td>\n",
       "      <td>123</td>\n",
       "    </tr>\n",
       "    <tr>\n",
       "      <th>5</th>\n",
       "      <td>98</td>\n",
       "      <td>18</td>\n",
       "      <td>122</td>\n",
       "      <td>161</td>\n",
       "      <td>75</td>\n",
       "      <td>69</td>\n",
       "      <td>94</td>\n",
       "      <td>178</td>\n",
       "      <td>265</td>\n",
       "      <td>42</td>\n",
       "      <td>...</td>\n",
       "      <td>89</td>\n",
       "      <td>198</td>\n",
       "      <td>191</td>\n",
       "      <td>55</td>\n",
       "      <td>178</td>\n",
       "      <td>184</td>\n",
       "      <td>57</td>\n",
       "      <td>130</td>\n",
       "      <td>226</td>\n",
       "      <td>79</td>\n",
       "    </tr>\n",
       "    <tr>\n",
       "      <th>6</th>\n",
       "      <td>30</td>\n",
       "      <td>212</td>\n",
       "      <td>81</td>\n",
       "      <td>12</td>\n",
       "      <td>116</td>\n",
       "      <td>81</td>\n",
       "      <td>266</td>\n",
       "      <td>115</td>\n",
       "      <td>100</td>\n",
       "      <td>48</td>\n",
       "      <td>...</td>\n",
       "      <td>238</td>\n",
       "      <td>68</td>\n",
       "      <td>268</td>\n",
       "      <td>249</td>\n",
       "      <td>114</td>\n",
       "      <td>186</td>\n",
       "      <td>51</td>\n",
       "      <td>154</td>\n",
       "      <td>131</td>\n",
       "      <td>89</td>\n",
       "    </tr>\n",
       "    <tr>\n",
       "      <th>7</th>\n",
       "      <td>162</td>\n",
       "      <td>249</td>\n",
       "      <td>10</td>\n",
       "      <td>77</td>\n",
       "      <td>144</td>\n",
       "      <td>72</td>\n",
       "      <td>134</td>\n",
       "      <td>216</td>\n",
       "      <td>65</td>\n",
       "      <td>84</td>\n",
       "      <td>...</td>\n",
       "      <td>108</td>\n",
       "      <td>217</td>\n",
       "      <td>217</td>\n",
       "      <td>88</td>\n",
       "      <td>122</td>\n",
       "      <td>220</td>\n",
       "      <td>126</td>\n",
       "      <td>261</td>\n",
       "      <td>140</td>\n",
       "      <td>240</td>\n",
       "    </tr>\n",
       "    <tr>\n",
       "      <th>8</th>\n",
       "      <td>263</td>\n",
       "      <td>137</td>\n",
       "      <td>259</td>\n",
       "      <td>40</td>\n",
       "      <td>36</td>\n",
       "      <td>78</td>\n",
       "      <td>37</td>\n",
       "      <td>161</td>\n",
       "      <td>232</td>\n",
       "      <td>0</td>\n",
       "      <td>...</td>\n",
       "      <td>147</td>\n",
       "      <td>234</td>\n",
       "      <td>189</td>\n",
       "      <td>142</td>\n",
       "      <td>169</td>\n",
       "      <td>55</td>\n",
       "      <td>1</td>\n",
       "      <td>69</td>\n",
       "      <td>62</td>\n",
       "      <td>187</td>\n",
       "    </tr>\n",
       "    <tr>\n",
       "      <th>9</th>\n",
       "      <td>237</td>\n",
       "      <td>102</td>\n",
       "      <td>195</td>\n",
       "      <td>95</td>\n",
       "      <td>160</td>\n",
       "      <td>124</td>\n",
       "      <td>236</td>\n",
       "      <td>54</td>\n",
       "      <td>205</td>\n",
       "      <td>50</td>\n",
       "      <td>...</td>\n",
       "      <td>210</td>\n",
       "      <td>136</td>\n",
       "      <td>62</td>\n",
       "      <td>153</td>\n",
       "      <td>43</td>\n",
       "      <td>201</td>\n",
       "      <td>128</td>\n",
       "      <td>226</td>\n",
       "      <td>157</td>\n",
       "      <td>164</td>\n",
       "    </tr>\n",
       "    <tr>\n",
       "      <th>10</th>\n",
       "      <td>196</td>\n",
       "      <td>268</td>\n",
       "      <td>94</td>\n",
       "      <td>186</td>\n",
       "      <td>33</td>\n",
       "      <td>198</td>\n",
       "      <td>162</td>\n",
       "      <td>109</td>\n",
       "      <td>88</td>\n",
       "      <td>10</td>\n",
       "      <td>...</td>\n",
       "      <td>265</td>\n",
       "      <td>23</td>\n",
       "      <td>96</td>\n",
       "      <td>178</td>\n",
       "      <td>157</td>\n",
       "      <td>66</td>\n",
       "      <td>109</td>\n",
       "      <td>90</td>\n",
       "      <td>183</td>\n",
       "      <td>256</td>\n",
       "    </tr>\n",
       "    <tr>\n",
       "      <th>11</th>\n",
       "      <td>223</td>\n",
       "      <td>227</td>\n",
       "      <td>134</td>\n",
       "      <td>150</td>\n",
       "      <td>222</td>\n",
       "      <td>193</td>\n",
       "      <td>15</td>\n",
       "      <td>221</td>\n",
       "      <td>185</td>\n",
       "      <td>250</td>\n",
       "      <td>...</td>\n",
       "      <td>30</td>\n",
       "      <td>129</td>\n",
       "      <td>173</td>\n",
       "      <td>184</td>\n",
       "      <td>133</td>\n",
       "      <td>33</td>\n",
       "      <td>75</td>\n",
       "      <td>150</td>\n",
       "      <td>32</td>\n",
       "      <td>168</td>\n",
       "    </tr>\n",
       "    <tr>\n",
       "      <th>12</th>\n",
       "      <td>203</td>\n",
       "      <td>49</td>\n",
       "      <td>255</td>\n",
       "      <td>91</td>\n",
       "      <td>236</td>\n",
       "      <td>252</td>\n",
       "      <td>160</td>\n",
       "      <td>179</td>\n",
       "      <td>121</td>\n",
       "      <td>120</td>\n",
       "      <td>...</td>\n",
       "      <td>239</td>\n",
       "      <td>164</td>\n",
       "      <td>139</td>\n",
       "      <td>164</td>\n",
       "      <td>175</td>\n",
       "      <td>155</td>\n",
       "      <td>94</td>\n",
       "      <td>121</td>\n",
       "      <td>199</td>\n",
       "      <td>153</td>\n",
       "    </tr>\n",
       "    <tr>\n",
       "      <th>13</th>\n",
       "      <td>112</td>\n",
       "      <td>27</td>\n",
       "      <td>180</td>\n",
       "      <td>241</td>\n",
       "      <td>19</td>\n",
       "      <td>85</td>\n",
       "      <td>57</td>\n",
       "      <td>89</td>\n",
       "      <td>188</td>\n",
       "      <td>132</td>\n",
       "      <td>...</td>\n",
       "      <td>157</td>\n",
       "      <td>206</td>\n",
       "      <td>15</td>\n",
       "      <td>168</td>\n",
       "      <td>188</td>\n",
       "      <td>169</td>\n",
       "      <td>258</td>\n",
       "      <td>105</td>\n",
       "      <td>253</td>\n",
       "      <td>32</td>\n",
       "    </tr>\n",
       "    <tr>\n",
       "      <th>14</th>\n",
       "      <td>263</td>\n",
       "      <td>140</td>\n",
       "      <td>110</td>\n",
       "      <td>44</td>\n",
       "      <td>185</td>\n",
       "      <td>40</td>\n",
       "      <td>178</td>\n",
       "      <td>163</td>\n",
       "      <td>259</td>\n",
       "      <td>148</td>\n",
       "      <td>...</td>\n",
       "      <td>165</td>\n",
       "      <td>245</td>\n",
       "      <td>38</td>\n",
       "      <td>158</td>\n",
       "      <td>124</td>\n",
       "      <td>239</td>\n",
       "      <td>185</td>\n",
       "      <td>96</td>\n",
       "      <td>138</td>\n",
       "      <td>266</td>\n",
       "    </tr>\n",
       "    <tr>\n",
       "      <th>15</th>\n",
       "      <td>99</td>\n",
       "      <td>144</td>\n",
       "      <td>185</td>\n",
       "      <td>186</td>\n",
       "      <td>52</td>\n",
       "      <td>253</td>\n",
       "      <td>29</td>\n",
       "      <td>87</td>\n",
       "      <td>203</td>\n",
       "      <td>185</td>\n",
       "      <td>...</td>\n",
       "      <td>35</td>\n",
       "      <td>180</td>\n",
       "      <td>57</td>\n",
       "      <td>119</td>\n",
       "      <td>36</td>\n",
       "      <td>98</td>\n",
       "      <td>16</td>\n",
       "      <td>29</td>\n",
       "      <td>8</td>\n",
       "      <td>147</td>\n",
       "    </tr>\n",
       "    <tr>\n",
       "      <th>16</th>\n",
       "      <td>52</td>\n",
       "      <td>115</td>\n",
       "      <td>25</td>\n",
       "      <td>29</td>\n",
       "      <td>151</td>\n",
       "      <td>73</td>\n",
       "      <td>249</td>\n",
       "      <td>135</td>\n",
       "      <td>235</td>\n",
       "      <td>80</td>\n",
       "      <td>...</td>\n",
       "      <td>137</td>\n",
       "      <td>109</td>\n",
       "      <td>94</td>\n",
       "      <td>267</td>\n",
       "      <td>147</td>\n",
       "      <td>70</td>\n",
       "      <td>91</td>\n",
       "      <td>184</td>\n",
       "      <td>212</td>\n",
       "      <td>146</td>\n",
       "    </tr>\n",
       "    <tr>\n",
       "      <th>17</th>\n",
       "      <td>148</td>\n",
       "      <td>116</td>\n",
       "      <td>108</td>\n",
       "      <td>243</td>\n",
       "      <td>48</td>\n",
       "      <td>31</td>\n",
       "      <td>29</td>\n",
       "      <td>85</td>\n",
       "      <td>58</td>\n",
       "      <td>65</td>\n",
       "      <td>...</td>\n",
       "      <td>207</td>\n",
       "      <td>98</td>\n",
       "      <td>205</td>\n",
       "      <td>210</td>\n",
       "      <td>211</td>\n",
       "      <td>87</td>\n",
       "      <td>167</td>\n",
       "      <td>211</td>\n",
       "      <td>268</td>\n",
       "      <td>11</td>\n",
       "    </tr>\n",
       "    <tr>\n",
       "      <th>18</th>\n",
       "      <td>225</td>\n",
       "      <td>117</td>\n",
       "      <td>197</td>\n",
       "      <td>251</td>\n",
       "      <td>85</td>\n",
       "      <td>194</td>\n",
       "      <td>4</td>\n",
       "      <td>110</td>\n",
       "      <td>117</td>\n",
       "      <td>200</td>\n",
       "      <td>...</td>\n",
       "      <td>87</td>\n",
       "      <td>184</td>\n",
       "      <td>109</td>\n",
       "      <td>24</td>\n",
       "      <td>262</td>\n",
       "      <td>207</td>\n",
       "      <td>46</td>\n",
       "      <td>47</td>\n",
       "      <td>83</td>\n",
       "      <td>228</td>\n",
       "    </tr>\n",
       "    <tr>\n",
       "      <th>19</th>\n",
       "      <td>162</td>\n",
       "      <td>51</td>\n",
       "      <td>16</td>\n",
       "      <td>114</td>\n",
       "      <td>82</td>\n",
       "      <td>210</td>\n",
       "      <td>156</td>\n",
       "      <td>210</td>\n",
       "      <td>249</td>\n",
       "      <td>70</td>\n",
       "      <td>...</td>\n",
       "      <td>110</td>\n",
       "      <td>223</td>\n",
       "      <td>106</td>\n",
       "      <td>51</td>\n",
       "      <td>182</td>\n",
       "      <td>132</td>\n",
       "      <td>109</td>\n",
       "      <td>46</td>\n",
       "      <td>253</td>\n",
       "      <td>203</td>\n",
       "    </tr>\n",
       "  </tbody>\n",
       "</table>\n",
       "<p>20 rows × 269 columns</p>\n",
       "</div>"
      ],
      "text/plain": [
       "    0    1    2    3    4    5    6    7    8    9   ...   259  260  261  262  \\\n",
       "0    83   54  198  110   75  108  191   28  125   76 ...    34  117  127  157   \n",
       "1    33  268  222  255   69   63  104  109  156  229 ...   106  245  228  213   \n",
       "2   214  263   33    5  256  218  143  224  111  104 ...   168  184  230  201   \n",
       "3    62   10   54   91  252   29    3  190   27  194 ...    18  242  227  175   \n",
       "4   174   55  165   93  161   40   78   40  236  106 ...   157  162   91  231   \n",
       "5    98   18  122  161   75   69   94  178  265   42 ...    89  198  191   55   \n",
       "6    30  212   81   12  116   81  266  115  100   48 ...   238   68  268  249   \n",
       "7   162  249   10   77  144   72  134  216   65   84 ...   108  217  217   88   \n",
       "8   263  137  259   40   36   78   37  161  232    0 ...   147  234  189  142   \n",
       "9   237  102  195   95  160  124  236   54  205   50 ...   210  136   62  153   \n",
       "10  196  268   94  186   33  198  162  109   88   10 ...   265   23   96  178   \n",
       "11  223  227  134  150  222  193   15  221  185  250 ...    30  129  173  184   \n",
       "12  203   49  255   91  236  252  160  179  121  120 ...   239  164  139  164   \n",
       "13  112   27  180  241   19   85   57   89  188  132 ...   157  206   15  168   \n",
       "14  263  140  110   44  185   40  178  163  259  148 ...   165  245   38  158   \n",
       "15   99  144  185  186   52  253   29   87  203  185 ...    35  180   57  119   \n",
       "16   52  115   25   29  151   73  249  135  235   80 ...   137  109   94  267   \n",
       "17  148  116  108  243   48   31   29   85   58   65 ...   207   98  205  210   \n",
       "18  225  117  197  251   85  194    4  110  117  200 ...    87  184  109   24   \n",
       "19  162   51   16  114   82  210  156  210  249   70 ...   110  223  106   51   \n",
       "\n",
       "    263  264  265  266  267  268  \n",
       "0   121  199  237   57  237  145  \n",
       "1    16  114  120  219  195  215  \n",
       "2    71  233  103  246   88  176  \n",
       "3    69  164  147  195   91  263  \n",
       "4   205   54  257    2   57  123  \n",
       "5   178  184   57  130  226   79  \n",
       "6   114  186   51  154  131   89  \n",
       "7   122  220  126  261  140  240  \n",
       "8   169   55    1   69   62  187  \n",
       "9    43  201  128  226  157  164  \n",
       "10  157   66  109   90  183  256  \n",
       "11  133   33   75  150   32  168  \n",
       "12  175  155   94  121  199  153  \n",
       "13  188  169  258  105  253   32  \n",
       "14  124  239  185   96  138  266  \n",
       "15   36   98   16   29    8  147  \n",
       "16  147   70   91  184  212  146  \n",
       "17  211   87  167  211  268   11  \n",
       "18  262  207   46   47   83  228  \n",
       "19  182  132  109   46  253  203  \n",
       "\n",
       "[20 rows x 269 columns]"
      ]
     },
     "execution_count": 171,
     "metadata": {},
     "output_type": "execute_result"
    }
   ],
   "source": [
    "IN['bs.pi']"
   ]
  },
  {
   "cell_type": "markdown",
   "metadata": {},
   "source": [
    "## TFA specific initialization\n",
    "Skipping for now, since use TFA set to false"
   ]
  },
  {
   "cell_type": "code",
   "execution_count": 172,
   "metadata": {
    "collapsed": false
   },
   "outputs": [],
   "source": [
    "des_matrix = des_matrix.ix[ IN['tf.with.expr'] , :]"
   ]
  },
  {
   "cell_type": "markdown",
   "metadata": {},
   "source": [
    "## Main Loop"
   ]
  },
  {
   "cell_type": "code",
   "execution_count": 173,
   "metadata": {
    "collapsed": true
   },
   "outputs": [],
   "source": [
    "betas = []\n",
    "betas_resc  = []\n",
    "bins = PARS['mi.bins']"
   ]
  },
  {
   "cell_type": "code",
   "execution_count": 174,
   "metadata": {
    "collapsed": true
   },
   "outputs": [],
   "source": [
    "i = 0 # replace this with a forloop"
   ]
  },
  {
   "cell_type": "code",
   "execution_count": 175,
   "metadata": {
    "collapsed": true
   },
   "outputs": [],
   "source": [
    "# set a random sample of the edges to zero\n",
    "# only need to do this if we have priors\n",
    "\n",
    "# group predictors just returns the design matrix, res and prior matrix if it finds no groups:\n",
    "# if no TF was excluded and no TFs were grouped, it returns the des, res, and prior."
   ]
  },
  {
   "cell_type": "code",
   "execution_count": 176,
   "metadata": {
    "collapsed": true
   },
   "outputs": [],
   "source": [
    "group_predictors = {}"
   ]
  },
  {
   "cell_type": "code",
   "execution_count": 177,
   "metadata": {
    "collapsed": false
   },
   "outputs": [],
   "source": [
    "X = des_matrix.ix[:, IN['bs.pi'].ix[i,:]]\n",
    "Y = res_matrix.ix[:, IN['bs.pi'].ix[i,:]]"
   ]
  },
  {
   "cell_type": "markdown",
   "metadata": {},
   "source": [
    "Reminder on mutual information:\n",
    "<img src=\"files/olah_mi.png\">\n"
   ]
  },
  {
   "cell_type": "code",
   "execution_count": null,
   "metadata": {
    "collapsed": false
   },
   "outputs": [],
   "source": [
    "# Short example\n",
    "x = X.ix[200,:]\n",
    "y = y.ix[200,:]"
   ]
  },
  {
   "cell_type": "code",
   "execution_count": 179,
   "metadata": {
    "collapsed": false
   },
   "outputs": [
    {
     "data": {
      "image/png": "[encoded data removed]",
      "text/plain": [
       "<matplotlib.figure.Figure at 0x11a905210>"
      ]
     },
     "metadata": {},
     "output_type": "display_data"
    }
   ],
   "source": [
    "H, xedges, yedges = np.histogram2d(x,y,bins)\n",
    "plt.set_cmap('viridis')\n",
    "im = plt.imshow(H, interpolation='none', \n",
    "                extent=[xedges[0], xedges[-1], yedges[0], yedges[-1]])"
   ]
  },
  {
   "cell_type": "markdown",
   "metadata": {},
   "source": [
    "Here is an inefficient implementation of calc_mi"
   ]
  },
  {
   "cell_type": "code",
   "execution_count": 180,
   "metadata": {
    "collapsed": false
   },
   "outputs": [],
   "source": [
    "def shannon_entropy(p):\n",
    "    # Since p represents a discrete prob dist, check for floating point approximation to 1.0\n",
    "    if not np.allclose(sum(p), 1.0): \n",
    "        raise Exception('Probabilities input to shannon entropy need to sum to 1')\n",
    "    return - sum([x * np.log2(x) for x in p if x != 0])"
   ]
  },
  {
   "cell_type": "code",
   "execution_count": 181,
   "metadata": {
    "collapsed": false
   },
   "outputs": [],
   "source": [
    "def calc_mi(x, y, bins):\n",
    "    hist, scale  = np.histogram(x, bins)\n",
    "    x_p = hist / float(sum(hist))\n",
    "    hist, scale = np.histogram(y, bins)\n",
    "    y_p = hist / float(sum(hist))\n",
    "    H, xscale, yscale = np.histogram2d(x ,y, bins)\n",
    "    joint_p = (H / float(sum(sum(H)))).flatten()\n",
    "    return (shannon_entropy(y_p) + shannon_entropy(x_p)) - shannon_entropy(joint_p)"
   ]
  },
  {
   "cell_type": "code",
   "execution_count": 182,
   "metadata": {
    "collapsed": false
   },
   "outputs": [
    {
     "data": {
      "image/png": "[encoded data removed]",
      "text/plain": [
       "<matplotlib.figure.Figure at 0x11a9052d0>"
      ]
     },
     "metadata": {},
     "output_type": "display_data"
    }
   ],
   "source": [
    "hist, bins = np.histogram(X.ix[10,:],bins)\n",
    "width = 0.7 * (bins[1] - bins[0])\n",
    "center = (bins[:-1] + bins[1:]) / 2\n",
    "plt.bar(center, hist, align='center', width=width)\n",
    "plt.show()"
   ]
  },
  {
   "cell_type": "code",
   "execution_count": null,
   "metadata": {
    "collapsed": false
   },
   "outputs": [],
   "source": [
    "mi_matrix = [[calc_mi(X.ix[i,:], Y.ix[j,:], PARS['mi.bins']) for i in range(X.shape[0])] for j in range(Y.shape[0])] "
   ]
  },
  {
   "cell_type": "code",
   "execution_count": 226,
   "metadata": {
    "collapsed": false
   },
   "outputs": [],
   "source": [
    "if len(X.index) > 6000:\n",
    "    # speeds up MI calculation for large datasets\n",
    "    # I actually don't know what this does, since X's rows are already filtered by 'tf.with.expr', \n",
    "    # which itself if a subset of IN['tf.names']\n",
    "    X = X.ix[group_predictors['tf_names'], :] # This turn X into a TFs x Samples matrix, which is what I expected it to be"
   ]
  }
 ],
 "metadata": {
  "kernelspec": {
   "display_name": "Python 2",
   "language": "python",
   "name": "python2"
  },
  "language_info": {
   "codemirror_mode": {
    "name": "ipython",
    "version": 2
   },
   "file_extension": ".py",
   "mimetype": "text/x-python",
   "name": "python",
   "nbconvert_exporter": "python",
   "pygments_lexer": "ipython2",
   "version": "2.7.11"
  }
 },
 "nbformat": 4,
 "nbformat_minor": 0
}
