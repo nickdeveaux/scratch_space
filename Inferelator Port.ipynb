{
 "cells": [
  {
   "cell_type": "markdown",
   "metadata": {},
   "source": [
    "## Inferelator.R ported to python"
   ]
  },
  {
   "cell_type": "code",
   "execution_count": 1,
   "metadata": {
    "collapsed": true
   },
   "outputs": [],
   "source": [
    "import csv\n",
    "import numpy as np\n",
    "import matplotlib\n",
    "import matplotlib.pyplot as plt\n",
    "%matplotlib inline\n",
    "import pandas\n",
    "from scipy.stats import nbinom\n",
    "import seaborn\n",
    "import datetime\n",
    "import os\n",
    "import random\n",
    "import subprocess"
   ]
  },
  {
   "cell_type": "code",
   "execution_count": 2,
   "metadata": {
    "collapsed": false
   },
   "outputs": [],
   "source": [
    "proc_time = datetime.datetime.now()"
   ]
  },
  {
   "cell_type": "code",
   "execution_count": 3,
   "metadata": {
    "collapsed": false
   },
   "outputs": [
    {
     "name": "stdout",
     "output_type": "stream",
     "text": [
      "2016-06-19\n"
     ]
    }
   ],
   "source": [
    "print proc_time.date()"
   ]
  },
  {
   "cell_type": "code",
   "execution_count": 4,
   "metadata": {
    "collapsed": false
   },
   "outputs": [],
   "source": [
    "def intersect(a, b):\n",
    "    return list(set(a) & set(b))"
   ]
  },
  {
   "cell_type": "code",
   "execution_count": 5,
   "metadata": {
    "collapsed": true
   },
   "outputs": [],
   "source": [
    "PARS = {}"
   ]
  },
  {
   "cell_type": "code",
   "execution_count": 6,
   "metadata": {
    "collapsed": false
   },
   "outputs": [],
   "source": [
    "PARS['input.dir'] = 'input/bsubtilis'\n",
    "PARS['exp.mat.file'] = 'expression.tsv'\n",
    "PARS['tf.names.file'] = 'tf_names.tsv'\n",
    "PARS['meta.data.file'] = 'meta_data.tsv'\n",
    "PARS['priors.file'] = None # 'gold_standard.tsv'\n",
    "PARS['gold.standard.file'] = 'gold_standard.tsv'\n",
    "PARS['leave.out.file'] = None\n",
    "PARS['randomize.expression'] = False\n",
    "PARS['job.seed'] = 42  # set to None if a random seed should be used\n",
    "PARS['save.to.dir'] = None\n",
    "PARS['num.boots'] = 20\n",
    "PARS['max.preds'] = 10\n",
    "PARS['mi.bins'] = 10\n",
    "PARS['cores'] = 8\n",
    "PARS['delT.max'] = 110\n",
    "PARS['delT.min'] = 0\n",
    "PARS['tau'] = 45\n",
    "\n",
    "# I've modified these parameters to make them lists\n",
    "PARS['perc.tp'] = [0]\n",
    "PARS['perm.tp'] = [1]\n",
    "PARS['perc.fp'] = [0]\n",
    "PARS['perm.fp'] = [1]\n",
    "PARS['pr.sel.mode'] = 'random'  # prior selection mode: 'random' or 'tf'\n",
    "PARS['eval.on.subset'] = False\n",
    "PARS['method'] = 'BBSR'  # 'BBSR' or 'MEN'\n",
    "PARS['prior.weight'] = 1\n",
    "PARS['use.tfa'] = False\n",
    "PARS['prior.ss'] = False\n",
    "PARS['output.summary'] = False\n",
    "PARS['output.report'] = False\n",
    "PARS['output.tf.plots'] = False\n",
    "# so['e of the elastic net parameters that are essentially constants;\n",
    "# on['y override in config script if you know what you are doing\n",
    "PARS['enet.sparseModels'] = True    # sparser models\n",
    "PARS['enet.nCv'] = 10               # number of cross-validations\n",
    "PARS['enet.lambda'] = [0, 1, 100]  # l2 weights\n",
    "PARS['enet.verbose'] = False        # print progress to screen\n",
    "PARS['enet.plot.it'] = False        # generate cross-validation plots\n",
    "PARS['enet.plot.file.name'] = None  # file name for plots\n",
    "PARS['method'] = 'BBSR'  # which method to use; either 'MEN' or 'BBSR'\n",
    "PARS['prior.weight'] = 1  # the weight for the priors; has to be larger than 1\n",
    "# fo[' priors to have an effect\n",
    "PARS['output.summary'] = True  # write a summary tsv and RData file of network\n",
    "PARS['output.report'] = True  # create html network report\n",
    "PARS['output.tf.plots'] = True  # create png files with plots of TFs and targets"
   ]
  },
  {
   "cell_type": "code",
   "execution_count": 7,
   "metadata": {
    "collapsed": false
   },
   "outputs": [],
   "source": [
    "# Adding variable to point to top level\n",
    "PARS['top.level.dir'] = '/Users/ndeveaux/Dev/Inferelator/'"
   ]
  },
  {
   "cell_type": "code",
   "execution_count": 8,
   "metadata": {
    "collapsed": true
   },
   "outputs": [],
   "source": [
    "def trivial_meta_data(column_names):\n",
    "    meta_data = pandas.DataFrame({'condName': column_names})\n",
    "    meta_data['isTs'] = False\n",
    "    meta_data['is1stLast'] = 'e'\n",
    "    meta_data['prevCol'] = None\n",
    "    meta_data['del.t'] = None\n",
    "    return meta_data"
   ]
  },
  {
   "cell_type": "code",
   "execution_count": 9,
   "metadata": {
    "collapsed": false
   },
   "outputs": [],
   "source": [
    "# I removed the read RData capability from read_input\n",
    "def read_input(input_dir, exp_mat_file, tf_names_file, meta_data_file, \n",
    "                       priors_file, gold_standard_file, leave_out_file, randomize_expression):\n",
    "  IN = {}\n",
    "  \n",
    "  print('Reading input: expression matrix')\n",
    "  IN['exp.mat'] = pandas.read_csv(os.path.join(input_dir, exp_mat_file), header=0, index_col=0, sep='\\t')\n",
    "  \n",
    "  print('Reading TF names')\n",
    "  IN['tf.names'] = list(set(pandas.read_csv(os.path.join(input_dir, tf_names_file), header=None, squeeze=True)))\n",
    "  \n",
    "  IN['tf.with.expr'] = intersect(IN['tf.names'], IN['exp.mat'].index)\n",
    "\n",
    "  print('reading metadata')\n",
    "  if meta_data_file: \n",
    "      IN['meta.data'] = pandas.read_csv(os.path.join(input_dir, meta_data_file), \n",
    "                                 header=0, sep='\\t')    \n",
    "  # no meta data given - assume all steady state measurements\n",
    "  else: \n",
    "      IN['meta.data'] = trivial_meta_data(IN['exp.mat'].columns)\n",
    "\n",
    "  \n",
    "  print('reading leave-out file')\n",
    "  # if there is a leave-out file, ignore some conditions\n",
    "  if leave_out_file:\n",
    "    leave_out = pandas.read_csv(os.path.join(input_dir, leave_out_file), header=None, squeeze=True)\n",
    "    print('Leaving out the following conditions: ' + leave_out)\n",
    "    print '{} of {} are present in the expression data'.format(\n",
    "        len(intersect(leave_out, list(IN['exp.mat'].columns))), len(leave_out))\n",
    "    # TODO implement leaveout\n",
    "  \n",
    "  \n",
    "  print('reading priors matrix')\n",
    "  IN['priors.mat'] = None\n",
    "  if priors_file:\n",
    "    IN['priors.mat'] = pandas.read_csv(os.path.join(input_dir, priors_file), header=0)\n",
    "    \n",
    "    # TODO write the reshape prior function (currently implement in R_scripts/utils.R)\n",
    "    # IN$priors.mat <- reshape.prior(IN$priors.mat, rownames(IN$exp.mat), IN$tf.names)\n",
    "  \n",
    "\n",
    "  print('reading gold standard matrix')\n",
    "  IN['gs.mat'] = None\n",
    "  if gold_standard_file:\n",
    "    IN['gs.mat'] = pandas.read_csv(os.path.join(input_dir, gold_standard_file),\n",
    "                                   header=0, sep='\\t')\n",
    "    # TODO write the reshape prior function (currently implement in R_scripts/utils.R)      \n",
    "    #IN$gs.mat <- reshape.prior(IN$gs.mat, rownames(IN$exp.mat), IN$tf.names)\n",
    "  \n",
    "  print(' ... done.')\n",
    "  \n",
    "  if randomize_expression:\n",
    "    print('randomize_expression is set to TRUE; randomizing expression matrix ...')\n",
    "    old_df = IN['exp.mat']\n",
    "    new_rows = np.random.permutation(IN['exp.mat'].shape[0])\n",
    "    new_cols = np.random.permutation(IN['exp.mat'].shape[1])\n",
    "    for row in range(IN['exp.mat'].shape[0]):\n",
    "        for col in range(IN['exp.mat'].shape[1]):\n",
    "            IN['exp.mat'].ix[row, col] = old_df.ix[new_rows[row], new_cols[col]]\n",
    "    print(' done.\\n')\n",
    "  \n",
    "  return IN"
   ]
  },
  {
   "cell_type": "code",
   "execution_count": 10,
   "metadata": {
    "collapsed": false
   },
   "outputs": [],
   "source": [
    " # TODO: figure out if this is needed, if not, remove it\n",
    "    # create dummy clusterStack - a real clusterStack is only needed when inferring \n",
    "    # on bi-clusters\n",
    "   # clusterStack <- trivial.cluster.stack(IN$exp.mat)"
   ]
  },
  {
   "cell_type": "code",
   "execution_count": 11,
   "metadata": {
    "collapsed": false
   },
   "outputs": [
    {
     "name": "stdout",
     "output_type": "stream",
     "text": [
      "Reading input: expression matrix\n",
      "Reading TF names\n",
      "reading metadata\n",
      "reading leave-out file\n",
      "reading priors matrix\n",
      "reading gold standard matrix\n",
      " ... done.\n"
     ]
    }
   ],
   "source": [
    "IN = read_input(os.path.join(PARS['top.level.dir'], PARS['input.dir']),PARS['exp.mat.file'], PARS['tf.names.file'], PARS['meta.data.file'], \n",
    "                       PARS['priors.file'], PARS['gold.standard.file'], PARS['leave.out.file'], PARS['randomize.expression'])"
   ]
  },
  {
   "cell_type": "code",
   "execution_count": 12,
   "metadata": {
    "collapsed": false
   },
   "outputs": [
    {
     "name": "stdout",
     "output_type": "stream",
     "text": [
      "Output dir: /Users/ndeveaux/Dev/Inferelator/input/bsubtilis/2016-06-19\n"
     ]
    }
   ],
   "source": [
    "if not PARS['save.to.dir']:\n",
    "  PARS['save.to.dir'] = os.path.join(PARS['top.level.dir'], PARS['input.dir'],str(proc_time.date()))\n",
    "print \"Output dir: \" + PARS['save.to.dir']\n",
    "if not os.path.exists(PARS['save.to.dir']):\n",
    "  os.makedirs(PARS['save.to.dir'])\n",
    "elif os.path.exists(os.path.join(PARS['save.to.dir'], \"/params_and_input\")):\n",
    "  print 'The output file {} already exists. Exiting.'.format(os.path.join(PARS['save.to.dir'], \"/params_and_input\"))\n",
    "  # TODO find a way to Exit here\n"
   ]
  },
  {
   "cell_type": "markdown",
   "metadata": {},
   "source": [
    "## Creating design and response matrices"
   ]
  },
  {
   "cell_type": "code",
   "execution_count": 13,
   "metadata": {
    "collapsed": true
   },
   "outputs": [],
   "source": [
    "# design matrix is same as exp.mat leaving out last time points\n",
    "# response matrix is same as design for steady state; linear interpolation else\n",
    "def design_and_response(meta_data, exp_mat, delT_min, delT_max, tau):\n",
    "    cond = meta_data['condName']\n",
    "    prev = meta_data['prevCol']\n",
    "    delt = meta_data['del.t'] \n",
    "    \n",
    "    # the following operations (setting a value on a copy of a slice from a DataFrame) are not allowed with pandas\n",
    "    # break time series if del.t is larger than delT.max\n",
    "    # prev[delt > delT.max] <- NA\n",
    "    # delt[delt > delT.max] <- NA\n",
    "    \n",
    "    if set(meta_data['condName']) != set(exp_mat.columns):\n",
    "        print 'There are set differences between cond and exp mat'\n",
    "        \n",
    "        # Check that the condNames and the exp_mat columns are in sync:\n",
    "        mismatched_condNames = meta_data['condName'][meta_data['condName'] != exp_mat.columns]\n",
    "        \n",
    "        # This actually discovered a crucial difference between R data frames and pandas:\n",
    "        # R dataframes allow there to be two columns with the same name, but pandas won't \n",
    "        # Key example: Mt0_1 exists twice in expression data\n",
    "        if len(mismatched_condNames) > 0:\n",
    "            print \"There are rows in expression matrix that don't match metadata\"\n",
    "            print mismatched_condNames\n",
    "            correct_col_names = list(exp_mat.columns[meta_data['condName'] != exp_mat.columns])\n",
    "            print correct_col_names\n",
    "            # These can be set using the loc function:\n",
    "            meta_data['condName'][meta_data['condName'] != exp_mat.columns] = correct_col_names\n",
    "            \n",
    "        mismatched_condNames = meta_data['condName'][meta_data['condName'] != exp_mat.columns]\n",
    "        if len(mismatched_condNames) > 0:\n",
    "            print 'Rewrite Failed'\n",
    "    \n",
    "    if set(meta_data['condName']) != set(exp_mat.columns):\n",
    "        print 'There are still set differences between cond and exp mat'\n",
    "    else:\n",
    "        print 'All good'\n",
    "    \n",
    "    # Handle steady state conditions first\n",
    "    # Steady state is defined as not having a previous state, and not being any other state's previous state\n",
    "    steady = prev.isnull() & (cond.isin(prev) != True)\n",
    "    \n",
    "    # This is a quick fix but should instead use the prev col. \n",
    "    des_matrix = pandas.concat([pandas.DataFrame(exp_mat[cond[steady]]), pandas.DataFrame(exp_mat[cond[steady != True]])], axis = 1)\n",
    "    res_matrix = pandas.DataFrame(des_matrix)\n",
    "    \n",
    "    # This creates a 4218 row by  242 column matrix whose values are columns going from 1... 242\n",
    "    # resp.idx <- t(matrix(1:ncol(res.mat), ncol(res.mat), nrow(exp.mat)))\n",
    "    \n",
    "    # Having run the R code, the only difference I see in the des_matrix from exp_is the ordering. \n",
    "    return des_matrix, res_matrix\n",
    "        \n"
   ]
  },
  {
   "cell_type": "code",
   "execution_count": 14,
   "metadata": {
    "collapsed": false
   },
   "outputs": [],
   "source": [
    "# Call into R to get design and response matrices. \n",
    "# TODO: figure out why the existing exp_mat.csv is ok with having an offset top header col (seems like it should be fixed)\n",
    "# Additionally, why does it get chopped down to 136 conditions?\n",
    "IN['exp.mat'].to_csv('exp_mat.csv')\n",
    "IN['meta.data'].to_csv('meta_data.csv')\n",
    "subprocess.call(['R', '-f', './design_and_response_driver.R'])\n",
    "final_design = pandas.read_csv('design.tsv', sep='\\t')\n",
    "final_response = pandas.read_csv('response.tsv', sep='\\t')"
   ]
  },
  {
   "cell_type": "code",
   "execution_count": 15,
   "metadata": {
    "collapsed": false
   },
   "outputs": [],
   "source": [
    "# des_matrix, res_matrix = design_and_response(IN['meta.data'], IN['exp.mat'], PARS['delT.min'], \n",
    "                               # PARS['delT.max'], PARS['tau'])\n",
    "des_matrix = final_design\n",
    "res_matrix = final_response"
   ]
  },
  {
   "cell_type": "markdown",
   "metadata": {},
   "source": [
    "## Parse Priors"
   ]
  },
  {
   "cell_type": "code",
   "execution_count": 16,
   "metadata": {
    "collapsed": false
   },
   "outputs": [],
   "source": [
    "# this function used to be important when we would iterate over the priors matrix and take samples/permutations\n",
    "# But all it does now is return the prior matrix\n",
    "def get_priors(exp_mat, tf_names, priors_mat, gs_mat, eval_on_subset, \n",
    "                      job_seed, perc_tp, perm_tp, perc_fp, perm_fp, sel_mode):\n",
    "    if priors_mat is None:\n",
    "        # Create a zero'd out DataFrame\n",
    "        priors_mat = pandas.DataFrame([[0 for x in range(len(tf_names))] for y in range(len(exp_mat.index))])\n",
    "        priors_mat.columns = tf_names\n",
    "        priors_mat.index = exp_mat.index\n",
    "        \n",
    "        \n",
    "    # priors.pars is list of prior parameters; every entry is a vector of four\n",
    "    # elements: perc.tp, tp permutation number, perc.fp, fp permutation number\n",
    "    priors_parameters = []\n",
    "    \n",
    "    # I tried to implement the length check but it seems silly in python since these aren't even vectors, they're scalars.\n",
    "    \n",
    "    lengths = [len(x) for x in [perc_tp, perm_tp, perc_fp, perm_fp]]\n",
    "    print lengths\n",
    "    if len(set(lengths)) != 1:\n",
    "        print \"\"\"Error parsing prior parameters: perc.tp, perm.tp, perc.fp, perm.fp \\\n",
    "        don't have the same length.\"\"\"\n",
    "        \n",
    "    for i in range(next(iter(set(lengths)))):\n",
    "        # Get the modulo remainder\n",
    "        rmndr = max(perm_tp[i], perm_fp[i]) % min(perm_tp[i], perm_fp[i])\n",
    "        if (rmndr != 0):\n",
    "            print\"\"\"Error parsing prior parameters: Larger number of permutations is \\\n",
    "            not multiple of smaller number.\"\"\"\n",
    "        priors_parameters.append([perc_tp, perm_tp, perc_fp, perm_fp])\n",
    "        \n",
    "    for pp in priors_parameters:\n",
    "        # priors[[i]] <- Matrix(0, nrow(priors.mat), ncol(priors.mat), dimnames=dimnames(priors.mat))\n",
    "        prior_names = 'frac_tp_{}_perm_{}--frac_fp_{}_perm_{}'.format(pp[0], pp[1], pp[2], pp[3])\n",
    "        \n",
    "    # Ignore the hundreds of lines of R code in priors.R\n",
    "    \n",
    "    return priors_mat, prior_names\n",
    "        "
   ]
  },
  {
   "cell_type": "code",
   "execution_count": 17,
   "metadata": {
    "collapsed": false
   },
   "outputs": [
    {
     "name": "stdout",
     "output_type": "stream",
     "text": [
      "[1, 1, 1, 1]\n"
     ]
    }
   ],
   "source": [
    "priors_mat, prior_name = get_priors(IN['exp.mat'], IN['tf.names'], IN['priors.mat'], IN['gs.mat'], \n",
    "                       PARS['eval.on.subset'], PARS['job.seed'], PARS['perc.tp'],\n",
    "                       PARS['perm.tp'], PARS['perc.fp'], PARS['perm.fp'], \n",
    "                       PARS['pr.sel.mode'])"
   ]
  },
  {
   "cell_type": "markdown",
   "metadata": {},
   "source": [
    "## Bootstrap"
   ]
  },
  {
   "cell_type": "code",
   "execution_count": 18,
   "metadata": {
    "collapsed": false
   },
   "outputs": [],
   "source": [
    "# set up the bootstrap permutations\n",
    "# By sampling with replacement from the num cols of the result matrix\n",
    "col_range = range(len(res_matrix.columns))\n",
    "IN['bs.pi'] = pandas.DataFrame([[random.choice(col_range) for x in col_range] for y in range(PARS['num.boots'])])"
   ]
  },
  {
   "cell_type": "code",
   "execution_count": 19,
   "metadata": {
    "collapsed": false
   },
   "outputs": [
    {
     "data": {
      "text/html": [
       "<div>\n",
       "<table border=\"1\" class=\"dataframe\">\n",
       "  <thead>\n",
       "    <tr style=\"text-align: right;\">\n",
       "      <th></th>\n",
       "      <th>0</th>\n",
       "      <th>1</th>\n",
       "      <th>2</th>\n",
       "      <th>3</th>\n",
       "      <th>4</th>\n",
       "      <th>5</th>\n",
       "      <th>6</th>\n",
       "      <th>7</th>\n",
       "      <th>8</th>\n",
       "      <th>9</th>\n",
       "      <th>...</th>\n",
       "      <th>126</th>\n",
       "      <th>127</th>\n",
       "      <th>128</th>\n",
       "      <th>129</th>\n",
       "      <th>130</th>\n",
       "      <th>131</th>\n",
       "      <th>132</th>\n",
       "      <th>133</th>\n",
       "      <th>134</th>\n",
       "      <th>135</th>\n",
       "    </tr>\n",
       "  </thead>\n",
       "  <tbody>\n",
       "    <tr>\n",
       "      <th>0</th>\n",
       "      <td>65</td>\n",
       "      <td>87</td>\n",
       "      <td>46</td>\n",
       "      <td>48</td>\n",
       "      <td>17</td>\n",
       "      <td>38</td>\n",
       "      <td>60</td>\n",
       "      <td>102</td>\n",
       "      <td>33</td>\n",
       "      <td>87</td>\n",
       "      <td>...</td>\n",
       "      <td>12</td>\n",
       "      <td>108</td>\n",
       "      <td>125</td>\n",
       "      <td>91</td>\n",
       "      <td>74</td>\n",
       "      <td>50</td>\n",
       "      <td>63</td>\n",
       "      <td>34</td>\n",
       "      <td>56</td>\n",
       "      <td>125</td>\n",
       "    </tr>\n",
       "    <tr>\n",
       "      <th>1</th>\n",
       "      <td>15</td>\n",
       "      <td>100</td>\n",
       "      <td>110</td>\n",
       "      <td>9</td>\n",
       "      <td>101</td>\n",
       "      <td>101</td>\n",
       "      <td>35</td>\n",
       "      <td>2</td>\n",
       "      <td>39</td>\n",
       "      <td>67</td>\n",
       "      <td>...</td>\n",
       "      <td>50</td>\n",
       "      <td>82</td>\n",
       "      <td>127</td>\n",
       "      <td>9</td>\n",
       "      <td>70</td>\n",
       "      <td>25</td>\n",
       "      <td>99</td>\n",
       "      <td>0</td>\n",
       "      <td>68</td>\n",
       "      <td>104</td>\n",
       "    </tr>\n",
       "    <tr>\n",
       "      <th>2</th>\n",
       "      <td>7</td>\n",
       "      <td>0</td>\n",
       "      <td>126</td>\n",
       "      <td>37</td>\n",
       "      <td>55</td>\n",
       "      <td>91</td>\n",
       "      <td>34</td>\n",
       "      <td>20</td>\n",
       "      <td>61</td>\n",
       "      <td>73</td>\n",
       "      <td>...</td>\n",
       "      <td>130</td>\n",
       "      <td>49</td>\n",
       "      <td>28</td>\n",
       "      <td>108</td>\n",
       "      <td>93</td>\n",
       "      <td>60</td>\n",
       "      <td>36</td>\n",
       "      <td>14</td>\n",
       "      <td>17</td>\n",
       "      <td>23</td>\n",
       "    </tr>\n",
       "    <tr>\n",
       "      <th>3</th>\n",
       "      <td>109</td>\n",
       "      <td>67</td>\n",
       "      <td>113</td>\n",
       "      <td>101</td>\n",
       "      <td>9</td>\n",
       "      <td>30</td>\n",
       "      <td>3</td>\n",
       "      <td>129</td>\n",
       "      <td>48</td>\n",
       "      <td>65</td>\n",
       "      <td>...</td>\n",
       "      <td>4</td>\n",
       "      <td>109</td>\n",
       "      <td>52</td>\n",
       "      <td>31</td>\n",
       "      <td>98</td>\n",
       "      <td>103</td>\n",
       "      <td>28</td>\n",
       "      <td>38</td>\n",
       "      <td>98</td>\n",
       "      <td>0</td>\n",
       "    </tr>\n",
       "    <tr>\n",
       "      <th>4</th>\n",
       "      <td>15</td>\n",
       "      <td>79</td>\n",
       "      <td>55</td>\n",
       "      <td>83</td>\n",
       "      <td>18</td>\n",
       "      <td>122</td>\n",
       "      <td>109</td>\n",
       "      <td>104</td>\n",
       "      <td>45</td>\n",
       "      <td>10</td>\n",
       "      <td>...</td>\n",
       "      <td>82</td>\n",
       "      <td>65</td>\n",
       "      <td>18</td>\n",
       "      <td>43</td>\n",
       "      <td>78</td>\n",
       "      <td>44</td>\n",
       "      <td>53</td>\n",
       "      <td>123</td>\n",
       "      <td>12</td>\n",
       "      <td>105</td>\n",
       "    </tr>\n",
       "    <tr>\n",
       "      <th>5</th>\n",
       "      <td>96</td>\n",
       "      <td>24</td>\n",
       "      <td>114</td>\n",
       "      <td>64</td>\n",
       "      <td>35</td>\n",
       "      <td>90</td>\n",
       "      <td>104</td>\n",
       "      <td>64</td>\n",
       "      <td>32</td>\n",
       "      <td>73</td>\n",
       "      <td>...</td>\n",
       "      <td>28</td>\n",
       "      <td>18</td>\n",
       "      <td>33</td>\n",
       "      <td>17</td>\n",
       "      <td>128</td>\n",
       "      <td>13</td>\n",
       "      <td>119</td>\n",
       "      <td>129</td>\n",
       "      <td>63</td>\n",
       "      <td>93</td>\n",
       "    </tr>\n",
       "    <tr>\n",
       "      <th>6</th>\n",
       "      <td>16</td>\n",
       "      <td>53</td>\n",
       "      <td>77</td>\n",
       "      <td>48</td>\n",
       "      <td>111</td>\n",
       "      <td>129</td>\n",
       "      <td>65</td>\n",
       "      <td>124</td>\n",
       "      <td>60</td>\n",
       "      <td>114</td>\n",
       "      <td>...</td>\n",
       "      <td>33</td>\n",
       "      <td>37</td>\n",
       "      <td>20</td>\n",
       "      <td>13</td>\n",
       "      <td>104</td>\n",
       "      <td>61</td>\n",
       "      <td>46</td>\n",
       "      <td>53</td>\n",
       "      <td>76</td>\n",
       "      <td>113</td>\n",
       "    </tr>\n",
       "    <tr>\n",
       "      <th>7</th>\n",
       "      <td>78</td>\n",
       "      <td>89</td>\n",
       "      <td>2</td>\n",
       "      <td>106</td>\n",
       "      <td>96</td>\n",
       "      <td>123</td>\n",
       "      <td>92</td>\n",
       "      <td>30</td>\n",
       "      <td>98</td>\n",
       "      <td>111</td>\n",
       "      <td>...</td>\n",
       "      <td>101</td>\n",
       "      <td>42</td>\n",
       "      <td>105</td>\n",
       "      <td>124</td>\n",
       "      <td>119</td>\n",
       "      <td>20</td>\n",
       "      <td>63</td>\n",
       "      <td>62</td>\n",
       "      <td>105</td>\n",
       "      <td>94</td>\n",
       "    </tr>\n",
       "    <tr>\n",
       "      <th>8</th>\n",
       "      <td>71</td>\n",
       "      <td>13</td>\n",
       "      <td>104</td>\n",
       "      <td>89</td>\n",
       "      <td>48</td>\n",
       "      <td>110</td>\n",
       "      <td>91</td>\n",
       "      <td>96</td>\n",
       "      <td>108</td>\n",
       "      <td>86</td>\n",
       "      <td>...</td>\n",
       "      <td>45</td>\n",
       "      <td>59</td>\n",
       "      <td>114</td>\n",
       "      <td>72</td>\n",
       "      <td>14</td>\n",
       "      <td>93</td>\n",
       "      <td>22</td>\n",
       "      <td>45</td>\n",
       "      <td>94</td>\n",
       "      <td>8</td>\n",
       "    </tr>\n",
       "    <tr>\n",
       "      <th>9</th>\n",
       "      <td>31</td>\n",
       "      <td>113</td>\n",
       "      <td>28</td>\n",
       "      <td>48</td>\n",
       "      <td>69</td>\n",
       "      <td>112</td>\n",
       "      <td>56</td>\n",
       "      <td>33</td>\n",
       "      <td>0</td>\n",
       "      <td>7</td>\n",
       "      <td>...</td>\n",
       "      <td>41</td>\n",
       "      <td>48</td>\n",
       "      <td>44</td>\n",
       "      <td>100</td>\n",
       "      <td>65</td>\n",
       "      <td>10</td>\n",
       "      <td>98</td>\n",
       "      <td>99</td>\n",
       "      <td>64</td>\n",
       "      <td>27</td>\n",
       "    </tr>\n",
       "    <tr>\n",
       "      <th>10</th>\n",
       "      <td>45</td>\n",
       "      <td>75</td>\n",
       "      <td>70</td>\n",
       "      <td>8</td>\n",
       "      <td>18</td>\n",
       "      <td>87</td>\n",
       "      <td>25</td>\n",
       "      <td>134</td>\n",
       "      <td>122</td>\n",
       "      <td>120</td>\n",
       "      <td>...</td>\n",
       "      <td>64</td>\n",
       "      <td>1</td>\n",
       "      <td>83</td>\n",
       "      <td>86</td>\n",
       "      <td>6</td>\n",
       "      <td>82</td>\n",
       "      <td>20</td>\n",
       "      <td>85</td>\n",
       "      <td>69</td>\n",
       "      <td>101</td>\n",
       "    </tr>\n",
       "    <tr>\n",
       "      <th>11</th>\n",
       "      <td>91</td>\n",
       "      <td>127</td>\n",
       "      <td>50</td>\n",
       "      <td>67</td>\n",
       "      <td>68</td>\n",
       "      <td>43</td>\n",
       "      <td>78</td>\n",
       "      <td>65</td>\n",
       "      <td>130</td>\n",
       "      <td>113</td>\n",
       "      <td>...</td>\n",
       "      <td>30</td>\n",
       "      <td>130</td>\n",
       "      <td>101</td>\n",
       "      <td>107</td>\n",
       "      <td>52</td>\n",
       "      <td>75</td>\n",
       "      <td>37</td>\n",
       "      <td>85</td>\n",
       "      <td>112</td>\n",
       "      <td>31</td>\n",
       "    </tr>\n",
       "    <tr>\n",
       "      <th>12</th>\n",
       "      <td>95</td>\n",
       "      <td>98</td>\n",
       "      <td>70</td>\n",
       "      <td>110</td>\n",
       "      <td>104</td>\n",
       "      <td>109</td>\n",
       "      <td>98</td>\n",
       "      <td>65</td>\n",
       "      <td>20</td>\n",
       "      <td>32</td>\n",
       "      <td>...</td>\n",
       "      <td>112</td>\n",
       "      <td>83</td>\n",
       "      <td>95</td>\n",
       "      <td>102</td>\n",
       "      <td>98</td>\n",
       "      <td>134</td>\n",
       "      <td>45</td>\n",
       "      <td>55</td>\n",
       "      <td>124</td>\n",
       "      <td>29</td>\n",
       "    </tr>\n",
       "    <tr>\n",
       "      <th>13</th>\n",
       "      <td>66</td>\n",
       "      <td>91</td>\n",
       "      <td>51</td>\n",
       "      <td>49</td>\n",
       "      <td>74</td>\n",
       "      <td>12</td>\n",
       "      <td>94</td>\n",
       "      <td>30</td>\n",
       "      <td>23</td>\n",
       "      <td>52</td>\n",
       "      <td>...</td>\n",
       "      <td>25</td>\n",
       "      <td>99</td>\n",
       "      <td>58</td>\n",
       "      <td>8</td>\n",
       "      <td>27</td>\n",
       "      <td>102</td>\n",
       "      <td>1</td>\n",
       "      <td>22</td>\n",
       "      <td>55</td>\n",
       "      <td>16</td>\n",
       "    </tr>\n",
       "    <tr>\n",
       "      <th>14</th>\n",
       "      <td>81</td>\n",
       "      <td>20</td>\n",
       "      <td>17</td>\n",
       "      <td>125</td>\n",
       "      <td>126</td>\n",
       "      <td>59</td>\n",
       "      <td>104</td>\n",
       "      <td>44</td>\n",
       "      <td>95</td>\n",
       "      <td>135</td>\n",
       "      <td>...</td>\n",
       "      <td>14</td>\n",
       "      <td>82</td>\n",
       "      <td>77</td>\n",
       "      <td>24</td>\n",
       "      <td>48</td>\n",
       "      <td>122</td>\n",
       "      <td>32</td>\n",
       "      <td>110</td>\n",
       "      <td>0</td>\n",
       "      <td>74</td>\n",
       "    </tr>\n",
       "    <tr>\n",
       "      <th>15</th>\n",
       "      <td>5</td>\n",
       "      <td>95</td>\n",
       "      <td>62</td>\n",
       "      <td>118</td>\n",
       "      <td>132</td>\n",
       "      <td>70</td>\n",
       "      <td>60</td>\n",
       "      <td>120</td>\n",
       "      <td>53</td>\n",
       "      <td>22</td>\n",
       "      <td>...</td>\n",
       "      <td>110</td>\n",
       "      <td>27</td>\n",
       "      <td>67</td>\n",
       "      <td>5</td>\n",
       "      <td>11</td>\n",
       "      <td>124</td>\n",
       "      <td>63</td>\n",
       "      <td>44</td>\n",
       "      <td>46</td>\n",
       "      <td>94</td>\n",
       "    </tr>\n",
       "    <tr>\n",
       "      <th>16</th>\n",
       "      <td>107</td>\n",
       "      <td>65</td>\n",
       "      <td>6</td>\n",
       "      <td>129</td>\n",
       "      <td>64</td>\n",
       "      <td>73</td>\n",
       "      <td>85</td>\n",
       "      <td>120</td>\n",
       "      <td>38</td>\n",
       "      <td>32</td>\n",
       "      <td>...</td>\n",
       "      <td>64</td>\n",
       "      <td>14</td>\n",
       "      <td>24</td>\n",
       "      <td>71</td>\n",
       "      <td>58</td>\n",
       "      <td>21</td>\n",
       "      <td>100</td>\n",
       "      <td>42</td>\n",
       "      <td>68</td>\n",
       "      <td>7</td>\n",
       "    </tr>\n",
       "    <tr>\n",
       "      <th>17</th>\n",
       "      <td>62</td>\n",
       "      <td>114</td>\n",
       "      <td>82</td>\n",
       "      <td>106</td>\n",
       "      <td>84</td>\n",
       "      <td>42</td>\n",
       "      <td>51</td>\n",
       "      <td>68</td>\n",
       "      <td>16</td>\n",
       "      <td>31</td>\n",
       "      <td>...</td>\n",
       "      <td>53</td>\n",
       "      <td>97</td>\n",
       "      <td>134</td>\n",
       "      <td>85</td>\n",
       "      <td>79</td>\n",
       "      <td>41</td>\n",
       "      <td>66</td>\n",
       "      <td>1</td>\n",
       "      <td>132</td>\n",
       "      <td>13</td>\n",
       "    </tr>\n",
       "    <tr>\n",
       "      <th>18</th>\n",
       "      <td>116</td>\n",
       "      <td>67</td>\n",
       "      <td>124</td>\n",
       "      <td>67</td>\n",
       "      <td>76</td>\n",
       "      <td>31</td>\n",
       "      <td>97</td>\n",
       "      <td>34</td>\n",
       "      <td>87</td>\n",
       "      <td>51</td>\n",
       "      <td>...</td>\n",
       "      <td>16</td>\n",
       "      <td>83</td>\n",
       "      <td>108</td>\n",
       "      <td>120</td>\n",
       "      <td>95</td>\n",
       "      <td>96</td>\n",
       "      <td>124</td>\n",
       "      <td>46</td>\n",
       "      <td>117</td>\n",
       "      <td>58</td>\n",
       "    </tr>\n",
       "    <tr>\n",
       "      <th>19</th>\n",
       "      <td>22</td>\n",
       "      <td>121</td>\n",
       "      <td>40</td>\n",
       "      <td>72</td>\n",
       "      <td>70</td>\n",
       "      <td>32</td>\n",
       "      <td>130</td>\n",
       "      <td>130</td>\n",
       "      <td>0</td>\n",
       "      <td>52</td>\n",
       "      <td>...</td>\n",
       "      <td>122</td>\n",
       "      <td>86</td>\n",
       "      <td>122</td>\n",
       "      <td>125</td>\n",
       "      <td>49</td>\n",
       "      <td>53</td>\n",
       "      <td>114</td>\n",
       "      <td>80</td>\n",
       "      <td>68</td>\n",
       "      <td>133</td>\n",
       "    </tr>\n",
       "  </tbody>\n",
       "</table>\n",
       "<p>20 rows × 136 columns</p>\n",
       "</div>"
      ],
      "text/plain": [
       "    0    1    2    3    4    5    6    7    8    9   ...   126  127  128  129  \\\n",
       "0    65   87   46   48   17   38   60  102   33   87 ...    12  108  125   91   \n",
       "1    15  100  110    9  101  101   35    2   39   67 ...    50   82  127    9   \n",
       "2     7    0  126   37   55   91   34   20   61   73 ...   130   49   28  108   \n",
       "3   109   67  113  101    9   30    3  129   48   65 ...     4  109   52   31   \n",
       "4    15   79   55   83   18  122  109  104   45   10 ...    82   65   18   43   \n",
       "5    96   24  114   64   35   90  104   64   32   73 ...    28   18   33   17   \n",
       "6    16   53   77   48  111  129   65  124   60  114 ...    33   37   20   13   \n",
       "7    78   89    2  106   96  123   92   30   98  111 ...   101   42  105  124   \n",
       "8    71   13  104   89   48  110   91   96  108   86 ...    45   59  114   72   \n",
       "9    31  113   28   48   69  112   56   33    0    7 ...    41   48   44  100   \n",
       "10   45   75   70    8   18   87   25  134  122  120 ...    64    1   83   86   \n",
       "11   91  127   50   67   68   43   78   65  130  113 ...    30  130  101  107   \n",
       "12   95   98   70  110  104  109   98   65   20   32 ...   112   83   95  102   \n",
       "13   66   91   51   49   74   12   94   30   23   52 ...    25   99   58    8   \n",
       "14   81   20   17  125  126   59  104   44   95  135 ...    14   82   77   24   \n",
       "15    5   95   62  118  132   70   60  120   53   22 ...   110   27   67    5   \n",
       "16  107   65    6  129   64   73   85  120   38   32 ...    64   14   24   71   \n",
       "17   62  114   82  106   84   42   51   68   16   31 ...    53   97  134   85   \n",
       "18  116   67  124   67   76   31   97   34   87   51 ...    16   83  108  120   \n",
       "19   22  121   40   72   70   32  130  130    0   52 ...   122   86  122  125   \n",
       "\n",
       "    130  131  132  133  134  135  \n",
       "0    74   50   63   34   56  125  \n",
       "1    70   25   99    0   68  104  \n",
       "2    93   60   36   14   17   23  \n",
       "3    98  103   28   38   98    0  \n",
       "4    78   44   53  123   12  105  \n",
       "5   128   13  119  129   63   93  \n",
       "6   104   61   46   53   76  113  \n",
       "7   119   20   63   62  105   94  \n",
       "8    14   93   22   45   94    8  \n",
       "9    65   10   98   99   64   27  \n",
       "10    6   82   20   85   69  101  \n",
       "11   52   75   37   85  112   31  \n",
       "12   98  134   45   55  124   29  \n",
       "13   27  102    1   22   55   16  \n",
       "14   48  122   32  110    0   74  \n",
       "15   11  124   63   44   46   94  \n",
       "16   58   21  100   42   68    7  \n",
       "17   79   41   66    1  132   13  \n",
       "18   95   96  124   46  117   58  \n",
       "19   49   53  114   80   68  133  \n",
       "\n",
       "[20 rows x 136 columns]"
      ]
     },
     "execution_count": 19,
     "metadata": {},
     "output_type": "execute_result"
    }
   ],
   "source": [
    "IN['bs.pi']"
   ]
  },
  {
   "cell_type": "markdown",
   "metadata": {},
   "source": [
    "## TFA specific initialization\n",
    "Skipping for now, since use TFA set to false"
   ]
  },
  {
   "cell_type": "code",
   "execution_count": 20,
   "metadata": {
    "collapsed": false
   },
   "outputs": [],
   "source": [
    "des_matrix = des_matrix.ix[ IN['tf.with.expr'] , :]"
   ]
  },
  {
   "cell_type": "markdown",
   "metadata": {},
   "source": [
    "## Main Loop"
   ]
  },
  {
   "cell_type": "code",
   "execution_count": 21,
   "metadata": {
    "collapsed": true
   },
   "outputs": [],
   "source": [
    "betas = []\n",
    "betas_resc  = []\n",
    "bins = PARS['mi.bins']"
   ]
  },
  {
   "cell_type": "code",
   "execution_count": 22,
   "metadata": {
    "collapsed": false
   },
   "outputs": [],
   "source": [
    "for i in range(len(IN['bs.pi'])):\n",
    "    X = des_matrix.ix[:, IN['bs.pi'].ix[i,:]]\n",
    "    Y = res_matrix.ix[:, IN['bs.pi'].ix[i,:]]\n",
    "    X.to_csv('X.csv')\n",
    "    Y.to_csv('Y.csv')\n",
    "    priors_mat.to_csv('priors_mat.csv')\n",
    "    subprocess.call(['R', '-f', './mi_clr_driver.R'])\n",
    "    clr_matrix = pandas.read_csv('clr_matrix.tsv', sep='\\t')\n",
    "    clr_matrix = clr_matrix.ix[:, IN['tf.names']]\n",
    "    clr_matrix.to_csv('clr_matrix.csv')\n",
    "    subprocess.call(['R', '-f', './BBSR_driver.R'])\n",
    "    betas.append(pandas.read_csv('betas.tsv', sep='\\t'))\n",
    "    betas_resc.append(pandas.read_csv('betas_rescaled.tsv', sep='\\t'))"
   ]
  },
  {
   "cell_type": "markdown",
   "metadata": {
    "collapsed": true
   },
   "source": [
    "## Combine confidences"
   ]
  },
  {
   "cell_type": "code",
   "execution_count": 23,
   "metadata": {
    "collapsed": false
   },
   "outputs": [
    {
     "data": {
      "text/plain": [
       "239"
      ]
     },
     "execution_count": 23,
     "metadata": {},
     "output_type": "execute_result"
    }
   ],
   "source": [
    "combined_confidences = pandas.DataFrame(np.zeros((betas[0].shape)), index = betas[0].index, columns = betas[0].columns )\n",
    "len(set(list(betas[9].columns)))"
   ]
  },
  {
   "cell_type": "code",
   "execution_count": 24,
   "metadata": {
    "collapsed": false
   },
   "outputs": [],
   "source": [
    "for beta_resc in betas_resc:\n",
    "    # this ranking code is especially wordy because the rank function only works in one dimension (col or row), so I had to flatten the matrix\n",
    "    ranked_df =np.reshape(pandas.DataFrame(np.ndarray.flatten(beta_resc.values)).rank( method = \"average\").values, betas_resc[0].shape)\n",
    "    combined_confidences = combined_confidences + ranked_df"
   ]
  },
  {
   "cell_type": "code",
   "execution_count": 25,
   "metadata": {
    "collapsed": false
   },
   "outputs": [],
   "source": [
    "min_element = min(combined_confidences.min())"
   ]
  },
  {
   "cell_type": "code",
   "execution_count": 26,
   "metadata": {
    "collapsed": false
   },
   "outputs": [],
   "source": [
    "combined_confidences = (combined_confidences - min_element) / (PARS['num.boots'] * combined_confidences.size - min_element)"
   ]
  },
  {
   "cell_type": "code",
   "execution_count": 27,
   "metadata": {
    "collapsed": false
   },
   "outputs": [
    {
     "data": {
      "text/plain": [
       "0.99996705786926354"
      ]
     },
     "execution_count": 27,
     "metadata": {},
     "output_type": "execute_result"
    }
   ],
   "source": [
    "max(combined_confidences.max())"
   ]
  },
  {
   "cell_type": "code",
   "execution_count": 28,
   "metadata": {
    "collapsed": false
   },
   "outputs": [
    {
     "data": {
      "text/html": [
       "<div>\n",
       "<table border=\"1\" class=\"dataframe\">\n",
       "  <thead>\n",
       "    <tr style=\"text-align: right;\">\n",
       "      <th></th>\n",
       "      <th>BSU31410</th>\n",
       "      <th>BSU29740</th>\n",
       "      <th>BSU27890</th>\n",
       "      <th>BSU40800</th>\n",
       "      <th>BSU37650</th>\n",
       "      <th>BSU05370</th>\n",
       "      <th>BSU21780</th>\n",
       "      <th>BSU05700</th>\n",
       "      <th>BSU39430</th>\n",
       "      <th>BSU02970</th>\n",
       "      <th>...</th>\n",
       "      <th>BSU02370</th>\n",
       "      <th>BSU12560</th>\n",
       "      <th>BSU24020</th>\n",
       "      <th>BSU07220</th>\n",
       "      <th>BSU15320</th>\n",
       "      <th>BSU29400</th>\n",
       "      <th>BSU27170</th>\n",
       "      <th>BSU09520</th>\n",
       "      <th>BSU25490</th>\n",
       "      <th>BSU17850</th>\n",
       "    </tr>\n",
       "  </thead>\n",
       "  <tbody>\n",
       "    <tr>\n",
       "      <th>BSU00370</th>\n",
       "      <td>0.0</td>\n",
       "      <td>0.000000</td>\n",
       "      <td>0.0</td>\n",
       "      <td>0.049434</td>\n",
       "      <td>0.0</td>\n",
       "      <td>0.0</td>\n",
       "      <td>0.0</td>\n",
       "      <td>0.0</td>\n",
       "      <td>0.0</td>\n",
       "      <td>0.0</td>\n",
       "      <td>...</td>\n",
       "      <td>0.000000</td>\n",
       "      <td>0.0</td>\n",
       "      <td>0.000000</td>\n",
       "      <td>0.0</td>\n",
       "      <td>0.0</td>\n",
       "      <td>0.049413</td>\n",
       "      <td>0.0</td>\n",
       "      <td>0.0</td>\n",
       "      <td>0.0</td>\n",
       "      <td>0.0</td>\n",
       "    </tr>\n",
       "    <tr>\n",
       "      <th>BSU08100</th>\n",
       "      <td>0.0</td>\n",
       "      <td>0.000000</td>\n",
       "      <td>0.0</td>\n",
       "      <td>0.000000</td>\n",
       "      <td>0.0</td>\n",
       "      <td>0.0</td>\n",
       "      <td>0.0</td>\n",
       "      <td>0.0</td>\n",
       "      <td>0.0</td>\n",
       "      <td>0.0</td>\n",
       "      <td>...</td>\n",
       "      <td>0.000000</td>\n",
       "      <td>0.0</td>\n",
       "      <td>0.000000</td>\n",
       "      <td>0.0</td>\n",
       "      <td>0.0</td>\n",
       "      <td>0.000000</td>\n",
       "      <td>0.0</td>\n",
       "      <td>0.0</td>\n",
       "      <td>0.0</td>\n",
       "      <td>0.0</td>\n",
       "    </tr>\n",
       "    <tr>\n",
       "      <th>BSU01810</th>\n",
       "      <td>0.0</td>\n",
       "      <td>0.049506</td>\n",
       "      <td>0.0</td>\n",
       "      <td>0.000000</td>\n",
       "      <td>0.0</td>\n",
       "      <td>0.0</td>\n",
       "      <td>0.0</td>\n",
       "      <td>0.0</td>\n",
       "      <td>0.0</td>\n",
       "      <td>0.0</td>\n",
       "      <td>...</td>\n",
       "      <td>0.000000</td>\n",
       "      <td>0.0</td>\n",
       "      <td>0.000000</td>\n",
       "      <td>0.0</td>\n",
       "      <td>0.0</td>\n",
       "      <td>0.000000</td>\n",
       "      <td>0.0</td>\n",
       "      <td>0.0</td>\n",
       "      <td>0.0</td>\n",
       "      <td>0.0</td>\n",
       "    </tr>\n",
       "    <tr>\n",
       "      <th>BSU24250</th>\n",
       "      <td>0.0</td>\n",
       "      <td>0.000000</td>\n",
       "      <td>0.0</td>\n",
       "      <td>0.000000</td>\n",
       "      <td>0.0</td>\n",
       "      <td>0.0</td>\n",
       "      <td>0.0</td>\n",
       "      <td>0.0</td>\n",
       "      <td>0.0</td>\n",
       "      <td>0.0</td>\n",
       "      <td>...</td>\n",
       "      <td>0.099597</td>\n",
       "      <td>0.0</td>\n",
       "      <td>0.000000</td>\n",
       "      <td>0.0</td>\n",
       "      <td>0.0</td>\n",
       "      <td>0.099377</td>\n",
       "      <td>0.0</td>\n",
       "      <td>0.0</td>\n",
       "      <td>0.0</td>\n",
       "      <td>0.0</td>\n",
       "    </tr>\n",
       "    <tr>\n",
       "      <th>BSU36020</th>\n",
       "      <td>0.0</td>\n",
       "      <td>0.000000</td>\n",
       "      <td>0.0</td>\n",
       "      <td>0.000000</td>\n",
       "      <td>0.0</td>\n",
       "      <td>0.0</td>\n",
       "      <td>0.0</td>\n",
       "      <td>0.0</td>\n",
       "      <td>0.0</td>\n",
       "      <td>0.0</td>\n",
       "      <td>...</td>\n",
       "      <td>0.000000</td>\n",
       "      <td>0.0</td>\n",
       "      <td>0.099615</td>\n",
       "      <td>0.0</td>\n",
       "      <td>0.0</td>\n",
       "      <td>0.149117</td>\n",
       "      <td>0.0</td>\n",
       "      <td>0.0</td>\n",
       "      <td>0.0</td>\n",
       "      <td>0.0</td>\n",
       "    </tr>\n",
       "  </tbody>\n",
       "</table>\n",
       "<p>5 rows × 239 columns</p>\n",
       "</div>"
      ],
      "text/plain": [
       "          BSU31410  BSU29740  BSU27890  BSU40800  BSU37650  BSU05370  \\\n",
       "BSU00370       0.0  0.000000       0.0  0.049434       0.0       0.0   \n",
       "BSU08100       0.0  0.000000       0.0  0.000000       0.0       0.0   \n",
       "BSU01810       0.0  0.049506       0.0  0.000000       0.0       0.0   \n",
       "BSU24250       0.0  0.000000       0.0  0.000000       0.0       0.0   \n",
       "BSU36020       0.0  0.000000       0.0  0.000000       0.0       0.0   \n",
       "\n",
       "          BSU21780  BSU05700  BSU39430  BSU02970    ...     BSU02370  \\\n",
       "BSU00370       0.0       0.0       0.0       0.0    ...     0.000000   \n",
       "BSU08100       0.0       0.0       0.0       0.0    ...     0.000000   \n",
       "BSU01810       0.0       0.0       0.0       0.0    ...     0.000000   \n",
       "BSU24250       0.0       0.0       0.0       0.0    ...     0.099597   \n",
       "BSU36020       0.0       0.0       0.0       0.0    ...     0.000000   \n",
       "\n",
       "          BSU12560  BSU24020  BSU07220  BSU15320  BSU29400  BSU27170  \\\n",
       "BSU00370       0.0  0.000000       0.0       0.0  0.049413       0.0   \n",
       "BSU08100       0.0  0.000000       0.0       0.0  0.000000       0.0   \n",
       "BSU01810       0.0  0.000000       0.0       0.0  0.000000       0.0   \n",
       "BSU24250       0.0  0.000000       0.0       0.0  0.099377       0.0   \n",
       "BSU36020       0.0  0.099615       0.0       0.0  0.149117       0.0   \n",
       "\n",
       "          BSU09520  BSU25490  BSU17850  \n",
       "BSU00370       0.0       0.0       0.0  \n",
       "BSU08100       0.0       0.0       0.0  \n",
       "BSU01810       0.0       0.0       0.0  \n",
       "BSU24250       0.0       0.0       0.0  \n",
       "BSU36020       0.0       0.0       0.0  \n",
       "\n",
       "[5 rows x 239 columns]"
      ]
     },
     "execution_count": 28,
     "metadata": {},
     "output_type": "execute_result"
    }
   ],
   "source": [
    "combined_confidences.to_csv('combined_confidences.csv')\n",
    "combined_confidences.head()"
   ]
  },
  {
   "cell_type": "markdown",
   "metadata": {},
   "source": [
    "## Threshold and Summarize"
   ]
  },
  {
   "cell_type": "code",
   "execution_count": 29,
   "metadata": {
    "collapsed": true
   },
   "outputs": [],
   "source": [
    "th = 0.5"
   ]
  },
  {
   "cell_type": "code",
   "execution_count": 30,
   "metadata": {
    "collapsed": true
   },
   "outputs": [],
   "source": [
    "betas_sign = pandas.DataFrame(np.zeros((betas[0].shape)), index = betas[0].index, columns = betas[0].columns )\n",
    "betas_non_zero = pandas.DataFrame(np.zeros((betas[0].shape)), index = betas[0].index, columns = betas[0].columns )"
   ]
  },
  {
   "cell_type": "code",
   "execution_count": 31,
   "metadata": {
    "collapsed": false
   },
   "outputs": [
    {
     "data": {
      "text/plain": [
       "(array([   0,    0,    1, ..., 4216, 4217, 4217]),\n",
       " array([124, 207,  58, ..., 216,  79, 101]))"
      ]
     },
     "execution_count": 31,
     "metadata": {},
     "output_type": "execute_result"
    }
   ],
   "source": [
    "np.nonzero(betas[0].values)"
   ]
  },
  {
   "cell_type": "code",
   "execution_count": 32,
   "metadata": {
    "collapsed": false
   },
   "outputs": [],
   "source": [
    "for beta in betas:\n",
    "    betas_sign = betas_sign + np.sign(beta.values)\n",
    "    betas_non_zero = betas_non_zero + np.absolute(np.sign(beta.values))"
   ]
  },
  {
   "cell_type": "code",
   "execution_count": 33,
   "metadata": {
    "collapsed": false
   },
   "outputs": [],
   "source": [
    "# we only care about interactions that are present in more than th (fraction) bootstraps\n",
    "ind_vec = np.where( betas_non_zero > len(betas) * th)      "
   ]
  },
  {
   "cell_type": "code",
   "execution_count": 34,
   "metadata": {
    "collapsed": false
   },
   "outputs": [],
   "source": [
    "betas_stack = np.stack([b.values[ind_vec] for b in betas])"
   ]
  },
  {
   "cell_type": "code",
   "execution_count": 35,
   "metadata": {
    "collapsed": false
   },
   "outputs": [],
   "source": [
    "betas_mean = np.mean(betas_stack, axis = 0)"
   ]
  },
  {
   "cell_type": "code",
   "execution_count": 36,
   "metadata": {
    "collapsed": true
   },
   "outputs": [],
   "source": [
    "betas_median = np.median(betas_stack, axis = 0)"
   ]
  },
  {
   "cell_type": "code",
   "execution_count": 37,
   "metadata": {
    "collapsed": true
   },
   "outputs": [],
   "source": [
    "betas_min = np.min(betas_stack, axis = 0)"
   ]
  },
  {
   "cell_type": "code",
   "execution_count": 38,
   "metadata": {
    "collapsed": true
   },
   "outputs": [],
   "source": [
    "betas_max = np.max(betas_stack, axis = 0)"
   ]
  },
  {
   "cell_type": "code",
   "execution_count": 39,
   "metadata": {
    "collapsed": false
   },
   "outputs": [],
   "source": [
    "betas_resc_stack = np.stack([b.values[ind_vec] for b in betas_resc])"
   ]
  },
  {
   "cell_type": "code",
   "execution_count": 40,
   "metadata": {
    "collapsed": false
   },
   "outputs": [],
   "source": [
    "betas_resc_mean = np.mean(betas_resc_stack, axis = 0)\n",
    "betas_resc_median = np.median(betas_resc_stack, axis = 0)\n",
    "betas_resc_min = np.min(betas_resc_stack, axis = 0)\n",
    "betas_resc_max = np.max(betas_resc_stack, axis = 0)"
   ]
  },
  {
   "cell_type": "markdown",
   "metadata": {},
   "source": [
    "## AUPR calculation"
   ]
  },
  {
   "cell_type": "code",
   "execution_count": 41,
   "metadata": {
    "collapsed": true
   },
   "outputs": [],
   "source": [
    "candidates = np.where( combined_confidences > 0)    "
   ]
  },
  {
   "cell_type": "code",
   "execution_count": 42,
   "metadata": {
    "collapsed": false
   },
   "outputs": [],
   "source": [
    "# For some reason there are more target genes in the gold standard than we've gotten from the exp matrix\n",
    "# Filter it\n",
    "gold_standard_filtered = IN['gs.mat'].loc[combined_confidences.index]\n",
    "gold_standard_filtered = gold_standard_filtered[combined_confidences.columns]"
   ]
  },
  {
   "cell_type": "code",
   "execution_count": 43,
   "metadata": {
    "collapsed": true
   },
   "outputs": [],
   "source": [
    "condition_positive = len(np.where(gold_standard_filtered.values > 0)[0])"
   ]
  },
  {
   "cell_type": "code",
   "execution_count": 64,
   "metadata": {
    "collapsed": false
   },
   "outputs": [],
   "source": [
    "# rank from highest to lowest confidence\n",
    "sorted_candidates = np.argsort(combined_confidences.values[candidates], axis = None)[::-1]"
   ]
  },
  {
   "cell_type": "code",
   "execution_count": 65,
   "metadata": {
    "collapsed": false
   },
   "outputs": [
    {
     "data": {
      "text/plain": [
       "0.99996705786926354"
      ]
     },
     "execution_count": 65,
     "metadata": {},
     "output_type": "execute_result"
    }
   ],
   "source": [
    "combined_confidences.values[candidates][sorted_candidates[0]]"
   ]
  },
  {
   "cell_type": "code",
   "execution_count": 66,
   "metadata": {
    "collapsed": false
   },
   "outputs": [],
   "source": [
    "gs_values = np.array(gold_standard_filtered.values[candidates])"
   ]
  },
  {
   "cell_type": "code",
   "execution_count": 67,
   "metadata": {
    "collapsed": false
   },
   "outputs": [
    {
     "data": {
      "text/plain": [
       "array([0, 0, 0, 0, 0, 0, 0, 0, 0, 0, 1, 0, 0, 0, 0, 0, 0, 0, 0, 0, 1, 0, 1,\n",
       "       1, 1, 1, 1, 1, 1, 0, 0, 0, 0, 0, 0, 0, 0, 1, 0, 0, 0, 0, 0, 0, 0, 0,\n",
       "       0, 0, 0, 0, 0, 0, 0, 1, 0, 0, 0, 0, 0, 0, 0, 0, 0, 0, 0, 0, 1, 0, 0,\n",
       "       0, 0, 0, 0, 0, 0, 0, 0, 0, 0, 0, 1, 0, 0, 1, 0, 0, 0, 0, 0, 0, 0, 0,\n",
       "       0, 1, 0, 0, 0, 0, 0, 0])"
      ]
     },
     "execution_count": 67,
     "metadata": {},
     "output_type": "execute_result"
    }
   ],
   "source": [
    "gs_values[sorted_candidates[0:100]]"
   ]
  },
  {
   "cell_type": "code",
   "execution_count": 68,
   "metadata": {
    "collapsed": true
   },
   "outputs": [],
   "source": [
    "TP = 0.0\n",
    "FP = 0.0\n",
    "precision = []\n",
    "recall = []"
   ]
  },
  {
   "cell_type": "code",
   "execution_count": 69,
   "metadata": {
    "collapsed": false
   },
   "outputs": [],
   "source": [
    "for i in sorted_candidates:\n",
    "    truth = gs_values[i]\n",
    "    if truth == 1:\n",
    "        TP = TP + 1\n",
    "    else:\n",
    "        FP = FP + 1\n",
    "    precision.append(TP / (TP + FP))\n",
    "    recall.append(TP / condition_positive)"
   ]
  },
  {
   "cell_type": "code",
   "execution_count": 70,
   "metadata": {
    "collapsed": false
   },
   "outputs": [
    {
     "data": {
      "text/plain": [
       "<matplotlib.text.Text at 0x1196ef810>"
      ]
     },
     "execution_count": 70,
     "metadata": {},
     "output_type": "execute_result"
    },
    {
     "data": {
      "image/png": "[encoded data removed]",
      "text/plain": [
       "<matplotlib.figure.Figure at 0x11b755c50>"
      ]
     },
     "metadata": {},
     "output_type": "display_data"
    }
   ],
   "source": [
    "plt.plot(recall, precision)\n",
    "plt.xlabel('recall')\n",
    "plt.ylabel('precision')"
   ]
  },
  {
   "cell_type": "code",
   "execution_count": 71,
   "metadata": {
    "collapsed": false
   },
   "outputs": [
    {
     "data": {
      "text/plain": [
       "(4218, 239)"
      ]
     },
     "execution_count": 71,
     "metadata": {},
     "output_type": "execute_result"
    }
   ],
   "source": [
    "combined_confidences.shape"
   ]
  },
  {
   "cell_type": "code",
   "execution_count": 53,
   "metadata": {
    "collapsed": false
   },
   "outputs": [
    {
     "data": {
      "text/plain": [
       "0    1004958\n",
       "1       3144\n",
       "dtype: int64"
      ]
     },
     "execution_count": 53,
     "metadata": {},
     "output_type": "execute_result"
    }
   ],
   "source": [
    "pandas.value_counts(np.ndarray.flatten(gold_standard_filtered.values))"
   ]
  },
  {
   "cell_type": "code",
   "execution_count": 55,
   "metadata": {
    "collapsed": false
   },
   "outputs": [
    {
     "data": {
      "text/html": [
       "<div>\n",
       "<table border=\"1\" class=\"dataframe\">\n",
       "  <thead>\n",
       "    <tr style=\"text-align: right;\">\n",
       "      <th></th>\n",
       "      <th>BSU31410</th>\n",
       "      <th>BSU29740</th>\n",
       "      <th>BSU27890</th>\n",
       "      <th>BSU40800</th>\n",
       "      <th>BSU37650</th>\n",
       "      <th>BSU05370</th>\n",
       "      <th>BSU21780</th>\n",
       "      <th>BSU05700</th>\n",
       "      <th>BSU39430</th>\n",
       "      <th>BSU02970</th>\n",
       "      <th>...</th>\n",
       "      <th>BSU02370</th>\n",
       "      <th>BSU12560</th>\n",
       "      <th>BSU24020</th>\n",
       "      <th>BSU07220</th>\n",
       "      <th>BSU15320</th>\n",
       "      <th>BSU29400</th>\n",
       "      <th>BSU27170</th>\n",
       "      <th>BSU09520</th>\n",
       "      <th>BSU25490</th>\n",
       "      <th>BSU17850</th>\n",
       "    </tr>\n",
       "  </thead>\n",
       "  <tbody>\n",
       "    <tr>\n",
       "      <th>BSU00370</th>\n",
       "      <td>0</td>\n",
       "      <td>0</td>\n",
       "      <td>0</td>\n",
       "      <td>0</td>\n",
       "      <td>0</td>\n",
       "      <td>0</td>\n",
       "      <td>0</td>\n",
       "      <td>0</td>\n",
       "      <td>0</td>\n",
       "      <td>0</td>\n",
       "      <td>...</td>\n",
       "      <td>0</td>\n",
       "      <td>0</td>\n",
       "      <td>0</td>\n",
       "      <td>0</td>\n",
       "      <td>0</td>\n",
       "      <td>0</td>\n",
       "      <td>0</td>\n",
       "      <td>0</td>\n",
       "      <td>0</td>\n",
       "      <td>0</td>\n",
       "    </tr>\n",
       "    <tr>\n",
       "      <th>BSU08100</th>\n",
       "      <td>0</td>\n",
       "      <td>1</td>\n",
       "      <td>0</td>\n",
       "      <td>0</td>\n",
       "      <td>0</td>\n",
       "      <td>0</td>\n",
       "      <td>0</td>\n",
       "      <td>0</td>\n",
       "      <td>0</td>\n",
       "      <td>0</td>\n",
       "      <td>...</td>\n",
       "      <td>0</td>\n",
       "      <td>0</td>\n",
       "      <td>0</td>\n",
       "      <td>0</td>\n",
       "      <td>0</td>\n",
       "      <td>0</td>\n",
       "      <td>0</td>\n",
       "      <td>0</td>\n",
       "      <td>0</td>\n",
       "      <td>0</td>\n",
       "    </tr>\n",
       "    <tr>\n",
       "      <th>BSU01810</th>\n",
       "      <td>0</td>\n",
       "      <td>0</td>\n",
       "      <td>0</td>\n",
       "      <td>0</td>\n",
       "      <td>0</td>\n",
       "      <td>0</td>\n",
       "      <td>0</td>\n",
       "      <td>0</td>\n",
       "      <td>0</td>\n",
       "      <td>0</td>\n",
       "      <td>...</td>\n",
       "      <td>0</td>\n",
       "      <td>0</td>\n",
       "      <td>0</td>\n",
       "      <td>0</td>\n",
       "      <td>0</td>\n",
       "      <td>0</td>\n",
       "      <td>0</td>\n",
       "      <td>0</td>\n",
       "      <td>0</td>\n",
       "      <td>0</td>\n",
       "    </tr>\n",
       "    <tr>\n",
       "      <th>BSU24250</th>\n",
       "      <td>0</td>\n",
       "      <td>0</td>\n",
       "      <td>0</td>\n",
       "      <td>0</td>\n",
       "      <td>0</td>\n",
       "      <td>0</td>\n",
       "      <td>0</td>\n",
       "      <td>0</td>\n",
       "      <td>0</td>\n",
       "      <td>0</td>\n",
       "      <td>...</td>\n",
       "      <td>0</td>\n",
       "      <td>0</td>\n",
       "      <td>0</td>\n",
       "      <td>0</td>\n",
       "      <td>0</td>\n",
       "      <td>0</td>\n",
       "      <td>0</td>\n",
       "      <td>0</td>\n",
       "      <td>0</td>\n",
       "      <td>0</td>\n",
       "    </tr>\n",
       "    <tr>\n",
       "      <th>BSU36020</th>\n",
       "      <td>0</td>\n",
       "      <td>0</td>\n",
       "      <td>0</td>\n",
       "      <td>0</td>\n",
       "      <td>0</td>\n",
       "      <td>0</td>\n",
       "      <td>0</td>\n",
       "      <td>0</td>\n",
       "      <td>0</td>\n",
       "      <td>0</td>\n",
       "      <td>...</td>\n",
       "      <td>0</td>\n",
       "      <td>0</td>\n",
       "      <td>0</td>\n",
       "      <td>0</td>\n",
       "      <td>0</td>\n",
       "      <td>0</td>\n",
       "      <td>0</td>\n",
       "      <td>0</td>\n",
       "      <td>0</td>\n",
       "      <td>0</td>\n",
       "    </tr>\n",
       "  </tbody>\n",
       "</table>\n",
       "<p>5 rows × 239 columns</p>\n",
       "</div>"
      ],
      "text/plain": [
       "          BSU31410  BSU29740  BSU27890  BSU40800  BSU37650  BSU05370  \\\n",
       "BSU00370         0         0         0         0         0         0   \n",
       "BSU08100         0         1         0         0         0         0   \n",
       "BSU01810         0         0         0         0         0         0   \n",
       "BSU24250         0         0         0         0         0         0   \n",
       "BSU36020         0         0         0         0         0         0   \n",
       "\n",
       "          BSU21780  BSU05700  BSU39430  BSU02970    ...     BSU02370  \\\n",
       "BSU00370         0         0         0         0    ...            0   \n",
       "BSU08100         0         0         0         0    ...            0   \n",
       "BSU01810         0         0         0         0    ...            0   \n",
       "BSU24250         0         0         0         0    ...            0   \n",
       "BSU36020         0         0         0         0    ...            0   \n",
       "\n",
       "          BSU12560  BSU24020  BSU07220  BSU15320  BSU29400  BSU27170  \\\n",
       "BSU00370         0         0         0         0         0         0   \n",
       "BSU08100         0         0         0         0         0         0   \n",
       "BSU01810         0         0         0         0         0         0   \n",
       "BSU24250         0         0         0         0         0         0   \n",
       "BSU36020         0         0         0         0         0         0   \n",
       "\n",
       "          BSU09520  BSU25490  BSU17850  \n",
       "BSU00370         0         0         0  \n",
       "BSU08100         0         0         0  \n",
       "BSU01810         0         0         0  \n",
       "BSU24250         0         0         0  \n",
       "BSU36020         0         0         0  \n",
       "\n",
       "[5 rows x 239 columns]"
      ]
     },
     "execution_count": 55,
     "metadata": {},
     "output_type": "execute_result"
    }
   ],
   "source": [
    "gold_standard_filtered.head()"
   ]
  },
  {
   "cell_type": "markdown",
   "metadata": {},
   "source": []
  },
  {
   "cell_type": "code",
   "execution_count": 135,
   "metadata": {
    "collapsed": false
   },
   "outputs": [
    {
     "data": {
      "text/plain": [
       "0.000000    953195\n",
       "0.048867         9\n",
       "0.048881         7\n",
       "0.048856         7\n",
       "0.048896         7\n",
       "0.048926         7\n",
       "0.048898         7\n",
       "0.048893         6\n",
       "0.048911         6\n",
       "0.048861         6\n",
       "0.048923         6\n",
       "0.049029         6\n",
       "0.049245         6\n",
       "0.049111         6\n",
       "0.048869         6\n",
       "0.049143         6\n",
       "0.049079         6\n",
       "0.048894         6\n",
       "0.048861         6\n",
       "0.049003         6\n",
       "0.048960         6\n",
       "0.048913         6\n",
       "0.049121         6\n",
       "0.048899         6\n",
       "0.048940         6\n",
       "0.049076         6\n",
       "0.049033         6\n",
       "0.048976         6\n",
       "0.048935         6\n",
       "0.048929         6\n",
       "             ...  \n",
       "0.098868         1\n",
       "0.099018         1\n",
       "0.048955         1\n",
       "0.496351         1\n",
       "0.147369         1\n",
       "0.049012         1\n",
       "0.197110         1\n",
       "0.395373         1\n",
       "0.295650         1\n",
       "0.148451         1\n",
       "0.098184         1\n",
       "0.245114         1\n",
       "0.343397         1\n",
       "0.147629         1\n",
       "0.097924         1\n",
       "0.147269         1\n",
       "0.099166         1\n",
       "0.737655         1\n",
       "0.098595         1\n",
       "0.942309         1\n",
       "0.695251         1\n",
       "0.248608         1\n",
       "0.049714         1\n",
       "0.049378         1\n",
       "0.049609         1\n",
       "0.049354         1\n",
       "0.098755         1\n",
       "0.147479         1\n",
       "0.198156         1\n",
       "0.344010         1\n",
       "dtype: int64"
      ]
     },
     "execution_count": 135,
     "metadata": {},
     "output_type": "execute_result"
    }
   ],
   "source": [
    "# Quick way to double check distribution of values\n",
    "# pandas.value_counts(np.ndarray.flatten(combined_confidences.values))"
   ]
  },
  {
   "cell_type": "markdown",
   "metadata": {},
   "source": []
  },
  {
   "cell_type": "code",
   "execution_count": 80,
   "metadata": {
    "collapsed": false
   },
   "outputs": [
    {
     "data": {
      "text/plain": [
       "3626.0785581996988"
      ]
     },
     "execution_count": 80,
     "metadata": {},
     "output_type": "execute_result"
    }
   ],
   "source": [
    "sum(betas_resc[0].sum())"
   ]
  },
  {
   "cell_type": "code",
   "execution_count": 99,
   "metadata": {
    "collapsed": false
   },
   "outputs": [],
   "source": [
    "argsorted = np.argsort(betas_resc[1].values, axis = None)"
   ]
  },
  {
   "cell_type": "code",
   "execution_count": 103,
   "metadata": {
    "collapsed": false
   },
   "outputs": [
    {
     "data": {
      "text/plain": [
       "array([670113, 670114, 670115, ..., 669183, 669184, 669185])"
      ]
     },
     "execution_count": 103,
     "metadata": {},
     "output_type": "execute_result"
    }
   ],
   "source": [
    "argsorted[1:3000]"
   ]
  },
  {
   "cell_type": "markdown",
   "metadata": {},
   "source": [
    "## Exploratory Stuff"
   ]
  },
  {
   "cell_type": "code",
   "execution_count": null,
   "metadata": {
    "collapsed": true
   },
   "outputs": [],
   "source": [
    "# step one of loop\n",
    "i = 0"
   ]
  },
  {
   "cell_type": "code",
   "execution_count": null,
   "metadata": {
    "collapsed": true
   },
   "outputs": [],
   "source": [
    "betas.append(pandas.read_csv('betas.tsv', sep='\\t'))\n",
    "betas_resc.append(pandas.read_csv('betas_rescaled.tsv', sep='\\t'))"
   ]
  },
  {
   "cell_type": "code",
   "execution_count": null,
   "metadata": {
    "collapsed": true
   },
   "outputs": [],
   "source": [
    "# set a random sample of the edges to zero\n",
    "# only need to do this if we have priors\n",
    "\n",
    "# group predictors just returns the design matrix, res and prior matrix if it finds no groups:\n",
    "# if no TF was excluded and no TFs were grouped, it returns the des, res, and prior."
   ]
  },
  {
   "cell_type": "code",
   "execution_count": null,
   "metadata": {
    "collapsed": true
   },
   "outputs": [],
   "source": [
    "group_predictors = {}"
   ]
  },
  {
   "cell_type": "code",
   "execution_count": null,
   "metadata": {
    "collapsed": false
   },
   "outputs": [],
   "source": [
    "X = des_matrix.ix[:, IN['bs.pi'].ix[i,:]]\n",
    "Y = res_matrix.ix[:, IN['bs.pi'].ix[i,:]]"
   ]
  },
  {
   "cell_type": "markdown",
   "metadata": {},
   "source": [
    "Reminder on mutual information:\n",
    "<img src=\"files/olah_mi.png\">\n"
   ]
  },
  {
   "cell_type": "code",
   "execution_count": null,
   "metadata": {
    "collapsed": false
   },
   "outputs": [],
   "source": [
    "# Short example\n",
    "x = X.ix[200,:]\n",
    "y = Y.ix[200,:]"
   ]
  },
  {
   "cell_type": "code",
   "execution_count": null,
   "metadata": {
    "collapsed": false
   },
   "outputs": [],
   "source": [
    "H, xedges, yedges = np.histogram2d(x,y,bins)\n",
    "plt.set_cmap('viridis')\n",
    "im = plt.imshow(H, interpolation='none', \n",
    "                extent=[xedges[0], xedges[-1], yedges[0], yedges[-1]])"
   ]
  },
  {
   "cell_type": "markdown",
   "metadata": {},
   "source": [
    "Here is an inefficient implementation of calc_mi"
   ]
  },
  {
   "cell_type": "code",
   "execution_count": 31,
   "metadata": {
    "collapsed": false
   },
   "outputs": [],
   "source": [
    "def shannon_entropy(p):\n",
    "    # Since p represents a discrete prob dist, check for floating point approximation to 1.0\n",
    "    if not np.allclose(sum(p), 1.0): \n",
    "        raise Exception('Probabilities input to shannon entropy need to sum to 1')\n",
    "    return - sum([x * np.log(x) for x in p if x != 0])"
   ]
  },
  {
   "cell_type": "code",
   "execution_count": 32,
   "metadata": {
    "collapsed": false
   },
   "outputs": [],
   "source": [
    "def calc_mi(x, y, bins):\n",
    "    hist, scale  = np.histogram(x, bins)\n",
    "    x_p = hist / float(sum(hist))\n",
    "    hist, scale = np.histogram(y, bins)\n",
    "    y_p = hist / float(sum(hist))\n",
    "    H, xscale, yscale = np.histogram2d(x ,y, bins)\n",
    "    joint_p = (H / float(sum(sum(H)))).flatten()\n",
    "    return (shannon_entropy(y_p) + shannon_entropy(x_p)) - shannon_entropy(joint_p)"
   ]
  },
  {
   "cell_type": "code",
   "execution_count": 33,
   "metadata": {
    "collapsed": false
   },
   "outputs": [
    {
     "data": {
      "image/png": "[encoded data removed]",
      "text/plain": [
       "<matplotlib.figure.Figure at 0x119f7a210>"
      ]
     },
     "metadata": {},
     "output_type": "display_data"
    }
   ],
   "source": [
    "hist, bins = np.histogram(X.ix[10,:],bins)\n",
    "width = 0.7 * (bins[1] - bins[0])\n",
    "center = (bins[:-1] + bins[1:]) / 2\n",
    "plt.bar(center, hist, align='center', width=width)\n",
    "plt.show()"
   ]
  },
  {
   "cell_type": "code",
   "execution_count": 34,
   "metadata": {
    "collapsed": false
   },
   "outputs": [
    {
     "data": {
      "text/plain": [
       "0.25764680571550524"
      ]
     },
     "execution_count": 34,
     "metadata": {},
     "output_type": "execute_result"
    }
   ],
   "source": [
    "calc_mi(X.ix[100,:], Y.ix[100,:], PARS['mi.bins'])\n",
    "# mi_matrix = [[calc_mi(X.ix[i,:], Y.ix[j,:], PARS['mi.bins']) for i in range(X.shape[0])] for j in range(Y.shape[0])] "
   ]
  },
  {
   "cell_type": "code",
   "execution_count": 35,
   "metadata": {
    "collapsed": false
   },
   "outputs": [],
   "source": [
    "if len(X.index) > 6000:\n",
    "    # speeds up MI calculation for large datasets\n",
    "    # I actually don't know what this does, since X's rows are already filtered by 'tf.with.expr', \n",
    "    # which itself if a subset of IN['tf.names']\n",
    "    X = X.ix[group_predictors['tf_names'], :] # This turn X into a TFs x Samples matrix, which is what I expected it to be"
   ]
  },
  {
   "cell_type": "code",
   "execution_count": 71,
   "metadata": {
    "collapsed": false
   },
   "outputs": [],
   "source": [
    "import sklearn.metrics"
   ]
  },
  {
   "cell_type": "code",
   "execution_count": 72,
   "metadata": {
    "collapsed": true
   },
   "outputs": [],
   "source": [
    "hist, scale  = np.histogram(x, bins)\n",
    "x_p = hist / float(sum(hist))\n",
    "hist, scale = np.histogram(y, bins)\n",
    "y_p = hist / float(sum(hist))"
   ]
  },
  {
   "cell_type": "code",
   "execution_count": 73,
   "metadata": {
    "collapsed": false
   },
   "outputs": [],
   "source": [
    "# Optionally investigate sklearn.metrics.mutual_info_score(x_p, x_p)"
   ]
  },
  {
   "cell_type": "markdown",
   "metadata": {},
   "source": [
    "Call into R to calculate tlCLR"
   ]
  },
  {
   "cell_type": "code",
   "execution_count": 74,
   "metadata": {
    "collapsed": false,
    "scrolled": true
   },
   "outputs": [],
   "source": [
    "X.to_csv('X.csv')\n",
    "Y.to_csv('Y.csv')\n",
    "priors_mat.to_csv('priors_mat.csv')"
   ]
  },
  {
   "cell_type": "code",
   "execution_count": 75,
   "metadata": {
    "collapsed": false
   },
   "outputs": [
    {
     "data": {
      "text/plain": [
       "0"
      ]
     },
     "execution_count": 75,
     "metadata": {},
     "output_type": "execute_result"
    }
   ],
   "source": [
    "subprocess.call(['R', '--slave', '-f', './mi_clr_driver.R'])"
   ]
  },
  {
   "cell_type": "code",
   "execution_count": 76,
   "metadata": {
    "collapsed": false
   },
   "outputs": [],
   "source": [
    "clr_matrix = pandas.read_csv('clr_matrix.tsv', sep='\\t')"
   ]
  },
  {
   "cell_type": "code",
   "execution_count": 77,
   "metadata": {
    "collapsed": true
   },
   "outputs": [],
   "source": [
    "# Filter by tf names (this doesn't do anything in the case of B Subtilus, and should filter by group predictions)\n",
    "clr_matrix = clr_matrix.ix[:, IN['tf.names']]"
   ]
  },
  {
   "cell_type": "code",
   "execution_count": 80,
   "metadata": {
    "collapsed": true
   },
   "outputs": [],
   "source": [
    "clr_matrix.to_csv('clr_matrix.csv')"
   ]
  },
  {
   "cell_type": "code",
   "execution_count": 82,
   "metadata": {
    "collapsed": false
   },
   "outputs": [
    {
     "data": {
      "text/plain": [
       "1"
      ]
     },
     "execution_count": 82,
     "metadata": {},
     "output_type": "execute_result"
    }
   ],
   "source": [
    "subprocess.call(['R', '--slave', '-f', './BBSR_driver.R'])"
   ]
  },
  {
   "cell_type": "code",
   "execution_count": 44,
   "metadata": {
    "collapsed": false
   },
   "outputs": [
    {
     "data": {
      "text/html": [
       "<div>\n",
       "<table border=\"1\" class=\"dataframe\">\n",
       "  <thead>\n",
       "    <tr style=\"text-align: right;\">\n",
       "      <th></th>\n",
       "      <th>BSU31410</th>\n",
       "      <th>BSU29740</th>\n",
       "      <th>BSU27890</th>\n",
       "      <th>BSU40800</th>\n",
       "      <th>BSU37650</th>\n",
       "      <th>BSU05370</th>\n",
       "      <th>BSU21780</th>\n",
       "      <th>BSU05700</th>\n",
       "      <th>BSU39430</th>\n",
       "      <th>BSU02970</th>\n",
       "      <th>...</th>\n",
       "      <th>BSU02370</th>\n",
       "      <th>BSU12560</th>\n",
       "      <th>BSU24020</th>\n",
       "      <th>BSU07220</th>\n",
       "      <th>BSU15320</th>\n",
       "      <th>BSU29400</th>\n",
       "      <th>BSU27170</th>\n",
       "      <th>BSU09520</th>\n",
       "      <th>BSU25490</th>\n",
       "      <th>BSU17850</th>\n",
       "    </tr>\n",
       "  </thead>\n",
       "  <tbody>\n",
       "    <tr>\n",
       "      <th>BSU00370</th>\n",
       "      <td>0.000000</td>\n",
       "      <td>1.331829</td>\n",
       "      <td>0.000000</td>\n",
       "      <td>0.053941</td>\n",
       "      <td>0.546521</td>\n",
       "      <td>0.247536</td>\n",
       "      <td>0.0</td>\n",
       "      <td>0.474254</td>\n",
       "      <td>0.102544</td>\n",
       "      <td>0.287538</td>\n",
       "      <td>...</td>\n",
       "      <td>0.632939</td>\n",
       "      <td>1.041414</td>\n",
       "      <td>0.000000</td>\n",
       "      <td>0.000000</td>\n",
       "      <td>1.074986</td>\n",
       "      <td>0.241752</td>\n",
       "      <td>0.064521</td>\n",
       "      <td>0.616567</td>\n",
       "      <td>0.130521</td>\n",
       "      <td>0.762131</td>\n",
       "    </tr>\n",
       "    <tr>\n",
       "      <th>BSU08100</th>\n",
       "      <td>0.000000</td>\n",
       "      <td>0.000000</td>\n",
       "      <td>0.581412</td>\n",
       "      <td>0.000000</td>\n",
       "      <td>0.000000</td>\n",
       "      <td>0.000000</td>\n",
       "      <td>0.0</td>\n",
       "      <td>0.000000</td>\n",
       "      <td>0.000000</td>\n",
       "      <td>0.918470</td>\n",
       "      <td>...</td>\n",
       "      <td>0.319477</td>\n",
       "      <td>0.844766</td>\n",
       "      <td>0.302097</td>\n",
       "      <td>0.000000</td>\n",
       "      <td>1.581768</td>\n",
       "      <td>1.259320</td>\n",
       "      <td>0.222817</td>\n",
       "      <td>0.237525</td>\n",
       "      <td>0.268205</td>\n",
       "      <td>0.000000</td>\n",
       "    </tr>\n",
       "    <tr>\n",
       "      <th>BSU01810</th>\n",
       "      <td>1.155553</td>\n",
       "      <td>0.000000</td>\n",
       "      <td>0.000000</td>\n",
       "      <td>1.493640</td>\n",
       "      <td>0.152953</td>\n",
       "      <td>0.082841</td>\n",
       "      <td>0.0</td>\n",
       "      <td>0.218325</td>\n",
       "      <td>0.000000</td>\n",
       "      <td>0.357855</td>\n",
       "      <td>...</td>\n",
       "      <td>0.443350</td>\n",
       "      <td>1.578638</td>\n",
       "      <td>1.188237</td>\n",
       "      <td>0.000000</td>\n",
       "      <td>1.253709</td>\n",
       "      <td>0.000000</td>\n",
       "      <td>0.000000</td>\n",
       "      <td>0.043018</td>\n",
       "      <td>0.000000</td>\n",
       "      <td>0.309516</td>\n",
       "    </tr>\n",
       "    <tr>\n",
       "      <th>BSU24250</th>\n",
       "      <td>0.917109</td>\n",
       "      <td>2.060313</td>\n",
       "      <td>1.182781</td>\n",
       "      <td>0.000000</td>\n",
       "      <td>1.165756</td>\n",
       "      <td>0.970381</td>\n",
       "      <td>0.0</td>\n",
       "      <td>1.788951</td>\n",
       "      <td>0.424076</td>\n",
       "      <td>0.000000</td>\n",
       "      <td>...</td>\n",
       "      <td>2.110401</td>\n",
       "      <td>0.000000</td>\n",
       "      <td>0.000000</td>\n",
       "      <td>0.698148</td>\n",
       "      <td>0.000000</td>\n",
       "      <td>0.017698</td>\n",
       "      <td>1.078584</td>\n",
       "      <td>3.825155</td>\n",
       "      <td>1.904571</td>\n",
       "      <td>0.706518</td>\n",
       "    </tr>\n",
       "    <tr>\n",
       "      <th>BSU36020</th>\n",
       "      <td>0.770376</td>\n",
       "      <td>0.000000</td>\n",
       "      <td>1.016767</td>\n",
       "      <td>0.000000</td>\n",
       "      <td>0.000000</td>\n",
       "      <td>0.000000</td>\n",
       "      <td>0.0</td>\n",
       "      <td>0.458314</td>\n",
       "      <td>0.040748</td>\n",
       "      <td>1.104357</td>\n",
       "      <td>...</td>\n",
       "      <td>0.118278</td>\n",
       "      <td>0.000000</td>\n",
       "      <td>0.000000</td>\n",
       "      <td>0.000000</td>\n",
       "      <td>0.000000</td>\n",
       "      <td>0.811787</td>\n",
       "      <td>0.290950</td>\n",
       "      <td>0.000000</td>\n",
       "      <td>0.626139</td>\n",
       "      <td>1.087694</td>\n",
       "    </tr>\n",
       "  </tbody>\n",
       "</table>\n",
       "<p>5 rows × 239 columns</p>\n",
       "</div>"
      ],
      "text/plain": [
       "          BSU31410  BSU29740  BSU27890  BSU40800  BSU37650  BSU05370  \\\n",
       "BSU00370  0.000000  1.331829  0.000000  0.053941  0.546521  0.247536   \n",
       "BSU08100  0.000000  0.000000  0.581412  0.000000  0.000000  0.000000   \n",
       "BSU01810  1.155553  0.000000  0.000000  1.493640  0.152953  0.082841   \n",
       "BSU24250  0.917109  2.060313  1.182781  0.000000  1.165756  0.970381   \n",
       "BSU36020  0.770376  0.000000  1.016767  0.000000  0.000000  0.000000   \n",
       "\n",
       "          BSU21780  BSU05700  BSU39430  BSU02970    ...     BSU02370  \\\n",
       "BSU00370       0.0  0.474254  0.102544  0.287538    ...     0.632939   \n",
       "BSU08100       0.0  0.000000  0.000000  0.918470    ...     0.319477   \n",
       "BSU01810       0.0  0.218325  0.000000  0.357855    ...     0.443350   \n",
       "BSU24250       0.0  1.788951  0.424076  0.000000    ...     2.110401   \n",
       "BSU36020       0.0  0.458314  0.040748  1.104357    ...     0.118278   \n",
       "\n",
       "          BSU12560  BSU24020  BSU07220  BSU15320  BSU29400  BSU27170  \\\n",
       "BSU00370  1.041414  0.000000  0.000000  1.074986  0.241752  0.064521   \n",
       "BSU08100  0.844766  0.302097  0.000000  1.581768  1.259320  0.222817   \n",
       "BSU01810  1.578638  1.188237  0.000000  1.253709  0.000000  0.000000   \n",
       "BSU24250  0.000000  0.000000  0.698148  0.000000  0.017698  1.078584   \n",
       "BSU36020  0.000000  0.000000  0.000000  0.000000  0.811787  0.290950   \n",
       "\n",
       "          BSU09520  BSU25490  BSU17850  \n",
       "BSU00370  0.616567  0.130521  0.762131  \n",
       "BSU08100  0.237525  0.268205  0.000000  \n",
       "BSU01810  0.043018  0.000000  0.309516  \n",
       "BSU24250  3.825155  1.904571  0.706518  \n",
       "BSU36020  0.000000  0.626139  1.087694  \n",
       "\n",
       "[5 rows x 239 columns]"
      ]
     },
     "execution_count": 44,
     "metadata": {},
     "output_type": "execute_result"
    }
   ],
   "source": [
    "clr_matrix.ix[:, IN['tf.names']].head()"
   ]
  },
  {
   "cell_type": "code",
   "execution_count": 45,
   "metadata": {
    "collapsed": false
   },
   "outputs": [],
   "source": [
    "# Ignore priors for now: priors_mat"
   ]
  },
  {
   "cell_type": "code",
   "execution_count": 46,
   "metadata": {
    "collapsed": false
   },
   "outputs": [],
   "source": [
    "# Enter BBSR\n",
    "from sklearn import preprocessing\n"
   ]
  },
  {
   "cell_type": "code",
   "execution_count": 47,
   "metadata": {
    "collapsed": true
   },
   "outputs": [],
   "source": [
    "  # Scale and permute design and response matrix\n",
    "X_scaled = pandas.DataFrame(preprocessing.scale(X, axis = 1), index = X.index, columns = X.columns)\n",
    "Y_scaled = pandas.DataFrame(preprocessing.scale(Y, axis = 1), index = Y.index, columns = Y.columns)"
   ]
  },
  {
   "cell_type": "code",
   "execution_count": 48,
   "metadata": {
    "collapsed": false
   },
   "outputs": [],
   "source": [
    "G = Y.shape[0]  # number of genes\n",
    "genes = list(Y.index)\n",
    "K = X.shape[0]  # max number of possible predictors (number of TFs)\n",
    "tfs = list(X.index)\n",
    "  "
   ]
  },
  {
   "cell_type": "code",
   "execution_count": 52,
   "metadata": {
    "collapsed": false
   },
   "outputs": [
    {
     "data": {
      "text/plain": [
       "1.0000000000000004"
      ]
     },
     "execution_count": 52,
     "metadata": {},
     "output_type": "execute_result"
    }
   ],
   "source": [
    "# sanity check that the scaling made each row's std deviations set to 1\n",
    "np.std(X_scaled.ix[1, :])"
   ]
  },
  {
   "cell_type": "code",
   "execution_count": 53,
   "metadata": {
    "collapsed": false
   },
   "outputs": [],
   "source": [
    "# predictors that will be used in the regression\n",
    "pp = pandas.DataFrame(np.zeros((G, K)), index = genes, columns = tfs )"
   ]
  },
  {
   "cell_type": "code",
   "execution_count": 54,
   "metadata": {
    "collapsed": false
   },
   "outputs": [],
   "source": [
    "# Get top highest indices per row in clr_matrix, store as top_sorted object\n",
    "top_sorted = np.argsort(clr_matrix, axis = 1).ix[:, K - PARS['max.preds']: K]"
   ]
  },
  {
   "cell_type": "code",
   "execution_count": 55,
   "metadata": {
    "collapsed": false
   },
   "outputs": [],
   "source": [
    "# for each gene, add the top nS predictors of the list to possible predictors\n",
    "for i in range(G):\n",
    "    pp.ix[i, top_sorted.ix[i, :]] = 1"
   ]
  },
  {
   "cell_type": "code",
   "execution_count": 56,
   "metadata": {
    "collapsed": false
   },
   "outputs": [
    {
     "data": {
      "text/plain": [
       "0.0    965922\n",
       "1.0     42180\n",
       "dtype: int64"
      ]
     },
     "execution_count": 56,
     "metadata": {},
     "output_type": "execute_result"
    }
   ],
   "source": [
    "# At this point, we expect the values of 1s to be equal to the number of Genes x PARS['max.preds'] (Which should be 10)\n",
    "pandas.value_counts(np.ndarray.flatten(pp.values))"
   ]
  },
  {
   "cell_type": "code",
   "execution_count": 57,
   "metadata": {
    "collapsed": false
   },
   "outputs": [
    {
     "data": {
      "text/html": [
       "<div>\n",
       "<table border=\"1\" class=\"dataframe\">\n",
       "  <thead>\n",
       "    <tr style=\"text-align: right;\">\n",
       "      <th></th>\n",
       "      <th>BSU31410</th>\n",
       "      <th>BSU29740</th>\n",
       "      <th>BSU27890</th>\n",
       "      <th>BSU40800</th>\n",
       "      <th>BSU37650</th>\n",
       "      <th>BSU05370</th>\n",
       "      <th>BSU21780</th>\n",
       "      <th>BSU05700</th>\n",
       "      <th>BSU39430</th>\n",
       "      <th>BSU02970</th>\n",
       "      <th>...</th>\n",
       "      <th>BSU02370</th>\n",
       "      <th>BSU12560</th>\n",
       "      <th>BSU24020</th>\n",
       "      <th>BSU07220</th>\n",
       "      <th>BSU15320</th>\n",
       "      <th>BSU29400</th>\n",
       "      <th>BSU27170</th>\n",
       "      <th>BSU09520</th>\n",
       "      <th>BSU25490</th>\n",
       "      <th>BSU17850</th>\n",
       "    </tr>\n",
       "  </thead>\n",
       "  <tbody>\n",
       "    <tr>\n",
       "      <th>BSU00370</th>\n",
       "      <td>0.0</td>\n",
       "      <td>0.0</td>\n",
       "      <td>0.0</td>\n",
       "      <td>0.0</td>\n",
       "      <td>0.0</td>\n",
       "      <td>0.0</td>\n",
       "      <td>0.0</td>\n",
       "      <td>0.0</td>\n",
       "      <td>0.0</td>\n",
       "      <td>0.0</td>\n",
       "      <td>...</td>\n",
       "      <td>0.0</td>\n",
       "      <td>0.0</td>\n",
       "      <td>0.0</td>\n",
       "      <td>0.0</td>\n",
       "      <td>0.0</td>\n",
       "      <td>0.0</td>\n",
       "      <td>0.0</td>\n",
       "      <td>0.0</td>\n",
       "      <td>0.0</td>\n",
       "      <td>0.0</td>\n",
       "    </tr>\n",
       "    <tr>\n",
       "      <th>BSU08100</th>\n",
       "      <td>0.0</td>\n",
       "      <td>0.0</td>\n",
       "      <td>0.0</td>\n",
       "      <td>0.0</td>\n",
       "      <td>0.0</td>\n",
       "      <td>0.0</td>\n",
       "      <td>0.0</td>\n",
       "      <td>0.0</td>\n",
       "      <td>0.0</td>\n",
       "      <td>0.0</td>\n",
       "      <td>...</td>\n",
       "      <td>0.0</td>\n",
       "      <td>0.0</td>\n",
       "      <td>0.0</td>\n",
       "      <td>0.0</td>\n",
       "      <td>0.0</td>\n",
       "      <td>0.0</td>\n",
       "      <td>0.0</td>\n",
       "      <td>0.0</td>\n",
       "      <td>0.0</td>\n",
       "      <td>0.0</td>\n",
       "    </tr>\n",
       "    <tr>\n",
       "      <th>BSU01810</th>\n",
       "      <td>0.0</td>\n",
       "      <td>0.0</td>\n",
       "      <td>0.0</td>\n",
       "      <td>0.0</td>\n",
       "      <td>0.0</td>\n",
       "      <td>0.0</td>\n",
       "      <td>0.0</td>\n",
       "      <td>0.0</td>\n",
       "      <td>0.0</td>\n",
       "      <td>0.0</td>\n",
       "      <td>...</td>\n",
       "      <td>0.0</td>\n",
       "      <td>0.0</td>\n",
       "      <td>0.0</td>\n",
       "      <td>0.0</td>\n",
       "      <td>0.0</td>\n",
       "      <td>0.0</td>\n",
       "      <td>0.0</td>\n",
       "      <td>0.0</td>\n",
       "      <td>0.0</td>\n",
       "      <td>0.0</td>\n",
       "    </tr>\n",
       "    <tr>\n",
       "      <th>BSU24250</th>\n",
       "      <td>0.0</td>\n",
       "      <td>0.0</td>\n",
       "      <td>0.0</td>\n",
       "      <td>0.0</td>\n",
       "      <td>0.0</td>\n",
       "      <td>0.0</td>\n",
       "      <td>0.0</td>\n",
       "      <td>0.0</td>\n",
       "      <td>0.0</td>\n",
       "      <td>0.0</td>\n",
       "      <td>...</td>\n",
       "      <td>0.0</td>\n",
       "      <td>0.0</td>\n",
       "      <td>0.0</td>\n",
       "      <td>0.0</td>\n",
       "      <td>0.0</td>\n",
       "      <td>0.0</td>\n",
       "      <td>0.0</td>\n",
       "      <td>1.0</td>\n",
       "      <td>0.0</td>\n",
       "      <td>0.0</td>\n",
       "    </tr>\n",
       "    <tr>\n",
       "      <th>BSU36020</th>\n",
       "      <td>0.0</td>\n",
       "      <td>0.0</td>\n",
       "      <td>0.0</td>\n",
       "      <td>0.0</td>\n",
       "      <td>0.0</td>\n",
       "      <td>0.0</td>\n",
       "      <td>0.0</td>\n",
       "      <td>0.0</td>\n",
       "      <td>0.0</td>\n",
       "      <td>0.0</td>\n",
       "      <td>...</td>\n",
       "      <td>0.0</td>\n",
       "      <td>0.0</td>\n",
       "      <td>0.0</td>\n",
       "      <td>0.0</td>\n",
       "      <td>0.0</td>\n",
       "      <td>0.0</td>\n",
       "      <td>0.0</td>\n",
       "      <td>0.0</td>\n",
       "      <td>0.0</td>\n",
       "      <td>0.0</td>\n",
       "    </tr>\n",
       "  </tbody>\n",
       "</table>\n",
       "<p>5 rows × 239 columns</p>\n",
       "</div>"
      ],
      "text/plain": [
       "          BSU31410  BSU29740  BSU27890  BSU40800  BSU37650  BSU05370  \\\n",
       "BSU00370       0.0       0.0       0.0       0.0       0.0       0.0   \n",
       "BSU08100       0.0       0.0       0.0       0.0       0.0       0.0   \n",
       "BSU01810       0.0       0.0       0.0       0.0       0.0       0.0   \n",
       "BSU24250       0.0       0.0       0.0       0.0       0.0       0.0   \n",
       "BSU36020       0.0       0.0       0.0       0.0       0.0       0.0   \n",
       "\n",
       "          BSU21780  BSU05700  BSU39430  BSU02970    ...     BSU02370  \\\n",
       "BSU00370       0.0       0.0       0.0       0.0    ...          0.0   \n",
       "BSU08100       0.0       0.0       0.0       0.0    ...          0.0   \n",
       "BSU01810       0.0       0.0       0.0       0.0    ...          0.0   \n",
       "BSU24250       0.0       0.0       0.0       0.0    ...          0.0   \n",
       "BSU36020       0.0       0.0       0.0       0.0    ...          0.0   \n",
       "\n",
       "          BSU12560  BSU24020  BSU07220  BSU15320  BSU29400  BSU27170  \\\n",
       "BSU00370       0.0       0.0       0.0       0.0       0.0       0.0   \n",
       "BSU08100       0.0       0.0       0.0       0.0       0.0       0.0   \n",
       "BSU01810       0.0       0.0       0.0       0.0       0.0       0.0   \n",
       "BSU24250       0.0       0.0       0.0       0.0       0.0       0.0   \n",
       "BSU36020       0.0       0.0       0.0       0.0       0.0       0.0   \n",
       "\n",
       "          BSU09520  BSU25490  BSU17850  \n",
       "BSU00370       0.0       0.0       0.0  \n",
       "BSU08100       0.0       0.0       0.0  \n",
       "BSU01810       0.0       0.0       0.0  \n",
       "BSU24250       1.0       0.0       0.0  \n",
       "BSU36020       0.0       0.0       0.0  \n",
       "\n",
       "[5 rows x 239 columns]"
      ]
     },
     "execution_count": 57,
     "metadata": {},
     "output_type": "execute_result"
    }
   ],
   "source": [
    "pp.head()"
   ]
  },
  {
   "cell_type": "code",
   "execution_count": 58,
   "metadata": {
    "collapsed": true
   },
   "outputs": [],
   "source": [
    "predictors = intersect(tfs, genes)"
   ]
  },
  {
   "cell_type": "code",
   "execution_count": 59,
   "metadata": {
    "collapsed": false
   },
   "outputs": [],
   "source": [
    "# remove self-interactions from list of potential interactions\n",
    "temp_values = pp.ix[predictors,predictors].values\n",
    "np.fill_diagonal(temp_values, 0)\n",
    "pp.ix[predictors,predictors] = temp_values"
   ]
  },
  {
   "cell_type": "code",
   "execution_count": 62,
   "metadata": {
    "collapsed": true
   },
   "outputs": [],
   "source": [
    "idx = 0"
   ]
  },
  {
   "cell_type": "code",
   "execution_count": 63,
   "metadata": {
    "collapsed": false
   },
   "outputs": [],
   "source": [
    "def BBSR_per_gene(idx, X, Y, pp, weights, ns):\n",
    "    return 0"
   ]
  },
  {
   "cell_type": "code",
   "execution_count": 64,
   "metadata": {
    "collapsed": false
   },
   "outputs": [],
   "source": [
    "ppi = pp.ix[idx, :]"
   ]
  },
  {
   "cell_type": "code",
   "execution_count": 66,
   "metadata": {
    "collapsed": false
   },
   "outputs": [
    {
     "data": {
      "text/plain": [
       "10.0"
      ]
     },
     "execution_count": 66,
     "metadata": {},
     "output_type": "execute_result"
    }
   ],
   "source": [
    "sum(ppi)"
   ]
  },
  {
   "cell_type": "code",
   "execution_count": null,
   "metadata": {
    "collapsed": true
   },
   "outputs": [],
   "source": []
  }
 ],
 "metadata": {
  "kernelspec": {
   "display_name": "Python 2",
   "language": "python",
   "name": "python2"
  },
  "language_info": {
   "codemirror_mode": {
    "name": "ipython",
    "version": 2
   },
   "file_extension": ".py",
   "mimetype": "text/x-python",
   "name": "python",
   "nbconvert_exporter": "python",
   "pygments_lexer": "ipython2",
   "version": "2.7.11"
  }
 },
 "nbformat": 4,
 "nbformat_minor": 0
}
