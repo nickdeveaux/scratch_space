{
 "cells": [
  {
   "cell_type": "code",
   "execution_count": 1,
   "metadata": {
    "collapsed": true
   },
   "outputs": [],
   "source": [
    "import os, glob\n",
    "import numpy as np\n",
    "import pandas as pd\n",
    "from scipy.stats import hypergeom\n",
    "\n",
    "import networkx as nx\n",
    "import matplotlib.pyplot as plt\n",
    "%matplotlib inline\n",
    "\n",
    "import seaborn as sns\n",
    "import scipy.stats"
   ]
  },
  {
   "cell_type": "code",
   "execution_count": 2,
   "metadata": {
    "collapsed": true
   },
   "outputs": [],
   "source": [
    "\n",
    "\n",
    "base_dir_name = '/Users/ndeveaux/Dropbox (Simons Foundation)/HIV_Collaboration_2016/2017_activities/outlier_kept_in_full_model_100_subsamples'\n",
    "dir_name = os.path.join(base_dir_name, 'pval1_quartile_priors')\n",
    "betas_75k = pd.read_csv(os.path.join(dir_name, 'network_1_to_399_by_betas_thresholded_at_75000_edges.tsv'), sep = '\\t')"
   ]
  },
  {
   "cell_type": "code",
   "execution_count": 3,
   "metadata": {
    "collapsed": false
   },
   "outputs": [
    {
     "data": {
      "text/html": [
       "<div>\n",
       "<table border=\"1\" class=\"dataframe\">\n",
       "  <thead>\n",
       "    <tr style=\"text-align: right;\">\n",
       "      <th></th>\n",
       "      <th>ens_tf</th>\n",
       "      <th>ens_target</th>\n",
       "      <th>beta.sign.sum</th>\n",
       "      <th>prior</th>\n",
       "      <th>beta.sign.sum.abs</th>\n",
       "      <th>regulator</th>\n",
       "      <th>target</th>\n",
       "    </tr>\n",
       "  </thead>\n",
       "  <tbody>\n",
       "    <tr>\n",
       "      <th>0</th>\n",
       "      <td>ENSG00000168310</td>\n",
       "      <td>ENSG00000128383</td>\n",
       "      <td>202.751469</td>\n",
       "      <td>382</td>\n",
       "      <td>202.751469</td>\n",
       "      <td>IRF2</td>\n",
       "      <td>APOBEC3A</td>\n",
       "    </tr>\n",
       "    <tr>\n",
       "      <th>1</th>\n",
       "      <td>ENSG00000168310</td>\n",
       "      <td>ENSG00000162654</td>\n",
       "      <td>194.005437</td>\n",
       "      <td>376</td>\n",
       "      <td>194.005437</td>\n",
       "      <td>IRF2</td>\n",
       "      <td>GBP4</td>\n",
       "    </tr>\n",
       "    <tr>\n",
       "      <th>2</th>\n",
       "      <td>ENSG00000170581</td>\n",
       "      <td>ENSG00000149131</td>\n",
       "      <td>185.525720</td>\n",
       "      <td>388</td>\n",
       "      <td>185.525720</td>\n",
       "      <td>STAT2</td>\n",
       "      <td>SERPING1</td>\n",
       "    </tr>\n",
       "    <tr>\n",
       "      <th>3</th>\n",
       "      <td>ENSG00000168310</td>\n",
       "      <td>ENSG00000010030</td>\n",
       "      <td>183.575827</td>\n",
       "      <td>389</td>\n",
       "      <td>183.575827</td>\n",
       "      <td>IRF2</td>\n",
       "      <td>ETV7</td>\n",
       "    </tr>\n",
       "    <tr>\n",
       "      <th>4</th>\n",
       "      <td>ENSG00000185507</td>\n",
       "      <td>ENSG00000162654</td>\n",
       "      <td>179.911598</td>\n",
       "      <td>385</td>\n",
       "      <td>179.911598</td>\n",
       "      <td>IRF7</td>\n",
       "      <td>GBP4</td>\n",
       "    </tr>\n",
       "  </tbody>\n",
       "</table>\n",
       "</div>"
      ],
      "text/plain": [
       "            ens_tf       ens_target  beta.sign.sum  prior  beta.sign.sum.abs  \\\n",
       "0  ENSG00000168310  ENSG00000128383     202.751469    382         202.751469   \n",
       "1  ENSG00000168310  ENSG00000162654     194.005437    376         194.005437   \n",
       "2  ENSG00000170581  ENSG00000149131     185.525720    388         185.525720   \n",
       "3  ENSG00000168310  ENSG00000010030     183.575827    389         183.575827   \n",
       "4  ENSG00000185507  ENSG00000162654     179.911598    385         179.911598   \n",
       "\n",
       "  regulator    target  \n",
       "0      IRF2  APOBEC3A  \n",
       "1      IRF2      GBP4  \n",
       "2     STAT2  SERPING1  \n",
       "3      IRF2      ETV7  \n",
       "4      IRF7      GBP4  "
      ]
     },
     "execution_count": 3,
     "metadata": {},
     "output_type": "execute_result"
    }
   ],
   "source": [
    "betas_75k.head()"
   ]
  },
  {
   "cell_type": "code",
   "execution_count": 4,
   "metadata": {
    "collapsed": true
   },
   "outputs": [],
   "source": [
    "sparse_df = pd.read_csv(os.path.join(dir_name, 'all_ones_prior_from_network_1_to_399_by_betas_thresholded_at_75000_edges.tsv'), sep = '\\t', index_col = 0)"
   ]
  },
  {
   "cell_type": "code",
   "execution_count": 5,
   "metadata": {
    "collapsed": false
   },
   "outputs": [],
   "source": [
    "class Network(object):\n",
    "    def __init__(self, network_df):\n",
    "        self.topology = None\n",
    "        self.symbol_lookup = None\n",
    "        self.id_lookup = None\n",
    "        self.target_set = None\n",
    "        self.tf_set = None\n",
    "        self.load(network_df)\n",
    "        \n",
    "    def load(self, df):\n",
    "        self.target_set = set(df.ens_target)\n",
    "        self.tf_set = set(df.ens_tf)\n",
    "        self.topology = {}\n",
    "        self.symbol_lookup = {}\n",
    "        self.id_lookup = {}\n",
    "        source_key = None\n",
    "        \n",
    "        try:\n",
    "            test = row['source']\n",
    "            source_key = 'source'\n",
    "        except:\n",
    "            source_key = 'regulator'\n",
    "            \n",
    "        for idx, row in df.iterrows():\n",
    "            tf_id = row['ens_tf']\n",
    "            tf_sym = row[source_key]\n",
    "            target_id = row['ens_target']\n",
    "            target_sym = row['target']\n",
    "\n",
    "            try:\n",
    "                self.topology[tf_id].add(target_id)\n",
    "            except:\n",
    "                self.topology[tf_id] = set([target_id])\n",
    "\n",
    "            self.symbol_lookup[tf_id] = tf_sym\n",
    "            self.symbol_lookup[target_id] = target_sym\n",
    "            self.id_lookup[tf_sym] = tf_id\n",
    "            self.id_lookup[target_sym] = target_id"
   ]
  },
  {
   "cell_type": "code",
   "execution_count": 6,
   "metadata": {
    "collapsed": true
   },
   "outputs": [],
   "source": [
    "def make_graph(network_path):\n",
    "    \n",
    "    network_df = pd.read_table(network_path)\n",
    "    network = Network(network_df)\n",
    "    \n",
    "    node_set = network.target_set | network.tf_set\n",
    "    node_order = list(node_set)\n",
    "    sym_order = [network.symbol_lookup[x] for x in node_order]\n",
    "    num_nodes = len(node_order)\n",
    "    \n",
    "    U = nx.Graph()\n",
    "    G = nx.DiGraph()\n",
    "    for idx, ens in enumerate(node_order):\n",
    "        attributes = {}\n",
    "        attributes['label'] = sym_order[idx]\n",
    "        G.add_node(ens, attributes)\n",
    "        U.add_node(ens, attributes)\n",
    "        \n",
    "    for tf in network.topology:\n",
    "        for target in network.topology[tf]:\n",
    "            G.add_edge(tf, target, {\n",
    "                'weight': 1.0,\n",
    "                       })\n",
    "            U.add_edge(tf, target, {})\n",
    "            \n",
    "    return G, U"
   ]
  },
  {
   "cell_type": "code",
   "execution_count": 7,
   "metadata": {
    "collapsed": false
   },
   "outputs": [
    {
     "ename": "NameError",
     "evalue": "name 'paths' is not defined",
     "output_type": "error",
     "traceback": [
      "\u001b[0;31m---------------------------------------------------------------------------\u001b[0m",
      "\u001b[0;31mNameError\u001b[0m                                 Traceback (most recent call last)",
      "\u001b[0;32m<ipython-input-7-5b768a39e76d>\u001b[0m in \u001b[0;36m<module>\u001b[0;34m()\u001b[0m\n\u001b[1;32m      6\u001b[0m \u001b[0mapsp\u001b[0m \u001b[0;34m=\u001b[0m \u001b[0mnp\u001b[0m\u001b[0;34m.\u001b[0m\u001b[0mzeros\u001b[0m\u001b[0;34m(\u001b[0m\u001b[0;34m[\u001b[0m\u001b[0mk\u001b[0m\u001b[0;34m,\u001b[0m\u001b[0mk\u001b[0m\u001b[0;34m]\u001b[0m\u001b[0;34m)\u001b[0m\u001b[0;34m\u001b[0m\u001b[0m\n\u001b[1;32m      7\u001b[0m \u001b[0;34m\u001b[0m\u001b[0m\n\u001b[0;32m----> 8\u001b[0;31m \u001b[0morder\u001b[0m \u001b[0;34m=\u001b[0m \u001b[0mlist\u001b[0m\u001b[0;34m(\u001b[0m\u001b[0mpaths\u001b[0m\u001b[0;34m.\u001b[0m\u001b[0mkeys\u001b[0m\u001b[0;34m(\u001b[0m\u001b[0;34m)\u001b[0m\u001b[0;34m)\u001b[0m\u001b[0;34m\u001b[0m\u001b[0m\n\u001b[0m\u001b[1;32m      9\u001b[0m \u001b[0mindexer\u001b[0m \u001b[0;34m=\u001b[0m \u001b[0;34m{\u001b[0m\u001b[0;34m}\u001b[0m\u001b[0;34m\u001b[0m\u001b[0m\n\u001b[1;32m     10\u001b[0m \u001b[0;32mfor\u001b[0m \u001b[0midx\u001b[0m\u001b[0;34m,\u001b[0m \u001b[0mens\u001b[0m \u001b[0;32min\u001b[0m \u001b[0menumerate\u001b[0m\u001b[0;34m(\u001b[0m\u001b[0morder\u001b[0m\u001b[0;34m)\u001b[0m\u001b[0;34m:\u001b[0m\u001b[0;34m\u001b[0m\u001b[0m\n",
      "\u001b[0;31mNameError\u001b[0m: name 'paths' is not defined"
     ]
    }
   ],
   "source": [
    "network_path = os.path.join(dir_name, 'network_1_to_399_by_betas_thresholded_at_75000_edges.tsv')\n",
    "directed_G, undirected_g = make_graph(network_path)\n",
    "shortest_paths = nx.all_pairs_dijkstra_path_length(undirected_g)\n",
    "\n",
    "k = len(shortest_paths)\n",
    "apsp = np.zeros([k,k])\n",
    "\n",
    "order = list(paths.keys())\n",
    "indexer = {}\n",
    "for idx, ens in enumerate(order):\n",
    "    indexer[ens] = idx\n",
    "    \n",
    "for ens_i, row_i in paths.items():\n",
    "    for ens_j, distance in row_i.items():\n",
    "        i = indexer[ens_i]\n",
    "        j = indexer[ens_j]\n",
    "        apsp[i,j] = distance\n",
    "        \n",
    "undirected_shortest_paths = pd.DataFrame(apsp, index=order, columns=order)"
   ]
  },
  {
   "cell_type": "code",
   "execution_count": 1,
   "metadata": {
    "collapsed": false
   },
   "outputs": [
    {
     "ename": "NameError",
     "evalue": "name 'directed_G' is not defined",
     "output_type": "error",
     "traceback": [
      "\u001b[0;31m---------------------------------------------------------------------------\u001b[0m",
      "\u001b[0;31mNameError\u001b[0m                                 Traceback (most recent call last)",
      "\u001b[0;32m<ipython-input-1-a72da2d6cc0d>\u001b[0m in \u001b[0;36m<module>\u001b[0;34m()\u001b[0m\n\u001b[0;32m----> 1\u001b[0;31m \u001b[0mdirected_G\u001b[0m\u001b[0;34m\u001b[0m\u001b[0m\n\u001b[0m",
      "\u001b[0;31mNameError\u001b[0m: name 'directed_G' is not defined"
     ]
    }
   ],
   "source": [
    "directed_G"
   ]
  },
  {
   "cell_type": "code",
   "execution_count": null,
   "metadata": {
    "collapsed": true
   },
   "outputs": [],
   "source": []
  }
 ],
 "metadata": {
  "kernelspec": {
   "display_name": "Python 2",
   "language": "python",
   "name": "python2"
  },
  "language_info": {
   "codemirror_mode": {
    "name": "ipython",
    "version": 2
   },
   "file_extension": ".py",
   "mimetype": "text/x-python",
   "name": "python",
   "nbconvert_exporter": "python",
   "pygments_lexer": "ipython2",
   "version": "2.7.12"
  }
 },
 "nbformat": 4,
 "nbformat_minor": 0
}
