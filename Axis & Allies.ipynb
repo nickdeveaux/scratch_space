{
 "cells": [
  {
   "cell_type": "markdown",
   "metadata": {},
   "source": [
    "## A quick simulator for Axis & Allies Board Game battles"
   ]
  },
  {
   "cell_type": "code",
   "execution_count": 1,
   "metadata": {
    "collapsed": true
   },
   "outputs": [],
   "source": [
    "from collections import Counter\n",
    "import random"
   ]
  },
  {
   "cell_type": "code",
   "execution_count": 7,
   "metadata": {
    "collapsed": true
   },
   "outputs": [],
   "source": [
    "# This is the reference for the attack/defense strength of each troop type\n",
    "# Add more troops here\n",
    "reference_strength = {'infantry':(1,2), 'tank':(3,3), 'artillery':(2,2)}"
   ]
  },
  {
   "cell_type": "code",
   "execution_count": 8,
   "metadata": {
    "collapsed": false
   },
   "outputs": [],
   "source": [
    "def simulate_attack(attacker, defender, verbose = True):\n",
    "    round = 1\n",
    "    while (sum(attacker.values()) > 0) and (sum(defender.values()) > 0):\n",
    "        if verbose:\n",
    "            print 'Round {}'.format(round)\n",
    "            print 'Attacker:'\n",
    "            print attacker\n",
    "            print 'Defender:'\n",
    "            print defender\n",
    "        \n",
    "        # use a temp variable to cache the values of the defender\n",
    "        temp_defender = dict(defender)\n",
    "        \n",
    "        for troop_type in attacker:\n",
    "            for i in range(attacker[troop_type]):\n",
    "                if roll_dice() <= reference_strength[troop_type][0]:\n",
    "                    defender, type_killed = remove_casualty(defender)\n",
    "                    if verbose:\n",
    "                        print troop_type + ' hit ' + type_killed\n",
    "        for troop_type in temp_defender:\n",
    "            for i in range(temp_defender[troop_type]):\n",
    "                if roll_dice() <= reference_strength[troop_type][1]:\n",
    "                    attacker, type_killed = remove_casualty(attacker)\n",
    "                    if verbose:\n",
    "                        print troop_type + ' hit ' + type_killed\n",
    "        round = round + 1\n",
    "        \n",
    "    # Check the results to see if it was a tie\n",
    "    if sum(attacker.values()) == sum(defender.values()) :\n",
    "        return 0\n",
    "    return 1 if sum(attacker.values()) == 0 else -1\n",
    "    "
   ]
  },
  {
   "cell_type": "code",
   "execution_count": 9,
   "metadata": {
    "collapsed": true
   },
   "outputs": [],
   "source": [
    "def roll_dice():\n",
    "    return random.choice(range(6))"
   ]
  },
  {
   "cell_type": "code",
   "execution_count": 10,
   "metadata": {
    "collapsed": false
   },
   "outputs": [
    {
     "data": {
      "text/plain": [
       "0"
      ]
     },
     "execution_count": 10,
     "metadata": {},
     "output_type": "execute_result"
    }
   ],
   "source": [
    "roll_dice()"
   ]
  },
  {
   "cell_type": "markdown",
   "metadata": {},
   "source": [
    "We assume that casualties will be removed in the ascending order of the sum of their attack and defense strength."
   ]
  },
  {
   "cell_type": "code",
   "execution_count": 11,
   "metadata": {
    "collapsed": false
   },
   "outputs": [],
   "source": [
    "def remove_casualty(army):\n",
    "    if sum(army.values()) <= 0:\n",
    "        return army, 'nothing'\n",
    "    weakest_link = ''\n",
    "    current_weakest_score = 100\n",
    "    for troop_type in army:\n",
    "        if sum(reference_strength[troop_type]) < current_weakest_score:\n",
    "            weakest_link = troop_type\n",
    "            current_weakest_score = sum(reference_strength[troop_type])\n",
    "    army[weakest_link] = army[weakest_link] - 1\n",
    "    if army[weakest_link] == 0:\n",
    "        army.pop(weakest_link, None)\n",
    "    return army, weakest_link\n",
    "        "
   ]
  },
  {
   "cell_type": "code",
   "execution_count": 12,
   "metadata": {
    "collapsed": false
   },
   "outputs": [
    {
     "name": "stdout",
     "output_type": "stream",
     "text": [
      "Round 1\n",
      "Attacker:\n",
      "{'infantry': 2, 'tank': 3, 'artillery': 5}\n",
      "Defender:\n",
      "{'infantry': 2, 'tank': 3, 'artillery': 5}\n",
      "tank hit infantry\n",
      "tank hit infantry\n",
      "artillery hit artillery\n",
      "artillery hit artillery\n",
      "tank hit infantry\n",
      "artillery hit infantry\n",
      "artillery hit artillery\n",
      "Round 2\n",
      "Attacker:\n",
      "{'tank': 3, 'artillery': 4}\n",
      "Defender:\n",
      "{'tank': 3, 'artillery': 3}\n",
      "tank hit artillery\n",
      "tank hit artillery\n",
      "tank hit artillery\n",
      "artillery hit tank\n",
      "artillery hit tank\n",
      "artillery hit artillery\n",
      "tank hit artillery\n",
      "tank hit artillery\n",
      "tank hit artillery\n",
      "Round 3\n",
      "Attacker:\n",
      "{'tank': 3}\n",
      "Defender:\n",
      "{'tank': 1}\n",
      "tank hit tank\n",
      "tank hit nothing\n",
      "tank hit tank\n"
     ]
    },
    {
     "data": {
      "text/plain": [
       "-1"
      ]
     },
     "execution_count": 12,
     "metadata": {},
     "output_type": "execute_result"
    }
   ],
   "source": [
    "simulate_attack({'infantry':2, 'tank':3, 'artillery':5}, {'infantry':2, 'tank':3, 'artillery':5})"
   ]
  },
  {
   "cell_type": "code",
   "execution_count": 13,
   "metadata": {
    "collapsed": true
   },
   "outputs": [],
   "source": [
    "# Simulate n attacks\n",
    "def simulate_multiple_attacks(attacker, defender, n):\n",
    "    attack_results = [simulate_attack(dict(attacker), dict(defender), verbose = False) for i in range(n)]\n",
    "    return Counter(attack_results)\n",
    "    "
   ]
  },
  {
   "cell_type": "code",
   "execution_count": 14,
   "metadata": {
    "collapsed": false
   },
   "outputs": [
    {
     "data": {
      "text/plain": [
       "Counter({-1: 4184, 0: 480, 1: 5336})"
      ]
     },
     "execution_count": 14,
     "metadata": {},
     "output_type": "execute_result"
    }
   ],
   "source": [
    "simulate_multiple_attacks({'infantry':2, 'tank':3, 'artillery':5}, {'infantry':2, 'tank':3, 'artillery':5}, 10000)"
   ]
  },
  {
   "cell_type": "code",
   "execution_count": null,
   "metadata": {
    "collapsed": true
   },
   "outputs": [],
   "source": []
  }
 ],
 "metadata": {
  "kernelspec": {
   "display_name": "Python 2",
   "language": "python",
   "name": "python2"
  },
  "language_info": {
   "codemirror_mode": {
    "name": "ipython",
    "version": 2
   },
   "file_extension": ".py",
   "mimetype": "text/x-python",
   "name": "python",
   "nbconvert_exporter": "python",
   "pygments_lexer": "ipython2",
   "version": "2.7.11"
  }
 },
 "nbformat": 4,
 "nbformat_minor": 0
}
