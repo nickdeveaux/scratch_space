{
 "cells": [
  {
   "cell_type": "code",
   "execution_count": 182,
   "metadata": {
    "collapsed": true
   },
   "outputs": [],
   "source": [
    "from collections import Counter\n",
    "import random"
   ]
  },
  {
   "cell_type": "code",
   "execution_count": 183,
   "metadata": {
    "collapsed": true
   },
   "outputs": [],
   "source": [
    "troops = {'infantry':(1,2), 'tank':(3,3), 'artillery':(2,2)}"
   ]
  },
  {
   "cell_type": "code",
   "execution_count": 184,
   "metadata": {
    "collapsed": false
   },
   "outputs": [],
   "source": [
    "def simulate_attack(attacker, defender, verbose = True):\n",
    "    round = 1\n",
    "    while (sum(attacker.values()) > 0) and (sum(defender.values()) > 0):\n",
    "        if verbose:\n",
    "            print 'Round {}'.format(round)\n",
    "            print 'Attacker:'\n",
    "            print attacker\n",
    "            print 'Defender:'\n",
    "            print defender\n",
    "        \n",
    "        # use a temp variable to cache the values of the defender\n",
    "        temp_defender = dict(defender)\n",
    "        \n",
    "        for troop_type in attacker:\n",
    "            for i in range(attacker[troop_type]):\n",
    "                if roll_dice() <= troops[troop_type][0]:\n",
    "                    defender, type_killed = remove_casualty(defender)\n",
    "                    if verbose:\n",
    "                        print troop_type + ' hit ' + type_killed\n",
    "        for troop_type in temp_defender:\n",
    "            for i in range(temp_defender[troop_type]):\n",
    "                if roll_dice() <= troops[troop_type][1]:\n",
    "                    attacker, type_killed = remove_casualty(attacker)\n",
    "                    if verbose:\n",
    "                        print troop_type + ' hit ' + type_killed\n",
    "        round = round + 1\n",
    "        \n",
    "    # Check the results to see if it was a tie\n",
    "    if sum(attacker.values()) == sum(defender.values()) :\n",
    "        return 0\n",
    "    return 1 if sum(attacker.values()) == 0 else -1\n",
    "    "
   ]
  },
  {
   "cell_type": "code",
   "execution_count": 185,
   "metadata": {
    "collapsed": true
   },
   "outputs": [],
   "source": [
    "def roll_dice():\n",
    "    return random.choice(range(6))"
   ]
  },
  {
   "cell_type": "code",
   "execution_count": 186,
   "metadata": {
    "collapsed": false
   },
   "outputs": [
    {
     "data": {
      "text/plain": [
       "5"
      ]
     },
     "execution_count": 186,
     "metadata": {},
     "output_type": "execute_result"
    }
   ],
   "source": [
    "roll_dice()"
   ]
  },
  {
   "cell_type": "code",
   "execution_count": 187,
   "metadata": {
    "collapsed": false
   },
   "outputs": [],
   "source": [
    "def remove_casualty(army):\n",
    "    if sum(army.values()) <= 0:\n",
    "        return army, 'nothing'\n",
    "    weakest_link = ''\n",
    "    current_weakest_score = 100\n",
    "    for troop_type in army:\n",
    "        if sum(troops[troop_type]) < current_weakest_score:\n",
    "            weakest_link = troop_type\n",
    "            current_weakest_score = sum(troops[troop_type])\n",
    "    army[weakest_link] = army[weakest_link] - 1\n",
    "    if army[weakest_link] == 0:\n",
    "        army.pop(weakest_link, None)\n",
    "    return army, weakest_link\n",
    "        "
   ]
  },
  {
   "cell_type": "code",
   "execution_count": 188,
   "metadata": {
    "collapsed": false
   },
   "outputs": [
    {
     "name": "stdout",
     "output_type": "stream",
     "text": [
      "Round 1\n",
      "Attacker:\n",
      "{'infantry': 2, 'tank': 3, 'artillery': 5}\n",
      "Defender:\n",
      "{'infantry': 2, 'tank': 3, 'artillery': 5}\n",
      "tank hit infantry\n",
      "tank hit infantry\n",
      "artillery hit artillery\n",
      "artillery hit artillery\n",
      "artillery hit artillery\n",
      "infantry hit infantry\n",
      "infantry hit infantry\n",
      "tank hit artillery\n",
      "tank hit artillery\n",
      "artillery hit artillery\n",
      "artillery hit artillery\n",
      "artillery hit artillery\n",
      "artillery hit tank\n",
      "Round 2\n",
      "Attacker:\n",
      "{'tank': 2}\n",
      "Defender:\n",
      "{'tank': 3, 'artillery': 2}\n",
      "tank hit artillery\n",
      "tank hit artillery\n",
      "artillery hit tank\n",
      "tank hit tank\n",
      "tank hit nothing\n"
     ]
    },
    {
     "data": {
      "text/plain": [
       "1"
      ]
     },
     "execution_count": 188,
     "metadata": {},
     "output_type": "execute_result"
    }
   ],
   "source": [
    "simulate_attack({'infantry':2, 'tank':3, 'artillery':5}, {'infantry':2, 'tank':3, 'artillery':5})"
   ]
  },
  {
   "cell_type": "code",
   "execution_count": 189,
   "metadata": {
    "collapsed": true
   },
   "outputs": [],
   "source": [
    "# Simulate n attacks\n",
    "def simulate_multiple_attacks(attacker, defender, n):\n",
    "    attack_results = [simulate_attack(dict(attacker), dict(defender), verbose = False) for i in range(n)]\n",
    "    return Counter(attack_results)\n",
    "    "
   ]
  },
  {
   "cell_type": "code",
   "execution_count": 190,
   "metadata": {
    "collapsed": false
   },
   "outputs": [
    {
     "data": {
      "text/plain": [
       "Counter({-1: 4103, 0: 476, 1: 5421})"
      ]
     },
     "execution_count": 190,
     "metadata": {},
     "output_type": "execute_result"
    }
   ],
   "source": [
    "simulate_multiple_attacks({'infantry':2, 'tank':3, 'artillery':5}, {'infantry':2, 'tank':3, 'artillery':5}, 10000)"
   ]
  },
  {
   "cell_type": "code",
   "execution_count": null,
   "metadata": {
    "collapsed": true
   },
   "outputs": [],
   "source": []
  }
 ],
 "metadata": {
  "kernelspec": {
   "display_name": "Python 2",
   "language": "python",
   "name": "python2"
  },
  "language_info": {
   "codemirror_mode": {
    "name": "ipython",
    "version": 2
   },
   "file_extension": ".py",
   "mimetype": "text/x-python",
   "name": "python",
   "nbconvert_exporter": "python",
   "pygments_lexer": "ipython2",
   "version": "2.7.11"
  }
 },
 "nbformat": 4,
 "nbformat_minor": 0
}
