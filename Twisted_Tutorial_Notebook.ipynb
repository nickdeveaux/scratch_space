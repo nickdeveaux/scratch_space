{
 "cells": [
  {
   "cell_type": "markdown",
   "metadata": {},
   "source": [
    "Following the tutorial from http://twistedmatrix.com/documents/9.0.0/core/howto/tutorial/intro.html"
   ]
  },
  {
   "cell_type": "code",
   "execution_count": null,
   "metadata": {},
   "outputs": [],
   "source": [
    "# Read username, output from non-empty factory, drop connections\n",
    "\n",
    "from twisted.internet import protocol, reactor\n",
    "from twisted.protocols import basic\n",
    "\n",
    "class FingerProtocol(basic.LineReceiver):\n",
    "    def lineReceived(self, user):\n",
    "        self.transport.write(self.factory.getUser(user)+\"\\r\\n\")\n",
    "        self.transport.loseConnection()\n",
    "\n",
    "class FingerFactory(protocol.ServerFactory):\n",
    "    protocol = FingerProtocol\n",
    "\n",
    "    def __init__(self, **kwargs):\n",
    "        self.users = kwargs\n",
    "\n",
    "    def getUser(self, user):\n",
    "        return self.users.get(user, \"No such user\")\n",
    "\n",
    "reactor.listenTCP(1079, FingerFactory(moshez='Happy and well'))\n",
    "reactor.run()"
   ]
  },
  {
   "cell_type": "code",
   "execution_count": null,
   "metadata": {},
   "outputs": [],
   "source": []
  }
 ],
 "metadata": {
  "kernelspec": {
   "display_name": "Python 2",
   "language": "python",
   "name": "python2"
  },
  "language_info": {
   "codemirror_mode": {
    "name": "ipython",
    "version": 2
   },
   "file_extension": ".py",
   "mimetype": "text/x-python",
   "name": "python",
   "nbconvert_exporter": "python",
   "pygments_lexer": "ipython2",
   "version": "2.7.14"
  }
 },
 "nbformat": 4,
 "nbformat_minor": 2
}
