{
 "cells": [
  {
   "cell_type": "markdown",
   "metadata": {},
   "source": [
    "## Peakdeck: Choosing the Best Parameters\n",
    "As part of the HIVDC collaboration with Alex Rives, we are interepreting ATACSeq data from the Littman Lab at NYU Med. In order to transform ATACSeq High Throughput Sequencing data into Transcription Factor Activity priors, we need to infer chromatin accessibility from peaks of sequencing reads. We do this by first aligning the Fastq data with Bowtie, then calling peaks with Kernel-Density-Estimator-based <a> Peakdeck </a href=http://www.ncbi.nlm.nih.gov/pubmed/24407222> "
   ]
  },
  {
   "cell_type": "markdown",
   "metadata": {},
   "source": [
    "### Pipeline overview\n",
    "Fastq -> Sam -> Bam -> filtered Bam (removing Mitochondrial DNA) -> Sam -> Peakdeck output -> Bed -> Wig.\n",
    "\n",
    "We also generate a tdf from the filtered bam file"
   ]
  },
  {
   "cell_type": "markdown",
   "metadata": {},
   "source": [
    "We've pulled DNAseI hypersensitivity sites from Encode using the following protocol: Downloaded from http://hgdownload-test.cse.ucsc.edu/goldenPath/hg19/encodeDCC/wgEncodeAwgDnaseMasterSites/releaseLatest/wgEncodeAwgDnaseMasterSites.bed.gz, then lifted over to hg38 using the chain file from http://hgdownload.cse.ucsc.edu/gbdb/hg19/liftOver/hg19ToHg38.over.chain.gz"
   ]
  },
  {
   "cell_type": "markdown",
   "metadata": {},
   "source": [
    "The bed master file was sorted and filtered to only have chromosomes whose names exist in the HG38 assembly and sorted"
   ]
  },
  {
   "cell_type": "raw",
   "metadata": {},
   "source": [
    "DNASEBED=/mnt/ceph/users/arives/dc_project/encode_master_sites/wgEncodeAwgDnaseMasterSites.hg38.bed\n",
    "CHROMSIZES=/mnt/scratch/arives/workspace/genome-versions/gencode24/GRCh38.primary_assembly.chrom.sizes\n",
    "BEDTOOLS=/mnt/xfs1/bioinfoCentos7/software/installs/bedtools/bedtools-2.17.0/bedtools\n",
    "\n",
    "cut -f 1 $DNASEBED > chrs_Dnase\n",
    "cut -f 1 $CHROMSIZES  > chrs_hg38\n",
    "comm -1 <(sort -u chrs_hg38) <(sort -u chrs_Dnase) > chrs_only_in_chrs_Dnase\n",
    "grep -v -f chrs_only_in_chrs_Dnase $DNASEBED > filtered_wgEncodeAwgDnaseMasterSites.hg38.bed\n",
    "$BEDTOOLS sort -i filtered_wgEncodeAwgDnaseMasterSites.hg38.bed > sorted_filtered_wgEncodeAwgDnaseMasterSites.hg38.bed\n",
    "$BEDTOOLS genomecov -i sorted_filtered_wgEncodeAwgDnaseMasterSites.hg38.bed  -g $CHROMSIZES"
   ]
  },
  {
   "cell_type": "markdown",
   "metadata": {},
   "source": [
    "Running this on our cluster gives the following genome-wide output:"
   ]
  },
  {
   "cell_type": "markdown",
   "metadata": {},
   "source": [
    "| depth | length | total | fraction  | \n",
    "|------|--------|-------|----|\n",
    "| 0 | 2663458615 | 3099750718 | 0.859 |\n",
    "| 1 | 436088249 | 3099750718 | 0.141 |\n",
    "| 2 | 203511 | 3099750718 | 6.57e-05 |\n",
    "| 3 | 343 | 3099750718 | 1.11e-07 |"
   ]
  },
  {
   "cell_type": "markdown",
   "metadata": {},
   "source": [
    "This shows that the Encode hypersensitivy regions cover slightly under 15% of the genome, with a very small number of self-overlaps. "
   ]
  },
  {
   "cell_type": "markdown",
   "metadata": {},
   "source": [
    "### Sanity Check\n",
    "Let's run this on the orignal (pre-lift over) hg19 bed file and verify that this depth signature is approximately the same. "
   ]
  },
  {
   "cell_type": "raw",
   "metadata": {},
   "source": [
    "DNASEBED=/mnt/ceph/users/arives/dc_project/encode_master_sites/wgEncodeAwgDnaseMasterSites.bed\n",
    "CHROMSIZES=~/igv/genomes/hg19.chrome.sizes # pulled from https://genome.ucsc.edu/goldenpath/help/hg19.chrom.sizes\n",
    "\n",
    "cut -f 1 $DNASEBED > chrs_Dnase\n",
    "cut -f 1 $CHROMSIZES  > chrs_hg19\n",
    "comm -1 <(sort -u chrs_hg19) <(sort -u chrs_Dnase) > chrs_only_in_chrs_Dnase\n",
    "grep -v -f chrs_only_in_chrs_Dnase $DNASEBED > filtered_wgEncodeAwgDnaseMasterSites.hg19.bed\n",
    "$BEDTOOLS sort -i filtered_wgEncodeAwgDnaseMasterSites.hg19.bed > sorted_filtered_wgEncodeAwgDnaseMasterSites.hg19.bed\n",
    "$BEDTOOLS genomecov -i sorted_filtered_wgEncodeAwgDnaseMasterSites.hg19.bed  -g $CHROMSIZES"
   ]
  },
  {
   "cell_type": "markdown",
   "metadata": {},
   "source": [
    "Genome-wide Output:"
   ]
  },
  {
   "cell_type": "markdown",
   "metadata": {},
   "source": [
    "| depth | length | total | fraction  | \n",
    "|------|--------|-------|----|\n",
    "| 0 | 2703081244 | 3137161264 | 0.862 |\n",
    "| 1 | 434080020 | 3137161264 | 0.138 |"
   ]
  },
  {
   "cell_type": "markdown",
   "metadata": {},
   "source": [
    "Therefore this ~200kb overlap of hypersensitivity sites is the result of conversion from hg19 to hg38"
   ]
  },
  {
   "cell_type": "markdown",
   "metadata": {},
   "source": [
    "### Problem Setup\n",
    "We will set the Encode hypersensitivy regions as the gold standard. Predicted peaks from peakdeck that overlap with these regions will be considered TPs, predicted peaks that don't overlap will be considered FPs, and hypersensitivy regions that don't overlap with any predicted peaks will be FNs. "
   ]
  },
  {
   "cell_type": "markdown",
   "metadata": {},
   "source": [
    "### TBD\n",
    "We have data from 22 samples. Should their peaks be combined? Let's first do a quick sanity check to make sure there aren't outliers. We can look at the peakdeck output bed files for fraction of intersections out of all intervals, and do a heatmap of distance across all samples. "
   ]
  },
  {
   "cell_type": "code",
   "execution_count": null,
   "metadata": {
    "collapsed": true
   },
   "outputs": [],
   "source": [
    "\n",
    "$BEDTOOLS merge -i accessible.sorted.bed > allpeaks.bed\n"
   ]
  }
 ],
 "metadata": {
  "kernelspec": {
   "display_name": "Python 2",
   "language": "python",
   "name": "python2"
  },
  "language_info": {
   "codemirror_mode": {
    "name": "ipython",
    "version": 2
   },
   "file_extension": ".py",
   "mimetype": "text/x-python",
   "name": "python",
   "nbconvert_exporter": "python",
   "pygments_lexer": "ipython2",
   "version": "2.7.11"
  }
 },
 "nbformat": 4,
 "nbformat_minor": 0
}
